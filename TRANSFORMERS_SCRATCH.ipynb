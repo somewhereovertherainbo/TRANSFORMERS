{
  "cells": [
    {
      "cell_type": "markdown",
      "metadata": {
        "id": "view-in-github",
        "colab_type": "text"
      },
      "source": [
        "<a href=\"https://colab.research.google.com/github/somewhereovertherainbo/TRANSFORMERS/blob/main/TRANSFORMERS_SCRATCH.ipynb\" target=\"_parent\"><img src=\"https://colab.research.google.com/assets/colab-badge.svg\" alt=\"Open In Colab\"/></a>"
      ]
    },
    {
      "cell_type": "code",
      "execution_count": 85,
      "metadata": {
        "id": "C6NJIdW0_Zgs"
      },
      "outputs": [],
      "source": [
        "import torch\n",
        "from torch import nn"
      ]
    },
    {
      "cell_type": "code",
      "execution_count": 86,
      "metadata": {
        "id": "ikaPP97sBDd-"
      },
      "outputs": [],
      "source": [
        "device = 'cuda' if torch.cuda.is_available() else 'cpu'"
      ]
    },
    {
      "cell_type": "markdown",
      "metadata": {
        "id": "2JqixytammCH"
      },
      "source": [
        "# PLAN:\n",
        "1. Have a class self.SelfAttention\n",
        "2. Use it to make self.MultiHeadAttention\n",
        "3. Use it to make transformer block.\n",
        "4. Use it to make a Decoder.\n"
      ]
    },
    {
      "cell_type": "markdown",
      "metadata": {
        "id": "tZr23A71nXm3"
      },
      "source": [
        "# Top - down approach"
      ]
    },
    {
      "cell_type": "code",
      "execution_count": 87,
      "metadata": {
        "id": "KH9l0n40OZr9"
      },
      "outputs": [],
      "source": [
        "class SelfAttention(nn.Module):\n",
        "\n",
        "  def __init__(self, d_model, h):\n",
        "    super().__init__()\n",
        "\n",
        "    self.d_model = d_model\n",
        "    self.h = h\n",
        "    self.d_key = int(d_model/h)\n",
        "    self.key_generator = nn.Linear(in_features = self.d_model, out_features = self.d_key, bias = False, device = device)\n",
        "    # self.register_buffer('tril', torch.tril(torch.ones(self.d_model, self.d_model)))\n",
        "\n",
        "\n",
        "\n",
        "  def forward(self,x):\n",
        "\n",
        "    B, T = x.shape[0], x.shape[1]\n",
        "\n",
        "    key = self.key_generator(x) # (B, T, d_model) @ (d_model, d_key) --> (B, T, d_key)\n",
        "    query = self.key_generator(x) # (B, T, d_model) @ (d_model, d_key) --> (B, T, d_key)\n",
        "    value = self.key_generator(x) # (B, T, d_model) @ (d_model, d_key) --> (B, T, d_key)\n",
        "\n",
        "    att_mat = query @ key.transpose(-1,-2)\n",
        "    # (B, T, d_key) @ (B, d_key, T) --> (B, T, T) --> (T,T) set of attention weights for each batch\n",
        "    with torch.no_grad():\n",
        "      tril = torch.tril(torch.ones((T, T), device = device))\n",
        "    att_mat = att_mat.masked_fill(tril[:T, :T]==0, float('-inf'))/torch.sqrt(torch.tensor(self.d_key))\n",
        "    att_mat = att_mat.softmax(dim = -1)\n",
        "\n",
        "    sa_out = att_mat @ value # (B, T, T) @ (B, T, d_key) --> (B, T, d_key)\n",
        "\n",
        "    return sa_out"
      ]
    },
    {
      "cell_type": "code",
      "execution_count": 88,
      "metadata": {
        "id": "3FFd0NzDnbgy"
      },
      "outputs": [],
      "source": [
        "class MultiHeadAttention(nn.Module):\n",
        "\n",
        "  def __init__(self, d_model, h):\n",
        "    super().__init__()\n",
        "    self.h = h\n",
        "    self.d_model = d_model\n",
        "    self.SelfAttention = SelfAttention(self.d_model, self.h)\n",
        "    self.W_O = nn.Linear(in_features = self.d_model, out_features = self.d_model, bias = False, device = device)\n",
        "\n",
        "\n",
        "  def forward(self, x):\n",
        "    multiple_attentions = [self.SelfAttention(x) for _ in range(0,self.h)]\n",
        "    return self.W_O(torch.cat([a for a in multiple_attentions], dim = -1)) # (B, T, d_model) @ ( d_model, d_model) --> (B, T, d_model)\n",
        "\n"
      ]
    },
    {
      "cell_type": "code",
      "execution_count": 89,
      "metadata": {
        "id": "KB0_j5Y8QCFw"
      },
      "outputs": [],
      "source": [
        "class Decoder(nn.Module):\n",
        "\n",
        "  def __init__(self, d_model, h):\n",
        "    super().__init__()\n",
        "    self.d_model = d_model\n",
        "    self.h = h\n",
        "    self.LayerNorm = nn.LayerNorm(normalized_shape = self.d_model)\n",
        "    self.ffwd = nn.Sequential(\n",
        "        nn.Linear(in_features = self.d_model, out_features = self.d_model, device = device, bias = False),\n",
        "        nn.ReLU(),\n",
        "        nn.Linear(in_features = self.d_model, out_features = self.d_model, device = device, bias = False),\n",
        "        nn.ReLU()\n",
        "    )\n",
        "    self.MultiHeadAttention = MultiHeadAttention(self.d_model, self.h)\n",
        "\n",
        "  def forward(self, x):\n",
        "\n",
        "    x = self.LayerNorm(x + self.MultiHeadAttention(x))\n",
        "    x = self.LayerNorm(x + self.ffwd(x))\n",
        "\n",
        "    return x"
      ]
    },
    {
      "cell_type": "code",
      "execution_count": 90,
      "metadata": {
        "colab": {
          "base_uri": "https://localhost:8080/"
        },
        "id": "bEY59w0n0bKN",
        "outputId": "ec28f2ef-6aa0-42a2-c351-5ecfc1cd3cd4"
      },
      "outputs": [
        {
          "output_type": "execute_result",
          "data": {
            "text/plain": [
              "Decoder(\n",
              "  (LayerNorm): LayerNorm((512,), eps=1e-05, elementwise_affine=True)\n",
              "  (ffwd): Sequential(\n",
              "    (0): Linear(in_features=512, out_features=512, bias=False)\n",
              "    (1): ReLU()\n",
              "    (2): Linear(in_features=512, out_features=512, bias=False)\n",
              "    (3): ReLU()\n",
              "  )\n",
              "  (MultiHeadAttention): MultiHeadAttention(\n",
              "    (SelfAttention): SelfAttention(\n",
              "      (key_generator): Linear(in_features=512, out_features=64, bias=False)\n",
              "    )\n",
              "    (W_O): Linear(in_features=512, out_features=512, bias=False)\n",
              "  )\n",
              ")"
            ]
          },
          "metadata": {},
          "execution_count": 90
        }
      ],
      "source": [
        "model = Decoder(d_model = 512, h = 8)\n",
        "model.to(device)"
      ]
    },
    {
      "cell_type": "code",
      "execution_count": 7,
      "metadata": {
        "colab": {
          "base_uri": "https://localhost:8080/"
        },
        "id": "OZIx2uep0oAc",
        "outputId": "bf2ead92-ba03-4227-95c8-1993c57d61d8"
      },
      "outputs": [
        {
          "output_type": "stream",
          "name": "stdout",
          "text": [
            "tensor([[[ 0.3978, -0.1715, -0.7632,  ..., -0.2781, -0.3335, -0.2877],\n",
            "         [ 0.9610, -0.2238,  0.6684,  ...,  0.4746,  1.1762, -0.9584],\n",
            "         [ 0.1333, -0.3168,  1.2518,  ..., -1.4129,  1.1859, -0.4054],\n",
            "         ...,\n",
            "         [-0.5218, -1.7336,  0.0662,  ..., -0.0301,  0.1997,  0.3252],\n",
            "         [ 0.2124, -2.3994, -1.1342,  ..., -1.7019,  0.4679,  0.8065],\n",
            "         [-0.7692,  0.0809, -0.0102,  ..., -1.6648,  0.4375, -0.7785]],\n",
            "\n",
            "        [[-0.9461, -1.0831, -0.7414,  ..., -0.5850,  1.1312,  0.1279],\n",
            "         [ 0.8455, -0.2454,  0.2489,  ..., -0.4623,  2.0664,  1.2222],\n",
            "         [-1.8552, -1.2974,  0.5128,  ..., -0.0138,  0.0789, -0.8528],\n",
            "         ...,\n",
            "         [ 0.3453, -0.5063,  0.4596,  ...,  0.9015,  0.4180, -0.7012],\n",
            "         [ 1.4490, -0.4330, -0.3136,  ...,  1.9739, -0.2834,  0.4641],\n",
            "         [-1.0407,  0.3429, -0.6570,  ...,  0.0928,  1.3705,  0.6940]],\n",
            "\n",
            "        [[ 0.0085,  0.7256,  1.5053,  ..., -0.2927, -0.0703, -1.9302],\n",
            "         [-0.2683,  0.5019,  0.0421,  ..., -0.6143,  0.1668,  0.5641],\n",
            "         [-0.8165,  1.0164, -0.5005,  ...,  1.9693, -0.6986, -0.1820],\n",
            "         ...,\n",
            "         [-0.0408,  0.3735,  0.6216,  ...,  1.2637,  0.3169,  1.3035],\n",
            "         [ 0.1332, -0.1535,  1.0859,  ...,  1.1860,  0.1695, -0.7592],\n",
            "         [ 0.3311, -0.3573,  1.3255,  ..., -0.8928, -1.1542,  1.4883]],\n",
            "\n",
            "        ...,\n",
            "\n",
            "        [[-2.3505,  0.3438,  0.1215,  ..., -0.9673,  1.7664,  0.6406],\n",
            "         [ 0.0792,  0.6059,  1.9596,  ...,  0.7185, -0.4298, -0.3274],\n",
            "         [-1.0579, -0.4082,  1.0031,  ...,  0.2215, -0.5702,  0.9331],\n",
            "         ...,\n",
            "         [-0.0533,  0.4453, -0.8864,  ..., -0.2412,  0.4015,  0.8612],\n",
            "         [ 0.2916,  0.0689,  0.2560,  ..., -0.1146,  0.1613, -0.0069],\n",
            "         [-0.2145, -0.3485,  0.9081,  ..., -0.9818, -0.1196,  0.9965]],\n",
            "\n",
            "        [[ 0.3906, -0.8188, -1.8505,  ..., -0.2360,  0.2378,  0.1873],\n",
            "         [ 1.4988, -1.3937, -0.4756,  ..., -1.2898,  0.9990,  1.5143],\n",
            "         [-0.2176,  0.4713, -1.7875,  ..., -0.8631,  1.4482,  1.5166],\n",
            "         ...,\n",
            "         [-0.3548, -0.3001,  0.2045,  ...,  0.0224, -0.2614,  0.5586],\n",
            "         [-0.6270,  1.4361,  0.2087,  ...,  0.0616,  1.9559,  0.3232],\n",
            "         [ 0.6787, -0.7436,  0.9037,  ...,  0.4384,  0.3964, -0.2714]],\n",
            "\n",
            "        [[ 0.4235, -1.0065,  0.6831,  ...,  0.8509, -1.3275, -1.4798],\n",
            "         [-1.3699, -1.6479,  0.2938,  ..., -0.4756, -1.6131, -1.8221],\n",
            "         [ 0.5890,  1.7643,  0.0780,  ..., -1.1895,  0.1607, -1.3194],\n",
            "         ...,\n",
            "         [-1.3127, -2.6289,  0.4345,  ...,  1.2535, -0.1053,  0.9246],\n",
            "         [-1.8719,  0.2172, -1.9615,  ...,  0.4755, -0.3439,  0.6354],\n",
            "         [-0.3405,  0.7490, -0.3952,  ..., -0.1606, -0.0103, -0.2822]]],\n",
            "       device='cuda:0') \n",
            "\n"
          ]
        },
        {
          "output_type": "execute_result",
          "data": {
            "text/plain": [
              "tensor([[[ 0.8993, -0.2458, -1.2354,  ..., -0.5251, -0.7246, -0.3110],\n",
              "         [ 0.6529, -0.1599,  0.9861,  ...,  0.2737,  0.3686, -0.7026],\n",
              "         [ 0.1748, -0.5909,  0.8729,  ..., -0.9560,  1.5817,  0.1667],\n",
              "         ...,\n",
              "         [-1.0215, -1.6702, -0.4560,  ..., -0.3510,  0.2844,  0.5134],\n",
              "         [ 0.1502, -2.3886, -1.2583,  ..., -1.6345,  0.6141,  0.6543],\n",
              "         [-0.7052,  0.1779, -0.2589,  ..., -1.5519,  0.2758, -0.9221]],\n",
              "\n",
              "        [[-0.5355, -0.5395, -1.2438,  ..., -1.2856,  0.7219, -0.2545],\n",
              "         [ 0.7495, -0.4230, -0.2731,  ..., -0.5044,  1.6286,  1.1072],\n",
              "         [-1.5544, -1.2682,  0.2969,  ..., -0.2065, -0.2462, -1.0216],\n",
              "         ...,\n",
              "         [-0.2288, -0.9991,  0.2297,  ...,  0.0175, -0.2838, -0.4741],\n",
              "         [ 1.5123, -0.3719, -0.5805,  ...,  1.9474, -0.1998,  0.1808],\n",
              "         [-1.0304,  0.4464, -0.8933,  ...,  0.2162,  1.2167,  0.2341]],\n",
              "\n",
              "        [[-0.2458,  0.7389,  1.1954,  ..., -0.5741, -0.4773, -2.1133],\n",
              "         [-0.3448,  0.6783, -0.0585,  ..., -0.3218,  0.5545,  0.6666],\n",
              "         [-1.4929,  0.4249, -0.2833,  ...,  1.8386, -0.9029, -0.8399],\n",
              "         ...,\n",
              "         [ 0.1905,  0.4606,  0.4301,  ...,  0.9553,  0.2773,  0.9142],\n",
              "         [ 0.3255, -0.2583,  1.1405,  ...,  1.2722,  0.0487, -0.3037],\n",
              "         [ 0.8696, -0.3397,  1.1795,  ..., -1.1937, -1.3564,  1.2935]],\n",
              "\n",
              "        ...,\n",
              "\n",
              "        [[-2.4117,  0.5297,  0.3330,  ..., -1.1006,  2.2092,  1.2602],\n",
              "         [ 0.0889,  0.5518,  1.8321,  ...,  0.9246, -0.5927, -0.1891],\n",
              "         [-1.1159, -0.3962,  0.8486,  ...,  0.1191, -0.7316,  0.6341],\n",
              "         ...,\n",
              "         [-0.1090,  0.4309, -1.3874,  ..., -0.3203,  0.6085,  0.6797],\n",
              "         [ 0.1388,  0.2908,  0.1100,  ..., -0.7920,  0.1751, -0.1741],\n",
              "         [-0.5827, -0.6702,  0.6000,  ..., -1.1692, -0.1004,  0.6400]],\n",
              "\n",
              "        [[ 0.5984, -0.7788, -2.1449,  ..., -0.5181,  0.3535,  0.1956],\n",
              "         [ 1.2980, -1.0504, -0.2450,  ..., -1.4913,  1.1048,  1.3825],\n",
              "         [-0.1556,  0.5516, -1.3168,  ..., -0.7453,  1.2487,  1.6716],\n",
              "         ...,\n",
              "         [-0.2828, -0.2303,  0.2906,  ...,  0.3809, -0.2803,  0.7003],\n",
              "         [-0.9791,  1.1044,  0.3932,  ..., -0.1157,  1.8213,  0.9019],\n",
              "         [ 0.2179, -0.5977,  0.6901,  ...,  0.0082,  0.3267,  0.1227]],\n",
              "\n",
              "        [[ 0.2439, -0.8993,  0.6556,  ...,  0.8227, -1.2493, -1.3159],\n",
              "         [-1.1123, -0.7936, -0.1763,  ...,  0.0328, -1.4795, -1.8605],\n",
              "         [ 0.6288,  1.3336,  0.0130,  ..., -1.2227,  0.2091, -1.3372],\n",
              "         ...,\n",
              "         [-1.4134, -1.9072, -0.0033,  ...,  1.2552,  0.4587,  0.9682],\n",
              "         [-1.8936,  0.2051, -2.2794,  ...,  0.3377, -0.2363,  0.2846],\n",
              "         [-0.3193,  0.8032, -0.4384,  ..., -0.0632,  0.3114, -0.4355]]],\n",
              "       device='cuda:0', grad_fn=<NativeLayerNormBackward0>)"
            ]
          },
          "metadata": {},
          "execution_count": 7
        }
      ],
      "source": [
        "B = 32\n",
        "T = 10\n",
        "d_model = 512\n",
        "x_in = torch.randn((B, T, d_model), device = device)\n",
        "print(x_in, '\\n')\n",
        "model(x_in)"
      ]
    },
    {
      "cell_type": "markdown",
      "metadata": {
        "id": "axVQpeMZAnie"
      },
      "source": [
        "# Much Effiecent implementation without the use of for loops"
      ]
    },
    {
      "cell_type": "code",
      "execution_count": 8,
      "metadata": {
        "id": "cT6SWwNK9opD"
      },
      "outputs": [],
      "source": [
        "import math\n",
        "\n",
        "import torch\n",
        "from torch import nn\n",
        "from torch.utils.data import dataset\n",
        "\n",
        "import numpy as np\n",
        "import matplotlib as plt"
      ]
    },
    {
      "cell_type": "code",
      "execution_count": 9,
      "metadata": {
        "id": "WqdpFlLFnSM2"
      },
      "outputs": [],
      "source": [
        "device = 'cuda' if torch.cuda.is_available() else 'cpu'"
      ]
    },
    {
      "cell_type": "code",
      "execution_count": 10,
      "metadata": {
        "id": "uo489A-0l2DM"
      },
      "outputs": [],
      "source": [
        "class MultiHeadAttention(nn.Module):\n",
        "\n",
        "  \"\"\"\n",
        "  Implements MultiHeadAttention Mechanism.\n",
        "\n",
        "  Args:\n",
        "    d_key: Dimension of keys to be produced\n",
        "    d_model: Dimension of Model/ input token dimension\n",
        "    h: Number of Attention heads\n",
        "  \"\"\"\n",
        "\n",
        "  def __init__(self, d_key, d_model, h, mask = False):\n",
        "    super().__init__()\n",
        "\n",
        "    # Assumption: d_value = d_key\n",
        "    self.d_key = d_key\n",
        "    self.h = h\n",
        "\n",
        "    # Compute all of the 'h' keys and queries and values at once instead of using a for loop for each head.\n",
        "    self.key = nn.Linear(d_model, d_key * h, bias = False, device = device)\n",
        "    self.query = nn.Linear(d_model, d_key * h, bias = False, device = device)\n",
        "    self.value = nn.Linear(d_model, d_key * h, bias = False, device = device)\n",
        "\n",
        "    # Final Linear Layer to be applied after attention blocks\n",
        "    self.W_O = nn.Linear(d_key * h, d_model)\n",
        "\n",
        "  def forward(self, q, k, v, mask = None):\n",
        "\n",
        "    B, T = q.shape[0], q.shape[1]\n",
        "\n",
        "    q = self.query(q)  # (B, T, d_key*h)\n",
        "    k = self.key(k)  # (B, T, d_key*h)\n",
        "    v = self.value(v)  # (B, T, d_key*h)\n",
        "\n",
        "    # Change shape from (B, T, d_key*h) to (B, h, T, d_key)\n",
        "    q = q.view(B, T, self.h, self.d_key).transpose(1,2)\n",
        "    k = k.view(B, T, self.h, self.d_key).transpose(1,2)\n",
        "    v = v.view(B, T, self.h, self.d_key).transpose(1,2)\n",
        "\n",
        "    # Compute Attention Weights (B, h, T, d_key) @ (B, h, d_key, T) --> (B, h, T, T). (T, T) weights for each head.\n",
        "    attention_mat = q @ k.transpose(-2,-1)/ math.sqrt(self.d_key)\n",
        "\n",
        "    if mask is not None:\n",
        "      attention_mat = attention_mat.masked_fill(mask[:, None, None, :] == 0, float('-inf'))\n",
        "\n",
        "    attention_weights = attention_mat.softmax(dim = -1)\n",
        "\n",
        "    # Attention weighted values for each input token (B, h, T, T) @ (B, h, T, d_key) --> (B, h, T, d_key)\n",
        "    A = attention_weights @ v\n",
        "\n",
        "    # Reshape it for the final output\n",
        "    A = A.transpose(1,2)\n",
        "    A = A.contiguous().view(B, T, self.d_key * self.h)\n",
        "\n",
        "    return self.W_O(A)"
      ]
    },
    {
      "cell_type": "code",
      "execution_count": 11,
      "metadata": {
        "id": "qwyGr3SIrvtk"
      },
      "outputs": [],
      "source": [
        "class TransformerBlock(nn.Module):\n",
        "\n",
        "  def __init__(self, d_key, d_model, h, dropout_prob = 0.1):\n",
        "    super().__init__()\n",
        "\n",
        "    self.ln1 = nn.LayerNorm(d_model)\n",
        "    self.ln2 = nn.LayerNorm(d_model)\n",
        "    self.mha = MultiHeadAttention(d_key, d_model, h)\n",
        "    self.ann = nn.Sequential(\n",
        "        nn.Linear(d_model, d_model * 4),\n",
        "        nn.GELU(),\n",
        "        nn.Linear(4*d_model, d_model),\n",
        "        nn.Dropout(dropout_prob)\n",
        "    )\n",
        "\n",
        "    self.dropout = nn.Dropout(dropout_prob)\n",
        "\n",
        "  def forward(self, x, mask = None):\n",
        "    x = self.ln1(x + self.mha(x, x, x, mask))\n",
        "    x = self.ln2(x + self.ann(x))\n",
        "    x = self.dropout(x)\n",
        "\n",
        "    return x"
      ]
    },
    {
      "cell_type": "code",
      "execution_count": 12,
      "metadata": {
        "id": "-ag4Rrjd0LNi"
      },
      "outputs": [],
      "source": [
        "class PositionalEncoding(nn.Module):\n",
        "\n",
        "  def __init__(self, d_model, max_len = 2048, dropout_prob = 0.1):\n",
        "    super().__init__()\n",
        "\n",
        "    self.dropout = nn.Dropout(dropout_prob)\n",
        "\n",
        "    position = torch.arange(max_len).unsqueeze(1)\n",
        "    exp_term = torch.arange(0, d_model, 2)\n",
        "    div_term = torch.exp(exp_term * (-math.log(10000.0)/ d_model))\n",
        "    pe = torch.zeros(1, max_len, d_model)\n",
        "    pe[0, :, 0::2] = torch.sin(position * div_term)\n",
        "    pe[0, :, 1::2] = torch.cos(position * div_term)\n",
        "    self.register_buffer('pe', pe)\n",
        "\n",
        "  def forward(self, x):\n",
        "    x = x + self.pe[:, :x.size(1), :]\n",
        "    return self.dropout(x)"
      ]
    },
    {
      "cell_type": "code",
      "execution_count": 13,
      "metadata": {
        "id": "MFrXW3qekd7D"
      },
      "outputs": [],
      "source": [
        "class Encoder(nn.Module):\n",
        "\n",
        "  def __init__(self, vocab_size, max_len, d_key, d_model, n_heads, n_layers, n_classes, dropout_prob):\n",
        "    super().__init__()\n",
        "\n",
        "    self.embedding = nn.Embedding(vocab_size, d_model)\n",
        "    self.pos_encoding = PositionalEncoding(d_model, max_len, dropout_prob)\n",
        "    transformer_blocks = [TransformerBlock(d_key, d_model, n_heads, dropout_prob) for _ in range(n_layers)]\n",
        "    self.transformer_blocks = nn.Sequential(*transformer_blocks)\n",
        "    self.ln = nn.LayerNorm(d_model)\n",
        "    self.ff = nn.Linear(d_model, n_classes)\n",
        "\n",
        "  def forward(self, x, mask = None):\n",
        "    x = self.embedding(x)\n",
        "    x = self.pos_encoding(x)\n",
        "    # Later on we need to pass the mask which is not None. So, we need a for loop to pass mask to each layer\n",
        "    for block in self.transformer_blocks:\n",
        "      x = block(x, mask)\n",
        "\n",
        "    # Depends on the task need to be performed, we can choose just the output vector\n",
        "    x = x[:, 0, :]  # Just picking out a single timestep output, timestep_0\n",
        "\n",
        "    x = self.ln(x)\n",
        "    x = self.ff(x)\n",
        "\n",
        "    return x\n",
        "\n",
        "\n"
      ]
    },
    {
      "cell_type": "code",
      "execution_count": 14,
      "metadata": {
        "colab": {
          "base_uri": "https://localhost:8080/"
        },
        "id": "JruKFJw_pRqk",
        "outputId": "9ec0203f-fa8f-444a-e20e-417ad599992b"
      },
      "outputs": [
        {
          "output_type": "execute_result",
          "data": {
            "text/plain": [
              "Encoder(\n",
              "  (embedding): Embedding(20000, 64)\n",
              "  (pos_encoding): PositionalEncoding(\n",
              "    (dropout): Dropout(p=0.1, inplace=False)\n",
              "  )\n",
              "  (transformer_blocks): Sequential(\n",
              "    (0): TransformerBlock(\n",
              "      (ln1): LayerNorm((64,), eps=1e-05, elementwise_affine=True)\n",
              "      (ln2): LayerNorm((64,), eps=1e-05, elementwise_affine=True)\n",
              "      (mha): MultiHeadAttention(\n",
              "        (key): Linear(in_features=64, out_features=64, bias=False)\n",
              "        (query): Linear(in_features=64, out_features=64, bias=False)\n",
              "        (value): Linear(in_features=64, out_features=64, bias=False)\n",
              "        (W_O): Linear(in_features=64, out_features=64, bias=True)\n",
              "      )\n",
              "      (ann): Sequential(\n",
              "        (0): Linear(in_features=64, out_features=256, bias=True)\n",
              "        (1): GELU(approximate='none')\n",
              "        (2): Linear(in_features=256, out_features=64, bias=True)\n",
              "        (3): Dropout(p=0.1, inplace=False)\n",
              "      )\n",
              "      (dropout): Dropout(p=0.1, inplace=False)\n",
              "    )\n",
              "    (1): TransformerBlock(\n",
              "      (ln1): LayerNorm((64,), eps=1e-05, elementwise_affine=True)\n",
              "      (ln2): LayerNorm((64,), eps=1e-05, elementwise_affine=True)\n",
              "      (mha): MultiHeadAttention(\n",
              "        (key): Linear(in_features=64, out_features=64, bias=False)\n",
              "        (query): Linear(in_features=64, out_features=64, bias=False)\n",
              "        (value): Linear(in_features=64, out_features=64, bias=False)\n",
              "        (W_O): Linear(in_features=64, out_features=64, bias=True)\n",
              "      )\n",
              "      (ann): Sequential(\n",
              "        (0): Linear(in_features=64, out_features=256, bias=True)\n",
              "        (1): GELU(approximate='none')\n",
              "        (2): Linear(in_features=256, out_features=64, bias=True)\n",
              "        (3): Dropout(p=0.1, inplace=False)\n",
              "      )\n",
              "      (dropout): Dropout(p=0.1, inplace=False)\n",
              "    )\n",
              "  )\n",
              "  (ln): LayerNorm((64,), eps=1e-05, elementwise_affine=True)\n",
              "  (ff): Linear(in_features=64, out_features=5, bias=True)\n",
              ")"
            ]
          },
          "metadata": {},
          "execution_count": 14
        }
      ],
      "source": [
        "# Test with dummy values\n",
        "model = Encoder(vocab_size = 20000,\n",
        "                max_len =1024,\n",
        "                d_key = 16,\n",
        "                d_model = 64,\n",
        "                n_heads = 4,\n",
        "                n_layers = 2,\n",
        "                n_classes = 5,\n",
        "                dropout_prob = 0.1)\n",
        "model.to(device)"
      ]
    },
    {
      "cell_type": "code",
      "execution_count": 15,
      "metadata": {
        "id": "gPuXOEBD3g8-"
      },
      "outputs": [],
      "source": [
        "x_sample = torch.randint(0, 20000, size = (8,512)).to(device)"
      ]
    },
    {
      "cell_type": "code",
      "execution_count": 16,
      "metadata": {
        "id": "Ix9AF6FOG6LX"
      },
      "outputs": [],
      "source": [
        "mask = torch.ones((8,512))\n",
        "mask[:,256:] = 0\n",
        "mask = mask.to(device)"
      ]
    },
    {
      "cell_type": "code",
      "execution_count": 17,
      "metadata": {
        "id": "24C6o_YzAepP"
      },
      "outputs": [],
      "source": [
        "y = model(x_sample, mask)"
      ]
    },
    {
      "cell_type": "code",
      "execution_count": 18,
      "metadata": {
        "colab": {
          "base_uri": "https://localhost:8080/"
        },
        "id": "5Ijan1W_AsZS",
        "outputId": "a562efda-1b68-4888-ecf0-ccd0742e5e7f"
      },
      "outputs": [
        {
          "output_type": "execute_result",
          "data": {
            "text/plain": [
              "torch.Size([8, 5])"
            ]
          },
          "metadata": {},
          "execution_count": 18
        }
      ],
      "source": [
        "y.shape"
      ]
    },
    {
      "cell_type": "code",
      "execution_count": 19,
      "metadata": {
        "id": "plRPDd0PA_xa"
      },
      "outputs": [],
      "source": [
        "from transformers import AutoTokenizer, DataCollatorWithPadding"
      ]
    },
    {
      "cell_type": "code",
      "execution_count": 20,
      "metadata": {
        "colab": {
          "base_uri": "https://localhost:8080/"
        },
        "id": "3OyU_IEYCJSo",
        "outputId": "c39ba8a8-6e2f-4695-8a7e-461f653cc4eb"
      },
      "outputs": [
        {
          "output_type": "stream",
          "name": "stderr",
          "text": [
            "/usr/local/lib/python3.10/dist-packages/huggingface_hub/utils/_token.py:88: UserWarning: \n",
            "The secret `HF_TOKEN` does not exist in your Colab secrets.\n",
            "To authenticate with the Hugging Face Hub, create a token in your settings tab (https://huggingface.co/settings/tokens), set it as secret in your Google Colab and restart your session.\n",
            "You will be able to reuse this secret in all of your notebooks.\n",
            "Please note that authentication is recommended but still optional to access public models or datasets.\n",
            "  warnings.warn(\n"
          ]
        }
      ],
      "source": [
        "checkpoint = 'distilbert-base-cased'\n",
        "tokenizer = AutoTokenizer.from_pretrained(checkpoint)"
      ]
    },
    {
      "cell_type": "code",
      "execution_count": 21,
      "metadata": {
        "colab": {
          "base_uri": "https://localhost:8080/"
        },
        "id": "RB5wg6RXCpXy",
        "outputId": "4af69eb5-0d79-4901-edb3-6ea3b2253890"
      },
      "outputs": [
        {
          "output_type": "stream",
          "name": "stdout",
          "text": [
            "Requirement already satisfied: datasets in /usr/local/lib/python3.10/dist-packages (2.17.0)\n",
            "Requirement already satisfied: filelock in /usr/local/lib/python3.10/dist-packages (from datasets) (3.13.1)\n",
            "Requirement already satisfied: numpy>=1.17 in /usr/local/lib/python3.10/dist-packages (from datasets) (1.25.2)\n",
            "Requirement already satisfied: pyarrow>=12.0.0 in /usr/local/lib/python3.10/dist-packages (from datasets) (15.0.0)\n",
            "Requirement already satisfied: pyarrow-hotfix in /usr/local/lib/python3.10/dist-packages (from datasets) (0.6)\n",
            "Requirement already satisfied: dill<0.3.9,>=0.3.0 in /usr/local/lib/python3.10/dist-packages (from datasets) (0.3.8)\n",
            "Requirement already satisfied: pandas in /usr/local/lib/python3.10/dist-packages (from datasets) (1.5.3)\n",
            "Requirement already satisfied: requests>=2.19.0 in /usr/local/lib/python3.10/dist-packages (from datasets) (2.31.0)\n",
            "Requirement already satisfied: tqdm>=4.62.1 in /usr/local/lib/python3.10/dist-packages (from datasets) (4.66.1)\n",
            "Requirement already satisfied: xxhash in /usr/local/lib/python3.10/dist-packages (from datasets) (3.4.1)\n",
            "Requirement already satisfied: multiprocess in /usr/local/lib/python3.10/dist-packages (from datasets) (0.70.16)\n",
            "Requirement already satisfied: fsspec[http]<=2023.10.0,>=2023.1.0 in /usr/local/lib/python3.10/dist-packages (from datasets) (2023.6.0)\n",
            "Requirement already satisfied: aiohttp in /usr/local/lib/python3.10/dist-packages (from datasets) (3.9.3)\n",
            "Requirement already satisfied: huggingface-hub>=0.19.4 in /usr/local/lib/python3.10/dist-packages (from datasets) (0.20.3)\n",
            "Requirement already satisfied: packaging in /usr/local/lib/python3.10/dist-packages (from datasets) (23.2)\n",
            "Requirement already satisfied: pyyaml>=5.1 in /usr/local/lib/python3.10/dist-packages (from datasets) (6.0.1)\n",
            "Requirement already satisfied: aiosignal>=1.1.2 in /usr/local/lib/python3.10/dist-packages (from aiohttp->datasets) (1.3.1)\n",
            "Requirement already satisfied: attrs>=17.3.0 in /usr/local/lib/python3.10/dist-packages (from aiohttp->datasets) (23.2.0)\n",
            "Requirement already satisfied: frozenlist>=1.1.1 in /usr/local/lib/python3.10/dist-packages (from aiohttp->datasets) (1.4.1)\n",
            "Requirement already satisfied: multidict<7.0,>=4.5 in /usr/local/lib/python3.10/dist-packages (from aiohttp->datasets) (6.0.5)\n",
            "Requirement already satisfied: yarl<2.0,>=1.0 in /usr/local/lib/python3.10/dist-packages (from aiohttp->datasets) (1.9.4)\n",
            "Requirement already satisfied: async-timeout<5.0,>=4.0 in /usr/local/lib/python3.10/dist-packages (from aiohttp->datasets) (4.0.3)\n",
            "Requirement already satisfied: typing-extensions>=3.7.4.3 in /usr/local/lib/python3.10/dist-packages (from huggingface-hub>=0.19.4->datasets) (4.9.0)\n",
            "Requirement already satisfied: charset-normalizer<4,>=2 in /usr/local/lib/python3.10/dist-packages (from requests>=2.19.0->datasets) (3.3.2)\n",
            "Requirement already satisfied: idna<4,>=2.5 in /usr/local/lib/python3.10/dist-packages (from requests>=2.19.0->datasets) (3.6)\n",
            "Requirement already satisfied: urllib3<3,>=1.21.1 in /usr/local/lib/python3.10/dist-packages (from requests>=2.19.0->datasets) (2.0.7)\n",
            "Requirement already satisfied: certifi>=2017.4.17 in /usr/local/lib/python3.10/dist-packages (from requests>=2.19.0->datasets) (2024.2.2)\n",
            "Requirement already satisfied: python-dateutil>=2.8.1 in /usr/local/lib/python3.10/dist-packages (from pandas->datasets) (2.8.2)\n",
            "Requirement already satisfied: pytz>=2020.1 in /usr/local/lib/python3.10/dist-packages (from pandas->datasets) (2023.4)\n",
            "Requirement already satisfied: six>=1.5 in /usr/local/lib/python3.10/dist-packages (from python-dateutil>=2.8.1->pandas->datasets) (1.16.0)\n"
          ]
        }
      ],
      "source": [
        "!pip install datasets\n",
        "from datasets import load_dataset"
      ]
    },
    {
      "cell_type": "code",
      "source": [
        "# !pip install pyarrow==11.0.0"
      ],
      "metadata": {
        "id": "ZP8Ka_D3rjvx"
      },
      "execution_count": 22,
      "outputs": []
    },
    {
      "cell_type": "code",
      "source": [
        "# from datasets import load_dataset"
      ],
      "metadata": {
        "id": "0xcNNnrJrTaL"
      },
      "execution_count": 23,
      "outputs": []
    },
    {
      "cell_type": "code",
      "execution_count": 24,
      "metadata": {
        "id": "YC4dvKSUCtt4",
        "colab": {
          "base_uri": "https://localhost:8080/",
          "height": 241,
          "referenced_widgets": [
            "eb061e4c73804119be3c81736cd54a03",
            "e6c99cbeb1af49e5b5ccd735da29d111",
            "85c9775a14f14bcc82544b7f3bd6ac42",
            "0a0095692cd24f9f92d103ae2fc18b98",
            "98aa0fbcbdcc41f18f98e403d4ecd99e",
            "b5e6f7343f9344a08e1148feb6833d84",
            "f7a111d8da714261b97dfb5f9dc911c9",
            "c52268231a2c452c9de4ef5a62e2fd43",
            "1d8f3ea377a74250856204ac56fb8393",
            "f674085836e9407593f24fd2774d55fe",
            "8336134c21774520ab4c9a4040bebc03",
            "81dc720544dc4e0899b74fed0af4ca4c",
            "c89473983efb40c9b112a8fccdbc79b8",
            "6d8ce4f92ac348cba1c8b6ae07b8998c",
            "ea723c4d1c924f61a975a07762f73881",
            "96022580aefa4bd39c69a21d19f25fe1",
            "f6f5fdc90a6c41a9af57eff5db8ba4df",
            "ebb50831ebdf4f0599e27646f9fccdc6",
            "63a5547a3a5047d7b29814f89f9eb60d",
            "08678910ca4c4ce98380f9b5cb746f69",
            "e9364ab59abb436597bff1f6f0094727",
            "6b94df283ebc499a81f67848d2d6f10d",
            "d15e28d273c044c483f22f58a475ce5e",
            "1b57a8cf1c894d87acae64d3e0c8c4a6",
            "895d75fbfe934ed4a2d25661e8b70c15",
            "fd8c20d159cf499195616fecb30308e4",
            "f871989f57344cd0b02b6a8a8feefd9e",
            "5cddb951f14a4edeae77b16f24f0633e",
            "891dad4aa1c0474ebc97cd20ccfa44ae",
            "e25e9e35574343dbad35b99557883183",
            "6c518244fea240da9ba415a373288f84",
            "5866693c947e4fd2b8c13ae144d6db90",
            "d4667ba423604d64a1489efbb11209f5",
            "ad6c1925ab064109b873945eb2d123b3",
            "9cb4f6069f0f4530a9d149700e9a8581",
            "54b9a3389b5f42fc9ab1df73d5879145",
            "6f42bf1890164a6e8e19056286ad870f",
            "a6d9dac71f7843a78b6a66277c3c51bf",
            "73e9d7cdc5ed4e51a1682f7280667dd1",
            "4ab8d56aa6c9495b89969c14da9e421d",
            "9f6d49e1f0ca4135931b0be0c3a7598e",
            "e8514f811793408ca14da3a844dce9f8",
            "55d26f0f1c7c495a9db443a0cdf5da4d",
            "ac122008748b4ee58a3fb5f0ef3012cd",
            "f67477d62c3d4b5192f5b2ad90f1128d",
            "e527208c4e164d1bb2f7a1f77be572e4",
            "1bba74fcbe784ac6ba4c770d4fb6fa61",
            "bc0519aacbcc4d4b8810c74e63e75afd",
            "25bc9bbd9c07400ca8476aecf148acd4",
            "d63340d8dd7f4304b7952fa987c3c804",
            "c9dc666af34049879452eab06a5c2e2d",
            "0bb537cd28de43e899e9f2229833d00d",
            "52473090dfa14cbca8d5700679304825",
            "4bd701d4ff884f26ad9b86e95928c031",
            "fac32407b7214c77b35408715d5887c0",
            "2e395f4d40e04ad2b244095df6bdc138",
            "fd50a57456f84cde8fcbef01f1aa2f84",
            "7a104d6827644e2294dbd5d30969ea05",
            "132e98fb74a94e729f0bc168bdf8825f",
            "4f7025d07a6a4fc3b9a37f35e9b2267e",
            "f9d88e3d6bd74af093ce7977f02d9eeb",
            "de3c55626c734b3f83737fa9c7f8b9c7",
            "237c3e6151184ed0aa801914adf781a7",
            "36b07235e6b24e23b523b11524827f8f",
            "9db8363fcc0e414ab7e247f144650139",
            "6dad32f5c0ad4de687b6b868304f92bb",
            "44b9d5cdb01841d6a2c347b5f1537d7c",
            "6d324e8a3ce24bb3ba0b70fdbddf106d",
            "65bf3a09038a48128872e3d497254b98",
            "c77f626ad32145409798bac52e00f3f7",
            "a08600d7eb484a48875e11a925dc2bac",
            "ae4a8cc6eb574e9fbe771b7cdf247347",
            "72f573fc00f44593927836b491849cdc",
            "0676ffe0162045c8b12cbb76138e2967",
            "528041d580e74db3941fefb7d19a7b2d",
            "8da76c5eaa9c4bb988fa8bc3f722b8b0",
            "db756551a76e4a6891e0baf8c4f3ea1f"
          ]
        },
        "outputId": "7a3a51c0-f552-41d7-b358-14ef2504d8a5"
      },
      "outputs": [
        {
          "output_type": "display_data",
          "data": {
            "text/plain": [
              "Downloading readme:   0%|          | 0.00/35.3k [00:00<?, ?B/s]"
            ],
            "application/vnd.jupyter.widget-view+json": {
              "version_major": 2,
              "version_minor": 0,
              "model_id": "eb061e4c73804119be3c81736cd54a03"
            }
          },
          "metadata": {}
        },
        {
          "output_type": "display_data",
          "data": {
            "text/plain": [
              "Downloading data:   0%|          | 0.00/3.11M [00:00<?, ?B/s]"
            ],
            "application/vnd.jupyter.widget-view+json": {
              "version_major": 2,
              "version_minor": 0,
              "model_id": "81dc720544dc4e0899b74fed0af4ca4c"
            }
          },
          "metadata": {}
        },
        {
          "output_type": "display_data",
          "data": {
            "text/plain": [
              "Downloading data:   0%|          | 0.00/72.8k [00:00<?, ?B/s]"
            ],
            "application/vnd.jupyter.widget-view+json": {
              "version_major": 2,
              "version_minor": 0,
              "model_id": "d15e28d273c044c483f22f58a475ce5e"
            }
          },
          "metadata": {}
        },
        {
          "output_type": "display_data",
          "data": {
            "text/plain": [
              "Downloading data:   0%|          | 0.00/148k [00:00<?, ?B/s]"
            ],
            "application/vnd.jupyter.widget-view+json": {
              "version_major": 2,
              "version_minor": 0,
              "model_id": "ad6c1925ab064109b873945eb2d123b3"
            }
          },
          "metadata": {}
        },
        {
          "output_type": "display_data",
          "data": {
            "text/plain": [
              "Generating train split:   0%|          | 0/67349 [00:00<?, ? examples/s]"
            ],
            "application/vnd.jupyter.widget-view+json": {
              "version_major": 2,
              "version_minor": 0,
              "model_id": "f67477d62c3d4b5192f5b2ad90f1128d"
            }
          },
          "metadata": {}
        },
        {
          "output_type": "display_data",
          "data": {
            "text/plain": [
              "Generating validation split:   0%|          | 0/872 [00:00<?, ? examples/s]"
            ],
            "application/vnd.jupyter.widget-view+json": {
              "version_major": 2,
              "version_minor": 0,
              "model_id": "2e395f4d40e04ad2b244095df6bdc138"
            }
          },
          "metadata": {}
        },
        {
          "output_type": "display_data",
          "data": {
            "text/plain": [
              "Generating test split:   0%|          | 0/1821 [00:00<?, ? examples/s]"
            ],
            "application/vnd.jupyter.widget-view+json": {
              "version_major": 2,
              "version_minor": 0,
              "model_id": "44b9d5cdb01841d6a2c347b5f1537d7c"
            }
          },
          "metadata": {}
        }
      ],
      "source": [
        "raw_datasets = load_dataset('glue', 'sst2')"
      ]
    },
    {
      "cell_type": "code",
      "execution_count": 25,
      "metadata": {
        "id": "B_l5WL_UDXJr",
        "colab": {
          "base_uri": "https://localhost:8080/"
        },
        "outputId": "10f92098-dbb2-492d-d5d4-869a2e2de487"
      },
      "outputs": [
        {
          "output_type": "execute_result",
          "data": {
            "text/plain": [
              "DatasetDict({\n",
              "    train: Dataset({\n",
              "        features: ['sentence', 'label', 'idx'],\n",
              "        num_rows: 67349\n",
              "    })\n",
              "    validation: Dataset({\n",
              "        features: ['sentence', 'label', 'idx'],\n",
              "        num_rows: 872\n",
              "    })\n",
              "    test: Dataset({\n",
              "        features: ['sentence', 'label', 'idx'],\n",
              "        num_rows: 1821\n",
              "    })\n",
              "})"
            ]
          },
          "metadata": {},
          "execution_count": 25
        }
      ],
      "source": [
        "raw_datasets"
      ]
    },
    {
      "cell_type": "code",
      "execution_count": 26,
      "metadata": {
        "id": "FyqYBbuiDZ7Z"
      },
      "outputs": [],
      "source": [
        "def tokenize_fn(batch):\n",
        "  return tokenizer(batch['sentence'], truncation = True)"
      ]
    },
    {
      "cell_type": "code",
      "execution_count": 27,
      "metadata": {
        "id": "xShmWWV8Dt-L",
        "colab": {
          "base_uri": "https://localhost:8080/",
          "height": 113,
          "referenced_widgets": [
            "83f56259827e421ea7081d54548cf13a",
            "210ca773f91a4ee2acc414d657d580dc",
            "3db106c5d19e4c3ba097f448f2e78028",
            "14cd29e3eb864c1da7d26e5584463e19",
            "b77a0b8707924ea5b88770084ff95458",
            "3631992bcbae424e8c3637ba426f0760",
            "7fa45588b9d74837b7c1a8be2817ee45",
            "67819dad60bc466ca307dd4063f1cdef",
            "4211abf823bb44abaefab1858ca10888",
            "1be6f9817abd4793916ffaa31e397489",
            "0f4c31febc4a45ca8e3483534cda3d1d",
            "798aa05078de4918a0186d9ad24c903a",
            "201a0a9b4c0d4aea87948ce053de53c6",
            "9866817655374422b79e088de791d915",
            "fe68576ea38a4f608002b96845a75934",
            "a639d6ffd61e4d9aa85808b6f76fe226",
            "b1311d06ba014fcaa83a5cd0520ae4eb",
            "5ef646c2b2964065afbe4932286f07b4",
            "4b311ca1efcd4257bcefff834bd06ae0",
            "06f5d8cf416a4e19ba3ee5dcb872c216",
            "36c70f442fe44e7589e0287133200d7f",
            "ed92653aa8bb4d25b1ed9e6feecdd0e2",
            "50d167e854c84938ac8c57081fa57144",
            "311ce4e5f2e245dd95e42ec37f8f31bb",
            "dcf2e2afb80544a6af441fe7ea6a8276",
            "3355153138c449dca913cccc7780d5af",
            "2766fa1f05d347fabb6be10346952d06",
            "2d60c078bb97431da5ca33a68cceb371",
            "daa9ebd7cae9457883c51af8b8e3594d",
            "28d7047c628a48b18488d2f62d628fad",
            "e98561bab0704a50bf9676dc182c8005",
            "29e09051259b4d73b19339f7907bbd03",
            "0b817f6327e94a1d9c82adb28f48d4fc"
          ]
        },
        "outputId": "f0ee079c-cadf-4403-c668-247f436be74b"
      },
      "outputs": [
        {
          "output_type": "display_data",
          "data": {
            "text/plain": [
              "Map:   0%|          | 0/67349 [00:00<?, ? examples/s]"
            ],
            "application/vnd.jupyter.widget-view+json": {
              "version_major": 2,
              "version_minor": 0,
              "model_id": "83f56259827e421ea7081d54548cf13a"
            }
          },
          "metadata": {}
        },
        {
          "output_type": "display_data",
          "data": {
            "text/plain": [
              "Map:   0%|          | 0/872 [00:00<?, ? examples/s]"
            ],
            "application/vnd.jupyter.widget-view+json": {
              "version_major": 2,
              "version_minor": 0,
              "model_id": "798aa05078de4918a0186d9ad24c903a"
            }
          },
          "metadata": {}
        },
        {
          "output_type": "display_data",
          "data": {
            "text/plain": [
              "Map:   0%|          | 0/1821 [00:00<?, ? examples/s]"
            ],
            "application/vnd.jupyter.widget-view+json": {
              "version_major": 2,
              "version_minor": 0,
              "model_id": "50d167e854c84938ac8c57081fa57144"
            }
          },
          "metadata": {}
        }
      ],
      "source": [
        "tokenized_datasets = raw_datasets.map(tokenize_fn, batched = True)\n",
        "data_collator = DataCollatorWithPadding(tokenizer = tokenizer)"
      ]
    },
    {
      "cell_type": "code",
      "execution_count": 28,
      "metadata": {
        "id": "2Ii08AEfEBT-",
        "colab": {
          "base_uri": "https://localhost:8080/"
        },
        "outputId": "30eae6e2-83f3-4314-bd3e-3d26959817f1"
      },
      "outputs": [
        {
          "output_type": "execute_result",
          "data": {
            "text/plain": [
              "DataCollatorWithPadding(tokenizer=DistilBertTokenizerFast(name_or_path='distilbert-base-cased', vocab_size=28996, model_max_length=512, is_fast=True, padding_side='right', truncation_side='right', special_tokens={'unk_token': '[UNK]', 'sep_token': '[SEP]', 'pad_token': '[PAD]', 'cls_token': '[CLS]', 'mask_token': '[MASK]'}, clean_up_tokenization_spaces=True),  added_tokens_decoder={\n",
              "\t0: AddedToken(\"[PAD]\", rstrip=False, lstrip=False, single_word=False, normalized=False, special=True),\n",
              "\t100: AddedToken(\"[UNK]\", rstrip=False, lstrip=False, single_word=False, normalized=False, special=True),\n",
              "\t101: AddedToken(\"[CLS]\", rstrip=False, lstrip=False, single_word=False, normalized=False, special=True),\n",
              "\t102: AddedToken(\"[SEP]\", rstrip=False, lstrip=False, single_word=False, normalized=False, special=True),\n",
              "\t103: AddedToken(\"[MASK]\", rstrip=False, lstrip=False, single_word=False, normalized=False, special=True),\n",
              "}, padding=True, max_length=None, pad_to_multiple_of=None, return_tensors='pt')"
            ]
          },
          "metadata": {},
          "execution_count": 28
        }
      ],
      "source": [
        "data_collator"
      ]
    },
    {
      "cell_type": "code",
      "execution_count": 29,
      "metadata": {
        "id": "AzYEBslVEFoz",
        "colab": {
          "base_uri": "https://localhost:8080/"
        },
        "outputId": "b2bae6b4-b3df-47ca-bf4d-02b6f0c6ee8e"
      },
      "outputs": [
        {
          "output_type": "execute_result",
          "data": {
            "text/plain": [
              "DatasetDict({\n",
              "    train: Dataset({\n",
              "        features: ['sentence', 'label', 'idx', 'input_ids', 'attention_mask'],\n",
              "        num_rows: 67349\n",
              "    })\n",
              "    validation: Dataset({\n",
              "        features: ['sentence', 'label', 'idx', 'input_ids', 'attention_mask'],\n",
              "        num_rows: 872\n",
              "    })\n",
              "    test: Dataset({\n",
              "        features: ['sentence', 'label', 'idx', 'input_ids', 'attention_mask'],\n",
              "        num_rows: 1821\n",
              "    })\n",
              "})"
            ]
          },
          "metadata": {},
          "execution_count": 29
        }
      ],
      "source": [
        "tokenized_datasets"
      ]
    },
    {
      "cell_type": "code",
      "execution_count": 30,
      "metadata": {
        "id": "ivr0x4Og7fjm",
        "colab": {
          "base_uri": "https://localhost:8080/"
        },
        "outputId": "751b1520-4961-4ba2-a93f-cbe2a7cf0ba8"
      },
      "outputs": [
        {
          "output_type": "execute_result",
          "data": {
            "text/plain": [
              "{'sentence': 'hide new secretions from the parental units ',\n",
              " 'label': 0,\n",
              " 'idx': 0,\n",
              " 'input_ids': [101, 4750, 1207, 3318, 5266, 1121, 1103, 22467, 2338, 102],\n",
              " 'attention_mask': [1, 1, 1, 1, 1, 1, 1, 1, 1, 1]}"
            ]
          },
          "metadata": {},
          "execution_count": 30
        }
      ],
      "source": [
        "tokenized_datasets['train'][0]"
      ]
    },
    {
      "cell_type": "code",
      "execution_count": 31,
      "metadata": {
        "id": "n7N59m_GEH-6"
      },
      "outputs": [],
      "source": [
        "tokenized_datasets = tokenized_datasets.remove_columns(['sentence', 'idx'])\n",
        "tokenized_datasets = tokenized_datasets.rename_column('label', 'labels')"
      ]
    },
    {
      "cell_type": "code",
      "execution_count": 32,
      "metadata": {
        "id": "MHKWqb2-FJVm",
        "colab": {
          "base_uri": "https://localhost:8080/"
        },
        "outputId": "9c060aa4-50f6-49af-d974-cf7182160fb7"
      },
      "outputs": [
        {
          "output_type": "execute_result",
          "data": {
            "text/plain": [
              "DatasetDict({\n",
              "    train: Dataset({\n",
              "        features: ['labels', 'input_ids', 'attention_mask'],\n",
              "        num_rows: 67349\n",
              "    })\n",
              "    validation: Dataset({\n",
              "        features: ['labels', 'input_ids', 'attention_mask'],\n",
              "        num_rows: 872\n",
              "    })\n",
              "    test: Dataset({\n",
              "        features: ['labels', 'input_ids', 'attention_mask'],\n",
              "        num_rows: 1821\n",
              "    })\n",
              "})"
            ]
          },
          "metadata": {},
          "execution_count": 32
        }
      ],
      "source": [
        "tokenized_datasets"
      ]
    },
    {
      "cell_type": "code",
      "execution_count": 33,
      "metadata": {
        "id": "gs9TN43-FnM9"
      },
      "outputs": [],
      "source": [
        "from torch.utils.data import DataLoader\n",
        "\n",
        "train_dataloader = DataLoader(\n",
        "    tokenized_datasets['train'],\n",
        "    shuffle = True,\n",
        "    batch_size = 32,\n",
        "    collate_fn = data_collator\n",
        ")\n",
        "\n",
        "valid_dataloader = DataLoader(\n",
        "    tokenized_datasets['validation'],\n",
        "    batch_size = 32,\n",
        "    collate_fn = data_collator\n",
        ")"
      ]
    },
    {
      "cell_type": "code",
      "execution_count": 34,
      "metadata": {
        "id": "fV5iO0RPAaLY",
        "colab": {
          "base_uri": "https://localhost:8080/"
        },
        "outputId": "16f993d7-1eca-4cd0-9c48-ba014bdce901"
      },
      "outputs": [
        {
          "output_type": "stream",
          "name": "stderr",
          "text": [
            "You're using a DistilBertTokenizerFast tokenizer. Please note that with a fast tokenizer, using the `__call__` method is faster than using a method to encode the text followed by a call to the `pad` method to get a padded encoding.\n"
          ]
        },
        {
          "output_type": "execute_result",
          "data": {
            "text/plain": [
              "{'labels': tensor([1, 1, 1, 1, 0, 0, 0, 0, 1, 1, 0, 1, 0, 0, 0, 0, 0, 1, 0, 1, 1, 1, 1, 1,\n",
              "        1, 1, 1, 1, 0, 0, 1, 0]), 'input_ids': tensor([[  101,  1472,  1190,  ...,     0,     0,     0],\n",
              "        [  101,  7310,  1193,  ...,     0,     0,     0],\n",
              "        [  101, 14827,  2212,  ...,     0,     0,     0],\n",
              "        ...,\n",
              "        [  101,  7011,   102,  ...,     0,     0,     0],\n",
              "        [  101, 11567,  2981,  ...,     0,     0,     0],\n",
              "        [  101,  1129,  7109,  ...,     0,     0,     0]]), 'attention_mask': tensor([[1, 1, 1,  ..., 0, 0, 0],\n",
              "        [1, 1, 1,  ..., 0, 0, 0],\n",
              "        [1, 1, 1,  ..., 0, 0, 0],\n",
              "        ...,\n",
              "        [1, 1, 1,  ..., 0, 0, 0],\n",
              "        [1, 1, 1,  ..., 0, 0, 0],\n",
              "        [1, 1, 1,  ..., 0, 0, 0]])}"
            ]
          },
          "metadata": {},
          "execution_count": 34
        }
      ],
      "source": [
        "next(iter(train_dataloader))"
      ]
    },
    {
      "cell_type": "code",
      "execution_count": 35,
      "metadata": {
        "id": "CK3R_ZBJAi6w",
        "colab": {
          "base_uri": "https://localhost:8080/"
        },
        "outputId": "d53128bb-b495-4e21-ce6a-c684da83e338"
      },
      "outputs": [
        {
          "output_type": "execute_result",
          "data": {
            "text/plain": [
              "2105"
            ]
          },
          "metadata": {},
          "execution_count": 35
        }
      ],
      "source": [
        "len(train_dataloader)"
      ]
    },
    {
      "cell_type": "code",
      "execution_count": 36,
      "metadata": {
        "id": "Qv9LE3znNtP-",
        "colab": {
          "base_uri": "https://localhost:8080/"
        },
        "outputId": "c46fafc9-5dc8-4bf7-d14e-1f9dc1e8f166"
      },
      "outputs": [
        {
          "output_type": "execute_result",
          "data": {
            "text/plain": [
              "67360"
            ]
          },
          "metadata": {},
          "execution_count": 36
        }
      ],
      "source": [
        "2105*32"
      ]
    },
    {
      "cell_type": "code",
      "execution_count": 37,
      "metadata": {
        "id": "phCvHISMASqO",
        "colab": {
          "base_uri": "https://localhost:8080/"
        },
        "outputId": "095baaa4-a094-440b-bead-7c1d0e5be308"
      },
      "outputs": [
        {
          "output_type": "stream",
          "name": "stdout",
          "text": [
            "{'labels': tensor([0, 0, 1, 0, 0, 1, 1, 1, 0, 0, 0, 0, 1, 1, 0, 1, 1, 0, 1, 1, 0, 0, 0, 0,\n",
            "        1, 1, 0, 1, 1, 0, 0, 1]), 'input_ids': tensor([[  101,  1205,  1103,  ...,     0,     0,     0],\n",
            "        [  101,  9328,  2254,  ...,     0,     0,     0],\n",
            "        [  101,  1138,  2320,  ...,     0,     0,     0],\n",
            "        ...,\n",
            "        [  101, 23481,   102,  ...,     0,     0,     0],\n",
            "        [  101,  1547,  1112,  ...,     0,     0,     0],\n",
            "        [  101,  1144,  1694,  ...,     0,     0,     0]]), 'attention_mask': tensor([[1, 1, 1,  ..., 0, 0, 0],\n",
            "        [1, 1, 1,  ..., 0, 0, 0],\n",
            "        [1, 1, 1,  ..., 0, 0, 0],\n",
            "        ...,\n",
            "        [1, 1, 1,  ..., 0, 0, 0],\n",
            "        [1, 1, 1,  ..., 0, 0, 0],\n",
            "        [1, 1, 1,  ..., 0, 0, 0]])}\n"
          ]
        }
      ],
      "source": [
        "for batch in train_dataloader:\n",
        "  print(batch)\n",
        "  break"
      ]
    },
    {
      "cell_type": "code",
      "execution_count": 38,
      "metadata": {
        "id": "Blikj8J_b3QM",
        "colab": {
          "base_uri": "https://localhost:8080/"
        },
        "outputId": "b3490b1e-7a75-43ff-bd82-49ef32f89158"
      },
      "outputs": [
        {
          "output_type": "stream",
          "name": "stdout",
          "text": [
            "k:  labels v.shape:  torch.Size([32])\n",
            "k:  input_ids v.shape:  torch.Size([32, 45])\n",
            "k:  attention_mask v.shape:  torch.Size([32, 45])\n"
          ]
        }
      ],
      "source": [
        "for batch in train_dataloader:\n",
        "  for k,v in batch.items():\n",
        "    print('k: ', k, 'v.shape: ', v.shape)\n",
        "  break"
      ]
    },
    {
      "cell_type": "code",
      "execution_count": 39,
      "metadata": {
        "id": "ejk2SqQTcROx",
        "colab": {
          "base_uri": "https://localhost:8080/"
        },
        "outputId": "a50d9221-0560-4d00-b0f2-dbff6217d591"
      },
      "outputs": [
        {
          "output_type": "execute_result",
          "data": {
            "text/plain": [
              "{0, 1}"
            ]
          },
          "metadata": {},
          "execution_count": 39
        }
      ],
      "source": [
        "set(tokenized_datasets['train']['labels'])"
      ]
    },
    {
      "cell_type": "code",
      "execution_count": 40,
      "metadata": {
        "id": "tovy1t0gc6lo",
        "colab": {
          "base_uri": "https://localhost:8080/"
        },
        "outputId": "a77ae5a6-0557-48a9-9321-a7a40ce70aa7"
      },
      "outputs": [
        {
          "output_type": "execute_result",
          "data": {
            "text/plain": [
              "28996"
            ]
          },
          "metadata": {},
          "execution_count": 40
        }
      ],
      "source": [
        "tokenizer.vocab_size"
      ]
    },
    {
      "cell_type": "code",
      "execution_count": 41,
      "metadata": {
        "id": "GNMfMGgrc9Gr",
        "colab": {
          "base_uri": "https://localhost:8080/"
        },
        "outputId": "378842f3-c43d-4e1f-fb43-145e6f5a3533"
      },
      "outputs": [
        {
          "output_type": "execute_result",
          "data": {
            "text/plain": [
              "{'distilbert-base-uncased': 512,\n",
              " 'distilbert-base-uncased-distilled-squad': 512,\n",
              " 'distilbert-base-cased': 512,\n",
              " 'distilbert-base-cased-distilled-squad': 512,\n",
              " 'distilbert-base-german-cased': 512,\n",
              " 'distilbert-base-multilingual-cased': 512}"
            ]
          },
          "metadata": {},
          "execution_count": 41
        }
      ],
      "source": [
        "tokenizer.max_model_input_sizes"
      ]
    },
    {
      "cell_type": "code",
      "execution_count": 42,
      "metadata": {
        "id": "who67adUdGR_",
        "colab": {
          "base_uri": "https://localhost:8080/"
        },
        "outputId": "f5f4c9cd-272d-4164-9d9f-a803a868dc68"
      },
      "outputs": [
        {
          "output_type": "execute_result",
          "data": {
            "text/plain": [
              "Encoder(\n",
              "  (embedding): Embedding(28996, 64)\n",
              "  (pos_encoding): PositionalEncoding(\n",
              "    (dropout): Dropout(p=0.1, inplace=False)\n",
              "  )\n",
              "  (transformer_blocks): Sequential(\n",
              "    (0): TransformerBlock(\n",
              "      (ln1): LayerNorm((64,), eps=1e-05, elementwise_affine=True)\n",
              "      (ln2): LayerNorm((64,), eps=1e-05, elementwise_affine=True)\n",
              "      (mha): MultiHeadAttention(\n",
              "        (key): Linear(in_features=64, out_features=64, bias=False)\n",
              "        (query): Linear(in_features=64, out_features=64, bias=False)\n",
              "        (value): Linear(in_features=64, out_features=64, bias=False)\n",
              "        (W_O): Linear(in_features=64, out_features=64, bias=True)\n",
              "      )\n",
              "      (ann): Sequential(\n",
              "        (0): Linear(in_features=64, out_features=256, bias=True)\n",
              "        (1): GELU(approximate='none')\n",
              "        (2): Linear(in_features=256, out_features=64, bias=True)\n",
              "        (3): Dropout(p=0.1, inplace=False)\n",
              "      )\n",
              "      (dropout): Dropout(p=0.1, inplace=False)\n",
              "    )\n",
              "    (1): TransformerBlock(\n",
              "      (ln1): LayerNorm((64,), eps=1e-05, elementwise_affine=True)\n",
              "      (ln2): LayerNorm((64,), eps=1e-05, elementwise_affine=True)\n",
              "      (mha): MultiHeadAttention(\n",
              "        (key): Linear(in_features=64, out_features=64, bias=False)\n",
              "        (query): Linear(in_features=64, out_features=64, bias=False)\n",
              "        (value): Linear(in_features=64, out_features=64, bias=False)\n",
              "        (W_O): Linear(in_features=64, out_features=64, bias=True)\n",
              "      )\n",
              "      (ann): Sequential(\n",
              "        (0): Linear(in_features=64, out_features=256, bias=True)\n",
              "        (1): GELU(approximate='none')\n",
              "        (2): Linear(in_features=256, out_features=64, bias=True)\n",
              "        (3): Dropout(p=0.1, inplace=False)\n",
              "      )\n",
              "      (dropout): Dropout(p=0.1, inplace=False)\n",
              "    )\n",
              "  )\n",
              "  (ln): LayerNorm((64,), eps=1e-05, elementwise_affine=True)\n",
              "  (ff): Linear(in_features=64, out_features=2, bias=True)\n",
              ")"
            ]
          },
          "metadata": {},
          "execution_count": 42
        }
      ],
      "source": [
        "model = Encoder(\n",
        "    vocab_size = tokenizer.vocab_size,\n",
        "    max_len = tokenizer.max_model_input_sizes[checkpoint],\n",
        "    d_key = 16,\n",
        "    d_model = 64,\n",
        "    n_heads = 4,\n",
        "    n_layers = 2,\n",
        "    n_classes = 2,\n",
        "    dropout_prob = 0.1,\n",
        ")\n",
        "model.to(device)"
      ]
    },
    {
      "cell_type": "code",
      "execution_count": 43,
      "metadata": {
        "id": "09UTg98wdr8F"
      },
      "outputs": [],
      "source": [
        "loss_fn = nn.CrossEntropyLoss()\n",
        "optimizer = torch.optim.AdamW(model.parameters())"
      ]
    },
    {
      "cell_type": "code",
      "execution_count": 44,
      "metadata": {
        "id": "lNguK_JU_rUi"
      },
      "outputs": [],
      "source": [
        "def train(model = model,\n",
        "          loss_fn = loss_fn,\n",
        "          optimizer = optimizer,\n",
        "          train_dataloader = train_dataloader,\n",
        "          valid_dataloader = valid_dataloader,\n",
        "          epochs = 5):\n",
        "\n",
        "  train_losses = torch.zeros(epochs)\n",
        "  test_losses = torch.zeros(epochs)\n",
        "\n",
        "  for epoch in range(epochs):\n",
        "\n",
        "    # setting model to training mode\n",
        "    model.train()\n",
        "\n",
        "    #initializing loss and number of training loops\n",
        "    train_loss = 0\n",
        "    n_train = 0\n",
        "\n",
        "    for batch in train_dataloader:\n",
        "      # Move input data to the right device\n",
        "      batch = {k: v.to(device) for k,v in batch.items()}\n",
        "\n",
        "      # Optimizer zero grad\n",
        "      optimizer.zero_grad()\n",
        "\n",
        "      #Forward pass\n",
        "      outputs = model(batch['input_ids'], batch['attention_mask'])\n",
        "      loss = loss_fn(outputs, batch['labels'])\n",
        "\n",
        "      # Backward and optimize\n",
        "      loss.backward()\n",
        "      optimizer.step()\n",
        "\n",
        "      train_loss += loss.item()\n",
        "      n_train += 1\n",
        "\n",
        "    train_loss = train_loss/n_train\n",
        "\n",
        "    # Evaluation part\n",
        "    model.eval()\n",
        "    test_loss = 0\n",
        "    n_test = 0\n",
        "    for batch in valid_dataloader:\n",
        "      batch = {k: v.to(device) for k,v in batch.items()}\n",
        "      outputs = model(batch['input_ids'], batch['attention_mask'])\n",
        "      loss = loss_fn(outputs, batch['labels'])\n",
        "      test_loss += loss.item()\n",
        "      n_test += 1\n",
        "    test_loss = test_loss/n_test\n",
        "\n",
        "    # Save losses\n",
        "    train_losses[epoch] = train_loss\n",
        "    test_losses[epoch] = test_loss\n",
        "    print(f'Epoch: {epoch} | train_loss: {train_loss} | test_loss: {test_loss}')\n",
        "\n",
        "  return train_losses, test_losses"
      ]
    },
    {
      "cell_type": "code",
      "execution_count": 45,
      "metadata": {
        "id": "5mDYpTtVGgVT",
        "colab": {
          "base_uri": "https://localhost:8080/"
        },
        "outputId": "434082ce-07ea-42ff-a4bb-22db9379576f"
      },
      "outputs": [
        {
          "output_type": "stream",
          "name": "stdout",
          "text": [
            "Epoch: 0 | train_loss: 0.5405567969321639 | test_loss: 0.4768559081213815\n",
            "Epoch: 1 | train_loss: 0.3739163496148841 | test_loss: 0.47912435818995747\n",
            "Epoch: 2 | train_loss: 0.30022076624943356 | test_loss: 0.4817569889128208\n",
            "Epoch: 3 | train_loss: 0.25770155973201553 | test_loss: 0.5302381637905326\n",
            "Epoch: 4 | train_loss: 0.228460176492601 | test_loss: 0.5164805054664612\n"
          ]
        }
      ],
      "source": [
        "train_losses, test_losses = train()"
      ]
    },
    {
      "cell_type": "code",
      "execution_count": 46,
      "metadata": {
        "id": "ywi70VFuGlpP",
        "colab": {
          "base_uri": "https://localhost:8080/"
        },
        "outputId": "160a3d65-839b-4791-fd10-2dfd71d732bc"
      },
      "outputs": [
        {
          "output_type": "stream",
          "name": "stdout",
          "text": [
            "Train_acc: 0.9447207827881632 | Test_acc: 0.7912844036697247\n"
          ]
        }
      ],
      "source": [
        "# Measuring the accuracy\n",
        "\n",
        "#Train accuracy\n",
        "model.eval()\n",
        "n_correct = 0\n",
        "n_total = 0\n",
        "for batch in train_dataloader:\n",
        "  batch = {k: v.to(device) for k,v in batch.items()}\n",
        "  outputs = model(batch['input_ids'], batch['attention_mask'])\n",
        "  # print(outputs)\n",
        "  #torch.max returns both max and argmax\n",
        "  _, predictions = torch.max(outputs,1)\n",
        "  n_correct += (predictions == batch['labels']).sum().item()\n",
        "  n_total += batch['input_ids'].shape[0]\n",
        "\n",
        "train_acc = n_correct/n_total\n",
        "\n",
        "#Test accuracy\n",
        "n_correct = 0\n",
        "n_total = 0\n",
        "for batch in valid_dataloader:\n",
        "  batch = {k: v.to(device) for k,v in batch.items()}\n",
        "  outputs = model(batch['input_ids'], batch['attention_mask'])\n",
        "  #torch.max returns both max and argmax\n",
        "  _, predictions = torch.max(outputs,1)\n",
        "  n_correct += (predictions == batch['labels']).sum().item()\n",
        "  n_total += batch['input_ids'].shape[0]\n",
        "\n",
        "test_acc = n_correct/n_total\n",
        "print(f'Train_acc: {train_acc} | Test_acc: {test_acc}')"
      ]
    },
    {
      "cell_type": "markdown",
      "metadata": {
        "id": "zSS_GxwATpAA"
      },
      "source": [
        "# Decoder Implementation"
      ]
    },
    {
      "cell_type": "code",
      "execution_count": 47,
      "metadata": {
        "id": "72khLqD4eAXE"
      },
      "outputs": [],
      "source": [
        "class CausalMultiHeadAttention(nn.Module):\n",
        "\n",
        "  \"\"\"\n",
        "  Implements MultiHeadAttention Mechanism.\n",
        "\n",
        "  Args:\n",
        "    d_key: Dimension of keys to be produced\n",
        "    d_model: Dimension of Model/ input token dimension\n",
        "    h: Number of Attention heads\n",
        "  \"\"\"\n",
        "\n",
        "  def __init__(self, d_key, d_model, h, max_len):\n",
        "    super().__init__()\n",
        "\n",
        "    # Assumption: d_value = d_key\n",
        "    self.d_key = d_key\n",
        "    self.h = h\n",
        "\n",
        "    # Compute all of the 'h' keys and queries and values at once instead of using a for loop for each head.\n",
        "    self.key = nn.Linear(d_model, d_key * h, bias = False, device = device)\n",
        "    self.query = nn.Linear(d_model, d_key * h, bias = False, device = device)\n",
        "    self.value = nn.Linear(d_model, d_key * h, bias = False, device = device)\n",
        "\n",
        "    # Final Linear Layer to be applied after attention blocks\n",
        "    self.W_O = nn.Linear(d_key * h, d_model)\n",
        "\n",
        "    cm = torch.tril(torch.ones(max_len,max_len))\n",
        "    self.register_buffer(\n",
        "        'causal_mask',\n",
        "        cm.view(1,1,max_len,max_len)\n",
        "    )\n",
        "\n",
        "  def forward(self, q, k, v, pad_mask = None):\n",
        "\n",
        "    B, T = q.shape[0], q.shape[1]\n",
        "\n",
        "    q = self.query(q)  # (B, T, d_key*h)\n",
        "    k = self.key(k)  # (B, T, d_key*h)\n",
        "    v = self.value(v)  # (B, T, d_key*h)\n",
        "\n",
        "    # Change shape from (B, T, d_key*h) to (B, h, T, d_key)\n",
        "    q = q.view(B, T, self.h, self.d_key).transpose(1,2)\n",
        "    k = k.view(B, T, self.h, self.d_key).transpose(1,2)\n",
        "    v = v.view(B, T, self.h, self.d_key).transpose(1,2)\n",
        "\n",
        "    # Compute Attention Weights (B, h, T, d_key) @ (B, h, d_key, T) --> (B, h, T, T). (T, T) weights for each head.\n",
        "    attention_mat = q @ k.transpose(-2,-1)/ math.sqrt(self.d_key)\n",
        "\n",
        "    if pad_mask is not None:\n",
        "      attention_mat = attention_mat.masked_fill(pad_mask[:, None, None, :] == 0, float('-inf'))\n",
        "\n",
        "    attention_mat = attention_mat.masked_fill(self.causal_mask[:,:,:T,:T] == 0, float('-inf'))\n",
        "\n",
        "    attention_weights = attention_mat.softmax(dim = -1)\n",
        "\n",
        "    # Attention weighted values for each input token (B, h, T, T) @ (B, h, T, d_key) --> (B, h, T, d_key)\n",
        "    A = attention_weights @ v\n",
        "\n",
        "    # Reshape it for the final output\n",
        "    A = A.transpose(1,2)\n",
        "    A = A.contiguous().view(B, T, self.d_key * self.h)\n",
        "\n",
        "    return self.W_O(A)"
      ]
    },
    {
      "cell_type": "code",
      "execution_count": 48,
      "metadata": {
        "id": "2lDeakQ0iokR"
      },
      "outputs": [],
      "source": [
        "class DecoderTransformerBlock(nn.Module):\n",
        "\n",
        "  def __init__(self, d_key, d_model, h, max_len, dropout_prob = 0.1):\n",
        "    super().__init__()\n",
        "\n",
        "    self.ln1 = nn.LayerNorm(d_model)\n",
        "    self.ln2 = nn.LayerNorm(d_model)\n",
        "    self.mha = CausalMultiHeadAttention(d_key, d_model, h, max_len)\n",
        "    self.ann = nn.Sequential(\n",
        "        nn.Linear(d_model, d_model * 4),\n",
        "        nn.GELU(),\n",
        "        nn.Linear(4*d_model, d_model),\n",
        "        nn.Dropout(dropout_prob)\n",
        "    )\n",
        "\n",
        "    self.dropout = nn.Dropout(dropout_prob)\n",
        "\n",
        "  def forward(self, x, pad_mask = None):\n",
        "    x = self.ln1(x + self.mha(x, x, x, pad_mask))\n",
        "    x = self.ln2(x + self.ann(x))\n",
        "    x = self.dropout(x)\n",
        "\n",
        "    return x"
      ]
    },
    {
      "cell_type": "code",
      "execution_count": 49,
      "metadata": {
        "id": "StLTCpMmi6ZC"
      },
      "outputs": [],
      "source": [
        "class Decoder(nn.Module):\n",
        "\n",
        "  def __init__(self, vocab_size, max_len, d_key, d_model, n_heads, n_layers, dropout_prob): #n_classes is dropped as it is equal to vocab_size\n",
        "    super().__init__()\n",
        "\n",
        "    self.embedding = nn.Embedding(vocab_size, d_model)\n",
        "    self.pos_encoding = PositionalEncoding(d_model, max_len, dropout_prob)\n",
        "    transformer_blocks = [DecoderTransformerBlock(d_key, d_model, n_heads, max_len, dropout_prob) for _ in range(n_layers)]\n",
        "    self.transformer_blocks = nn.Sequential(*transformer_blocks)\n",
        "    self.ln = nn.LayerNorm(d_model)\n",
        "    self.ff = nn.Linear(d_model, vocab_size)\n",
        "\n",
        "  def forward(self, x, pad_mask = None):\n",
        "    x = self.embedding(x)\n",
        "    x = self.pos_encoding(x)\n",
        "    # Later on we need to pass the mask which is not None. So, we need a for loop to pass mask to each layer\n",
        "    for block in self.transformer_blocks:\n",
        "      x = block(x, pad_mask)\n",
        "\n",
        "    # Depends on the task need to be performed, we can choose just the output vector\n",
        "    # x = x[:, 0, :]  # Just picking out a single timestep output, timestep_0\n",
        "    # many-to-many task\n",
        "\n",
        "    x = self.ln(x)\n",
        "    x = self.ff(x)\n",
        "\n",
        "    return x\n",
        "\n",
        "\n"
      ]
    },
    {
      "cell_type": "code",
      "execution_count": 50,
      "metadata": {
        "id": "vqMrKk4nj3gb"
      },
      "outputs": [],
      "source": [
        "decoder_model = Decoder(20000, 1024, 16, 64, 4, 2, 0.1).to(device)"
      ]
    },
    {
      "cell_type": "code",
      "execution_count": 51,
      "metadata": {
        "id": "2f-SsXRRlL11"
      },
      "outputs": [],
      "source": [
        "x_dummy = torch.randint(0, 20000, size = (8,512)).to(device)"
      ]
    },
    {
      "cell_type": "code",
      "execution_count": 52,
      "metadata": {
        "id": "hRzBD2xI5C7v"
      },
      "outputs": [],
      "source": [
        "mask = torch.ones((8,512))\n",
        "mask[:,256:] = 0\n",
        "mask_dummy = mask.to(device)"
      ]
    },
    {
      "cell_type": "code",
      "execution_count": 53,
      "metadata": {
        "id": "1T_x3mhq5Drt"
      },
      "outputs": [],
      "source": [
        "y_ = decoder_model(x_dummy, mask_dummy)"
      ]
    },
    {
      "cell_type": "code",
      "execution_count": 54,
      "metadata": {
        "id": "apg9IyJK5P5x",
        "colab": {
          "base_uri": "https://localhost:8080/"
        },
        "outputId": "82f9d1e8-959b-4c29-f528-c77c9bcf4591"
      },
      "outputs": [
        {
          "data": {
            "text/plain": [
              "torch.Size([8, 512, 20000])"
            ]
          },
          "execution_count": 54,
          "metadata": {},
          "output_type": "execute_result"
        }
      ],
      "source": [
        "y_.shape"
      ]
    },
    {
      "cell_type": "code",
      "execution_count": 55,
      "metadata": {
        "id": "vd6wnMnC5mW5"
      },
      "outputs": [],
      "source": [
        "from transformers import AutoTokenizer, DataCollatorWithPadding"
      ]
    },
    {
      "cell_type": "code",
      "execution_count": 56,
      "metadata": {
        "id": "pYc99wIx6q21"
      },
      "outputs": [],
      "source": [
        "checkpoint = 'distilbert-base-cased'\n",
        "tokenizer = AutoTokenizer.from_pretrained(checkpoint)"
      ]
    },
    {
      "cell_type": "code",
      "execution_count": 57,
      "metadata": {
        "id": "_ftqcmn161_H"
      },
      "outputs": [],
      "source": [
        "from datasets import load_dataset"
      ]
    },
    {
      "cell_type": "code",
      "execution_count": 58,
      "metadata": {
        "id": "YVaHtEo666Tp"
      },
      "outputs": [],
      "source": [
        "decoder_raw_data = load_dataset('glue','sst2')"
      ]
    },
    {
      "cell_type": "code",
      "execution_count": 59,
      "metadata": {
        "id": "psu0Lruz7E6t",
        "colab": {
          "base_uri": "https://localhost:8080/"
        },
        "outputId": "b7ab9529-5f43-46da-e362-942c01abbf8a"
      },
      "outputs": [
        {
          "output_type": "execute_result",
          "data": {
            "text/plain": [
              "DatasetDict({\n",
              "    train: Dataset({\n",
              "        features: ['sentence', 'label', 'idx'],\n",
              "        num_rows: 67349\n",
              "    })\n",
              "    validation: Dataset({\n",
              "        features: ['sentence', 'label', 'idx'],\n",
              "        num_rows: 872\n",
              "    })\n",
              "    test: Dataset({\n",
              "        features: ['sentence', 'label', 'idx'],\n",
              "        num_rows: 1821\n",
              "    })\n",
              "})"
            ]
          },
          "metadata": {},
          "execution_count": 59
        }
      ],
      "source": [
        "decoder_raw_data"
      ]
    },
    {
      "cell_type": "code",
      "execution_count": 60,
      "metadata": {
        "id": "NomXfJe97ILs"
      },
      "outputs": [],
      "source": [
        "def tokenize_fn(batch):\n",
        "  return tokenizer(batch['sentence'], truncation = True)"
      ]
    },
    {
      "cell_type": "code",
      "execution_count": 61,
      "metadata": {
        "id": "oAfM3r097ZT0",
        "colab": {
          "base_uri": "https://localhost:8080/",
          "height": 49,
          "referenced_widgets": [
            "d15b1c4f0bcb417eb17017c120763128",
            "59dfe104bd454fc49e9899de0dc73577",
            "57d873c31477443a938d228fa04eb163",
            "669623dce42c40a99009ce3378e029b4",
            "52365020cae14f27a7a57c0977da67d0",
            "a36f7bef0e2d4f908de476e7a98a7a0d",
            "d62822a9da3d4c31a3f84fa35e958360",
            "963c505501714f3da4507651ff283d85",
            "6c0af035c4aa4ec3939ae26c8ed30221",
            "c87e66f444bb48d191c6f77ee0d84e12",
            "851640b5d1e1419496f89d2309c72f1b"
          ]
        },
        "outputId": "69478407-b45a-4bf2-876e-4257d0c38f1f"
      },
      "outputs": [
        {
          "output_type": "display_data",
          "data": {
            "text/plain": [
              "Map:   0%|          | 0/872 [00:00<?, ? examples/s]"
            ],
            "application/vnd.jupyter.widget-view+json": {
              "version_major": 2,
              "version_minor": 0,
              "model_id": "d15b1c4f0bcb417eb17017c120763128"
            }
          },
          "metadata": {}
        }
      ],
      "source": [
        "tokenized_decoder_data = decoder_raw_data.map(tokenize_fn, batched = True)\n",
        "decoder_datacollator = DataCollatorWithPadding(tokenizer)"
      ]
    },
    {
      "cell_type": "code",
      "execution_count": 62,
      "metadata": {
        "id": "VpKeqomy7r2l",
        "colab": {
          "base_uri": "https://localhost:8080/"
        },
        "outputId": "1a7e007e-8b49-4f18-cdb0-3330311af45e"
      },
      "outputs": [
        {
          "output_type": "execute_result",
          "data": {
            "text/plain": [
              "DatasetDict({\n",
              "    train: Dataset({\n",
              "        features: ['sentence', 'label', 'idx', 'input_ids', 'attention_mask'],\n",
              "        num_rows: 67349\n",
              "    })\n",
              "    validation: Dataset({\n",
              "        features: ['sentence', 'label', 'idx', 'input_ids', 'attention_mask'],\n",
              "        num_rows: 872\n",
              "    })\n",
              "    test: Dataset({\n",
              "        features: ['sentence', 'label', 'idx', 'input_ids', 'attention_mask'],\n",
              "        num_rows: 1821\n",
              "    })\n",
              "})"
            ]
          },
          "metadata": {},
          "execution_count": 62
        }
      ],
      "source": [
        "tokenized_decoder_data"
      ]
    },
    {
      "cell_type": "code",
      "execution_count": 63,
      "metadata": {
        "id": "xGQMc3UC72gT"
      },
      "outputs": [],
      "source": [
        "tokenized_decoder_data = tokenized_decoder_data.remove_columns(['sentence', 'idx', 'label'])"
      ]
    },
    {
      "cell_type": "code",
      "execution_count": 64,
      "metadata": {
        "id": "uGOGoyR68M_O",
        "colab": {
          "base_uri": "https://localhost:8080/"
        },
        "outputId": "9e696187-0016-4e39-cb98-9fdc6ecbb149"
      },
      "outputs": [
        {
          "data": {
            "text/plain": [
              "DatasetDict({\n",
              "    train: Dataset({\n",
              "        features: ['input_ids', 'attention_mask'],\n",
              "        num_rows: 67349\n",
              "    })\n",
              "    validation: Dataset({\n",
              "        features: ['input_ids', 'attention_mask'],\n",
              "        num_rows: 872\n",
              "    })\n",
              "    test: Dataset({\n",
              "        features: ['input_ids', 'attention_mask'],\n",
              "        num_rows: 1821\n",
              "    })\n",
              "})"
            ]
          },
          "execution_count": 64,
          "metadata": {},
          "output_type": "execute_result"
        }
      ],
      "source": [
        "tokenized_decoder_data"
      ]
    },
    {
      "cell_type": "code",
      "execution_count": 65,
      "metadata": {
        "id": "AXg3R5PC8Okf"
      },
      "outputs": [],
      "source": [
        "from torch.utils.data import DataLoader\n",
        "\n",
        "decoder_train_dataloader = DataLoader(\n",
        "    tokenized_decoder_data['train'],\n",
        "    shuffle = True,\n",
        "    batch_size = 32,\n",
        "    collate_fn = decoder_datacollator\n",
        ")\n",
        "\n",
        "decoder_test_dataloader = DataLoader(\n",
        "    tokenized_decoder_data['validation'],\n",
        "    shuffle = True,\n",
        "    batch_size = 1,\n",
        "    collate_fn = decoder_datacollator\n",
        ")"
      ]
    },
    {
      "cell_type": "code",
      "execution_count": 66,
      "metadata": {
        "id": "uLjhDIlX8pVo",
        "colab": {
          "base_uri": "https://localhost:8080/"
        },
        "outputId": "98f09561-c816-4926-e446-bb88de5670d7"
      },
      "outputs": [
        {
          "output_type": "stream",
          "name": "stderr",
          "text": [
            "You're using a DistilBertTokenizerFast tokenizer. Please note that with a fast tokenizer, using the `__call__` method is faster than using a method to encode the text followed by a call to the `pad` method to get a padded encoding.\n"
          ]
        },
        {
          "output_type": "stream",
          "name": "stdout",
          "text": [
            "{'input_ids': tensor([[  101,  1110,  1198,  ...,     0,     0,     0],\n",
            "        [  101,  8869,  1106,  ...,     0,     0,     0],\n",
            "        [  101,  3411,  2426,  ...,     0,     0,     0],\n",
            "        ...,\n",
            "        [  101,  1463,  1106,  ...,     0,     0,     0],\n",
            "        [  101,  1243,   102,  ...,     0,     0,     0],\n",
            "        [  101,  1211, 11826,  ...,  1313,   119,   102]]), 'attention_mask': tensor([[1, 1, 1,  ..., 0, 0, 0],\n",
            "        [1, 1, 1,  ..., 0, 0, 0],\n",
            "        [1, 1, 1,  ..., 0, 0, 0],\n",
            "        ...,\n",
            "        [1, 1, 1,  ..., 0, 0, 0],\n",
            "        [1, 1, 1,  ..., 0, 0, 0],\n",
            "        [1, 1, 1,  ..., 1, 1, 1]])}\n"
          ]
        }
      ],
      "source": [
        "for batch in decoder_train_dataloader:\n",
        "  print(batch)\n",
        "  break"
      ]
    },
    {
      "cell_type": "code",
      "execution_count": 67,
      "metadata": {
        "id": "HMDiXhJ19JGg",
        "colab": {
          "base_uri": "https://localhost:8080/"
        },
        "outputId": "815f52e9-bef7-4a1e-ffd8-f011fdcaa897"
      },
      "outputs": [
        {
          "output_type": "stream",
          "name": "stdout",
          "text": [
            "k:  input_ids v.shape:  torch.Size([32, 38])\n",
            "k:  attention_mask v.shape:  torch.Size([32, 38])\n"
          ]
        }
      ],
      "source": [
        "for batch in decoder_train_dataloader:\n",
        "  for k,v in batch.items():\n",
        "    print('k: ', k, 'v.shape: ', v.shape)\n",
        "  break"
      ]
    },
    {
      "cell_type": "code",
      "execution_count": 68,
      "metadata": {
        "id": "tvLUhNJJ9gEe",
        "colab": {
          "base_uri": "https://localhost:8080/"
        },
        "outputId": "684cc3f8-4349-4714-d28b-80344aace646"
      },
      "outputs": [
        {
          "output_type": "execute_result",
          "data": {
            "text/plain": [
              "0"
            ]
          },
          "metadata": {},
          "execution_count": 68
        }
      ],
      "source": [
        "tokenizer.pad_token_id"
      ]
    },
    {
      "cell_type": "code",
      "execution_count": 69,
      "metadata": {
        "id": "MNvs45bY9xg5",
        "colab": {
          "base_uri": "https://localhost:8080/"
        },
        "outputId": "df614f6c-4abb-4a7e-d3d0-37c80af56b63"
      },
      "outputs": [
        {
          "output_type": "execute_result",
          "data": {
            "text/plain": [
              "Decoder(\n",
              "  (embedding): Embedding(28996, 64)\n",
              "  (pos_encoding): PositionalEncoding(\n",
              "    (dropout): Dropout(p=0.1, inplace=False)\n",
              "  )\n",
              "  (transformer_blocks): Sequential(\n",
              "    (0): DecoderTransformerBlock(\n",
              "      (ln1): LayerNorm((64,), eps=1e-05, elementwise_affine=True)\n",
              "      (ln2): LayerNorm((64,), eps=1e-05, elementwise_affine=True)\n",
              "      (mha): CausalMultiHeadAttention(\n",
              "        (key): Linear(in_features=64, out_features=64, bias=False)\n",
              "        (query): Linear(in_features=64, out_features=64, bias=False)\n",
              "        (value): Linear(in_features=64, out_features=64, bias=False)\n",
              "        (W_O): Linear(in_features=64, out_features=64, bias=True)\n",
              "      )\n",
              "      (ann): Sequential(\n",
              "        (0): Linear(in_features=64, out_features=256, bias=True)\n",
              "        (1): GELU(approximate='none')\n",
              "        (2): Linear(in_features=256, out_features=64, bias=True)\n",
              "        (3): Dropout(p=0.1, inplace=False)\n",
              "      )\n",
              "      (dropout): Dropout(p=0.1, inplace=False)\n",
              "    )\n",
              "    (1): DecoderTransformerBlock(\n",
              "      (ln1): LayerNorm((64,), eps=1e-05, elementwise_affine=True)\n",
              "      (ln2): LayerNorm((64,), eps=1e-05, elementwise_affine=True)\n",
              "      (mha): CausalMultiHeadAttention(\n",
              "        (key): Linear(in_features=64, out_features=64, bias=False)\n",
              "        (query): Linear(in_features=64, out_features=64, bias=False)\n",
              "        (value): Linear(in_features=64, out_features=64, bias=False)\n",
              "        (W_O): Linear(in_features=64, out_features=64, bias=True)\n",
              "      )\n",
              "      (ann): Sequential(\n",
              "        (0): Linear(in_features=64, out_features=256, bias=True)\n",
              "        (1): GELU(approximate='none')\n",
              "        (2): Linear(in_features=256, out_features=64, bias=True)\n",
              "        (3): Dropout(p=0.1, inplace=False)\n",
              "      )\n",
              "      (dropout): Dropout(p=0.1, inplace=False)\n",
              "    )\n",
              "  )\n",
              "  (ln): LayerNorm((64,), eps=1e-05, elementwise_affine=True)\n",
              "  (ff): Linear(in_features=64, out_features=28996, bias=True)\n",
              ")"
            ]
          },
          "metadata": {},
          "execution_count": 69
        }
      ],
      "source": [
        "decoder_model = Decoder(vocab_size = tokenizer.vocab_size,\n",
        "                        max_len = tokenizer.max_model_input_sizes[checkpoint],\n",
        "                        d_key = 16,\n",
        "                        d_model = 64,\n",
        "                        n_heads = 4,\n",
        "                        n_layers = 2,\n",
        "                        dropout_prob = 0.1)\n",
        "decoder_model.to(device)"
      ]
    },
    {
      "cell_type": "code",
      "execution_count": 70,
      "metadata": {
        "id": "U4Nq_hDp-X3g"
      },
      "outputs": [],
      "source": [
        "loss_fn = nn.CrossEntropyLoss(ignore_index = tokenizer.pad_token_id)\n",
        "optimizer = torch.optim.Adam(decoder_model.parameters())"
      ]
    },
    {
      "cell_type": "code",
      "execution_count": 71,
      "metadata": {
        "id": "5h804MLm_Mr_"
      },
      "outputs": [],
      "source": [
        "def train_decoder(model = decoder_model,\n",
        "                  loss_fn = loss_fn,\n",
        "                  optimizer = optimizer,\n",
        "                  train_loader = decoder_train_dataloader,\n",
        "                  epochs = 20):\n",
        "\n",
        "  train_losses = torch.zeros(epochs)\n",
        "\n",
        "  for epoch in range(epochs):\n",
        "    model.train()\n",
        "    train_loss = []\n",
        "    for batch in train_loader:\n",
        "      batch = {k:v.to(device) for k,v in batch.items()}\n",
        "      optimizer.zero_grad()\n",
        "\n",
        "      #create the targets\n",
        "      targets = batch['input_ids'].clone().detach()\n",
        "      # print(targets)\n",
        "      targets = targets.roll(shifts = -1, dims = 1)\n",
        "      # print(targets)\n",
        "      targets[:,-1] = tokenizer.pad_token_id\n",
        "      # print(targets, targets.shape)\n",
        "\n",
        "      #forward pass\n",
        "      outputs = model(batch['input_ids'], batch['attention_mask'])\n",
        "      # Outputs are (B, T, V) dimensional\n",
        "      # But loss_fn expects (B, V, T) in case 3 dimensional inputs.\n",
        "      loss = loss_fn(outputs.transpose(1,2), targets)\n",
        "\n",
        "      #optimize\n",
        "      loss.backward()\n",
        "      optimizer.step()\n",
        "      train_loss.append(loss.item())\n",
        "      # break\n",
        "\n",
        "    train_loss = torch.mean(torch.tensor(train_loss))\n",
        "    train_losses[epoch] = train_loss\n",
        "    # break\n",
        "\n",
        "    print(f'Epoch: {epoch} | Train_loss: {train_loss}')\n",
        "  return train_losses"
      ]
    },
    {
      "cell_type": "code",
      "execution_count": 72,
      "metadata": {
        "id": "I8I_doFKTz8i",
        "colab": {
          "base_uri": "https://localhost:8080/"
        },
        "outputId": "17784318-00ba-4d13-ed86-a57a1675b055"
      },
      "outputs": [
        {
          "output_type": "stream",
          "name": "stdout",
          "text": [
            "Epoch: 0 | Train_loss: 5.973060131072998\n",
            "Epoch: 1 | Train_loss: 5.0159592628479\n",
            "Epoch: 2 | Train_loss: 4.687039375305176\n",
            "Epoch: 3 | Train_loss: 4.503098011016846\n",
            "Epoch: 4 | Train_loss: 4.369207859039307\n",
            "Epoch: 5 | Train_loss: 4.26812744140625\n",
            "Epoch: 6 | Train_loss: 4.181396007537842\n",
            "Epoch: 7 | Train_loss: 4.105530738830566\n",
            "Epoch: 8 | Train_loss: 4.036803722381592\n",
            "Epoch: 9 | Train_loss: 3.976431131362915\n",
            "Epoch: 10 | Train_loss: 3.9234111309051514\n",
            "Epoch: 11 | Train_loss: 3.872299909591675\n",
            "Epoch: 12 | Train_loss: 3.8283047676086426\n",
            "Epoch: 13 | Train_loss: 3.7828221321105957\n",
            "Epoch: 14 | Train_loss: 3.742156744003296\n",
            "Epoch: 15 | Train_loss: 3.704469919204712\n",
            "Epoch: 16 | Train_loss: 3.669290542602539\n",
            "Epoch: 17 | Train_loss: 3.6348977088928223\n",
            "Epoch: 18 | Train_loss: 3.606605052947998\n",
            "Epoch: 19 | Train_loss: 3.5748722553253174\n"
          ]
        }
      ],
      "source": [
        "decoder_train_losses = train_decoder()"
      ]
    },
    {
      "cell_type": "code",
      "execution_count": 73,
      "metadata": {
        "id": "GTcNxsr8VWAd"
      },
      "outputs": [],
      "source": [
        "decoder_model.eval()\n",
        "for batch in decoder_test_dataloader:\n",
        "  batch = {k:v.to(device) for k,v in batch.items()}\n",
        "  output = decoder_model(batch['input_ids'], batch['attention_mask'])\n",
        "  break"
      ]
    },
    {
      "cell_type": "code",
      "source": [
        "output.shape"
      ],
      "metadata": {
        "id": "9GYWvitslHMZ",
        "colab": {
          "base_uri": "https://localhost:8080/"
        },
        "outputId": "85ae6181-6ac5-4f9e-a817-3bbe3034e9ec"
      },
      "execution_count": 74,
      "outputs": [
        {
          "data": {
            "text/plain": [
              "torch.Size([1, 11, 28996])"
            ]
          },
          "execution_count": 74,
          "metadata": {},
          "output_type": "execute_result"
        }
      ]
    },
    {
      "cell_type": "code",
      "source": [
        "torch.argmax(output, dim = -1)"
      ],
      "metadata": {
        "id": "V7aSmyw3lQ9d",
        "colab": {
          "base_uri": "https://localhost:8080/"
        },
        "outputId": "c5635d68-9dfc-413c-9bd6-907f0adde8fb"
      },
      "execution_count": 75,
      "outputs": [
        {
          "output_type": "execute_result",
          "data": {
            "text/plain": [
              "tensor([[1103,  112, 1138, 1151,  169,  119,  118,  102, 2168,  102,  102]],\n",
              "       device='cuda:0')"
            ]
          },
          "metadata": {},
          "execution_count": 75
        }
      ]
    },
    {
      "cell_type": "code",
      "source": [
        "prediction_ids = torch.argmax(output, dim = -1)\n",
        "tokenizer.decode(prediction_ids[0])"
      ],
      "metadata": {
        "id": "n_wxUFOLlWCS",
        "colab": {
          "base_uri": "https://localhost:8080/",
          "height": 35
        },
        "outputId": "6af0d6bf-5f6a-4c69-ea0e-da6a6443faea"
      },
      "execution_count": 76,
      "outputs": [
        {
          "output_type": "execute_result",
          "data": {
            "text/plain": [
              "\"the'have been `. - [SEP] action [SEP] [SEP]\""
            ],
            "application/vnd.google.colaboratory.intrinsic+json": {
              "type": "string"
            }
          },
          "metadata": {},
          "execution_count": 76
        }
      ]
    },
    {
      "cell_type": "code",
      "source": [
        "tokenizer.decode(batch['input_ids'][0])"
      ],
      "metadata": {
        "id": "O0JAVXrile_6",
        "colab": {
          "base_uri": "https://localhost:8080/",
          "height": 35
        },
        "outputId": "a2fa556c-64b0-4c08-ca4e-aafdda9cff19"
      },
      "execution_count": 77,
      "outputs": [
        {
          "output_type": "execute_result",
          "data": {
            "text/plain": [
              "'[CLS] they should have called it gutterball. [SEP]'"
            ],
            "application/vnd.google.colaboratory.intrinsic+json": {
              "type": "string"
            }
          },
          "metadata": {},
          "execution_count": 77
        }
      ]
    },
    {
      "cell_type": "code",
      "source": [
        "tokenizer.decode(torch.concat((batch['input_ids'][0,:5], prediction_ids[:,4])))"
      ],
      "metadata": {
        "id": "rHV_lXaml0JW",
        "colab": {
          "base_uri": "https://localhost:8080/",
          "height": 35
        },
        "outputId": "0c6cbed7-26a0-432c-dadf-87f0ea3dc290"
      },
      "execution_count": 78,
      "outputs": [
        {
          "data": {
            "application/vnd.google.colaboratory.intrinsic+json": {
              "type": "string"
            },
            "text/plain": [
              "'[CLS] they should have called `'"
            ]
          },
          "execution_count": 78,
          "metadata": {},
          "output_type": "execute_result"
        }
      ]
    },
    {
      "cell_type": "code",
      "source": [
        "# generate language\n",
        "prompt = 'So, '\n",
        "\n",
        "tokenized_prompt = tokenizer(prompt, return_tensors ='pt')\n",
        "tokenized_prompt"
      ],
      "metadata": {
        "id": "mZh8QtKxEkmv",
        "colab": {
          "base_uri": "https://localhost:8080/"
        },
        "outputId": "04d74e40-880c-40e7-b3f4-7a97eb2c0320"
      },
      "execution_count": 91,
      "outputs": [
        {
          "output_type": "execute_result",
          "data": {
            "text/plain": [
              "{'input_ids': tensor([[ 101, 1573,  117,  102]]), 'attention_mask': tensor([[1, 1, 1, 1]])}"
            ]
          },
          "metadata": {},
          "execution_count": 91
        }
      ]
    },
    {
      "cell_type": "code",
      "source": [
        "outputs = decoder_model(\n",
        "    tokenized_prompt['input_ids'][:, :-1].to(device),\n",
        "    tokenized_prompt['attention_mask'][:, :-1].to(device)\n",
        ")\n",
        "outputs.shape"
      ],
      "metadata": {
        "id": "2qXBj05uEuzS",
        "colab": {
          "base_uri": "https://localhost:8080/"
        },
        "outputId": "1515dd22-06d1-4caa-aff9-15b91ba04660"
      },
      "execution_count": 92,
      "outputs": [
        {
          "output_type": "execute_result",
          "data": {
            "text/plain": [
              "torch.Size([1, 3, 28996])"
            ]
          },
          "metadata": {},
          "execution_count": 92
        }
      ]
    },
    {
      "cell_type": "code",
      "source": [
        "predcition_ids = torch.argmax(outputs[:,-1,:], axis = -1)"
      ],
      "metadata": {
        "id": "_fYchqVjFHTd"
      },
      "execution_count": 93,
      "outputs": []
    },
    {
      "cell_type": "code",
      "source": [
        "\n",
        "tokenizer.decode(prediction_ids[0])"
      ],
      "metadata": {
        "id": "DqNrnWsHFyof",
        "colab": {
          "base_uri": "https://localhost:8080/",
          "height": 35
        },
        "outputId": "a0ca0abb-744b-4394-8a8a-ec748ca70639"
      },
      "execution_count": 94,
      "outputs": [
        {
          "output_type": "execute_result",
          "data": {
            "text/plain": [
              "\"the'have been `. - [SEP] action [SEP] [SEP]\""
            ],
            "application/vnd.google.colaboratory.intrinsic+json": {
              "type": "string"
            }
          },
          "metadata": {},
          "execution_count": 94
        }
      ]
    },
    {
      "cell_type": "code",
      "source": [
        "def language_generator(prompt, model):\n",
        "  tokenized_prompt = tokenizer(prompt, return_tensors = 'pt')\n",
        "  input_ids = tokenized_prompt['input_ids'][:,:-1].to(device)\n",
        "  mask = tokenized_prompt['attention_mask'][:,:-1].to(device)\n",
        "\n",
        "  for _ in range(20):\n",
        "    outputs = model(input_ids, mask)\n",
        "    prediction_id = torch.argmax(outputs[:,-1,:], dim = -1)\n",
        "\n",
        "    input_ids = torch.hstack((input_ids, prediction_id.view(1,1)))\n",
        "    mask = torch.ones_like(input_ids)\n",
        "\n",
        "    if prediction_id == tokenizer.sep_token_id:\n",
        "      print(tokenizer.decode(input_ids[0]))\n",
        "      break"
      ],
      "metadata": {
        "id": "cWUKIk0bF3Hb"
      },
      "execution_count": 95,
      "outputs": []
    },
    {
      "cell_type": "code",
      "source": [
        "language_generator(prompt = prompt, model = decoder_model)"
      ],
      "metadata": {
        "id": "6ILb2vhkIFzg",
        "colab": {
          "base_uri": "https://localhost:8080/"
        },
        "outputId": "f12a4541-bff1-4421-8162-d4b4d627f4d4"
      },
      "execution_count": 96,
      "outputs": [
        {
          "output_type": "stream",
          "name": "stdout",
          "text": [
            "[CLS] So, and the film's a lot of funniest jokes [SEP]\n"
          ]
        }
      ]
    },
    {
      "cell_type": "code",
      "source": [],
      "metadata": {
        "id": "GeF3g_ugIP90"
      },
      "execution_count": 96,
      "outputs": []
    }
  ],
  "metadata": {
    "accelerator": "GPU",
    "colab": {
      "collapsed_sections": [
        "tZr23A71nXm3"
      ],
      "provenance": [],
      "gpuType": "T4",
      "authorship_tag": "ABX9TyNOF8gq/Ogqu41LDnQ7ZYaj",
      "include_colab_link": true
    },
    "kernelspec": {
      "display_name": "Python 3",
      "name": "python3"
    },
    "language_info": {
      "name": "python"
    },
    "widgets": {
      "application/vnd.jupyter.widget-state+json": {
        "eb061e4c73804119be3c81736cd54a03": {
          "model_module": "@jupyter-widgets/controls",
          "model_name": "HBoxModel",
          "model_module_version": "1.5.0",
          "state": {
            "_dom_classes": [],
            "_model_module": "@jupyter-widgets/controls",
            "_model_module_version": "1.5.0",
            "_model_name": "HBoxModel",
            "_view_count": null,
            "_view_module": "@jupyter-widgets/controls",
            "_view_module_version": "1.5.0",
            "_view_name": "HBoxView",
            "box_style": "",
            "children": [
              "IPY_MODEL_e6c99cbeb1af49e5b5ccd735da29d111",
              "IPY_MODEL_85c9775a14f14bcc82544b7f3bd6ac42",
              "IPY_MODEL_0a0095692cd24f9f92d103ae2fc18b98"
            ],
            "layout": "IPY_MODEL_98aa0fbcbdcc41f18f98e403d4ecd99e"
          }
        },
        "e6c99cbeb1af49e5b5ccd735da29d111": {
          "model_module": "@jupyter-widgets/controls",
          "model_name": "HTMLModel",
          "model_module_version": "1.5.0",
          "state": {
            "_dom_classes": [],
            "_model_module": "@jupyter-widgets/controls",
            "_model_module_version": "1.5.0",
            "_model_name": "HTMLModel",
            "_view_count": null,
            "_view_module": "@jupyter-widgets/controls",
            "_view_module_version": "1.5.0",
            "_view_name": "HTMLView",
            "description": "",
            "description_tooltip": null,
            "layout": "IPY_MODEL_b5e6f7343f9344a08e1148feb6833d84",
            "placeholder": "​",
            "style": "IPY_MODEL_f7a111d8da714261b97dfb5f9dc911c9",
            "value": "Downloading readme: 100%"
          }
        },
        "85c9775a14f14bcc82544b7f3bd6ac42": {
          "model_module": "@jupyter-widgets/controls",
          "model_name": "FloatProgressModel",
          "model_module_version": "1.5.0",
          "state": {
            "_dom_classes": [],
            "_model_module": "@jupyter-widgets/controls",
            "_model_module_version": "1.5.0",
            "_model_name": "FloatProgressModel",
            "_view_count": null,
            "_view_module": "@jupyter-widgets/controls",
            "_view_module_version": "1.5.0",
            "_view_name": "ProgressView",
            "bar_style": "success",
            "description": "",
            "description_tooltip": null,
            "layout": "IPY_MODEL_c52268231a2c452c9de4ef5a62e2fd43",
            "max": 35296,
            "min": 0,
            "orientation": "horizontal",
            "style": "IPY_MODEL_1d8f3ea377a74250856204ac56fb8393",
            "value": 35296
          }
        },
        "0a0095692cd24f9f92d103ae2fc18b98": {
          "model_module": "@jupyter-widgets/controls",
          "model_name": "HTMLModel",
          "model_module_version": "1.5.0",
          "state": {
            "_dom_classes": [],
            "_model_module": "@jupyter-widgets/controls",
            "_model_module_version": "1.5.0",
            "_model_name": "HTMLModel",
            "_view_count": null,
            "_view_module": "@jupyter-widgets/controls",
            "_view_module_version": "1.5.0",
            "_view_name": "HTMLView",
            "description": "",
            "description_tooltip": null,
            "layout": "IPY_MODEL_f674085836e9407593f24fd2774d55fe",
            "placeholder": "​",
            "style": "IPY_MODEL_8336134c21774520ab4c9a4040bebc03",
            "value": " 35.3k/35.3k [00:00&lt;00:00, 1.41MB/s]"
          }
        },
        "98aa0fbcbdcc41f18f98e403d4ecd99e": {
          "model_module": "@jupyter-widgets/base",
          "model_name": "LayoutModel",
          "model_module_version": "1.2.0",
          "state": {
            "_model_module": "@jupyter-widgets/base",
            "_model_module_version": "1.2.0",
            "_model_name": "LayoutModel",
            "_view_count": null,
            "_view_module": "@jupyter-widgets/base",
            "_view_module_version": "1.2.0",
            "_view_name": "LayoutView",
            "align_content": null,
            "align_items": null,
            "align_self": null,
            "border": null,
            "bottom": null,
            "display": null,
            "flex": null,
            "flex_flow": null,
            "grid_area": null,
            "grid_auto_columns": null,
            "grid_auto_flow": null,
            "grid_auto_rows": null,
            "grid_column": null,
            "grid_gap": null,
            "grid_row": null,
            "grid_template_areas": null,
            "grid_template_columns": null,
            "grid_template_rows": null,
            "height": null,
            "justify_content": null,
            "justify_items": null,
            "left": null,
            "margin": null,
            "max_height": null,
            "max_width": null,
            "min_height": null,
            "min_width": null,
            "object_fit": null,
            "object_position": null,
            "order": null,
            "overflow": null,
            "overflow_x": null,
            "overflow_y": null,
            "padding": null,
            "right": null,
            "top": null,
            "visibility": null,
            "width": null
          }
        },
        "b5e6f7343f9344a08e1148feb6833d84": {
          "model_module": "@jupyter-widgets/base",
          "model_name": "LayoutModel",
          "model_module_version": "1.2.0",
          "state": {
            "_model_module": "@jupyter-widgets/base",
            "_model_module_version": "1.2.0",
            "_model_name": "LayoutModel",
            "_view_count": null,
            "_view_module": "@jupyter-widgets/base",
            "_view_module_version": "1.2.0",
            "_view_name": "LayoutView",
            "align_content": null,
            "align_items": null,
            "align_self": null,
            "border": null,
            "bottom": null,
            "display": null,
            "flex": null,
            "flex_flow": null,
            "grid_area": null,
            "grid_auto_columns": null,
            "grid_auto_flow": null,
            "grid_auto_rows": null,
            "grid_column": null,
            "grid_gap": null,
            "grid_row": null,
            "grid_template_areas": null,
            "grid_template_columns": null,
            "grid_template_rows": null,
            "height": null,
            "justify_content": null,
            "justify_items": null,
            "left": null,
            "margin": null,
            "max_height": null,
            "max_width": null,
            "min_height": null,
            "min_width": null,
            "object_fit": null,
            "object_position": null,
            "order": null,
            "overflow": null,
            "overflow_x": null,
            "overflow_y": null,
            "padding": null,
            "right": null,
            "top": null,
            "visibility": null,
            "width": null
          }
        },
        "f7a111d8da714261b97dfb5f9dc911c9": {
          "model_module": "@jupyter-widgets/controls",
          "model_name": "DescriptionStyleModel",
          "model_module_version": "1.5.0",
          "state": {
            "_model_module": "@jupyter-widgets/controls",
            "_model_module_version": "1.5.0",
            "_model_name": "DescriptionStyleModel",
            "_view_count": null,
            "_view_module": "@jupyter-widgets/base",
            "_view_module_version": "1.2.0",
            "_view_name": "StyleView",
            "description_width": ""
          }
        },
        "c52268231a2c452c9de4ef5a62e2fd43": {
          "model_module": "@jupyter-widgets/base",
          "model_name": "LayoutModel",
          "model_module_version": "1.2.0",
          "state": {
            "_model_module": "@jupyter-widgets/base",
            "_model_module_version": "1.2.0",
            "_model_name": "LayoutModel",
            "_view_count": null,
            "_view_module": "@jupyter-widgets/base",
            "_view_module_version": "1.2.0",
            "_view_name": "LayoutView",
            "align_content": null,
            "align_items": null,
            "align_self": null,
            "border": null,
            "bottom": null,
            "display": null,
            "flex": null,
            "flex_flow": null,
            "grid_area": null,
            "grid_auto_columns": null,
            "grid_auto_flow": null,
            "grid_auto_rows": null,
            "grid_column": null,
            "grid_gap": null,
            "grid_row": null,
            "grid_template_areas": null,
            "grid_template_columns": null,
            "grid_template_rows": null,
            "height": null,
            "justify_content": null,
            "justify_items": null,
            "left": null,
            "margin": null,
            "max_height": null,
            "max_width": null,
            "min_height": null,
            "min_width": null,
            "object_fit": null,
            "object_position": null,
            "order": null,
            "overflow": null,
            "overflow_x": null,
            "overflow_y": null,
            "padding": null,
            "right": null,
            "top": null,
            "visibility": null,
            "width": null
          }
        },
        "1d8f3ea377a74250856204ac56fb8393": {
          "model_module": "@jupyter-widgets/controls",
          "model_name": "ProgressStyleModel",
          "model_module_version": "1.5.0",
          "state": {
            "_model_module": "@jupyter-widgets/controls",
            "_model_module_version": "1.5.0",
            "_model_name": "ProgressStyleModel",
            "_view_count": null,
            "_view_module": "@jupyter-widgets/base",
            "_view_module_version": "1.2.0",
            "_view_name": "StyleView",
            "bar_color": null,
            "description_width": ""
          }
        },
        "f674085836e9407593f24fd2774d55fe": {
          "model_module": "@jupyter-widgets/base",
          "model_name": "LayoutModel",
          "model_module_version": "1.2.0",
          "state": {
            "_model_module": "@jupyter-widgets/base",
            "_model_module_version": "1.2.0",
            "_model_name": "LayoutModel",
            "_view_count": null,
            "_view_module": "@jupyter-widgets/base",
            "_view_module_version": "1.2.0",
            "_view_name": "LayoutView",
            "align_content": null,
            "align_items": null,
            "align_self": null,
            "border": null,
            "bottom": null,
            "display": null,
            "flex": null,
            "flex_flow": null,
            "grid_area": null,
            "grid_auto_columns": null,
            "grid_auto_flow": null,
            "grid_auto_rows": null,
            "grid_column": null,
            "grid_gap": null,
            "grid_row": null,
            "grid_template_areas": null,
            "grid_template_columns": null,
            "grid_template_rows": null,
            "height": null,
            "justify_content": null,
            "justify_items": null,
            "left": null,
            "margin": null,
            "max_height": null,
            "max_width": null,
            "min_height": null,
            "min_width": null,
            "object_fit": null,
            "object_position": null,
            "order": null,
            "overflow": null,
            "overflow_x": null,
            "overflow_y": null,
            "padding": null,
            "right": null,
            "top": null,
            "visibility": null,
            "width": null
          }
        },
        "8336134c21774520ab4c9a4040bebc03": {
          "model_module": "@jupyter-widgets/controls",
          "model_name": "DescriptionStyleModel",
          "model_module_version": "1.5.0",
          "state": {
            "_model_module": "@jupyter-widgets/controls",
            "_model_module_version": "1.5.0",
            "_model_name": "DescriptionStyleModel",
            "_view_count": null,
            "_view_module": "@jupyter-widgets/base",
            "_view_module_version": "1.2.0",
            "_view_name": "StyleView",
            "description_width": ""
          }
        },
        "81dc720544dc4e0899b74fed0af4ca4c": {
          "model_module": "@jupyter-widgets/controls",
          "model_name": "HBoxModel",
          "model_module_version": "1.5.0",
          "state": {
            "_dom_classes": [],
            "_model_module": "@jupyter-widgets/controls",
            "_model_module_version": "1.5.0",
            "_model_name": "HBoxModel",
            "_view_count": null,
            "_view_module": "@jupyter-widgets/controls",
            "_view_module_version": "1.5.0",
            "_view_name": "HBoxView",
            "box_style": "",
            "children": [
              "IPY_MODEL_c89473983efb40c9b112a8fccdbc79b8",
              "IPY_MODEL_6d8ce4f92ac348cba1c8b6ae07b8998c",
              "IPY_MODEL_ea723c4d1c924f61a975a07762f73881"
            ],
            "layout": "IPY_MODEL_96022580aefa4bd39c69a21d19f25fe1"
          }
        },
        "c89473983efb40c9b112a8fccdbc79b8": {
          "model_module": "@jupyter-widgets/controls",
          "model_name": "HTMLModel",
          "model_module_version": "1.5.0",
          "state": {
            "_dom_classes": [],
            "_model_module": "@jupyter-widgets/controls",
            "_model_module_version": "1.5.0",
            "_model_name": "HTMLModel",
            "_view_count": null,
            "_view_module": "@jupyter-widgets/controls",
            "_view_module_version": "1.5.0",
            "_view_name": "HTMLView",
            "description": "",
            "description_tooltip": null,
            "layout": "IPY_MODEL_f6f5fdc90a6c41a9af57eff5db8ba4df",
            "placeholder": "​",
            "style": "IPY_MODEL_ebb50831ebdf4f0599e27646f9fccdc6",
            "value": "Downloading data: 100%"
          }
        },
        "6d8ce4f92ac348cba1c8b6ae07b8998c": {
          "model_module": "@jupyter-widgets/controls",
          "model_name": "FloatProgressModel",
          "model_module_version": "1.5.0",
          "state": {
            "_dom_classes": [],
            "_model_module": "@jupyter-widgets/controls",
            "_model_module_version": "1.5.0",
            "_model_name": "FloatProgressModel",
            "_view_count": null,
            "_view_module": "@jupyter-widgets/controls",
            "_view_module_version": "1.5.0",
            "_view_name": "ProgressView",
            "bar_style": "success",
            "description": "",
            "description_tooltip": null,
            "layout": "IPY_MODEL_63a5547a3a5047d7b29814f89f9eb60d",
            "max": 3110468,
            "min": 0,
            "orientation": "horizontal",
            "style": "IPY_MODEL_08678910ca4c4ce98380f9b5cb746f69",
            "value": 3110468
          }
        },
        "ea723c4d1c924f61a975a07762f73881": {
          "model_module": "@jupyter-widgets/controls",
          "model_name": "HTMLModel",
          "model_module_version": "1.5.0",
          "state": {
            "_dom_classes": [],
            "_model_module": "@jupyter-widgets/controls",
            "_model_module_version": "1.5.0",
            "_model_name": "HTMLModel",
            "_view_count": null,
            "_view_module": "@jupyter-widgets/controls",
            "_view_module_version": "1.5.0",
            "_view_name": "HTMLView",
            "description": "",
            "description_tooltip": null,
            "layout": "IPY_MODEL_e9364ab59abb436597bff1f6f0094727",
            "placeholder": "​",
            "style": "IPY_MODEL_6b94df283ebc499a81f67848d2d6f10d",
            "value": " 3.11M/3.11M [00:00&lt;00:00, 10.4MB/s]"
          }
        },
        "96022580aefa4bd39c69a21d19f25fe1": {
          "model_module": "@jupyter-widgets/base",
          "model_name": "LayoutModel",
          "model_module_version": "1.2.0",
          "state": {
            "_model_module": "@jupyter-widgets/base",
            "_model_module_version": "1.2.0",
            "_model_name": "LayoutModel",
            "_view_count": null,
            "_view_module": "@jupyter-widgets/base",
            "_view_module_version": "1.2.0",
            "_view_name": "LayoutView",
            "align_content": null,
            "align_items": null,
            "align_self": null,
            "border": null,
            "bottom": null,
            "display": null,
            "flex": null,
            "flex_flow": null,
            "grid_area": null,
            "grid_auto_columns": null,
            "grid_auto_flow": null,
            "grid_auto_rows": null,
            "grid_column": null,
            "grid_gap": null,
            "grid_row": null,
            "grid_template_areas": null,
            "grid_template_columns": null,
            "grid_template_rows": null,
            "height": null,
            "justify_content": null,
            "justify_items": null,
            "left": null,
            "margin": null,
            "max_height": null,
            "max_width": null,
            "min_height": null,
            "min_width": null,
            "object_fit": null,
            "object_position": null,
            "order": null,
            "overflow": null,
            "overflow_x": null,
            "overflow_y": null,
            "padding": null,
            "right": null,
            "top": null,
            "visibility": null,
            "width": null
          }
        },
        "f6f5fdc90a6c41a9af57eff5db8ba4df": {
          "model_module": "@jupyter-widgets/base",
          "model_name": "LayoutModel",
          "model_module_version": "1.2.0",
          "state": {
            "_model_module": "@jupyter-widgets/base",
            "_model_module_version": "1.2.0",
            "_model_name": "LayoutModel",
            "_view_count": null,
            "_view_module": "@jupyter-widgets/base",
            "_view_module_version": "1.2.0",
            "_view_name": "LayoutView",
            "align_content": null,
            "align_items": null,
            "align_self": null,
            "border": null,
            "bottom": null,
            "display": null,
            "flex": null,
            "flex_flow": null,
            "grid_area": null,
            "grid_auto_columns": null,
            "grid_auto_flow": null,
            "grid_auto_rows": null,
            "grid_column": null,
            "grid_gap": null,
            "grid_row": null,
            "grid_template_areas": null,
            "grid_template_columns": null,
            "grid_template_rows": null,
            "height": null,
            "justify_content": null,
            "justify_items": null,
            "left": null,
            "margin": null,
            "max_height": null,
            "max_width": null,
            "min_height": null,
            "min_width": null,
            "object_fit": null,
            "object_position": null,
            "order": null,
            "overflow": null,
            "overflow_x": null,
            "overflow_y": null,
            "padding": null,
            "right": null,
            "top": null,
            "visibility": null,
            "width": null
          }
        },
        "ebb50831ebdf4f0599e27646f9fccdc6": {
          "model_module": "@jupyter-widgets/controls",
          "model_name": "DescriptionStyleModel",
          "model_module_version": "1.5.0",
          "state": {
            "_model_module": "@jupyter-widgets/controls",
            "_model_module_version": "1.5.0",
            "_model_name": "DescriptionStyleModel",
            "_view_count": null,
            "_view_module": "@jupyter-widgets/base",
            "_view_module_version": "1.2.0",
            "_view_name": "StyleView",
            "description_width": ""
          }
        },
        "63a5547a3a5047d7b29814f89f9eb60d": {
          "model_module": "@jupyter-widgets/base",
          "model_name": "LayoutModel",
          "model_module_version": "1.2.0",
          "state": {
            "_model_module": "@jupyter-widgets/base",
            "_model_module_version": "1.2.0",
            "_model_name": "LayoutModel",
            "_view_count": null,
            "_view_module": "@jupyter-widgets/base",
            "_view_module_version": "1.2.0",
            "_view_name": "LayoutView",
            "align_content": null,
            "align_items": null,
            "align_self": null,
            "border": null,
            "bottom": null,
            "display": null,
            "flex": null,
            "flex_flow": null,
            "grid_area": null,
            "grid_auto_columns": null,
            "grid_auto_flow": null,
            "grid_auto_rows": null,
            "grid_column": null,
            "grid_gap": null,
            "grid_row": null,
            "grid_template_areas": null,
            "grid_template_columns": null,
            "grid_template_rows": null,
            "height": null,
            "justify_content": null,
            "justify_items": null,
            "left": null,
            "margin": null,
            "max_height": null,
            "max_width": null,
            "min_height": null,
            "min_width": null,
            "object_fit": null,
            "object_position": null,
            "order": null,
            "overflow": null,
            "overflow_x": null,
            "overflow_y": null,
            "padding": null,
            "right": null,
            "top": null,
            "visibility": null,
            "width": null
          }
        },
        "08678910ca4c4ce98380f9b5cb746f69": {
          "model_module": "@jupyter-widgets/controls",
          "model_name": "ProgressStyleModel",
          "model_module_version": "1.5.0",
          "state": {
            "_model_module": "@jupyter-widgets/controls",
            "_model_module_version": "1.5.0",
            "_model_name": "ProgressStyleModel",
            "_view_count": null,
            "_view_module": "@jupyter-widgets/base",
            "_view_module_version": "1.2.0",
            "_view_name": "StyleView",
            "bar_color": null,
            "description_width": ""
          }
        },
        "e9364ab59abb436597bff1f6f0094727": {
          "model_module": "@jupyter-widgets/base",
          "model_name": "LayoutModel",
          "model_module_version": "1.2.0",
          "state": {
            "_model_module": "@jupyter-widgets/base",
            "_model_module_version": "1.2.0",
            "_model_name": "LayoutModel",
            "_view_count": null,
            "_view_module": "@jupyter-widgets/base",
            "_view_module_version": "1.2.0",
            "_view_name": "LayoutView",
            "align_content": null,
            "align_items": null,
            "align_self": null,
            "border": null,
            "bottom": null,
            "display": null,
            "flex": null,
            "flex_flow": null,
            "grid_area": null,
            "grid_auto_columns": null,
            "grid_auto_flow": null,
            "grid_auto_rows": null,
            "grid_column": null,
            "grid_gap": null,
            "grid_row": null,
            "grid_template_areas": null,
            "grid_template_columns": null,
            "grid_template_rows": null,
            "height": null,
            "justify_content": null,
            "justify_items": null,
            "left": null,
            "margin": null,
            "max_height": null,
            "max_width": null,
            "min_height": null,
            "min_width": null,
            "object_fit": null,
            "object_position": null,
            "order": null,
            "overflow": null,
            "overflow_x": null,
            "overflow_y": null,
            "padding": null,
            "right": null,
            "top": null,
            "visibility": null,
            "width": null
          }
        },
        "6b94df283ebc499a81f67848d2d6f10d": {
          "model_module": "@jupyter-widgets/controls",
          "model_name": "DescriptionStyleModel",
          "model_module_version": "1.5.0",
          "state": {
            "_model_module": "@jupyter-widgets/controls",
            "_model_module_version": "1.5.0",
            "_model_name": "DescriptionStyleModel",
            "_view_count": null,
            "_view_module": "@jupyter-widgets/base",
            "_view_module_version": "1.2.0",
            "_view_name": "StyleView",
            "description_width": ""
          }
        },
        "d15e28d273c044c483f22f58a475ce5e": {
          "model_module": "@jupyter-widgets/controls",
          "model_name": "HBoxModel",
          "model_module_version": "1.5.0",
          "state": {
            "_dom_classes": [],
            "_model_module": "@jupyter-widgets/controls",
            "_model_module_version": "1.5.0",
            "_model_name": "HBoxModel",
            "_view_count": null,
            "_view_module": "@jupyter-widgets/controls",
            "_view_module_version": "1.5.0",
            "_view_name": "HBoxView",
            "box_style": "",
            "children": [
              "IPY_MODEL_1b57a8cf1c894d87acae64d3e0c8c4a6",
              "IPY_MODEL_895d75fbfe934ed4a2d25661e8b70c15",
              "IPY_MODEL_fd8c20d159cf499195616fecb30308e4"
            ],
            "layout": "IPY_MODEL_f871989f57344cd0b02b6a8a8feefd9e"
          }
        },
        "1b57a8cf1c894d87acae64d3e0c8c4a6": {
          "model_module": "@jupyter-widgets/controls",
          "model_name": "HTMLModel",
          "model_module_version": "1.5.0",
          "state": {
            "_dom_classes": [],
            "_model_module": "@jupyter-widgets/controls",
            "_model_module_version": "1.5.0",
            "_model_name": "HTMLModel",
            "_view_count": null,
            "_view_module": "@jupyter-widgets/controls",
            "_view_module_version": "1.5.0",
            "_view_name": "HTMLView",
            "description": "",
            "description_tooltip": null,
            "layout": "IPY_MODEL_5cddb951f14a4edeae77b16f24f0633e",
            "placeholder": "​",
            "style": "IPY_MODEL_891dad4aa1c0474ebc97cd20ccfa44ae",
            "value": "Downloading data: 100%"
          }
        },
        "895d75fbfe934ed4a2d25661e8b70c15": {
          "model_module": "@jupyter-widgets/controls",
          "model_name": "FloatProgressModel",
          "model_module_version": "1.5.0",
          "state": {
            "_dom_classes": [],
            "_model_module": "@jupyter-widgets/controls",
            "_model_module_version": "1.5.0",
            "_model_name": "FloatProgressModel",
            "_view_count": null,
            "_view_module": "@jupyter-widgets/controls",
            "_view_module_version": "1.5.0",
            "_view_name": "ProgressView",
            "bar_style": "success",
            "description": "",
            "description_tooltip": null,
            "layout": "IPY_MODEL_e25e9e35574343dbad35b99557883183",
            "max": 72819,
            "min": 0,
            "orientation": "horizontal",
            "style": "IPY_MODEL_6c518244fea240da9ba415a373288f84",
            "value": 72819
          }
        },
        "fd8c20d159cf499195616fecb30308e4": {
          "model_module": "@jupyter-widgets/controls",
          "model_name": "HTMLModel",
          "model_module_version": "1.5.0",
          "state": {
            "_dom_classes": [],
            "_model_module": "@jupyter-widgets/controls",
            "_model_module_version": "1.5.0",
            "_model_name": "HTMLModel",
            "_view_count": null,
            "_view_module": "@jupyter-widgets/controls",
            "_view_module_version": "1.5.0",
            "_view_name": "HTMLView",
            "description": "",
            "description_tooltip": null,
            "layout": "IPY_MODEL_5866693c947e4fd2b8c13ae144d6db90",
            "placeholder": "​",
            "style": "IPY_MODEL_d4667ba423604d64a1489efbb11209f5",
            "value": " 72.8k/72.8k [00:00&lt;00:00, 884kB/s]"
          }
        },
        "f871989f57344cd0b02b6a8a8feefd9e": {
          "model_module": "@jupyter-widgets/base",
          "model_name": "LayoutModel",
          "model_module_version": "1.2.0",
          "state": {
            "_model_module": "@jupyter-widgets/base",
            "_model_module_version": "1.2.0",
            "_model_name": "LayoutModel",
            "_view_count": null,
            "_view_module": "@jupyter-widgets/base",
            "_view_module_version": "1.2.0",
            "_view_name": "LayoutView",
            "align_content": null,
            "align_items": null,
            "align_self": null,
            "border": null,
            "bottom": null,
            "display": null,
            "flex": null,
            "flex_flow": null,
            "grid_area": null,
            "grid_auto_columns": null,
            "grid_auto_flow": null,
            "grid_auto_rows": null,
            "grid_column": null,
            "grid_gap": null,
            "grid_row": null,
            "grid_template_areas": null,
            "grid_template_columns": null,
            "grid_template_rows": null,
            "height": null,
            "justify_content": null,
            "justify_items": null,
            "left": null,
            "margin": null,
            "max_height": null,
            "max_width": null,
            "min_height": null,
            "min_width": null,
            "object_fit": null,
            "object_position": null,
            "order": null,
            "overflow": null,
            "overflow_x": null,
            "overflow_y": null,
            "padding": null,
            "right": null,
            "top": null,
            "visibility": null,
            "width": null
          }
        },
        "5cddb951f14a4edeae77b16f24f0633e": {
          "model_module": "@jupyter-widgets/base",
          "model_name": "LayoutModel",
          "model_module_version": "1.2.0",
          "state": {
            "_model_module": "@jupyter-widgets/base",
            "_model_module_version": "1.2.0",
            "_model_name": "LayoutModel",
            "_view_count": null,
            "_view_module": "@jupyter-widgets/base",
            "_view_module_version": "1.2.0",
            "_view_name": "LayoutView",
            "align_content": null,
            "align_items": null,
            "align_self": null,
            "border": null,
            "bottom": null,
            "display": null,
            "flex": null,
            "flex_flow": null,
            "grid_area": null,
            "grid_auto_columns": null,
            "grid_auto_flow": null,
            "grid_auto_rows": null,
            "grid_column": null,
            "grid_gap": null,
            "grid_row": null,
            "grid_template_areas": null,
            "grid_template_columns": null,
            "grid_template_rows": null,
            "height": null,
            "justify_content": null,
            "justify_items": null,
            "left": null,
            "margin": null,
            "max_height": null,
            "max_width": null,
            "min_height": null,
            "min_width": null,
            "object_fit": null,
            "object_position": null,
            "order": null,
            "overflow": null,
            "overflow_x": null,
            "overflow_y": null,
            "padding": null,
            "right": null,
            "top": null,
            "visibility": null,
            "width": null
          }
        },
        "891dad4aa1c0474ebc97cd20ccfa44ae": {
          "model_module": "@jupyter-widgets/controls",
          "model_name": "DescriptionStyleModel",
          "model_module_version": "1.5.0",
          "state": {
            "_model_module": "@jupyter-widgets/controls",
            "_model_module_version": "1.5.0",
            "_model_name": "DescriptionStyleModel",
            "_view_count": null,
            "_view_module": "@jupyter-widgets/base",
            "_view_module_version": "1.2.0",
            "_view_name": "StyleView",
            "description_width": ""
          }
        },
        "e25e9e35574343dbad35b99557883183": {
          "model_module": "@jupyter-widgets/base",
          "model_name": "LayoutModel",
          "model_module_version": "1.2.0",
          "state": {
            "_model_module": "@jupyter-widgets/base",
            "_model_module_version": "1.2.0",
            "_model_name": "LayoutModel",
            "_view_count": null,
            "_view_module": "@jupyter-widgets/base",
            "_view_module_version": "1.2.0",
            "_view_name": "LayoutView",
            "align_content": null,
            "align_items": null,
            "align_self": null,
            "border": null,
            "bottom": null,
            "display": null,
            "flex": null,
            "flex_flow": null,
            "grid_area": null,
            "grid_auto_columns": null,
            "grid_auto_flow": null,
            "grid_auto_rows": null,
            "grid_column": null,
            "grid_gap": null,
            "grid_row": null,
            "grid_template_areas": null,
            "grid_template_columns": null,
            "grid_template_rows": null,
            "height": null,
            "justify_content": null,
            "justify_items": null,
            "left": null,
            "margin": null,
            "max_height": null,
            "max_width": null,
            "min_height": null,
            "min_width": null,
            "object_fit": null,
            "object_position": null,
            "order": null,
            "overflow": null,
            "overflow_x": null,
            "overflow_y": null,
            "padding": null,
            "right": null,
            "top": null,
            "visibility": null,
            "width": null
          }
        },
        "6c518244fea240da9ba415a373288f84": {
          "model_module": "@jupyter-widgets/controls",
          "model_name": "ProgressStyleModel",
          "model_module_version": "1.5.0",
          "state": {
            "_model_module": "@jupyter-widgets/controls",
            "_model_module_version": "1.5.0",
            "_model_name": "ProgressStyleModel",
            "_view_count": null,
            "_view_module": "@jupyter-widgets/base",
            "_view_module_version": "1.2.0",
            "_view_name": "StyleView",
            "bar_color": null,
            "description_width": ""
          }
        },
        "5866693c947e4fd2b8c13ae144d6db90": {
          "model_module": "@jupyter-widgets/base",
          "model_name": "LayoutModel",
          "model_module_version": "1.2.0",
          "state": {
            "_model_module": "@jupyter-widgets/base",
            "_model_module_version": "1.2.0",
            "_model_name": "LayoutModel",
            "_view_count": null,
            "_view_module": "@jupyter-widgets/base",
            "_view_module_version": "1.2.0",
            "_view_name": "LayoutView",
            "align_content": null,
            "align_items": null,
            "align_self": null,
            "border": null,
            "bottom": null,
            "display": null,
            "flex": null,
            "flex_flow": null,
            "grid_area": null,
            "grid_auto_columns": null,
            "grid_auto_flow": null,
            "grid_auto_rows": null,
            "grid_column": null,
            "grid_gap": null,
            "grid_row": null,
            "grid_template_areas": null,
            "grid_template_columns": null,
            "grid_template_rows": null,
            "height": null,
            "justify_content": null,
            "justify_items": null,
            "left": null,
            "margin": null,
            "max_height": null,
            "max_width": null,
            "min_height": null,
            "min_width": null,
            "object_fit": null,
            "object_position": null,
            "order": null,
            "overflow": null,
            "overflow_x": null,
            "overflow_y": null,
            "padding": null,
            "right": null,
            "top": null,
            "visibility": null,
            "width": null
          }
        },
        "d4667ba423604d64a1489efbb11209f5": {
          "model_module": "@jupyter-widgets/controls",
          "model_name": "DescriptionStyleModel",
          "model_module_version": "1.5.0",
          "state": {
            "_model_module": "@jupyter-widgets/controls",
            "_model_module_version": "1.5.0",
            "_model_name": "DescriptionStyleModel",
            "_view_count": null,
            "_view_module": "@jupyter-widgets/base",
            "_view_module_version": "1.2.0",
            "_view_name": "StyleView",
            "description_width": ""
          }
        },
        "ad6c1925ab064109b873945eb2d123b3": {
          "model_module": "@jupyter-widgets/controls",
          "model_name": "HBoxModel",
          "model_module_version": "1.5.0",
          "state": {
            "_dom_classes": [],
            "_model_module": "@jupyter-widgets/controls",
            "_model_module_version": "1.5.0",
            "_model_name": "HBoxModel",
            "_view_count": null,
            "_view_module": "@jupyter-widgets/controls",
            "_view_module_version": "1.5.0",
            "_view_name": "HBoxView",
            "box_style": "",
            "children": [
              "IPY_MODEL_9cb4f6069f0f4530a9d149700e9a8581",
              "IPY_MODEL_54b9a3389b5f42fc9ab1df73d5879145",
              "IPY_MODEL_6f42bf1890164a6e8e19056286ad870f"
            ],
            "layout": "IPY_MODEL_a6d9dac71f7843a78b6a66277c3c51bf"
          }
        },
        "9cb4f6069f0f4530a9d149700e9a8581": {
          "model_module": "@jupyter-widgets/controls",
          "model_name": "HTMLModel",
          "model_module_version": "1.5.0",
          "state": {
            "_dom_classes": [],
            "_model_module": "@jupyter-widgets/controls",
            "_model_module_version": "1.5.0",
            "_model_name": "HTMLModel",
            "_view_count": null,
            "_view_module": "@jupyter-widgets/controls",
            "_view_module_version": "1.5.0",
            "_view_name": "HTMLView",
            "description": "",
            "description_tooltip": null,
            "layout": "IPY_MODEL_73e9d7cdc5ed4e51a1682f7280667dd1",
            "placeholder": "​",
            "style": "IPY_MODEL_4ab8d56aa6c9495b89969c14da9e421d",
            "value": "Downloading data: 100%"
          }
        },
        "54b9a3389b5f42fc9ab1df73d5879145": {
          "model_module": "@jupyter-widgets/controls",
          "model_name": "FloatProgressModel",
          "model_module_version": "1.5.0",
          "state": {
            "_dom_classes": [],
            "_model_module": "@jupyter-widgets/controls",
            "_model_module_version": "1.5.0",
            "_model_name": "FloatProgressModel",
            "_view_count": null,
            "_view_module": "@jupyter-widgets/controls",
            "_view_module_version": "1.5.0",
            "_view_name": "ProgressView",
            "bar_style": "success",
            "description": "",
            "description_tooltip": null,
            "layout": "IPY_MODEL_9f6d49e1f0ca4135931b0be0c3a7598e",
            "max": 147793,
            "min": 0,
            "orientation": "horizontal",
            "style": "IPY_MODEL_e8514f811793408ca14da3a844dce9f8",
            "value": 147793
          }
        },
        "6f42bf1890164a6e8e19056286ad870f": {
          "model_module": "@jupyter-widgets/controls",
          "model_name": "HTMLModel",
          "model_module_version": "1.5.0",
          "state": {
            "_dom_classes": [],
            "_model_module": "@jupyter-widgets/controls",
            "_model_module_version": "1.5.0",
            "_model_name": "HTMLModel",
            "_view_count": null,
            "_view_module": "@jupyter-widgets/controls",
            "_view_module_version": "1.5.0",
            "_view_name": "HTMLView",
            "description": "",
            "description_tooltip": null,
            "layout": "IPY_MODEL_55d26f0f1c7c495a9db443a0cdf5da4d",
            "placeholder": "​",
            "style": "IPY_MODEL_ac122008748b4ee58a3fb5f0ef3012cd",
            "value": " 148k/148k [00:00&lt;00:00, 1.74MB/s]"
          }
        },
        "a6d9dac71f7843a78b6a66277c3c51bf": {
          "model_module": "@jupyter-widgets/base",
          "model_name": "LayoutModel",
          "model_module_version": "1.2.0",
          "state": {
            "_model_module": "@jupyter-widgets/base",
            "_model_module_version": "1.2.0",
            "_model_name": "LayoutModel",
            "_view_count": null,
            "_view_module": "@jupyter-widgets/base",
            "_view_module_version": "1.2.0",
            "_view_name": "LayoutView",
            "align_content": null,
            "align_items": null,
            "align_self": null,
            "border": null,
            "bottom": null,
            "display": null,
            "flex": null,
            "flex_flow": null,
            "grid_area": null,
            "grid_auto_columns": null,
            "grid_auto_flow": null,
            "grid_auto_rows": null,
            "grid_column": null,
            "grid_gap": null,
            "grid_row": null,
            "grid_template_areas": null,
            "grid_template_columns": null,
            "grid_template_rows": null,
            "height": null,
            "justify_content": null,
            "justify_items": null,
            "left": null,
            "margin": null,
            "max_height": null,
            "max_width": null,
            "min_height": null,
            "min_width": null,
            "object_fit": null,
            "object_position": null,
            "order": null,
            "overflow": null,
            "overflow_x": null,
            "overflow_y": null,
            "padding": null,
            "right": null,
            "top": null,
            "visibility": null,
            "width": null
          }
        },
        "73e9d7cdc5ed4e51a1682f7280667dd1": {
          "model_module": "@jupyter-widgets/base",
          "model_name": "LayoutModel",
          "model_module_version": "1.2.0",
          "state": {
            "_model_module": "@jupyter-widgets/base",
            "_model_module_version": "1.2.0",
            "_model_name": "LayoutModel",
            "_view_count": null,
            "_view_module": "@jupyter-widgets/base",
            "_view_module_version": "1.2.0",
            "_view_name": "LayoutView",
            "align_content": null,
            "align_items": null,
            "align_self": null,
            "border": null,
            "bottom": null,
            "display": null,
            "flex": null,
            "flex_flow": null,
            "grid_area": null,
            "grid_auto_columns": null,
            "grid_auto_flow": null,
            "grid_auto_rows": null,
            "grid_column": null,
            "grid_gap": null,
            "grid_row": null,
            "grid_template_areas": null,
            "grid_template_columns": null,
            "grid_template_rows": null,
            "height": null,
            "justify_content": null,
            "justify_items": null,
            "left": null,
            "margin": null,
            "max_height": null,
            "max_width": null,
            "min_height": null,
            "min_width": null,
            "object_fit": null,
            "object_position": null,
            "order": null,
            "overflow": null,
            "overflow_x": null,
            "overflow_y": null,
            "padding": null,
            "right": null,
            "top": null,
            "visibility": null,
            "width": null
          }
        },
        "4ab8d56aa6c9495b89969c14da9e421d": {
          "model_module": "@jupyter-widgets/controls",
          "model_name": "DescriptionStyleModel",
          "model_module_version": "1.5.0",
          "state": {
            "_model_module": "@jupyter-widgets/controls",
            "_model_module_version": "1.5.0",
            "_model_name": "DescriptionStyleModel",
            "_view_count": null,
            "_view_module": "@jupyter-widgets/base",
            "_view_module_version": "1.2.0",
            "_view_name": "StyleView",
            "description_width": ""
          }
        },
        "9f6d49e1f0ca4135931b0be0c3a7598e": {
          "model_module": "@jupyter-widgets/base",
          "model_name": "LayoutModel",
          "model_module_version": "1.2.0",
          "state": {
            "_model_module": "@jupyter-widgets/base",
            "_model_module_version": "1.2.0",
            "_model_name": "LayoutModel",
            "_view_count": null,
            "_view_module": "@jupyter-widgets/base",
            "_view_module_version": "1.2.0",
            "_view_name": "LayoutView",
            "align_content": null,
            "align_items": null,
            "align_self": null,
            "border": null,
            "bottom": null,
            "display": null,
            "flex": null,
            "flex_flow": null,
            "grid_area": null,
            "grid_auto_columns": null,
            "grid_auto_flow": null,
            "grid_auto_rows": null,
            "grid_column": null,
            "grid_gap": null,
            "grid_row": null,
            "grid_template_areas": null,
            "grid_template_columns": null,
            "grid_template_rows": null,
            "height": null,
            "justify_content": null,
            "justify_items": null,
            "left": null,
            "margin": null,
            "max_height": null,
            "max_width": null,
            "min_height": null,
            "min_width": null,
            "object_fit": null,
            "object_position": null,
            "order": null,
            "overflow": null,
            "overflow_x": null,
            "overflow_y": null,
            "padding": null,
            "right": null,
            "top": null,
            "visibility": null,
            "width": null
          }
        },
        "e8514f811793408ca14da3a844dce9f8": {
          "model_module": "@jupyter-widgets/controls",
          "model_name": "ProgressStyleModel",
          "model_module_version": "1.5.0",
          "state": {
            "_model_module": "@jupyter-widgets/controls",
            "_model_module_version": "1.5.0",
            "_model_name": "ProgressStyleModel",
            "_view_count": null,
            "_view_module": "@jupyter-widgets/base",
            "_view_module_version": "1.2.0",
            "_view_name": "StyleView",
            "bar_color": null,
            "description_width": ""
          }
        },
        "55d26f0f1c7c495a9db443a0cdf5da4d": {
          "model_module": "@jupyter-widgets/base",
          "model_name": "LayoutModel",
          "model_module_version": "1.2.0",
          "state": {
            "_model_module": "@jupyter-widgets/base",
            "_model_module_version": "1.2.0",
            "_model_name": "LayoutModel",
            "_view_count": null,
            "_view_module": "@jupyter-widgets/base",
            "_view_module_version": "1.2.0",
            "_view_name": "LayoutView",
            "align_content": null,
            "align_items": null,
            "align_self": null,
            "border": null,
            "bottom": null,
            "display": null,
            "flex": null,
            "flex_flow": null,
            "grid_area": null,
            "grid_auto_columns": null,
            "grid_auto_flow": null,
            "grid_auto_rows": null,
            "grid_column": null,
            "grid_gap": null,
            "grid_row": null,
            "grid_template_areas": null,
            "grid_template_columns": null,
            "grid_template_rows": null,
            "height": null,
            "justify_content": null,
            "justify_items": null,
            "left": null,
            "margin": null,
            "max_height": null,
            "max_width": null,
            "min_height": null,
            "min_width": null,
            "object_fit": null,
            "object_position": null,
            "order": null,
            "overflow": null,
            "overflow_x": null,
            "overflow_y": null,
            "padding": null,
            "right": null,
            "top": null,
            "visibility": null,
            "width": null
          }
        },
        "ac122008748b4ee58a3fb5f0ef3012cd": {
          "model_module": "@jupyter-widgets/controls",
          "model_name": "DescriptionStyleModel",
          "model_module_version": "1.5.0",
          "state": {
            "_model_module": "@jupyter-widgets/controls",
            "_model_module_version": "1.5.0",
            "_model_name": "DescriptionStyleModel",
            "_view_count": null,
            "_view_module": "@jupyter-widgets/base",
            "_view_module_version": "1.2.0",
            "_view_name": "StyleView",
            "description_width": ""
          }
        },
        "f67477d62c3d4b5192f5b2ad90f1128d": {
          "model_module": "@jupyter-widgets/controls",
          "model_name": "HBoxModel",
          "model_module_version": "1.5.0",
          "state": {
            "_dom_classes": [],
            "_model_module": "@jupyter-widgets/controls",
            "_model_module_version": "1.5.0",
            "_model_name": "HBoxModel",
            "_view_count": null,
            "_view_module": "@jupyter-widgets/controls",
            "_view_module_version": "1.5.0",
            "_view_name": "HBoxView",
            "box_style": "",
            "children": [
              "IPY_MODEL_e527208c4e164d1bb2f7a1f77be572e4",
              "IPY_MODEL_1bba74fcbe784ac6ba4c770d4fb6fa61",
              "IPY_MODEL_bc0519aacbcc4d4b8810c74e63e75afd"
            ],
            "layout": "IPY_MODEL_25bc9bbd9c07400ca8476aecf148acd4"
          }
        },
        "e527208c4e164d1bb2f7a1f77be572e4": {
          "model_module": "@jupyter-widgets/controls",
          "model_name": "HTMLModel",
          "model_module_version": "1.5.0",
          "state": {
            "_dom_classes": [],
            "_model_module": "@jupyter-widgets/controls",
            "_model_module_version": "1.5.0",
            "_model_name": "HTMLModel",
            "_view_count": null,
            "_view_module": "@jupyter-widgets/controls",
            "_view_module_version": "1.5.0",
            "_view_name": "HTMLView",
            "description": "",
            "description_tooltip": null,
            "layout": "IPY_MODEL_d63340d8dd7f4304b7952fa987c3c804",
            "placeholder": "​",
            "style": "IPY_MODEL_c9dc666af34049879452eab06a5c2e2d",
            "value": "Generating train split: 100%"
          }
        },
        "1bba74fcbe784ac6ba4c770d4fb6fa61": {
          "model_module": "@jupyter-widgets/controls",
          "model_name": "FloatProgressModel",
          "model_module_version": "1.5.0",
          "state": {
            "_dom_classes": [],
            "_model_module": "@jupyter-widgets/controls",
            "_model_module_version": "1.5.0",
            "_model_name": "FloatProgressModel",
            "_view_count": null,
            "_view_module": "@jupyter-widgets/controls",
            "_view_module_version": "1.5.0",
            "_view_name": "ProgressView",
            "bar_style": "success",
            "description": "",
            "description_tooltip": null,
            "layout": "IPY_MODEL_0bb537cd28de43e899e9f2229833d00d",
            "max": 67349,
            "min": 0,
            "orientation": "horizontal",
            "style": "IPY_MODEL_52473090dfa14cbca8d5700679304825",
            "value": 67349
          }
        },
        "bc0519aacbcc4d4b8810c74e63e75afd": {
          "model_module": "@jupyter-widgets/controls",
          "model_name": "HTMLModel",
          "model_module_version": "1.5.0",
          "state": {
            "_dom_classes": [],
            "_model_module": "@jupyter-widgets/controls",
            "_model_module_version": "1.5.0",
            "_model_name": "HTMLModel",
            "_view_count": null,
            "_view_module": "@jupyter-widgets/controls",
            "_view_module_version": "1.5.0",
            "_view_name": "HTMLView",
            "description": "",
            "description_tooltip": null,
            "layout": "IPY_MODEL_4bd701d4ff884f26ad9b86e95928c031",
            "placeholder": "​",
            "style": "IPY_MODEL_fac32407b7214c77b35408715d5887c0",
            "value": " 67349/67349 [00:00&lt;00:00, 915595.21 examples/s]"
          }
        },
        "25bc9bbd9c07400ca8476aecf148acd4": {
          "model_module": "@jupyter-widgets/base",
          "model_name": "LayoutModel",
          "model_module_version": "1.2.0",
          "state": {
            "_model_module": "@jupyter-widgets/base",
            "_model_module_version": "1.2.0",
            "_model_name": "LayoutModel",
            "_view_count": null,
            "_view_module": "@jupyter-widgets/base",
            "_view_module_version": "1.2.0",
            "_view_name": "LayoutView",
            "align_content": null,
            "align_items": null,
            "align_self": null,
            "border": null,
            "bottom": null,
            "display": null,
            "flex": null,
            "flex_flow": null,
            "grid_area": null,
            "grid_auto_columns": null,
            "grid_auto_flow": null,
            "grid_auto_rows": null,
            "grid_column": null,
            "grid_gap": null,
            "grid_row": null,
            "grid_template_areas": null,
            "grid_template_columns": null,
            "grid_template_rows": null,
            "height": null,
            "justify_content": null,
            "justify_items": null,
            "left": null,
            "margin": null,
            "max_height": null,
            "max_width": null,
            "min_height": null,
            "min_width": null,
            "object_fit": null,
            "object_position": null,
            "order": null,
            "overflow": null,
            "overflow_x": null,
            "overflow_y": null,
            "padding": null,
            "right": null,
            "top": null,
            "visibility": null,
            "width": null
          }
        },
        "d63340d8dd7f4304b7952fa987c3c804": {
          "model_module": "@jupyter-widgets/base",
          "model_name": "LayoutModel",
          "model_module_version": "1.2.0",
          "state": {
            "_model_module": "@jupyter-widgets/base",
            "_model_module_version": "1.2.0",
            "_model_name": "LayoutModel",
            "_view_count": null,
            "_view_module": "@jupyter-widgets/base",
            "_view_module_version": "1.2.0",
            "_view_name": "LayoutView",
            "align_content": null,
            "align_items": null,
            "align_self": null,
            "border": null,
            "bottom": null,
            "display": null,
            "flex": null,
            "flex_flow": null,
            "grid_area": null,
            "grid_auto_columns": null,
            "grid_auto_flow": null,
            "grid_auto_rows": null,
            "grid_column": null,
            "grid_gap": null,
            "grid_row": null,
            "grid_template_areas": null,
            "grid_template_columns": null,
            "grid_template_rows": null,
            "height": null,
            "justify_content": null,
            "justify_items": null,
            "left": null,
            "margin": null,
            "max_height": null,
            "max_width": null,
            "min_height": null,
            "min_width": null,
            "object_fit": null,
            "object_position": null,
            "order": null,
            "overflow": null,
            "overflow_x": null,
            "overflow_y": null,
            "padding": null,
            "right": null,
            "top": null,
            "visibility": null,
            "width": null
          }
        },
        "c9dc666af34049879452eab06a5c2e2d": {
          "model_module": "@jupyter-widgets/controls",
          "model_name": "DescriptionStyleModel",
          "model_module_version": "1.5.0",
          "state": {
            "_model_module": "@jupyter-widgets/controls",
            "_model_module_version": "1.5.0",
            "_model_name": "DescriptionStyleModel",
            "_view_count": null,
            "_view_module": "@jupyter-widgets/base",
            "_view_module_version": "1.2.0",
            "_view_name": "StyleView",
            "description_width": ""
          }
        },
        "0bb537cd28de43e899e9f2229833d00d": {
          "model_module": "@jupyter-widgets/base",
          "model_name": "LayoutModel",
          "model_module_version": "1.2.0",
          "state": {
            "_model_module": "@jupyter-widgets/base",
            "_model_module_version": "1.2.0",
            "_model_name": "LayoutModel",
            "_view_count": null,
            "_view_module": "@jupyter-widgets/base",
            "_view_module_version": "1.2.0",
            "_view_name": "LayoutView",
            "align_content": null,
            "align_items": null,
            "align_self": null,
            "border": null,
            "bottom": null,
            "display": null,
            "flex": null,
            "flex_flow": null,
            "grid_area": null,
            "grid_auto_columns": null,
            "grid_auto_flow": null,
            "grid_auto_rows": null,
            "grid_column": null,
            "grid_gap": null,
            "grid_row": null,
            "grid_template_areas": null,
            "grid_template_columns": null,
            "grid_template_rows": null,
            "height": null,
            "justify_content": null,
            "justify_items": null,
            "left": null,
            "margin": null,
            "max_height": null,
            "max_width": null,
            "min_height": null,
            "min_width": null,
            "object_fit": null,
            "object_position": null,
            "order": null,
            "overflow": null,
            "overflow_x": null,
            "overflow_y": null,
            "padding": null,
            "right": null,
            "top": null,
            "visibility": null,
            "width": null
          }
        },
        "52473090dfa14cbca8d5700679304825": {
          "model_module": "@jupyter-widgets/controls",
          "model_name": "ProgressStyleModel",
          "model_module_version": "1.5.0",
          "state": {
            "_model_module": "@jupyter-widgets/controls",
            "_model_module_version": "1.5.0",
            "_model_name": "ProgressStyleModel",
            "_view_count": null,
            "_view_module": "@jupyter-widgets/base",
            "_view_module_version": "1.2.0",
            "_view_name": "StyleView",
            "bar_color": null,
            "description_width": ""
          }
        },
        "4bd701d4ff884f26ad9b86e95928c031": {
          "model_module": "@jupyter-widgets/base",
          "model_name": "LayoutModel",
          "model_module_version": "1.2.0",
          "state": {
            "_model_module": "@jupyter-widgets/base",
            "_model_module_version": "1.2.0",
            "_model_name": "LayoutModel",
            "_view_count": null,
            "_view_module": "@jupyter-widgets/base",
            "_view_module_version": "1.2.0",
            "_view_name": "LayoutView",
            "align_content": null,
            "align_items": null,
            "align_self": null,
            "border": null,
            "bottom": null,
            "display": null,
            "flex": null,
            "flex_flow": null,
            "grid_area": null,
            "grid_auto_columns": null,
            "grid_auto_flow": null,
            "grid_auto_rows": null,
            "grid_column": null,
            "grid_gap": null,
            "grid_row": null,
            "grid_template_areas": null,
            "grid_template_columns": null,
            "grid_template_rows": null,
            "height": null,
            "justify_content": null,
            "justify_items": null,
            "left": null,
            "margin": null,
            "max_height": null,
            "max_width": null,
            "min_height": null,
            "min_width": null,
            "object_fit": null,
            "object_position": null,
            "order": null,
            "overflow": null,
            "overflow_x": null,
            "overflow_y": null,
            "padding": null,
            "right": null,
            "top": null,
            "visibility": null,
            "width": null
          }
        },
        "fac32407b7214c77b35408715d5887c0": {
          "model_module": "@jupyter-widgets/controls",
          "model_name": "DescriptionStyleModel",
          "model_module_version": "1.5.0",
          "state": {
            "_model_module": "@jupyter-widgets/controls",
            "_model_module_version": "1.5.0",
            "_model_name": "DescriptionStyleModel",
            "_view_count": null,
            "_view_module": "@jupyter-widgets/base",
            "_view_module_version": "1.2.0",
            "_view_name": "StyleView",
            "description_width": ""
          }
        },
        "2e395f4d40e04ad2b244095df6bdc138": {
          "model_module": "@jupyter-widgets/controls",
          "model_name": "HBoxModel",
          "model_module_version": "1.5.0",
          "state": {
            "_dom_classes": [],
            "_model_module": "@jupyter-widgets/controls",
            "_model_module_version": "1.5.0",
            "_model_name": "HBoxModel",
            "_view_count": null,
            "_view_module": "@jupyter-widgets/controls",
            "_view_module_version": "1.5.0",
            "_view_name": "HBoxView",
            "box_style": "",
            "children": [
              "IPY_MODEL_fd50a57456f84cde8fcbef01f1aa2f84",
              "IPY_MODEL_7a104d6827644e2294dbd5d30969ea05",
              "IPY_MODEL_132e98fb74a94e729f0bc168bdf8825f"
            ],
            "layout": "IPY_MODEL_4f7025d07a6a4fc3b9a37f35e9b2267e"
          }
        },
        "fd50a57456f84cde8fcbef01f1aa2f84": {
          "model_module": "@jupyter-widgets/controls",
          "model_name": "HTMLModel",
          "model_module_version": "1.5.0",
          "state": {
            "_dom_classes": [],
            "_model_module": "@jupyter-widgets/controls",
            "_model_module_version": "1.5.0",
            "_model_name": "HTMLModel",
            "_view_count": null,
            "_view_module": "@jupyter-widgets/controls",
            "_view_module_version": "1.5.0",
            "_view_name": "HTMLView",
            "description": "",
            "description_tooltip": null,
            "layout": "IPY_MODEL_f9d88e3d6bd74af093ce7977f02d9eeb",
            "placeholder": "​",
            "style": "IPY_MODEL_de3c55626c734b3f83737fa9c7f8b9c7",
            "value": "Generating validation split: 100%"
          }
        },
        "7a104d6827644e2294dbd5d30969ea05": {
          "model_module": "@jupyter-widgets/controls",
          "model_name": "FloatProgressModel",
          "model_module_version": "1.5.0",
          "state": {
            "_dom_classes": [],
            "_model_module": "@jupyter-widgets/controls",
            "_model_module_version": "1.5.0",
            "_model_name": "FloatProgressModel",
            "_view_count": null,
            "_view_module": "@jupyter-widgets/controls",
            "_view_module_version": "1.5.0",
            "_view_name": "ProgressView",
            "bar_style": "success",
            "description": "",
            "description_tooltip": null,
            "layout": "IPY_MODEL_237c3e6151184ed0aa801914adf781a7",
            "max": 872,
            "min": 0,
            "orientation": "horizontal",
            "style": "IPY_MODEL_36b07235e6b24e23b523b11524827f8f",
            "value": 872
          }
        },
        "132e98fb74a94e729f0bc168bdf8825f": {
          "model_module": "@jupyter-widgets/controls",
          "model_name": "HTMLModel",
          "model_module_version": "1.5.0",
          "state": {
            "_dom_classes": [],
            "_model_module": "@jupyter-widgets/controls",
            "_model_module_version": "1.5.0",
            "_model_name": "HTMLModel",
            "_view_count": null,
            "_view_module": "@jupyter-widgets/controls",
            "_view_module_version": "1.5.0",
            "_view_name": "HTMLView",
            "description": "",
            "description_tooltip": null,
            "layout": "IPY_MODEL_9db8363fcc0e414ab7e247f144650139",
            "placeholder": "​",
            "style": "IPY_MODEL_6dad32f5c0ad4de687b6b868304f92bb",
            "value": " 872/872 [00:00&lt;00:00, 28224.42 examples/s]"
          }
        },
        "4f7025d07a6a4fc3b9a37f35e9b2267e": {
          "model_module": "@jupyter-widgets/base",
          "model_name": "LayoutModel",
          "model_module_version": "1.2.0",
          "state": {
            "_model_module": "@jupyter-widgets/base",
            "_model_module_version": "1.2.0",
            "_model_name": "LayoutModel",
            "_view_count": null,
            "_view_module": "@jupyter-widgets/base",
            "_view_module_version": "1.2.0",
            "_view_name": "LayoutView",
            "align_content": null,
            "align_items": null,
            "align_self": null,
            "border": null,
            "bottom": null,
            "display": null,
            "flex": null,
            "flex_flow": null,
            "grid_area": null,
            "grid_auto_columns": null,
            "grid_auto_flow": null,
            "grid_auto_rows": null,
            "grid_column": null,
            "grid_gap": null,
            "grid_row": null,
            "grid_template_areas": null,
            "grid_template_columns": null,
            "grid_template_rows": null,
            "height": null,
            "justify_content": null,
            "justify_items": null,
            "left": null,
            "margin": null,
            "max_height": null,
            "max_width": null,
            "min_height": null,
            "min_width": null,
            "object_fit": null,
            "object_position": null,
            "order": null,
            "overflow": null,
            "overflow_x": null,
            "overflow_y": null,
            "padding": null,
            "right": null,
            "top": null,
            "visibility": null,
            "width": null
          }
        },
        "f9d88e3d6bd74af093ce7977f02d9eeb": {
          "model_module": "@jupyter-widgets/base",
          "model_name": "LayoutModel",
          "model_module_version": "1.2.0",
          "state": {
            "_model_module": "@jupyter-widgets/base",
            "_model_module_version": "1.2.0",
            "_model_name": "LayoutModel",
            "_view_count": null,
            "_view_module": "@jupyter-widgets/base",
            "_view_module_version": "1.2.0",
            "_view_name": "LayoutView",
            "align_content": null,
            "align_items": null,
            "align_self": null,
            "border": null,
            "bottom": null,
            "display": null,
            "flex": null,
            "flex_flow": null,
            "grid_area": null,
            "grid_auto_columns": null,
            "grid_auto_flow": null,
            "grid_auto_rows": null,
            "grid_column": null,
            "grid_gap": null,
            "grid_row": null,
            "grid_template_areas": null,
            "grid_template_columns": null,
            "grid_template_rows": null,
            "height": null,
            "justify_content": null,
            "justify_items": null,
            "left": null,
            "margin": null,
            "max_height": null,
            "max_width": null,
            "min_height": null,
            "min_width": null,
            "object_fit": null,
            "object_position": null,
            "order": null,
            "overflow": null,
            "overflow_x": null,
            "overflow_y": null,
            "padding": null,
            "right": null,
            "top": null,
            "visibility": null,
            "width": null
          }
        },
        "de3c55626c734b3f83737fa9c7f8b9c7": {
          "model_module": "@jupyter-widgets/controls",
          "model_name": "DescriptionStyleModel",
          "model_module_version": "1.5.0",
          "state": {
            "_model_module": "@jupyter-widgets/controls",
            "_model_module_version": "1.5.0",
            "_model_name": "DescriptionStyleModel",
            "_view_count": null,
            "_view_module": "@jupyter-widgets/base",
            "_view_module_version": "1.2.0",
            "_view_name": "StyleView",
            "description_width": ""
          }
        },
        "237c3e6151184ed0aa801914adf781a7": {
          "model_module": "@jupyter-widgets/base",
          "model_name": "LayoutModel",
          "model_module_version": "1.2.0",
          "state": {
            "_model_module": "@jupyter-widgets/base",
            "_model_module_version": "1.2.0",
            "_model_name": "LayoutModel",
            "_view_count": null,
            "_view_module": "@jupyter-widgets/base",
            "_view_module_version": "1.2.0",
            "_view_name": "LayoutView",
            "align_content": null,
            "align_items": null,
            "align_self": null,
            "border": null,
            "bottom": null,
            "display": null,
            "flex": null,
            "flex_flow": null,
            "grid_area": null,
            "grid_auto_columns": null,
            "grid_auto_flow": null,
            "grid_auto_rows": null,
            "grid_column": null,
            "grid_gap": null,
            "grid_row": null,
            "grid_template_areas": null,
            "grid_template_columns": null,
            "grid_template_rows": null,
            "height": null,
            "justify_content": null,
            "justify_items": null,
            "left": null,
            "margin": null,
            "max_height": null,
            "max_width": null,
            "min_height": null,
            "min_width": null,
            "object_fit": null,
            "object_position": null,
            "order": null,
            "overflow": null,
            "overflow_x": null,
            "overflow_y": null,
            "padding": null,
            "right": null,
            "top": null,
            "visibility": null,
            "width": null
          }
        },
        "36b07235e6b24e23b523b11524827f8f": {
          "model_module": "@jupyter-widgets/controls",
          "model_name": "ProgressStyleModel",
          "model_module_version": "1.5.0",
          "state": {
            "_model_module": "@jupyter-widgets/controls",
            "_model_module_version": "1.5.0",
            "_model_name": "ProgressStyleModel",
            "_view_count": null,
            "_view_module": "@jupyter-widgets/base",
            "_view_module_version": "1.2.0",
            "_view_name": "StyleView",
            "bar_color": null,
            "description_width": ""
          }
        },
        "9db8363fcc0e414ab7e247f144650139": {
          "model_module": "@jupyter-widgets/base",
          "model_name": "LayoutModel",
          "model_module_version": "1.2.0",
          "state": {
            "_model_module": "@jupyter-widgets/base",
            "_model_module_version": "1.2.0",
            "_model_name": "LayoutModel",
            "_view_count": null,
            "_view_module": "@jupyter-widgets/base",
            "_view_module_version": "1.2.0",
            "_view_name": "LayoutView",
            "align_content": null,
            "align_items": null,
            "align_self": null,
            "border": null,
            "bottom": null,
            "display": null,
            "flex": null,
            "flex_flow": null,
            "grid_area": null,
            "grid_auto_columns": null,
            "grid_auto_flow": null,
            "grid_auto_rows": null,
            "grid_column": null,
            "grid_gap": null,
            "grid_row": null,
            "grid_template_areas": null,
            "grid_template_columns": null,
            "grid_template_rows": null,
            "height": null,
            "justify_content": null,
            "justify_items": null,
            "left": null,
            "margin": null,
            "max_height": null,
            "max_width": null,
            "min_height": null,
            "min_width": null,
            "object_fit": null,
            "object_position": null,
            "order": null,
            "overflow": null,
            "overflow_x": null,
            "overflow_y": null,
            "padding": null,
            "right": null,
            "top": null,
            "visibility": null,
            "width": null
          }
        },
        "6dad32f5c0ad4de687b6b868304f92bb": {
          "model_module": "@jupyter-widgets/controls",
          "model_name": "DescriptionStyleModel",
          "model_module_version": "1.5.0",
          "state": {
            "_model_module": "@jupyter-widgets/controls",
            "_model_module_version": "1.5.0",
            "_model_name": "DescriptionStyleModel",
            "_view_count": null,
            "_view_module": "@jupyter-widgets/base",
            "_view_module_version": "1.2.0",
            "_view_name": "StyleView",
            "description_width": ""
          }
        },
        "44b9d5cdb01841d6a2c347b5f1537d7c": {
          "model_module": "@jupyter-widgets/controls",
          "model_name": "HBoxModel",
          "model_module_version": "1.5.0",
          "state": {
            "_dom_classes": [],
            "_model_module": "@jupyter-widgets/controls",
            "_model_module_version": "1.5.0",
            "_model_name": "HBoxModel",
            "_view_count": null,
            "_view_module": "@jupyter-widgets/controls",
            "_view_module_version": "1.5.0",
            "_view_name": "HBoxView",
            "box_style": "",
            "children": [
              "IPY_MODEL_6d324e8a3ce24bb3ba0b70fdbddf106d",
              "IPY_MODEL_65bf3a09038a48128872e3d497254b98",
              "IPY_MODEL_c77f626ad32145409798bac52e00f3f7"
            ],
            "layout": "IPY_MODEL_a08600d7eb484a48875e11a925dc2bac"
          }
        },
        "6d324e8a3ce24bb3ba0b70fdbddf106d": {
          "model_module": "@jupyter-widgets/controls",
          "model_name": "HTMLModel",
          "model_module_version": "1.5.0",
          "state": {
            "_dom_classes": [],
            "_model_module": "@jupyter-widgets/controls",
            "_model_module_version": "1.5.0",
            "_model_name": "HTMLModel",
            "_view_count": null,
            "_view_module": "@jupyter-widgets/controls",
            "_view_module_version": "1.5.0",
            "_view_name": "HTMLView",
            "description": "",
            "description_tooltip": null,
            "layout": "IPY_MODEL_ae4a8cc6eb574e9fbe771b7cdf247347",
            "placeholder": "​",
            "style": "IPY_MODEL_72f573fc00f44593927836b491849cdc",
            "value": "Generating test split: 100%"
          }
        },
        "65bf3a09038a48128872e3d497254b98": {
          "model_module": "@jupyter-widgets/controls",
          "model_name": "FloatProgressModel",
          "model_module_version": "1.5.0",
          "state": {
            "_dom_classes": [],
            "_model_module": "@jupyter-widgets/controls",
            "_model_module_version": "1.5.0",
            "_model_name": "FloatProgressModel",
            "_view_count": null,
            "_view_module": "@jupyter-widgets/controls",
            "_view_module_version": "1.5.0",
            "_view_name": "ProgressView",
            "bar_style": "success",
            "description": "",
            "description_tooltip": null,
            "layout": "IPY_MODEL_0676ffe0162045c8b12cbb76138e2967",
            "max": 1821,
            "min": 0,
            "orientation": "horizontal",
            "style": "IPY_MODEL_528041d580e74db3941fefb7d19a7b2d",
            "value": 1821
          }
        },
        "c77f626ad32145409798bac52e00f3f7": {
          "model_module": "@jupyter-widgets/controls",
          "model_name": "HTMLModel",
          "model_module_version": "1.5.0",
          "state": {
            "_dom_classes": [],
            "_model_module": "@jupyter-widgets/controls",
            "_model_module_version": "1.5.0",
            "_model_name": "HTMLModel",
            "_view_count": null,
            "_view_module": "@jupyter-widgets/controls",
            "_view_module_version": "1.5.0",
            "_view_name": "HTMLView",
            "description": "",
            "description_tooltip": null,
            "layout": "IPY_MODEL_8da76c5eaa9c4bb988fa8bc3f722b8b0",
            "placeholder": "​",
            "style": "IPY_MODEL_db756551a76e4a6891e0baf8c4f3ea1f",
            "value": " 1821/1821 [00:00&lt;00:00, 63452.39 examples/s]"
          }
        },
        "a08600d7eb484a48875e11a925dc2bac": {
          "model_module": "@jupyter-widgets/base",
          "model_name": "LayoutModel",
          "model_module_version": "1.2.0",
          "state": {
            "_model_module": "@jupyter-widgets/base",
            "_model_module_version": "1.2.0",
            "_model_name": "LayoutModel",
            "_view_count": null,
            "_view_module": "@jupyter-widgets/base",
            "_view_module_version": "1.2.0",
            "_view_name": "LayoutView",
            "align_content": null,
            "align_items": null,
            "align_self": null,
            "border": null,
            "bottom": null,
            "display": null,
            "flex": null,
            "flex_flow": null,
            "grid_area": null,
            "grid_auto_columns": null,
            "grid_auto_flow": null,
            "grid_auto_rows": null,
            "grid_column": null,
            "grid_gap": null,
            "grid_row": null,
            "grid_template_areas": null,
            "grid_template_columns": null,
            "grid_template_rows": null,
            "height": null,
            "justify_content": null,
            "justify_items": null,
            "left": null,
            "margin": null,
            "max_height": null,
            "max_width": null,
            "min_height": null,
            "min_width": null,
            "object_fit": null,
            "object_position": null,
            "order": null,
            "overflow": null,
            "overflow_x": null,
            "overflow_y": null,
            "padding": null,
            "right": null,
            "top": null,
            "visibility": null,
            "width": null
          }
        },
        "ae4a8cc6eb574e9fbe771b7cdf247347": {
          "model_module": "@jupyter-widgets/base",
          "model_name": "LayoutModel",
          "model_module_version": "1.2.0",
          "state": {
            "_model_module": "@jupyter-widgets/base",
            "_model_module_version": "1.2.0",
            "_model_name": "LayoutModel",
            "_view_count": null,
            "_view_module": "@jupyter-widgets/base",
            "_view_module_version": "1.2.0",
            "_view_name": "LayoutView",
            "align_content": null,
            "align_items": null,
            "align_self": null,
            "border": null,
            "bottom": null,
            "display": null,
            "flex": null,
            "flex_flow": null,
            "grid_area": null,
            "grid_auto_columns": null,
            "grid_auto_flow": null,
            "grid_auto_rows": null,
            "grid_column": null,
            "grid_gap": null,
            "grid_row": null,
            "grid_template_areas": null,
            "grid_template_columns": null,
            "grid_template_rows": null,
            "height": null,
            "justify_content": null,
            "justify_items": null,
            "left": null,
            "margin": null,
            "max_height": null,
            "max_width": null,
            "min_height": null,
            "min_width": null,
            "object_fit": null,
            "object_position": null,
            "order": null,
            "overflow": null,
            "overflow_x": null,
            "overflow_y": null,
            "padding": null,
            "right": null,
            "top": null,
            "visibility": null,
            "width": null
          }
        },
        "72f573fc00f44593927836b491849cdc": {
          "model_module": "@jupyter-widgets/controls",
          "model_name": "DescriptionStyleModel",
          "model_module_version": "1.5.0",
          "state": {
            "_model_module": "@jupyter-widgets/controls",
            "_model_module_version": "1.5.0",
            "_model_name": "DescriptionStyleModel",
            "_view_count": null,
            "_view_module": "@jupyter-widgets/base",
            "_view_module_version": "1.2.0",
            "_view_name": "StyleView",
            "description_width": ""
          }
        },
        "0676ffe0162045c8b12cbb76138e2967": {
          "model_module": "@jupyter-widgets/base",
          "model_name": "LayoutModel",
          "model_module_version": "1.2.0",
          "state": {
            "_model_module": "@jupyter-widgets/base",
            "_model_module_version": "1.2.0",
            "_model_name": "LayoutModel",
            "_view_count": null,
            "_view_module": "@jupyter-widgets/base",
            "_view_module_version": "1.2.0",
            "_view_name": "LayoutView",
            "align_content": null,
            "align_items": null,
            "align_self": null,
            "border": null,
            "bottom": null,
            "display": null,
            "flex": null,
            "flex_flow": null,
            "grid_area": null,
            "grid_auto_columns": null,
            "grid_auto_flow": null,
            "grid_auto_rows": null,
            "grid_column": null,
            "grid_gap": null,
            "grid_row": null,
            "grid_template_areas": null,
            "grid_template_columns": null,
            "grid_template_rows": null,
            "height": null,
            "justify_content": null,
            "justify_items": null,
            "left": null,
            "margin": null,
            "max_height": null,
            "max_width": null,
            "min_height": null,
            "min_width": null,
            "object_fit": null,
            "object_position": null,
            "order": null,
            "overflow": null,
            "overflow_x": null,
            "overflow_y": null,
            "padding": null,
            "right": null,
            "top": null,
            "visibility": null,
            "width": null
          }
        },
        "528041d580e74db3941fefb7d19a7b2d": {
          "model_module": "@jupyter-widgets/controls",
          "model_name": "ProgressStyleModel",
          "model_module_version": "1.5.0",
          "state": {
            "_model_module": "@jupyter-widgets/controls",
            "_model_module_version": "1.5.0",
            "_model_name": "ProgressStyleModel",
            "_view_count": null,
            "_view_module": "@jupyter-widgets/base",
            "_view_module_version": "1.2.0",
            "_view_name": "StyleView",
            "bar_color": null,
            "description_width": ""
          }
        },
        "8da76c5eaa9c4bb988fa8bc3f722b8b0": {
          "model_module": "@jupyter-widgets/base",
          "model_name": "LayoutModel",
          "model_module_version": "1.2.0",
          "state": {
            "_model_module": "@jupyter-widgets/base",
            "_model_module_version": "1.2.0",
            "_model_name": "LayoutModel",
            "_view_count": null,
            "_view_module": "@jupyter-widgets/base",
            "_view_module_version": "1.2.0",
            "_view_name": "LayoutView",
            "align_content": null,
            "align_items": null,
            "align_self": null,
            "border": null,
            "bottom": null,
            "display": null,
            "flex": null,
            "flex_flow": null,
            "grid_area": null,
            "grid_auto_columns": null,
            "grid_auto_flow": null,
            "grid_auto_rows": null,
            "grid_column": null,
            "grid_gap": null,
            "grid_row": null,
            "grid_template_areas": null,
            "grid_template_columns": null,
            "grid_template_rows": null,
            "height": null,
            "justify_content": null,
            "justify_items": null,
            "left": null,
            "margin": null,
            "max_height": null,
            "max_width": null,
            "min_height": null,
            "min_width": null,
            "object_fit": null,
            "object_position": null,
            "order": null,
            "overflow": null,
            "overflow_x": null,
            "overflow_y": null,
            "padding": null,
            "right": null,
            "top": null,
            "visibility": null,
            "width": null
          }
        },
        "db756551a76e4a6891e0baf8c4f3ea1f": {
          "model_module": "@jupyter-widgets/controls",
          "model_name": "DescriptionStyleModel",
          "model_module_version": "1.5.0",
          "state": {
            "_model_module": "@jupyter-widgets/controls",
            "_model_module_version": "1.5.0",
            "_model_name": "DescriptionStyleModel",
            "_view_count": null,
            "_view_module": "@jupyter-widgets/base",
            "_view_module_version": "1.2.0",
            "_view_name": "StyleView",
            "description_width": ""
          }
        },
        "83f56259827e421ea7081d54548cf13a": {
          "model_module": "@jupyter-widgets/controls",
          "model_name": "HBoxModel",
          "model_module_version": "1.5.0",
          "state": {
            "_dom_classes": [],
            "_model_module": "@jupyter-widgets/controls",
            "_model_module_version": "1.5.0",
            "_model_name": "HBoxModel",
            "_view_count": null,
            "_view_module": "@jupyter-widgets/controls",
            "_view_module_version": "1.5.0",
            "_view_name": "HBoxView",
            "box_style": "",
            "children": [
              "IPY_MODEL_210ca773f91a4ee2acc414d657d580dc",
              "IPY_MODEL_3db106c5d19e4c3ba097f448f2e78028",
              "IPY_MODEL_14cd29e3eb864c1da7d26e5584463e19"
            ],
            "layout": "IPY_MODEL_b77a0b8707924ea5b88770084ff95458"
          }
        },
        "210ca773f91a4ee2acc414d657d580dc": {
          "model_module": "@jupyter-widgets/controls",
          "model_name": "HTMLModel",
          "model_module_version": "1.5.0",
          "state": {
            "_dom_classes": [],
            "_model_module": "@jupyter-widgets/controls",
            "_model_module_version": "1.5.0",
            "_model_name": "HTMLModel",
            "_view_count": null,
            "_view_module": "@jupyter-widgets/controls",
            "_view_module_version": "1.5.0",
            "_view_name": "HTMLView",
            "description": "",
            "description_tooltip": null,
            "layout": "IPY_MODEL_3631992bcbae424e8c3637ba426f0760",
            "placeholder": "​",
            "style": "IPY_MODEL_7fa45588b9d74837b7c1a8be2817ee45",
            "value": "Map: 100%"
          }
        },
        "3db106c5d19e4c3ba097f448f2e78028": {
          "model_module": "@jupyter-widgets/controls",
          "model_name": "FloatProgressModel",
          "model_module_version": "1.5.0",
          "state": {
            "_dom_classes": [],
            "_model_module": "@jupyter-widgets/controls",
            "_model_module_version": "1.5.0",
            "_model_name": "FloatProgressModel",
            "_view_count": null,
            "_view_module": "@jupyter-widgets/controls",
            "_view_module_version": "1.5.0",
            "_view_name": "ProgressView",
            "bar_style": "success",
            "description": "",
            "description_tooltip": null,
            "layout": "IPY_MODEL_67819dad60bc466ca307dd4063f1cdef",
            "max": 67349,
            "min": 0,
            "orientation": "horizontal",
            "style": "IPY_MODEL_4211abf823bb44abaefab1858ca10888",
            "value": 67349
          }
        },
        "14cd29e3eb864c1da7d26e5584463e19": {
          "model_module": "@jupyter-widgets/controls",
          "model_name": "HTMLModel",
          "model_module_version": "1.5.0",
          "state": {
            "_dom_classes": [],
            "_model_module": "@jupyter-widgets/controls",
            "_model_module_version": "1.5.0",
            "_model_name": "HTMLModel",
            "_view_count": null,
            "_view_module": "@jupyter-widgets/controls",
            "_view_module_version": "1.5.0",
            "_view_name": "HTMLView",
            "description": "",
            "description_tooltip": null,
            "layout": "IPY_MODEL_1be6f9817abd4793916ffaa31e397489",
            "placeholder": "​",
            "style": "IPY_MODEL_0f4c31febc4a45ca8e3483534cda3d1d",
            "value": " 67349/67349 [00:05&lt;00:00, 10172.49 examples/s]"
          }
        },
        "b77a0b8707924ea5b88770084ff95458": {
          "model_module": "@jupyter-widgets/base",
          "model_name": "LayoutModel",
          "model_module_version": "1.2.0",
          "state": {
            "_model_module": "@jupyter-widgets/base",
            "_model_module_version": "1.2.0",
            "_model_name": "LayoutModel",
            "_view_count": null,
            "_view_module": "@jupyter-widgets/base",
            "_view_module_version": "1.2.0",
            "_view_name": "LayoutView",
            "align_content": null,
            "align_items": null,
            "align_self": null,
            "border": null,
            "bottom": null,
            "display": null,
            "flex": null,
            "flex_flow": null,
            "grid_area": null,
            "grid_auto_columns": null,
            "grid_auto_flow": null,
            "grid_auto_rows": null,
            "grid_column": null,
            "grid_gap": null,
            "grid_row": null,
            "grid_template_areas": null,
            "grid_template_columns": null,
            "grid_template_rows": null,
            "height": null,
            "justify_content": null,
            "justify_items": null,
            "left": null,
            "margin": null,
            "max_height": null,
            "max_width": null,
            "min_height": null,
            "min_width": null,
            "object_fit": null,
            "object_position": null,
            "order": null,
            "overflow": null,
            "overflow_x": null,
            "overflow_y": null,
            "padding": null,
            "right": null,
            "top": null,
            "visibility": null,
            "width": null
          }
        },
        "3631992bcbae424e8c3637ba426f0760": {
          "model_module": "@jupyter-widgets/base",
          "model_name": "LayoutModel",
          "model_module_version": "1.2.0",
          "state": {
            "_model_module": "@jupyter-widgets/base",
            "_model_module_version": "1.2.0",
            "_model_name": "LayoutModel",
            "_view_count": null,
            "_view_module": "@jupyter-widgets/base",
            "_view_module_version": "1.2.0",
            "_view_name": "LayoutView",
            "align_content": null,
            "align_items": null,
            "align_self": null,
            "border": null,
            "bottom": null,
            "display": null,
            "flex": null,
            "flex_flow": null,
            "grid_area": null,
            "grid_auto_columns": null,
            "grid_auto_flow": null,
            "grid_auto_rows": null,
            "grid_column": null,
            "grid_gap": null,
            "grid_row": null,
            "grid_template_areas": null,
            "grid_template_columns": null,
            "grid_template_rows": null,
            "height": null,
            "justify_content": null,
            "justify_items": null,
            "left": null,
            "margin": null,
            "max_height": null,
            "max_width": null,
            "min_height": null,
            "min_width": null,
            "object_fit": null,
            "object_position": null,
            "order": null,
            "overflow": null,
            "overflow_x": null,
            "overflow_y": null,
            "padding": null,
            "right": null,
            "top": null,
            "visibility": null,
            "width": null
          }
        },
        "7fa45588b9d74837b7c1a8be2817ee45": {
          "model_module": "@jupyter-widgets/controls",
          "model_name": "DescriptionStyleModel",
          "model_module_version": "1.5.0",
          "state": {
            "_model_module": "@jupyter-widgets/controls",
            "_model_module_version": "1.5.0",
            "_model_name": "DescriptionStyleModel",
            "_view_count": null,
            "_view_module": "@jupyter-widgets/base",
            "_view_module_version": "1.2.0",
            "_view_name": "StyleView",
            "description_width": ""
          }
        },
        "67819dad60bc466ca307dd4063f1cdef": {
          "model_module": "@jupyter-widgets/base",
          "model_name": "LayoutModel",
          "model_module_version": "1.2.0",
          "state": {
            "_model_module": "@jupyter-widgets/base",
            "_model_module_version": "1.2.0",
            "_model_name": "LayoutModel",
            "_view_count": null,
            "_view_module": "@jupyter-widgets/base",
            "_view_module_version": "1.2.0",
            "_view_name": "LayoutView",
            "align_content": null,
            "align_items": null,
            "align_self": null,
            "border": null,
            "bottom": null,
            "display": null,
            "flex": null,
            "flex_flow": null,
            "grid_area": null,
            "grid_auto_columns": null,
            "grid_auto_flow": null,
            "grid_auto_rows": null,
            "grid_column": null,
            "grid_gap": null,
            "grid_row": null,
            "grid_template_areas": null,
            "grid_template_columns": null,
            "grid_template_rows": null,
            "height": null,
            "justify_content": null,
            "justify_items": null,
            "left": null,
            "margin": null,
            "max_height": null,
            "max_width": null,
            "min_height": null,
            "min_width": null,
            "object_fit": null,
            "object_position": null,
            "order": null,
            "overflow": null,
            "overflow_x": null,
            "overflow_y": null,
            "padding": null,
            "right": null,
            "top": null,
            "visibility": null,
            "width": null
          }
        },
        "4211abf823bb44abaefab1858ca10888": {
          "model_module": "@jupyter-widgets/controls",
          "model_name": "ProgressStyleModel",
          "model_module_version": "1.5.0",
          "state": {
            "_model_module": "@jupyter-widgets/controls",
            "_model_module_version": "1.5.0",
            "_model_name": "ProgressStyleModel",
            "_view_count": null,
            "_view_module": "@jupyter-widgets/base",
            "_view_module_version": "1.2.0",
            "_view_name": "StyleView",
            "bar_color": null,
            "description_width": ""
          }
        },
        "1be6f9817abd4793916ffaa31e397489": {
          "model_module": "@jupyter-widgets/base",
          "model_name": "LayoutModel",
          "model_module_version": "1.2.0",
          "state": {
            "_model_module": "@jupyter-widgets/base",
            "_model_module_version": "1.2.0",
            "_model_name": "LayoutModel",
            "_view_count": null,
            "_view_module": "@jupyter-widgets/base",
            "_view_module_version": "1.2.0",
            "_view_name": "LayoutView",
            "align_content": null,
            "align_items": null,
            "align_self": null,
            "border": null,
            "bottom": null,
            "display": null,
            "flex": null,
            "flex_flow": null,
            "grid_area": null,
            "grid_auto_columns": null,
            "grid_auto_flow": null,
            "grid_auto_rows": null,
            "grid_column": null,
            "grid_gap": null,
            "grid_row": null,
            "grid_template_areas": null,
            "grid_template_columns": null,
            "grid_template_rows": null,
            "height": null,
            "justify_content": null,
            "justify_items": null,
            "left": null,
            "margin": null,
            "max_height": null,
            "max_width": null,
            "min_height": null,
            "min_width": null,
            "object_fit": null,
            "object_position": null,
            "order": null,
            "overflow": null,
            "overflow_x": null,
            "overflow_y": null,
            "padding": null,
            "right": null,
            "top": null,
            "visibility": null,
            "width": null
          }
        },
        "0f4c31febc4a45ca8e3483534cda3d1d": {
          "model_module": "@jupyter-widgets/controls",
          "model_name": "DescriptionStyleModel",
          "model_module_version": "1.5.0",
          "state": {
            "_model_module": "@jupyter-widgets/controls",
            "_model_module_version": "1.5.0",
            "_model_name": "DescriptionStyleModel",
            "_view_count": null,
            "_view_module": "@jupyter-widgets/base",
            "_view_module_version": "1.2.0",
            "_view_name": "StyleView",
            "description_width": ""
          }
        },
        "798aa05078de4918a0186d9ad24c903a": {
          "model_module": "@jupyter-widgets/controls",
          "model_name": "HBoxModel",
          "model_module_version": "1.5.0",
          "state": {
            "_dom_classes": [],
            "_model_module": "@jupyter-widgets/controls",
            "_model_module_version": "1.5.0",
            "_model_name": "HBoxModel",
            "_view_count": null,
            "_view_module": "@jupyter-widgets/controls",
            "_view_module_version": "1.5.0",
            "_view_name": "HBoxView",
            "box_style": "",
            "children": [
              "IPY_MODEL_201a0a9b4c0d4aea87948ce053de53c6",
              "IPY_MODEL_9866817655374422b79e088de791d915",
              "IPY_MODEL_fe68576ea38a4f608002b96845a75934"
            ],
            "layout": "IPY_MODEL_a639d6ffd61e4d9aa85808b6f76fe226"
          }
        },
        "201a0a9b4c0d4aea87948ce053de53c6": {
          "model_module": "@jupyter-widgets/controls",
          "model_name": "HTMLModel",
          "model_module_version": "1.5.0",
          "state": {
            "_dom_classes": [],
            "_model_module": "@jupyter-widgets/controls",
            "_model_module_version": "1.5.0",
            "_model_name": "HTMLModel",
            "_view_count": null,
            "_view_module": "@jupyter-widgets/controls",
            "_view_module_version": "1.5.0",
            "_view_name": "HTMLView",
            "description": "",
            "description_tooltip": null,
            "layout": "IPY_MODEL_b1311d06ba014fcaa83a5cd0520ae4eb",
            "placeholder": "​",
            "style": "IPY_MODEL_5ef646c2b2964065afbe4932286f07b4",
            "value": "Map: 100%"
          }
        },
        "9866817655374422b79e088de791d915": {
          "model_module": "@jupyter-widgets/controls",
          "model_name": "FloatProgressModel",
          "model_module_version": "1.5.0",
          "state": {
            "_dom_classes": [],
            "_model_module": "@jupyter-widgets/controls",
            "_model_module_version": "1.5.0",
            "_model_name": "FloatProgressModel",
            "_view_count": null,
            "_view_module": "@jupyter-widgets/controls",
            "_view_module_version": "1.5.0",
            "_view_name": "ProgressView",
            "bar_style": "success",
            "description": "",
            "description_tooltip": null,
            "layout": "IPY_MODEL_4b311ca1efcd4257bcefff834bd06ae0",
            "max": 872,
            "min": 0,
            "orientation": "horizontal",
            "style": "IPY_MODEL_06f5d8cf416a4e19ba3ee5dcb872c216",
            "value": 872
          }
        },
        "fe68576ea38a4f608002b96845a75934": {
          "model_module": "@jupyter-widgets/controls",
          "model_name": "HTMLModel",
          "model_module_version": "1.5.0",
          "state": {
            "_dom_classes": [],
            "_model_module": "@jupyter-widgets/controls",
            "_model_module_version": "1.5.0",
            "_model_name": "HTMLModel",
            "_view_count": null,
            "_view_module": "@jupyter-widgets/controls",
            "_view_module_version": "1.5.0",
            "_view_name": "HTMLView",
            "description": "",
            "description_tooltip": null,
            "layout": "IPY_MODEL_36c70f442fe44e7589e0287133200d7f",
            "placeholder": "​",
            "style": "IPY_MODEL_ed92653aa8bb4d25b1ed9e6feecdd0e2",
            "value": " 872/872 [00:00&lt;00:00, 4902.90 examples/s]"
          }
        },
        "a639d6ffd61e4d9aa85808b6f76fe226": {
          "model_module": "@jupyter-widgets/base",
          "model_name": "LayoutModel",
          "model_module_version": "1.2.0",
          "state": {
            "_model_module": "@jupyter-widgets/base",
            "_model_module_version": "1.2.0",
            "_model_name": "LayoutModel",
            "_view_count": null,
            "_view_module": "@jupyter-widgets/base",
            "_view_module_version": "1.2.0",
            "_view_name": "LayoutView",
            "align_content": null,
            "align_items": null,
            "align_self": null,
            "border": null,
            "bottom": null,
            "display": null,
            "flex": null,
            "flex_flow": null,
            "grid_area": null,
            "grid_auto_columns": null,
            "grid_auto_flow": null,
            "grid_auto_rows": null,
            "grid_column": null,
            "grid_gap": null,
            "grid_row": null,
            "grid_template_areas": null,
            "grid_template_columns": null,
            "grid_template_rows": null,
            "height": null,
            "justify_content": null,
            "justify_items": null,
            "left": null,
            "margin": null,
            "max_height": null,
            "max_width": null,
            "min_height": null,
            "min_width": null,
            "object_fit": null,
            "object_position": null,
            "order": null,
            "overflow": null,
            "overflow_x": null,
            "overflow_y": null,
            "padding": null,
            "right": null,
            "top": null,
            "visibility": null,
            "width": null
          }
        },
        "b1311d06ba014fcaa83a5cd0520ae4eb": {
          "model_module": "@jupyter-widgets/base",
          "model_name": "LayoutModel",
          "model_module_version": "1.2.0",
          "state": {
            "_model_module": "@jupyter-widgets/base",
            "_model_module_version": "1.2.0",
            "_model_name": "LayoutModel",
            "_view_count": null,
            "_view_module": "@jupyter-widgets/base",
            "_view_module_version": "1.2.0",
            "_view_name": "LayoutView",
            "align_content": null,
            "align_items": null,
            "align_self": null,
            "border": null,
            "bottom": null,
            "display": null,
            "flex": null,
            "flex_flow": null,
            "grid_area": null,
            "grid_auto_columns": null,
            "grid_auto_flow": null,
            "grid_auto_rows": null,
            "grid_column": null,
            "grid_gap": null,
            "grid_row": null,
            "grid_template_areas": null,
            "grid_template_columns": null,
            "grid_template_rows": null,
            "height": null,
            "justify_content": null,
            "justify_items": null,
            "left": null,
            "margin": null,
            "max_height": null,
            "max_width": null,
            "min_height": null,
            "min_width": null,
            "object_fit": null,
            "object_position": null,
            "order": null,
            "overflow": null,
            "overflow_x": null,
            "overflow_y": null,
            "padding": null,
            "right": null,
            "top": null,
            "visibility": null,
            "width": null
          }
        },
        "5ef646c2b2964065afbe4932286f07b4": {
          "model_module": "@jupyter-widgets/controls",
          "model_name": "DescriptionStyleModel",
          "model_module_version": "1.5.0",
          "state": {
            "_model_module": "@jupyter-widgets/controls",
            "_model_module_version": "1.5.0",
            "_model_name": "DescriptionStyleModel",
            "_view_count": null,
            "_view_module": "@jupyter-widgets/base",
            "_view_module_version": "1.2.0",
            "_view_name": "StyleView",
            "description_width": ""
          }
        },
        "4b311ca1efcd4257bcefff834bd06ae0": {
          "model_module": "@jupyter-widgets/base",
          "model_name": "LayoutModel",
          "model_module_version": "1.2.0",
          "state": {
            "_model_module": "@jupyter-widgets/base",
            "_model_module_version": "1.2.0",
            "_model_name": "LayoutModel",
            "_view_count": null,
            "_view_module": "@jupyter-widgets/base",
            "_view_module_version": "1.2.0",
            "_view_name": "LayoutView",
            "align_content": null,
            "align_items": null,
            "align_self": null,
            "border": null,
            "bottom": null,
            "display": null,
            "flex": null,
            "flex_flow": null,
            "grid_area": null,
            "grid_auto_columns": null,
            "grid_auto_flow": null,
            "grid_auto_rows": null,
            "grid_column": null,
            "grid_gap": null,
            "grid_row": null,
            "grid_template_areas": null,
            "grid_template_columns": null,
            "grid_template_rows": null,
            "height": null,
            "justify_content": null,
            "justify_items": null,
            "left": null,
            "margin": null,
            "max_height": null,
            "max_width": null,
            "min_height": null,
            "min_width": null,
            "object_fit": null,
            "object_position": null,
            "order": null,
            "overflow": null,
            "overflow_x": null,
            "overflow_y": null,
            "padding": null,
            "right": null,
            "top": null,
            "visibility": null,
            "width": null
          }
        },
        "06f5d8cf416a4e19ba3ee5dcb872c216": {
          "model_module": "@jupyter-widgets/controls",
          "model_name": "ProgressStyleModel",
          "model_module_version": "1.5.0",
          "state": {
            "_model_module": "@jupyter-widgets/controls",
            "_model_module_version": "1.5.0",
            "_model_name": "ProgressStyleModel",
            "_view_count": null,
            "_view_module": "@jupyter-widgets/base",
            "_view_module_version": "1.2.0",
            "_view_name": "StyleView",
            "bar_color": null,
            "description_width": ""
          }
        },
        "36c70f442fe44e7589e0287133200d7f": {
          "model_module": "@jupyter-widgets/base",
          "model_name": "LayoutModel",
          "model_module_version": "1.2.0",
          "state": {
            "_model_module": "@jupyter-widgets/base",
            "_model_module_version": "1.2.0",
            "_model_name": "LayoutModel",
            "_view_count": null,
            "_view_module": "@jupyter-widgets/base",
            "_view_module_version": "1.2.0",
            "_view_name": "LayoutView",
            "align_content": null,
            "align_items": null,
            "align_self": null,
            "border": null,
            "bottom": null,
            "display": null,
            "flex": null,
            "flex_flow": null,
            "grid_area": null,
            "grid_auto_columns": null,
            "grid_auto_flow": null,
            "grid_auto_rows": null,
            "grid_column": null,
            "grid_gap": null,
            "grid_row": null,
            "grid_template_areas": null,
            "grid_template_columns": null,
            "grid_template_rows": null,
            "height": null,
            "justify_content": null,
            "justify_items": null,
            "left": null,
            "margin": null,
            "max_height": null,
            "max_width": null,
            "min_height": null,
            "min_width": null,
            "object_fit": null,
            "object_position": null,
            "order": null,
            "overflow": null,
            "overflow_x": null,
            "overflow_y": null,
            "padding": null,
            "right": null,
            "top": null,
            "visibility": null,
            "width": null
          }
        },
        "ed92653aa8bb4d25b1ed9e6feecdd0e2": {
          "model_module": "@jupyter-widgets/controls",
          "model_name": "DescriptionStyleModel",
          "model_module_version": "1.5.0",
          "state": {
            "_model_module": "@jupyter-widgets/controls",
            "_model_module_version": "1.5.0",
            "_model_name": "DescriptionStyleModel",
            "_view_count": null,
            "_view_module": "@jupyter-widgets/base",
            "_view_module_version": "1.2.0",
            "_view_name": "StyleView",
            "description_width": ""
          }
        },
        "50d167e854c84938ac8c57081fa57144": {
          "model_module": "@jupyter-widgets/controls",
          "model_name": "HBoxModel",
          "model_module_version": "1.5.0",
          "state": {
            "_dom_classes": [],
            "_model_module": "@jupyter-widgets/controls",
            "_model_module_version": "1.5.0",
            "_model_name": "HBoxModel",
            "_view_count": null,
            "_view_module": "@jupyter-widgets/controls",
            "_view_module_version": "1.5.0",
            "_view_name": "HBoxView",
            "box_style": "",
            "children": [
              "IPY_MODEL_311ce4e5f2e245dd95e42ec37f8f31bb",
              "IPY_MODEL_dcf2e2afb80544a6af441fe7ea6a8276",
              "IPY_MODEL_3355153138c449dca913cccc7780d5af"
            ],
            "layout": "IPY_MODEL_2766fa1f05d347fabb6be10346952d06"
          }
        },
        "311ce4e5f2e245dd95e42ec37f8f31bb": {
          "model_module": "@jupyter-widgets/controls",
          "model_name": "HTMLModel",
          "model_module_version": "1.5.0",
          "state": {
            "_dom_classes": [],
            "_model_module": "@jupyter-widgets/controls",
            "_model_module_version": "1.5.0",
            "_model_name": "HTMLModel",
            "_view_count": null,
            "_view_module": "@jupyter-widgets/controls",
            "_view_module_version": "1.5.0",
            "_view_name": "HTMLView",
            "description": "",
            "description_tooltip": null,
            "layout": "IPY_MODEL_2d60c078bb97431da5ca33a68cceb371",
            "placeholder": "​",
            "style": "IPY_MODEL_daa9ebd7cae9457883c51af8b8e3594d",
            "value": "Map: 100%"
          }
        },
        "dcf2e2afb80544a6af441fe7ea6a8276": {
          "model_module": "@jupyter-widgets/controls",
          "model_name": "FloatProgressModel",
          "model_module_version": "1.5.0",
          "state": {
            "_dom_classes": [],
            "_model_module": "@jupyter-widgets/controls",
            "_model_module_version": "1.5.0",
            "_model_name": "FloatProgressModel",
            "_view_count": null,
            "_view_module": "@jupyter-widgets/controls",
            "_view_module_version": "1.5.0",
            "_view_name": "ProgressView",
            "bar_style": "success",
            "description": "",
            "description_tooltip": null,
            "layout": "IPY_MODEL_28d7047c628a48b18488d2f62d628fad",
            "max": 1821,
            "min": 0,
            "orientation": "horizontal",
            "style": "IPY_MODEL_e98561bab0704a50bf9676dc182c8005",
            "value": 1821
          }
        },
        "3355153138c449dca913cccc7780d5af": {
          "model_module": "@jupyter-widgets/controls",
          "model_name": "HTMLModel",
          "model_module_version": "1.5.0",
          "state": {
            "_dom_classes": [],
            "_model_module": "@jupyter-widgets/controls",
            "_model_module_version": "1.5.0",
            "_model_name": "HTMLModel",
            "_view_count": null,
            "_view_module": "@jupyter-widgets/controls",
            "_view_module_version": "1.5.0",
            "_view_name": "HTMLView",
            "description": "",
            "description_tooltip": null,
            "layout": "IPY_MODEL_29e09051259b4d73b19339f7907bbd03",
            "placeholder": "​",
            "style": "IPY_MODEL_0b817f6327e94a1d9c82adb28f48d4fc",
            "value": " 1821/1821 [00:00&lt;00:00, 5431.83 examples/s]"
          }
        },
        "2766fa1f05d347fabb6be10346952d06": {
          "model_module": "@jupyter-widgets/base",
          "model_name": "LayoutModel",
          "model_module_version": "1.2.0",
          "state": {
            "_model_module": "@jupyter-widgets/base",
            "_model_module_version": "1.2.0",
            "_model_name": "LayoutModel",
            "_view_count": null,
            "_view_module": "@jupyter-widgets/base",
            "_view_module_version": "1.2.0",
            "_view_name": "LayoutView",
            "align_content": null,
            "align_items": null,
            "align_self": null,
            "border": null,
            "bottom": null,
            "display": null,
            "flex": null,
            "flex_flow": null,
            "grid_area": null,
            "grid_auto_columns": null,
            "grid_auto_flow": null,
            "grid_auto_rows": null,
            "grid_column": null,
            "grid_gap": null,
            "grid_row": null,
            "grid_template_areas": null,
            "grid_template_columns": null,
            "grid_template_rows": null,
            "height": null,
            "justify_content": null,
            "justify_items": null,
            "left": null,
            "margin": null,
            "max_height": null,
            "max_width": null,
            "min_height": null,
            "min_width": null,
            "object_fit": null,
            "object_position": null,
            "order": null,
            "overflow": null,
            "overflow_x": null,
            "overflow_y": null,
            "padding": null,
            "right": null,
            "top": null,
            "visibility": null,
            "width": null
          }
        },
        "2d60c078bb97431da5ca33a68cceb371": {
          "model_module": "@jupyter-widgets/base",
          "model_name": "LayoutModel",
          "model_module_version": "1.2.0",
          "state": {
            "_model_module": "@jupyter-widgets/base",
            "_model_module_version": "1.2.0",
            "_model_name": "LayoutModel",
            "_view_count": null,
            "_view_module": "@jupyter-widgets/base",
            "_view_module_version": "1.2.0",
            "_view_name": "LayoutView",
            "align_content": null,
            "align_items": null,
            "align_self": null,
            "border": null,
            "bottom": null,
            "display": null,
            "flex": null,
            "flex_flow": null,
            "grid_area": null,
            "grid_auto_columns": null,
            "grid_auto_flow": null,
            "grid_auto_rows": null,
            "grid_column": null,
            "grid_gap": null,
            "grid_row": null,
            "grid_template_areas": null,
            "grid_template_columns": null,
            "grid_template_rows": null,
            "height": null,
            "justify_content": null,
            "justify_items": null,
            "left": null,
            "margin": null,
            "max_height": null,
            "max_width": null,
            "min_height": null,
            "min_width": null,
            "object_fit": null,
            "object_position": null,
            "order": null,
            "overflow": null,
            "overflow_x": null,
            "overflow_y": null,
            "padding": null,
            "right": null,
            "top": null,
            "visibility": null,
            "width": null
          }
        },
        "daa9ebd7cae9457883c51af8b8e3594d": {
          "model_module": "@jupyter-widgets/controls",
          "model_name": "DescriptionStyleModel",
          "model_module_version": "1.5.0",
          "state": {
            "_model_module": "@jupyter-widgets/controls",
            "_model_module_version": "1.5.0",
            "_model_name": "DescriptionStyleModel",
            "_view_count": null,
            "_view_module": "@jupyter-widgets/base",
            "_view_module_version": "1.2.0",
            "_view_name": "StyleView",
            "description_width": ""
          }
        },
        "28d7047c628a48b18488d2f62d628fad": {
          "model_module": "@jupyter-widgets/base",
          "model_name": "LayoutModel",
          "model_module_version": "1.2.0",
          "state": {
            "_model_module": "@jupyter-widgets/base",
            "_model_module_version": "1.2.0",
            "_model_name": "LayoutModel",
            "_view_count": null,
            "_view_module": "@jupyter-widgets/base",
            "_view_module_version": "1.2.0",
            "_view_name": "LayoutView",
            "align_content": null,
            "align_items": null,
            "align_self": null,
            "border": null,
            "bottom": null,
            "display": null,
            "flex": null,
            "flex_flow": null,
            "grid_area": null,
            "grid_auto_columns": null,
            "grid_auto_flow": null,
            "grid_auto_rows": null,
            "grid_column": null,
            "grid_gap": null,
            "grid_row": null,
            "grid_template_areas": null,
            "grid_template_columns": null,
            "grid_template_rows": null,
            "height": null,
            "justify_content": null,
            "justify_items": null,
            "left": null,
            "margin": null,
            "max_height": null,
            "max_width": null,
            "min_height": null,
            "min_width": null,
            "object_fit": null,
            "object_position": null,
            "order": null,
            "overflow": null,
            "overflow_x": null,
            "overflow_y": null,
            "padding": null,
            "right": null,
            "top": null,
            "visibility": null,
            "width": null
          }
        },
        "e98561bab0704a50bf9676dc182c8005": {
          "model_module": "@jupyter-widgets/controls",
          "model_name": "ProgressStyleModel",
          "model_module_version": "1.5.0",
          "state": {
            "_model_module": "@jupyter-widgets/controls",
            "_model_module_version": "1.5.0",
            "_model_name": "ProgressStyleModel",
            "_view_count": null,
            "_view_module": "@jupyter-widgets/base",
            "_view_module_version": "1.2.0",
            "_view_name": "StyleView",
            "bar_color": null,
            "description_width": ""
          }
        },
        "29e09051259b4d73b19339f7907bbd03": {
          "model_module": "@jupyter-widgets/base",
          "model_name": "LayoutModel",
          "model_module_version": "1.2.0",
          "state": {
            "_model_module": "@jupyter-widgets/base",
            "_model_module_version": "1.2.0",
            "_model_name": "LayoutModel",
            "_view_count": null,
            "_view_module": "@jupyter-widgets/base",
            "_view_module_version": "1.2.0",
            "_view_name": "LayoutView",
            "align_content": null,
            "align_items": null,
            "align_self": null,
            "border": null,
            "bottom": null,
            "display": null,
            "flex": null,
            "flex_flow": null,
            "grid_area": null,
            "grid_auto_columns": null,
            "grid_auto_flow": null,
            "grid_auto_rows": null,
            "grid_column": null,
            "grid_gap": null,
            "grid_row": null,
            "grid_template_areas": null,
            "grid_template_columns": null,
            "grid_template_rows": null,
            "height": null,
            "justify_content": null,
            "justify_items": null,
            "left": null,
            "margin": null,
            "max_height": null,
            "max_width": null,
            "min_height": null,
            "min_width": null,
            "object_fit": null,
            "object_position": null,
            "order": null,
            "overflow": null,
            "overflow_x": null,
            "overflow_y": null,
            "padding": null,
            "right": null,
            "top": null,
            "visibility": null,
            "width": null
          }
        },
        "0b817f6327e94a1d9c82adb28f48d4fc": {
          "model_module": "@jupyter-widgets/controls",
          "model_name": "DescriptionStyleModel",
          "model_module_version": "1.5.0",
          "state": {
            "_model_module": "@jupyter-widgets/controls",
            "_model_module_version": "1.5.0",
            "_model_name": "DescriptionStyleModel",
            "_view_count": null,
            "_view_module": "@jupyter-widgets/base",
            "_view_module_version": "1.2.0",
            "_view_name": "StyleView",
            "description_width": ""
          }
        },
        "d15b1c4f0bcb417eb17017c120763128": {
          "model_module": "@jupyter-widgets/controls",
          "model_name": "HBoxModel",
          "model_module_version": "1.5.0",
          "state": {
            "_dom_classes": [],
            "_model_module": "@jupyter-widgets/controls",
            "_model_module_version": "1.5.0",
            "_model_name": "HBoxModel",
            "_view_count": null,
            "_view_module": "@jupyter-widgets/controls",
            "_view_module_version": "1.5.0",
            "_view_name": "HBoxView",
            "box_style": "",
            "children": [
              "IPY_MODEL_59dfe104bd454fc49e9899de0dc73577",
              "IPY_MODEL_57d873c31477443a938d228fa04eb163",
              "IPY_MODEL_669623dce42c40a99009ce3378e029b4"
            ],
            "layout": "IPY_MODEL_52365020cae14f27a7a57c0977da67d0"
          }
        },
        "59dfe104bd454fc49e9899de0dc73577": {
          "model_module": "@jupyter-widgets/controls",
          "model_name": "HTMLModel",
          "model_module_version": "1.5.0",
          "state": {
            "_dom_classes": [],
            "_model_module": "@jupyter-widgets/controls",
            "_model_module_version": "1.5.0",
            "_model_name": "HTMLModel",
            "_view_count": null,
            "_view_module": "@jupyter-widgets/controls",
            "_view_module_version": "1.5.0",
            "_view_name": "HTMLView",
            "description": "",
            "description_tooltip": null,
            "layout": "IPY_MODEL_a36f7bef0e2d4f908de476e7a98a7a0d",
            "placeholder": "​",
            "style": "IPY_MODEL_d62822a9da3d4c31a3f84fa35e958360",
            "value": "Map: 100%"
          }
        },
        "57d873c31477443a938d228fa04eb163": {
          "model_module": "@jupyter-widgets/controls",
          "model_name": "FloatProgressModel",
          "model_module_version": "1.5.0",
          "state": {
            "_dom_classes": [],
            "_model_module": "@jupyter-widgets/controls",
            "_model_module_version": "1.5.0",
            "_model_name": "FloatProgressModel",
            "_view_count": null,
            "_view_module": "@jupyter-widgets/controls",
            "_view_module_version": "1.5.0",
            "_view_name": "ProgressView",
            "bar_style": "success",
            "description": "",
            "description_tooltip": null,
            "layout": "IPY_MODEL_963c505501714f3da4507651ff283d85",
            "max": 872,
            "min": 0,
            "orientation": "horizontal",
            "style": "IPY_MODEL_6c0af035c4aa4ec3939ae26c8ed30221",
            "value": 872
          }
        },
        "669623dce42c40a99009ce3378e029b4": {
          "model_module": "@jupyter-widgets/controls",
          "model_name": "HTMLModel",
          "model_module_version": "1.5.0",
          "state": {
            "_dom_classes": [],
            "_model_module": "@jupyter-widgets/controls",
            "_model_module_version": "1.5.0",
            "_model_name": "HTMLModel",
            "_view_count": null,
            "_view_module": "@jupyter-widgets/controls",
            "_view_module_version": "1.5.0",
            "_view_name": "HTMLView",
            "description": "",
            "description_tooltip": null,
            "layout": "IPY_MODEL_c87e66f444bb48d191c6f77ee0d84e12",
            "placeholder": "​",
            "style": "IPY_MODEL_851640b5d1e1419496f89d2309c72f1b",
            "value": " 872/872 [00:00&lt;00:00, 7010.91 examples/s]"
          }
        },
        "52365020cae14f27a7a57c0977da67d0": {
          "model_module": "@jupyter-widgets/base",
          "model_name": "LayoutModel",
          "model_module_version": "1.2.0",
          "state": {
            "_model_module": "@jupyter-widgets/base",
            "_model_module_version": "1.2.0",
            "_model_name": "LayoutModel",
            "_view_count": null,
            "_view_module": "@jupyter-widgets/base",
            "_view_module_version": "1.2.0",
            "_view_name": "LayoutView",
            "align_content": null,
            "align_items": null,
            "align_self": null,
            "border": null,
            "bottom": null,
            "display": null,
            "flex": null,
            "flex_flow": null,
            "grid_area": null,
            "grid_auto_columns": null,
            "grid_auto_flow": null,
            "grid_auto_rows": null,
            "grid_column": null,
            "grid_gap": null,
            "grid_row": null,
            "grid_template_areas": null,
            "grid_template_columns": null,
            "grid_template_rows": null,
            "height": null,
            "justify_content": null,
            "justify_items": null,
            "left": null,
            "margin": null,
            "max_height": null,
            "max_width": null,
            "min_height": null,
            "min_width": null,
            "object_fit": null,
            "object_position": null,
            "order": null,
            "overflow": null,
            "overflow_x": null,
            "overflow_y": null,
            "padding": null,
            "right": null,
            "top": null,
            "visibility": null,
            "width": null
          }
        },
        "a36f7bef0e2d4f908de476e7a98a7a0d": {
          "model_module": "@jupyter-widgets/base",
          "model_name": "LayoutModel",
          "model_module_version": "1.2.0",
          "state": {
            "_model_module": "@jupyter-widgets/base",
            "_model_module_version": "1.2.0",
            "_model_name": "LayoutModel",
            "_view_count": null,
            "_view_module": "@jupyter-widgets/base",
            "_view_module_version": "1.2.0",
            "_view_name": "LayoutView",
            "align_content": null,
            "align_items": null,
            "align_self": null,
            "border": null,
            "bottom": null,
            "display": null,
            "flex": null,
            "flex_flow": null,
            "grid_area": null,
            "grid_auto_columns": null,
            "grid_auto_flow": null,
            "grid_auto_rows": null,
            "grid_column": null,
            "grid_gap": null,
            "grid_row": null,
            "grid_template_areas": null,
            "grid_template_columns": null,
            "grid_template_rows": null,
            "height": null,
            "justify_content": null,
            "justify_items": null,
            "left": null,
            "margin": null,
            "max_height": null,
            "max_width": null,
            "min_height": null,
            "min_width": null,
            "object_fit": null,
            "object_position": null,
            "order": null,
            "overflow": null,
            "overflow_x": null,
            "overflow_y": null,
            "padding": null,
            "right": null,
            "top": null,
            "visibility": null,
            "width": null
          }
        },
        "d62822a9da3d4c31a3f84fa35e958360": {
          "model_module": "@jupyter-widgets/controls",
          "model_name": "DescriptionStyleModel",
          "model_module_version": "1.5.0",
          "state": {
            "_model_module": "@jupyter-widgets/controls",
            "_model_module_version": "1.5.0",
            "_model_name": "DescriptionStyleModel",
            "_view_count": null,
            "_view_module": "@jupyter-widgets/base",
            "_view_module_version": "1.2.0",
            "_view_name": "StyleView",
            "description_width": ""
          }
        },
        "963c505501714f3da4507651ff283d85": {
          "model_module": "@jupyter-widgets/base",
          "model_name": "LayoutModel",
          "model_module_version": "1.2.0",
          "state": {
            "_model_module": "@jupyter-widgets/base",
            "_model_module_version": "1.2.0",
            "_model_name": "LayoutModel",
            "_view_count": null,
            "_view_module": "@jupyter-widgets/base",
            "_view_module_version": "1.2.0",
            "_view_name": "LayoutView",
            "align_content": null,
            "align_items": null,
            "align_self": null,
            "border": null,
            "bottom": null,
            "display": null,
            "flex": null,
            "flex_flow": null,
            "grid_area": null,
            "grid_auto_columns": null,
            "grid_auto_flow": null,
            "grid_auto_rows": null,
            "grid_column": null,
            "grid_gap": null,
            "grid_row": null,
            "grid_template_areas": null,
            "grid_template_columns": null,
            "grid_template_rows": null,
            "height": null,
            "justify_content": null,
            "justify_items": null,
            "left": null,
            "margin": null,
            "max_height": null,
            "max_width": null,
            "min_height": null,
            "min_width": null,
            "object_fit": null,
            "object_position": null,
            "order": null,
            "overflow": null,
            "overflow_x": null,
            "overflow_y": null,
            "padding": null,
            "right": null,
            "top": null,
            "visibility": null,
            "width": null
          }
        },
        "6c0af035c4aa4ec3939ae26c8ed30221": {
          "model_module": "@jupyter-widgets/controls",
          "model_name": "ProgressStyleModel",
          "model_module_version": "1.5.0",
          "state": {
            "_model_module": "@jupyter-widgets/controls",
            "_model_module_version": "1.5.0",
            "_model_name": "ProgressStyleModel",
            "_view_count": null,
            "_view_module": "@jupyter-widgets/base",
            "_view_module_version": "1.2.0",
            "_view_name": "StyleView",
            "bar_color": null,
            "description_width": ""
          }
        },
        "c87e66f444bb48d191c6f77ee0d84e12": {
          "model_module": "@jupyter-widgets/base",
          "model_name": "LayoutModel",
          "model_module_version": "1.2.0",
          "state": {
            "_model_module": "@jupyter-widgets/base",
            "_model_module_version": "1.2.0",
            "_model_name": "LayoutModel",
            "_view_count": null,
            "_view_module": "@jupyter-widgets/base",
            "_view_module_version": "1.2.0",
            "_view_name": "LayoutView",
            "align_content": null,
            "align_items": null,
            "align_self": null,
            "border": null,
            "bottom": null,
            "display": null,
            "flex": null,
            "flex_flow": null,
            "grid_area": null,
            "grid_auto_columns": null,
            "grid_auto_flow": null,
            "grid_auto_rows": null,
            "grid_column": null,
            "grid_gap": null,
            "grid_row": null,
            "grid_template_areas": null,
            "grid_template_columns": null,
            "grid_template_rows": null,
            "height": null,
            "justify_content": null,
            "justify_items": null,
            "left": null,
            "margin": null,
            "max_height": null,
            "max_width": null,
            "min_height": null,
            "min_width": null,
            "object_fit": null,
            "object_position": null,
            "order": null,
            "overflow": null,
            "overflow_x": null,
            "overflow_y": null,
            "padding": null,
            "right": null,
            "top": null,
            "visibility": null,
            "width": null
          }
        },
        "851640b5d1e1419496f89d2309c72f1b": {
          "model_module": "@jupyter-widgets/controls",
          "model_name": "DescriptionStyleModel",
          "model_module_version": "1.5.0",
          "state": {
            "_model_module": "@jupyter-widgets/controls",
            "_model_module_version": "1.5.0",
            "_model_name": "DescriptionStyleModel",
            "_view_count": null,
            "_view_module": "@jupyter-widgets/base",
            "_view_module_version": "1.2.0",
            "_view_name": "StyleView",
            "description_width": ""
          }
        }
      }
    }
  },
  "nbformat": 4,
  "nbformat_minor": 0
}