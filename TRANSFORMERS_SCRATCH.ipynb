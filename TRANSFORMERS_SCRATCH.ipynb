{
  "cells": [
    {
      "cell_type": "markdown",
      "metadata": {
        "id": "view-in-github",
        "colab_type": "text"
      },
      "source": [
        "<a href=\"https://colab.research.google.com/github/somewhereovertherainbo/TRANSFORMERS/blob/main/TRANSFORMERS_SCRATCH.ipynb\" target=\"_parent\"><img src=\"https://colab.research.google.com/assets/colab-badge.svg\" alt=\"Open In Colab\"/></a>"
      ]
    },
    {
      "cell_type": "code",
      "execution_count": 1,
      "metadata": {
        "id": "C6NJIdW0_Zgs"
      },
      "outputs": [],
      "source": [
        "import torch\n",
        "from torch import nn"
      ]
    },
    {
      "cell_type": "code",
      "execution_count": 2,
      "metadata": {
        "id": "ikaPP97sBDd-"
      },
      "outputs": [],
      "source": [
        "device = 'cuda' if torch.cuda.is_available() else 'cpu'"
      ]
    },
    {
      "cell_type": "markdown",
      "metadata": {
        "id": "2JqixytammCH"
      },
      "source": [
        "# PLAN:\n",
        "1. Have a class self.SelfAttention\n",
        "2. Use it to make self.MultiHeadAttention\n",
        "3. Use it to make transformer block.\n",
        "4. Use it to make a Decoder.\n"
      ]
    },
    {
      "cell_type": "markdown",
      "metadata": {
        "id": "tZr23A71nXm3"
      },
      "source": [
        "# Top - down approach"
      ]
    },
    {
      "cell_type": "code",
      "execution_count": 3,
      "metadata": {
        "id": "KH9l0n40OZr9"
      },
      "outputs": [],
      "source": [
        "class SelfAttention(nn.Module):\n",
        "\n",
        "  def __init__(self, d_model, h):\n",
        "    super().__init__()\n",
        "\n",
        "    self.d_model = d_model\n",
        "    self.h = h\n",
        "    self.d_key = int(d_model/h)\n",
        "    self.key_generator = nn.Linear(in_features = self.d_model, out_features = self.d_key, bias = False, device = device)\n",
        "    # self.register_buffer('tril', torch.tril(torch.ones(self.d_model, self.d_model)))\n",
        "\n",
        "\n",
        "\n",
        "  def forward(self,x):\n",
        "\n",
        "    B, T = x.shape[0], x.shape[1]\n",
        "\n",
        "    key = self.key_generator(x) # (B, T, d_model) @ (d_model, d_key) --> (B, T, d_key)\n",
        "    query = self.key_generator(x) # (B, T, d_model) @ (d_model, d_key) --> (B, T, d_key)\n",
        "    value = self.key_generator(x) # (B, T, d_model) @ (d_model, d_key) --> (B, T, d_key)\n",
        "\n",
        "    att_mat = query @ key.transpose(-1,-2)\n",
        "    # (B, T, d_key) @ (B, d_key, T) --> (B, T, T) --> (T,T) set of attention weights for each batch\n",
        "    with torch.no_grad():\n",
        "      tril = torch.tril(torch.ones((T, T), device = device))\n",
        "    att_mat = att_mat.masked_fill(tril[:T, :T]==0, float('-inf'))/torch.sqrt(torch.tensor(self.d_key))\n",
        "    att_mat = att_mat.softmax(dim = -1)\n",
        "\n",
        "    sa_out = att_mat @ value # (B, T, T) @ (B, T, d_key) --> (B, T, d_key)\n",
        "\n",
        "    return sa_out"
      ]
    },
    {
      "cell_type": "code",
      "execution_count": 4,
      "metadata": {
        "id": "3FFd0NzDnbgy"
      },
      "outputs": [],
      "source": [
        "class MultiHeadAttention(nn.Module):\n",
        "\n",
        "  def __init__(self, d_model, h):\n",
        "    super().__init__()\n",
        "    self.h = h\n",
        "    self.d_model = d_model\n",
        "    self.SelfAttention = SelfAttention(self.d_model, self.h)\n",
        "    self.W_O = nn.Linear(in_features = self.d_model, out_features = self.d_model, bias = False, device = device)\n",
        "\n",
        "\n",
        "  def forward(self, x):\n",
        "    multiple_attentions = [self.SelfAttention(x) for _ in range(0,self.h)]\n",
        "    return self.W_O(torch.cat([a for a in multiple_attentions], dim = -1)) # (B, T, d_model) @ ( d_model, d_model) --> (B, T, d_model)\n",
        "\n"
      ]
    },
    {
      "cell_type": "code",
      "execution_count": 5,
      "metadata": {
        "id": "KB0_j5Y8QCFw"
      },
      "outputs": [],
      "source": [
        "class Decoder(nn.Module):\n",
        "\n",
        "  def __init__(self, d_model, h):\n",
        "    super().__init__()\n",
        "    self.d_model = d_model\n",
        "    self.h = h\n",
        "    self.LayerNorm = nn.LayerNorm(normalized_shape = self.d_model)\n",
        "    self.ffwd = nn.Sequential(\n",
        "        nn.Linear(in_features = self.d_model, out_features = self.d_model, device = device, bias = False),\n",
        "        nn.ReLU(),\n",
        "        nn.Linear(in_features = self.d_model, out_features = self.d_model, device = device, bias = False),\n",
        "        nn.ReLU()\n",
        "    )\n",
        "    self.MultiHeadAttention = MultiHeadAttention(self.d_model, self.h)\n",
        "\n",
        "  def forward(self, x):\n",
        "\n",
        "    x = self.LayerNorm(x + self.MultiHeadAttention(x))\n",
        "    x = self.LayerNorm(x + self.ffwd(x))\n",
        "\n",
        "    return x"
      ]
    },
    {
      "cell_type": "code",
      "execution_count": 6,
      "metadata": {
        "colab": {
          "base_uri": "https://localhost:8080/"
        },
        "id": "bEY59w0n0bKN",
        "outputId": "945e9dd0-64b1-416a-fa33-d33e85440c2a"
      },
      "outputs": [
        {
          "output_type": "execute_result",
          "data": {
            "text/plain": [
              "Decoder(\n",
              "  (LayerNorm): LayerNorm((512,), eps=1e-05, elementwise_affine=True)\n",
              "  (ffwd): Sequential(\n",
              "    (0): Linear(in_features=512, out_features=512, bias=False)\n",
              "    (1): ReLU()\n",
              "    (2): Linear(in_features=512, out_features=512, bias=False)\n",
              "    (3): ReLU()\n",
              "  )\n",
              "  (MultiHeadAttention): MultiHeadAttention(\n",
              "    (SelfAttention): SelfAttention(\n",
              "      (key_generator): Linear(in_features=512, out_features=64, bias=False)\n",
              "    )\n",
              "    (W_O): Linear(in_features=512, out_features=512, bias=False)\n",
              "  )\n",
              ")"
            ]
          },
          "metadata": {},
          "execution_count": 6
        }
      ],
      "source": [
        "model = Decoder(d_model = 512, h = 8)\n",
        "model.to(device)"
      ]
    },
    {
      "cell_type": "code",
      "execution_count": 7,
      "metadata": {
        "colab": {
          "base_uri": "https://localhost:8080/"
        },
        "id": "OZIx2uep0oAc",
        "outputId": "dbbc9ecc-ccf8-4064-ba15-6700c7a12bef"
      },
      "outputs": [
        {
          "output_type": "stream",
          "name": "stdout",
          "text": [
            "tensor([[[ 0.9776,  0.1115, -0.9621,  ...,  0.5392, -0.9317, -1.2082],\n",
            "         [ 1.4069, -1.7578,  1.0591,  ..., -0.5702, -0.3657, -0.2215],\n",
            "         [-0.9374, -1.8805, -0.6157,  ..., -0.8029,  0.6850, -1.9645],\n",
            "         ...,\n",
            "         [-0.3475,  0.9665, -1.0323,  ...,  0.3691,  1.0670, -2.1573],\n",
            "         [-0.1155,  0.6262,  0.3138,  ..., -0.5459, -1.0122,  0.2137],\n",
            "         [-0.2156, -0.3790, -0.6483,  ...,  0.5987, -1.4161,  0.2181]],\n",
            "\n",
            "        [[ 1.4180,  0.1433,  1.5250,  ...,  2.3955,  0.2119, -1.5202],\n",
            "         [-0.2332, -0.2555,  1.6076,  ..., -0.8778,  1.7802, -0.0887],\n",
            "         [-1.6532,  0.9162, -0.4903,  ...,  1.0129, -1.0603,  0.1273],\n",
            "         ...,\n",
            "         [-2.2768, -0.4303,  1.1993,  ..., -1.0436, -0.3703,  0.9475],\n",
            "         [-1.0369,  1.3910, -1.2394,  ...,  1.1217, -0.1660, -0.4244],\n",
            "         [-0.8255, -0.3792,  0.6846,  ..., -1.3602,  0.4165, -1.1715]],\n",
            "\n",
            "        [[-0.4034, -0.1151,  0.6070,  ...,  0.1601, -0.0437, -0.6539],\n",
            "         [ 2.6607, -1.3905, -0.5873,  ..., -0.0841,  0.1499,  0.8841],\n",
            "         [-1.3724, -1.7013,  0.1963,  ...,  0.1903, -0.2841, -1.9090],\n",
            "         ...,\n",
            "         [-2.0337,  0.3156,  0.8434,  ...,  1.0191,  0.4885, -1.0874],\n",
            "         [-0.5108, -0.4828,  1.2416,  ..., -0.4527,  0.4729,  0.1493],\n",
            "         [-0.0521, -0.2953,  1.0953,  ...,  0.5156,  1.9219,  1.2080]],\n",
            "\n",
            "        ...,\n",
            "\n",
            "        [[ 0.4476, -0.6857,  0.0291,  ..., -1.7321,  1.4158, -0.8074],\n",
            "         [ 0.6677, -0.6226, -0.9460,  ...,  0.5506,  0.2128, -0.8030],\n",
            "         [-0.3218,  0.1975, -0.1349,  ...,  0.2286,  0.1539,  1.2269],\n",
            "         ...,\n",
            "         [ 0.4735, -0.0068, -1.9531,  ..., -0.0278, -0.4764,  0.2620],\n",
            "         [-0.0228,  0.8674,  0.4261,  ...,  0.0573, -0.5146,  1.0644],\n",
            "         [-0.4164, -0.2218, -1.2083,  ..., -2.1307,  0.5220,  1.4330]],\n",
            "\n",
            "        [[ 1.0239,  0.1542, -0.0718,  ...,  1.6919, -0.6914,  0.8544],\n",
            "         [-0.4076,  2.6094, -1.1168,  ..., -0.5694, -0.3479, -0.6185],\n",
            "         [-0.7145,  0.1643,  0.4202,  ...,  1.0573,  0.4522,  0.6032],\n",
            "         ...,\n",
            "         [ 1.0050,  1.0611,  0.8369,  ...,  0.6918, -0.1307,  0.2052],\n",
            "         [ 0.2679, -0.3153, -0.1665,  ..., -0.1072, -0.4682, -1.3995],\n",
            "         [ 0.1799, -0.8246, -1.8277,  ..., -0.4866,  1.4000,  0.0329]],\n",
            "\n",
            "        [[ 0.5413, -0.8944, -0.9829,  ...,  0.4894, -1.9123, -1.5305],\n",
            "         [-0.7928, -1.7685,  0.1524,  ..., -0.6535,  0.6806,  0.3326],\n",
            "         [-1.0680, -2.6889,  1.3264,  ..., -0.3876,  0.6209,  0.2150],\n",
            "         ...,\n",
            "         [ 0.2217,  0.2470, -0.4751,  ...,  0.8959, -0.9590, -1.7449],\n",
            "         [ 1.6006,  0.6054,  0.7621,  ..., -0.0057, -0.1803,  1.0255],\n",
            "         [ 0.4926, -0.7670, -0.2001,  ..., -0.8237,  1.5969,  0.4787]]],\n",
            "       device='cuda:0') \n",
            "\n"
          ]
        },
        {
          "output_type": "execute_result",
          "data": {
            "text/plain": [
              "tensor([[[ 7.4059e-01,  9.9505e-03, -1.0647e+00,  ...,  7.0760e-01,\n",
              "          -9.6240e-01, -1.0779e+00],\n",
              "         [ 8.3805e-01, -1.6097e+00,  6.7996e-01,  ..., -4.6374e-01,\n",
              "          -6.5939e-01,  7.1903e-04],\n",
              "         [-5.2713e-01, -1.9962e+00, -8.3529e-01,  ..., -1.0812e+00,\n",
              "           1.3326e+00, -1.7449e+00],\n",
              "         ...,\n",
              "         [ 3.8161e-02,  4.9626e-01, -5.7895e-01,  ...,  3.3594e-01,\n",
              "           7.9056e-01, -1.4931e+00],\n",
              "         [-3.0594e-01,  6.1608e-01,  4.6572e-03,  ..., -2.5992e-01,\n",
              "          -6.4094e-01,  8.1678e-02],\n",
              "         [-4.8958e-01, -6.7025e-01, -8.3117e-01,  ...,  5.4947e-01,\n",
              "          -1.3716e+00,  5.4600e-01]],\n",
              "\n",
              "        [[ 1.6461e+00, -1.3125e-01,  1.2532e+00,  ...,  2.5706e+00,\n",
              "           3.6594e-01, -1.6717e+00],\n",
              "         [-9.3817e-01, -3.0390e-01,  1.8385e+00,  ..., -1.0677e+00,\n",
              "           1.6119e+00, -9.6694e-02],\n",
              "         [-2.1221e+00,  1.0345e+00, -3.5155e-01,  ...,  1.0689e+00,\n",
              "          -1.0708e+00,  1.3464e-01],\n",
              "         ...,\n",
              "         [-2.4517e+00, -4.0561e-01,  1.3918e+00,  ..., -1.2270e+00,\n",
              "          -5.5239e-01,  1.1647e+00],\n",
              "         [-1.1712e+00,  1.2763e+00, -1.2594e+00,  ...,  1.1020e+00,\n",
              "          -1.0174e-01, -2.9376e-01],\n",
              "         [-1.0543e+00, -4.5993e-01,  8.4037e-01,  ..., -1.2267e+00,\n",
              "           6.1520e-01, -1.2523e+00]],\n",
              "\n",
              "        [[-5.2275e-01, -1.1159e-01,  6.3804e-01,  ..., -8.1021e-02,\n",
              "          -3.2401e-01, -5.3447e-01],\n",
              "         [ 2.4927e+00, -1.1622e+00, -5.0715e-01,  ..., -8.0932e-02,\n",
              "           3.3425e-01,  6.9483e-01],\n",
              "         [-1.0885e+00, -1.6767e+00,  1.1238e-01,  ...,  2.0438e-01,\n",
              "          -4.5001e-01, -1.7960e+00],\n",
              "         ...,\n",
              "         [-2.0965e+00,  4.2620e-01,  5.8950e-01,  ...,  1.2794e+00,\n",
              "           5.9432e-01, -1.4634e+00],\n",
              "         [-6.7774e-01, -1.9612e-01,  8.9215e-01,  ..., -3.5176e-01,\n",
              "           4.5680e-01,  1.1967e-01],\n",
              "         [ 3.3047e-02, -4.8629e-01,  9.9793e-01,  ...,  5.3783e-01,\n",
              "           1.6664e+00,  1.0819e+00]],\n",
              "\n",
              "        ...,\n",
              "\n",
              "        [[ 3.4921e-01, -6.3116e-01,  9.1028e-02,  ..., -1.9582e+00,\n",
              "           8.9525e-01, -1.0920e+00],\n",
              "         [ 8.6470e-01, -4.8406e-01, -1.0253e+00,  ...,  5.2701e-01,\n",
              "           3.6854e-01, -1.2065e+00],\n",
              "         [-2.4173e-01, -2.3014e-01, -6.1398e-01,  ...,  3.1401e-01,\n",
              "           4.8440e-01,  8.0262e-01],\n",
              "         ...,\n",
              "         [ 9.2123e-01, -6.7142e-01, -1.9108e+00,  ..., -9.3409e-02,\n",
              "          -7.2577e-01,  5.3472e-01],\n",
              "         [ 6.8378e-03,  1.0010e+00,  7.6165e-01,  ...,  3.7303e-01,\n",
              "          -5.5033e-01,  9.5797e-01],\n",
              "         [-1.0269e+00, -6.3138e-01, -1.0596e+00,  ..., -2.1246e+00,\n",
              "           3.9389e-01,  1.6964e+00]],\n",
              "\n",
              "        [[ 1.9168e-01, -2.2860e-01, -9.0385e-02,  ...,  1.4152e+00,\n",
              "          -1.0670e+00,  1.0685e+00],\n",
              "         [-2.7349e-01,  2.2432e+00, -6.5239e-01,  ..., -9.8098e-01,\n",
              "          -6.3015e-01, -3.2906e-01],\n",
              "         [-8.1264e-01,  1.7646e-01,  6.0935e-01,  ...,  1.2059e+00,\n",
              "           2.6061e-01,  5.5755e-01],\n",
              "         ...,\n",
              "         [ 9.0763e-01,  8.6109e-01,  9.0766e-01,  ...,  8.4522e-01,\n",
              "          -1.4382e-01,  2.6448e-01],\n",
              "         [ 7.2698e-01, -8.7197e-02, -9.8683e-02,  ..., -1.1052e-01,\n",
              "          -4.4007e-01, -1.8210e+00],\n",
              "         [ 4.3014e-01, -7.9565e-01, -1.6058e+00,  ..., -4.6377e-01,\n",
              "           1.7688e+00, -2.6658e-01]],\n",
              "\n",
              "        [[ 1.6227e-01, -1.5492e+00, -1.2489e+00,  ...,  1.7844e-01,\n",
              "          -1.8835e+00, -1.1203e+00],\n",
              "         [-1.0451e+00, -1.7430e+00,  4.3927e-01,  ..., -2.0935e-01,\n",
              "           7.9445e-01,  5.2599e-01],\n",
              "         [-6.5710e-01, -1.9216e+00,  1.8411e+00,  ..., -5.3563e-01,\n",
              "           6.5932e-01,  1.3419e-01],\n",
              "         ...,\n",
              "         [ 2.9152e-01,  3.5734e-01, -2.2709e-01,  ...,  8.3630e-01,\n",
              "          -9.0972e-01, -1.3014e+00],\n",
              "         [ 1.6486e+00,  4.9111e-01,  1.0403e+00,  ...,  2.8425e-01,\n",
              "          -2.2219e-01,  1.4199e+00],\n",
              "         [ 5.8779e-01, -4.1171e-01,  5.0708e-02,  ..., -7.6476e-01,\n",
              "           1.5194e+00,  7.0947e-01]]], device='cuda:0',\n",
              "       grad_fn=<NativeLayerNormBackward0>)"
            ]
          },
          "metadata": {},
          "execution_count": 7
        }
      ],
      "source": [
        "B = 32\n",
        "T = 10\n",
        "d_model = 512\n",
        "x_in = torch.randn((B, T, d_model), device = device)\n",
        "print(x_in, '\\n')\n",
        "model(x_in)"
      ]
    },
    {
      "cell_type": "markdown",
      "metadata": {
        "id": "axVQpeMZAnie"
      },
      "source": [
        "# Much Effiecent implementation without the use of for loops"
      ]
    },
    {
      "cell_type": "code",
      "execution_count": 8,
      "metadata": {
        "id": "cT6SWwNK9opD"
      },
      "outputs": [],
      "source": [
        "import math\n",
        "\n",
        "import torch\n",
        "from torch import nn\n",
        "from torch.utils.data import dataset\n",
        "\n",
        "import numpy as np\n",
        "import matplotlib as plt"
      ]
    },
    {
      "cell_type": "code",
      "execution_count": 9,
      "metadata": {
        "id": "WqdpFlLFnSM2"
      },
      "outputs": [],
      "source": [
        "device = 'cuda' if torch.cuda.is_available() else 'cpu'"
      ]
    },
    {
      "cell_type": "code",
      "execution_count": 10,
      "metadata": {
        "id": "uo489A-0l2DM"
      },
      "outputs": [],
      "source": [
        "class MultiHeadAttention(nn.Module):\n",
        "\n",
        "  \"\"\"\n",
        "  Implements MultiHeadAttention Mechanism.\n",
        "\n",
        "  Args:\n",
        "    d_key: Dimension of keys to be produced\n",
        "    d_model: Dimension of Model/ input token dimension\n",
        "    h: Number of Attention heads\n",
        "  \"\"\"\n",
        "\n",
        "  def __init__(self, d_key, d_model, h, mask = False):\n",
        "    super().__init__()\n",
        "\n",
        "    # Assumption: d_value = d_key\n",
        "    self.d_key = d_key\n",
        "    self.h = h\n",
        "\n",
        "    # Compute all of the 'h' keys and queries and values at once instead of using a for loop for each head.\n",
        "    self.key = nn.Linear(d_model, d_key * h, bias = False, device = device)\n",
        "    self.query = nn.Linear(d_model, d_key * h, bias = False, device = device)\n",
        "    self.value = nn.Linear(d_model, d_key * h, bias = False, device = device)\n",
        "\n",
        "    # Final Linear Layer to be applied after attention blocks\n",
        "    self.W_O = nn.Linear(d_key * h, d_model)\n",
        "\n",
        "  def forward(self, q, k, v, mask = None):\n",
        "\n",
        "    B, T = q.shape[0], q.shape[1]\n",
        "\n",
        "    q = self.query(q)  # (B, T, d_key*h)\n",
        "    k = self.key(k)  # (B, T, d_key*h)\n",
        "    v = self.value(v)  # (B, T, d_key*h)\n",
        "\n",
        "    # Change shape from (B, T, d_key*h) to (B, h, T, d_key)\n",
        "    q = q.view(B, T, self.h, self.d_key).transpose(1,2)\n",
        "    k = k.view(B, T, self.h, self.d_key).transpose(1,2)\n",
        "    v = v.view(B, T, self.h, self.d_key).transpose(1,2)\n",
        "\n",
        "    # Compute Attention Weights (B, h, T, d_key) @ (B, h, d_key, T) --> (B, h, T, T). (T, T) weights for each head.\n",
        "    attention_mat = q @ k.transpose(-2,-1)/ math.sqrt(self.d_key)\n",
        "\n",
        "    if mask is not None:\n",
        "      attention_mat = attention_mat.masked_fill(mask[:, None, None, :] == 0, float('-inf'))\n",
        "\n",
        "    attention_weights = attention_mat.softmax(dim = -1)\n",
        "\n",
        "    # Attention weighted values for each input token (B, h, T, T) @ (B, h, T, d_key) --> (B, h, T, d_key)\n",
        "    A = attention_weights @ v\n",
        "\n",
        "    # Reshape it for the final output\n",
        "    A = A.transpose(1,2)\n",
        "    A = A.contiguous().view(B, T, self.d_key * self.h)\n",
        "\n",
        "    return self.W_O(A)"
      ]
    },
    {
      "cell_type": "code",
      "execution_count": 11,
      "metadata": {
        "id": "qwyGr3SIrvtk"
      },
      "outputs": [],
      "source": [
        "class TransformerBlock(nn.Module):\n",
        "\n",
        "  def __init__(self, d_key, d_model, h, dropout_prob = 0.1):\n",
        "    super().__init__()\n",
        "\n",
        "    self.ln1 = nn.LayerNorm(d_model)\n",
        "    self.ln2 = nn.LayerNorm(d_model)\n",
        "    self.mha = MultiHeadAttention(d_key, d_model, h)\n",
        "    self.ann = nn.Sequential(\n",
        "        nn.Linear(d_model, d_model * 4),\n",
        "        nn.GELU(),\n",
        "        nn.Linear(4*d_model, d_model),\n",
        "        nn.Dropout(dropout_prob)\n",
        "    )\n",
        "\n",
        "    self.dropout = nn.Dropout(dropout_prob)\n",
        "\n",
        "  def forward(self, x, mask = None):\n",
        "    x = self.ln1(x + self.mha(x, x, x, mask))\n",
        "    x = self.ln2(x + self.ann(x))\n",
        "    x = self.dropout(x)\n",
        "\n",
        "    return x"
      ]
    },
    {
      "cell_type": "code",
      "execution_count": 12,
      "metadata": {
        "id": "-ag4Rrjd0LNi"
      },
      "outputs": [],
      "source": [
        "class PositionalEncoding(nn.Module):\n",
        "\n",
        "  def __init__(self, d_model, max_len = 2048, dropout_prob = 0.1):\n",
        "    super().__init__()\n",
        "\n",
        "    self.dropout = nn.Dropout(dropout_prob)\n",
        "\n",
        "    position = torch.arange(max_len).unsqueeze(1)\n",
        "    exp_term = torch.arange(0, d_model, 2)\n",
        "    div_term = torch.exp(exp_term * (-math.log(10000.0)/ d_model))\n",
        "    pe = torch.zeros(1, max_len, d_model)\n",
        "    pe[0, :, 0::2] = torch.sin(position * div_term)\n",
        "    pe[0, :, 1::2] = torch.cos(position * div_term)\n",
        "    self.register_buffer('pe', pe)\n",
        "\n",
        "  def forward(self, x):\n",
        "    x = x + self.pe[:, :x.size(1), :]\n",
        "    return self.dropout(x)"
      ]
    },
    {
      "cell_type": "code",
      "execution_count": 13,
      "metadata": {
        "id": "MFrXW3qekd7D"
      },
      "outputs": [],
      "source": [
        "class Encoder(nn.Module):\n",
        "\n",
        "  def __init__(self, vocab_size, max_len, d_key, d_model, n_heads, n_layers, n_classes, dropout_prob):\n",
        "    super().__init__()\n",
        "\n",
        "    self.embedding = nn.Embedding(vocab_size, d_model)\n",
        "    self.pos_encoding = PositionalEncoding(d_model, max_len, dropout_prob)\n",
        "    transformer_blocks = [TransformerBlock(d_key, d_model, n_heads, dropout_prob) for _ in range(n_layers)]\n",
        "    self.transformer_blocks = nn.Sequential(*transformer_blocks)\n",
        "    self.ln = nn.LayerNorm(d_model)\n",
        "    self.ff = nn.Linear(d_model, n_classes)\n",
        "\n",
        "  def forward(self, x, mask = None):\n",
        "    x = self.embedding(x)\n",
        "    x = self.pos_encoding(x)\n",
        "    # Later on we need to pass the mask which is not None. So, we need a for loop to pass mask to each layer\n",
        "    for block in self.transformer_blocks:\n",
        "      x = block(x, mask)\n",
        "\n",
        "    # Depends on the task need to be performed, we can choose just the output vector\n",
        "    x = x[:, 0, :]  # Just picking out a single timestep output, timestep_0\n",
        "\n",
        "    x = self.ln(x)\n",
        "    x = self.ff(x)\n",
        "\n",
        "    return x\n",
        "\n",
        "\n"
      ]
    },
    {
      "cell_type": "code",
      "execution_count": 14,
      "metadata": {
        "colab": {
          "base_uri": "https://localhost:8080/"
        },
        "id": "JruKFJw_pRqk",
        "outputId": "0e42fc02-1bce-42df-e8fd-c42304070d68"
      },
      "outputs": [
        {
          "output_type": "execute_result",
          "data": {
            "text/plain": [
              "Encoder(\n",
              "  (embedding): Embedding(20000, 64)\n",
              "  (pos_encoding): PositionalEncoding(\n",
              "    (dropout): Dropout(p=0.1, inplace=False)\n",
              "  )\n",
              "  (transformer_blocks): Sequential(\n",
              "    (0): TransformerBlock(\n",
              "      (ln1): LayerNorm((64,), eps=1e-05, elementwise_affine=True)\n",
              "      (ln2): LayerNorm((64,), eps=1e-05, elementwise_affine=True)\n",
              "      (mha): MultiHeadAttention(\n",
              "        (key): Linear(in_features=64, out_features=64, bias=False)\n",
              "        (query): Linear(in_features=64, out_features=64, bias=False)\n",
              "        (value): Linear(in_features=64, out_features=64, bias=False)\n",
              "        (W_O): Linear(in_features=64, out_features=64, bias=True)\n",
              "      )\n",
              "      (ann): Sequential(\n",
              "        (0): Linear(in_features=64, out_features=256, bias=True)\n",
              "        (1): GELU(approximate='none')\n",
              "        (2): Linear(in_features=256, out_features=64, bias=True)\n",
              "        (3): Dropout(p=0.1, inplace=False)\n",
              "      )\n",
              "      (dropout): Dropout(p=0.1, inplace=False)\n",
              "    )\n",
              "    (1): TransformerBlock(\n",
              "      (ln1): LayerNorm((64,), eps=1e-05, elementwise_affine=True)\n",
              "      (ln2): LayerNorm((64,), eps=1e-05, elementwise_affine=True)\n",
              "      (mha): MultiHeadAttention(\n",
              "        (key): Linear(in_features=64, out_features=64, bias=False)\n",
              "        (query): Linear(in_features=64, out_features=64, bias=False)\n",
              "        (value): Linear(in_features=64, out_features=64, bias=False)\n",
              "        (W_O): Linear(in_features=64, out_features=64, bias=True)\n",
              "      )\n",
              "      (ann): Sequential(\n",
              "        (0): Linear(in_features=64, out_features=256, bias=True)\n",
              "        (1): GELU(approximate='none')\n",
              "        (2): Linear(in_features=256, out_features=64, bias=True)\n",
              "        (3): Dropout(p=0.1, inplace=False)\n",
              "      )\n",
              "      (dropout): Dropout(p=0.1, inplace=False)\n",
              "    )\n",
              "  )\n",
              "  (ln): LayerNorm((64,), eps=1e-05, elementwise_affine=True)\n",
              "  (ff): Linear(in_features=64, out_features=5, bias=True)\n",
              ")"
            ]
          },
          "metadata": {},
          "execution_count": 14
        }
      ],
      "source": [
        "# Test with dummy values\n",
        "model = Encoder(vocab_size = 20000,\n",
        "                max_len =1024,\n",
        "                d_key = 16,\n",
        "                d_model = 64,\n",
        "                n_heads = 4,\n",
        "                n_layers = 2,\n",
        "                n_classes = 5,\n",
        "                dropout_prob = 0.1)\n",
        "model.to(device)"
      ]
    },
    {
      "cell_type": "code",
      "execution_count": 15,
      "metadata": {
        "id": "gPuXOEBD3g8-"
      },
      "outputs": [],
      "source": [
        "x_sample = torch.randint(0, 20000, size = (8,512)).to(device)"
      ]
    },
    {
      "cell_type": "code",
      "execution_count": 16,
      "metadata": {
        "id": "Ix9AF6FOG6LX"
      },
      "outputs": [],
      "source": [
        "mask = torch.ones((8,512))\n",
        "mask[:,256:] = 0\n",
        "mask = mask.to(device)"
      ]
    },
    {
      "cell_type": "code",
      "execution_count": 17,
      "metadata": {
        "id": "24C6o_YzAepP"
      },
      "outputs": [],
      "source": [
        "y = model(x_sample, mask)"
      ]
    },
    {
      "cell_type": "code",
      "execution_count": 18,
      "metadata": {
        "colab": {
          "base_uri": "https://localhost:8080/"
        },
        "id": "5Ijan1W_AsZS",
        "outputId": "098dd86f-88b5-42a8-f377-a327dc7cd9a7"
      },
      "outputs": [
        {
          "output_type": "execute_result",
          "data": {
            "text/plain": [
              "torch.Size([8, 5])"
            ]
          },
          "metadata": {},
          "execution_count": 18
        }
      ],
      "source": [
        "y.shape"
      ]
    },
    {
      "cell_type": "code",
      "execution_count": 19,
      "metadata": {
        "id": "plRPDd0PA_xa"
      },
      "outputs": [],
      "source": [
        "from transformers import AutoTokenizer, DataCollatorWithPadding"
      ]
    },
    {
      "cell_type": "code",
      "execution_count": 20,
      "metadata": {
        "colab": {
          "base_uri": "https://localhost:8080/"
        },
        "id": "3OyU_IEYCJSo",
        "outputId": "5baa8237-cb66-4270-f69f-dc206de655a2"
      },
      "outputs": [
        {
          "output_type": "stream",
          "name": "stderr",
          "text": [
            "/usr/local/lib/python3.10/dist-packages/huggingface_hub/utils/_token.py:88: UserWarning: \n",
            "The secret `HF_TOKEN` does not exist in your Colab secrets.\n",
            "To authenticate with the Hugging Face Hub, create a token in your settings tab (https://huggingface.co/settings/tokens), set it as secret in your Google Colab and restart your session.\n",
            "You will be able to reuse this secret in all of your notebooks.\n",
            "Please note that authentication is recommended but still optional to access public models or datasets.\n",
            "  warnings.warn(\n"
          ]
        }
      ],
      "source": [
        "checkpoint = 'distilbert-base-cased'\n",
        "tokenizer = AutoTokenizer.from_pretrained(checkpoint)"
      ]
    },
    {
      "cell_type": "code",
      "execution_count": 21,
      "metadata": {
        "colab": {
          "base_uri": "https://localhost:8080/"
        },
        "id": "RB5wg6RXCpXy",
        "outputId": "4ea99360-4200-4082-f459-c267c9bc2769"
      },
      "outputs": [
        {
          "output_type": "stream",
          "name": "stdout",
          "text": [
            "Requirement already satisfied: datasets in /usr/local/lib/python3.10/dist-packages (2.17.0)\n",
            "Requirement already satisfied: filelock in /usr/local/lib/python3.10/dist-packages (from datasets) (3.13.1)\n",
            "Requirement already satisfied: numpy>=1.17 in /usr/local/lib/python3.10/dist-packages (from datasets) (1.23.5)\n",
            "Requirement already satisfied: pyarrow>=12.0.0 in /usr/local/lib/python3.10/dist-packages (from datasets) (15.0.0)\n",
            "Requirement already satisfied: pyarrow-hotfix in /usr/local/lib/python3.10/dist-packages (from datasets) (0.6)\n",
            "Requirement already satisfied: dill<0.3.9,>=0.3.0 in /usr/local/lib/python3.10/dist-packages (from datasets) (0.3.8)\n",
            "Requirement already satisfied: pandas in /usr/local/lib/python3.10/dist-packages (from datasets) (1.5.3)\n",
            "Requirement already satisfied: requests>=2.19.0 in /usr/local/lib/python3.10/dist-packages (from datasets) (2.31.0)\n",
            "Requirement already satisfied: tqdm>=4.62.1 in /usr/local/lib/python3.10/dist-packages (from datasets) (4.66.1)\n",
            "Requirement already satisfied: xxhash in /usr/local/lib/python3.10/dist-packages (from datasets) (3.4.1)\n",
            "Requirement already satisfied: multiprocess in /usr/local/lib/python3.10/dist-packages (from datasets) (0.70.16)\n",
            "Requirement already satisfied: fsspec[http]<=2023.10.0,>=2023.1.0 in /usr/local/lib/python3.10/dist-packages (from datasets) (2023.6.0)\n",
            "Requirement already satisfied: aiohttp in /usr/local/lib/python3.10/dist-packages (from datasets) (3.9.3)\n",
            "Requirement already satisfied: huggingface-hub>=0.19.4 in /usr/local/lib/python3.10/dist-packages (from datasets) (0.20.3)\n",
            "Requirement already satisfied: packaging in /usr/local/lib/python3.10/dist-packages (from datasets) (23.2)\n",
            "Requirement already satisfied: pyyaml>=5.1 in /usr/local/lib/python3.10/dist-packages (from datasets) (6.0.1)\n",
            "Requirement already satisfied: aiosignal>=1.1.2 in /usr/local/lib/python3.10/dist-packages (from aiohttp->datasets) (1.3.1)\n",
            "Requirement already satisfied: attrs>=17.3.0 in /usr/local/lib/python3.10/dist-packages (from aiohttp->datasets) (23.2.0)\n",
            "Requirement already satisfied: frozenlist>=1.1.1 in /usr/local/lib/python3.10/dist-packages (from aiohttp->datasets) (1.4.1)\n",
            "Requirement already satisfied: multidict<7.0,>=4.5 in /usr/local/lib/python3.10/dist-packages (from aiohttp->datasets) (6.0.5)\n",
            "Requirement already satisfied: yarl<2.0,>=1.0 in /usr/local/lib/python3.10/dist-packages (from aiohttp->datasets) (1.9.4)\n",
            "Requirement already satisfied: async-timeout<5.0,>=4.0 in /usr/local/lib/python3.10/dist-packages (from aiohttp->datasets) (4.0.3)\n",
            "Requirement already satisfied: typing-extensions>=3.7.4.3 in /usr/local/lib/python3.10/dist-packages (from huggingface-hub>=0.19.4->datasets) (4.9.0)\n",
            "Requirement already satisfied: charset-normalizer<4,>=2 in /usr/local/lib/python3.10/dist-packages (from requests>=2.19.0->datasets) (3.3.2)\n",
            "Requirement already satisfied: idna<4,>=2.5 in /usr/local/lib/python3.10/dist-packages (from requests>=2.19.0->datasets) (3.6)\n",
            "Requirement already satisfied: urllib3<3,>=1.21.1 in /usr/local/lib/python3.10/dist-packages (from requests>=2.19.0->datasets) (2.0.7)\n",
            "Requirement already satisfied: certifi>=2017.4.17 in /usr/local/lib/python3.10/dist-packages (from requests>=2.19.0->datasets) (2024.2.2)\n",
            "Requirement already satisfied: python-dateutil>=2.8.1 in /usr/local/lib/python3.10/dist-packages (from pandas->datasets) (2.8.2)\n",
            "Requirement already satisfied: pytz>=2020.1 in /usr/local/lib/python3.10/dist-packages (from pandas->datasets) (2023.4)\n",
            "Requirement already satisfied: six>=1.5 in /usr/local/lib/python3.10/dist-packages (from python-dateutil>=2.8.1->pandas->datasets) (1.16.0)\n"
          ]
        }
      ],
      "source": [
        "!pip install datasets\n",
        "from datasets import load_dataset"
      ]
    },
    {
      "cell_type": "code",
      "source": [
        "# !pip install pyarrow==11.0.0"
      ],
      "metadata": {
        "id": "ZP8Ka_D3rjvx"
      },
      "execution_count": 22,
      "outputs": []
    },
    {
      "cell_type": "code",
      "source": [
        "# from datasets import load_dataset"
      ],
      "metadata": {
        "id": "0xcNNnrJrTaL"
      },
      "execution_count": 23,
      "outputs": []
    },
    {
      "cell_type": "code",
      "execution_count": 24,
      "metadata": {
        "id": "YC4dvKSUCtt4",
        "colab": {
          "base_uri": "https://localhost:8080/",
          "height": 241,
          "referenced_widgets": [
            "461219fda0a647e6a676707abbb2ef92",
            "3a6578532c8842b0ae991cd2f0a7a94c",
            "7cdeb938560845bf9472f72ae317ef2a",
            "8ec3f44750cc4f3da2e9b29e845c118d",
            "55415dc35d544b29aadb338721450a5e",
            "babdd0cbce744ea2a493f3b565c5f6f4",
            "6d282a7076e045b38776d09e55038b44",
            "d892626d80c845adaea7f24fd59950cf",
            "50450490372d4935aaa037838fc5b727",
            "85a4e3da0ee94331a6dd02ea0c2e6dfe",
            "63a8f4b857d148a49db716e130cccf14",
            "bcf2809c72514c5aa1d5fc2635672756",
            "eb445671203f42bab582b4ecd361bb6b",
            "c2bb2c0870154f3889c6f4b0aa74aeff",
            "31d9ffb6693945a68fd9eea74ae135eb",
            "98b2b1b4a07a4139a55f8569752341bc",
            "10065b9ffb2045809f801753d6fac54a",
            "8d1d5fc3007b4c12bb0df0a585280745",
            "f369fd622b6d41d6a864080bafc1684f",
            "2562ac63a03a416c8ab5bc030692633b",
            "62af13b2c3b84e99aefc13b79e5e5006",
            "cb3075a3187442b382f08581b236104d",
            "db76608b401a42028c131277335dfad2",
            "cb5678c77dfd41069115e15e83549d0b",
            "7054ad5741484b77af20a9893accb561",
            "82ef4ebbcbb8476485c6589320b75b02",
            "6edea247d7e84d24bc6786106ec95ca2",
            "cb58baded9fb41c3b583e3fd695fd2b9",
            "b0b0824b665b49f98cbc6e0b58d45951",
            "8beaab67b7324e15b799c791b6977f39",
            "4de7d87226434df8bbe7eda0e0debe49",
            "dce45e4173b241d0833e282a1134cf67",
            "f5330f5150a0453eac2492dda81932b5",
            "e6490c5737064388bcc417945edfc7c7",
            "5eff38ecd57d45b896d95dbf2090ec72",
            "bc2f406230994346807b633a9e6d267d",
            "3ccb1b43966e4576b090675506c5e611",
            "84f09f25e5d847e4a4c65bd51a0c2858",
            "38199ad8a190403089b67e77cbacdee0",
            "8fe4885f6a5d42e080d58576312992ca",
            "106523b33bf24a81b92f3d7a3a8b4b5d",
            "8457d99342bc4091bed92570bfe2e0c3",
            "a0ad292d60bc41999355d9d4410f603e",
            "d8dae6a2d5ad4d649b787ff3601c1bbb",
            "40f86595335d4633989222a4281bc040",
            "362c18a90bd8420580bd7504a30f2939",
            "a02067e80e1d486c9c9f2c63e0d5a76d",
            "c6815bc6bc4042ec93fb2edc95a01a98",
            "2666f725580549f5a4dc877bdf7ede01",
            "0f63d870b75b46e7b13c8ce67417f6ff",
            "b7e6c152891c4fc5bb411875c76f6991",
            "f966b4bbae2140dd999e2bb89ab44653",
            "7e49abb02cb2494b8af99180df6e6715",
            "88c6cdfff6d548c681029d2d4a4eb08e",
            "1c20c36476b445f2a49a0b5c9eb04b60",
            "38d60f63d03a4822b129981d01b7ef36",
            "4f115cc5a37149b995478e99971d5193",
            "8fd651f2dad04afa8a44c31619aef151",
            "a0b6fd86afad451a9a1a358784be7288",
            "027e4e1f933945fead47c80401684812",
            "7e25ddff63a140eeb58ae86a835d866a",
            "2915a56c102043218064f420ad5b3845",
            "d337095d1d0e4a29828f854b046312af",
            "7f71a82456a843329dc14f43b47fe27e",
            "57cb3bf2c547457f8ddeb64a75be6646",
            "94e121762df8444f9c510a8b1e9d1dd7",
            "b5d4bc181369432bbe745879af897612",
            "085a1c8e81fa4d8db4fdeefd3fb640b7",
            "5ee77fdef09d47b9bdb69e8e5192f17c",
            "22cd53dd0e2f405b93a9c6eadc37cfba",
            "78e434ca2d59422386aa3843e23bcc53",
            "2ad125f97c384437ba849cc0d34cfaab",
            "07780de2743545c398bf01b7ccd88f3a",
            "20a2fa6839274ca4bb07a56ace8d3ce2",
            "a8a72b21455041b4974c699733033a50",
            "3e184c623a0c448ea762c43f8d2c4968",
            "ddf454dd705f49018ef72ff5ede4ad03"
          ]
        },
        "outputId": "fe1318f4-1aa0-4383-9ef9-5eebb274a6d8"
      },
      "outputs": [
        {
          "output_type": "display_data",
          "data": {
            "text/plain": [
              "Downloading readme:   0%|          | 0.00/35.3k [00:00<?, ?B/s]"
            ],
            "application/vnd.jupyter.widget-view+json": {
              "version_major": 2,
              "version_minor": 0,
              "model_id": "461219fda0a647e6a676707abbb2ef92"
            }
          },
          "metadata": {}
        },
        {
          "output_type": "display_data",
          "data": {
            "text/plain": [
              "Downloading data:   0%|          | 0.00/3.11M [00:00<?, ?B/s]"
            ],
            "application/vnd.jupyter.widget-view+json": {
              "version_major": 2,
              "version_minor": 0,
              "model_id": "bcf2809c72514c5aa1d5fc2635672756"
            }
          },
          "metadata": {}
        },
        {
          "output_type": "display_data",
          "data": {
            "text/plain": [
              "Downloading data:   0%|          | 0.00/72.8k [00:00<?, ?B/s]"
            ],
            "application/vnd.jupyter.widget-view+json": {
              "version_major": 2,
              "version_minor": 0,
              "model_id": "db76608b401a42028c131277335dfad2"
            }
          },
          "metadata": {}
        },
        {
          "output_type": "display_data",
          "data": {
            "text/plain": [
              "Downloading data:   0%|          | 0.00/148k [00:00<?, ?B/s]"
            ],
            "application/vnd.jupyter.widget-view+json": {
              "version_major": 2,
              "version_minor": 0,
              "model_id": "e6490c5737064388bcc417945edfc7c7"
            }
          },
          "metadata": {}
        },
        {
          "output_type": "display_data",
          "data": {
            "text/plain": [
              "Generating train split:   0%|          | 0/67349 [00:00<?, ? examples/s]"
            ],
            "application/vnd.jupyter.widget-view+json": {
              "version_major": 2,
              "version_minor": 0,
              "model_id": "40f86595335d4633989222a4281bc040"
            }
          },
          "metadata": {}
        },
        {
          "output_type": "display_data",
          "data": {
            "text/plain": [
              "Generating validation split:   0%|          | 0/872 [00:00<?, ? examples/s]"
            ],
            "application/vnd.jupyter.widget-view+json": {
              "version_major": 2,
              "version_minor": 0,
              "model_id": "38d60f63d03a4822b129981d01b7ef36"
            }
          },
          "metadata": {}
        },
        {
          "output_type": "display_data",
          "data": {
            "text/plain": [
              "Generating test split:   0%|          | 0/1821 [00:00<?, ? examples/s]"
            ],
            "application/vnd.jupyter.widget-view+json": {
              "version_major": 2,
              "version_minor": 0,
              "model_id": "b5d4bc181369432bbe745879af897612"
            }
          },
          "metadata": {}
        }
      ],
      "source": [
        "raw_datasets = load_dataset('glue', 'sst2')"
      ]
    },
    {
      "cell_type": "code",
      "execution_count": 25,
      "metadata": {
        "id": "B_l5WL_UDXJr",
        "colab": {
          "base_uri": "https://localhost:8080/"
        },
        "outputId": "527dd358-a3b4-4c15-f3ca-359a1f27d85d"
      },
      "outputs": [
        {
          "output_type": "execute_result",
          "data": {
            "text/plain": [
              "DatasetDict({\n",
              "    train: Dataset({\n",
              "        features: ['sentence', 'label', 'idx'],\n",
              "        num_rows: 67349\n",
              "    })\n",
              "    validation: Dataset({\n",
              "        features: ['sentence', 'label', 'idx'],\n",
              "        num_rows: 872\n",
              "    })\n",
              "    test: Dataset({\n",
              "        features: ['sentence', 'label', 'idx'],\n",
              "        num_rows: 1821\n",
              "    })\n",
              "})"
            ]
          },
          "metadata": {},
          "execution_count": 25
        }
      ],
      "source": [
        "raw_datasets"
      ]
    },
    {
      "cell_type": "code",
      "execution_count": 26,
      "metadata": {
        "id": "FyqYBbuiDZ7Z"
      },
      "outputs": [],
      "source": [
        "def tokenize_fn(batch):\n",
        "  return tokenizer(batch['sentence'], truncation = True)"
      ]
    },
    {
      "cell_type": "code",
      "execution_count": 27,
      "metadata": {
        "id": "xShmWWV8Dt-L",
        "colab": {
          "base_uri": "https://localhost:8080/",
          "height": 113,
          "referenced_widgets": [
            "4a65422965664c85b1cef9736ecd5e44",
            "b08453a59a3a4558ad6fcba08f50540f",
            "f34d7d33093944d3aa895886e1964a15",
            "1da7ec7ddfba45018d79c7d8e2aa8f93",
            "5be046e194624ffb914d015dd3ef1bd0",
            "9fbb72d704014357bc9d37852ae66442",
            "04b8d49bcd7a435da1ee3392ea430092",
            "cf5d1d9070eb439fb0f2a54acdbc7e9e",
            "1a6d6d6153414a35be645797b8ad9a0d",
            "64a07d7bcc9244a997e8ced6d96d577f",
            "47d3ffa7dde64a008e415f3188350425",
            "31755628d2a842e49366d0ec1e57732d",
            "fa08018c24824bc286095957a8a3604c",
            "6915f9852ffd4f4f8d4609487db3ed80",
            "856dc4e67ba3498baf5bc89dd0629ad8",
            "49086ef40481494198132f92dcd841c4",
            "81fd70550fcd4202b7ef93e303ab7153",
            "2d0c1a47fc984af5bfdcbfac5c85367c",
            "b9658d3d45a349bfaee63da480408097",
            "7ee574d6fe934d96b985d5e5ad6e598c",
            "23ee8eee99f64a1284bbcbca7f2f41d8",
            "240e7d681bff4b23b47ee26df333ab02",
            "8f8cd048d50b47a5bf6faaa07b391ceb",
            "39f1b28c6bc84aff9fe367755fc3b8b7",
            "c916eb9915454b399e677e636cc89ba8",
            "c171dc12b4ad45209d05df6aeeeaa926",
            "35c09d5045b5401aabe133cf89a90c3f",
            "b684d1ea105f4a93bc54ce51acae5e08",
            "bc9b8e0cf8664ec59826c122516709f3",
            "27aa859b05fa4632b3dab7b741789972",
            "5c94a10be7234bb6aac0e1655355634c",
            "d4bd3940e5294a668552c6eb45f6ba90",
            "ec73b86c29e64ee0afc9f2d243050cb3"
          ]
        },
        "outputId": "eb9e99da-b6a6-4bdc-8019-5fbd9c2eb1b5"
      },
      "outputs": [
        {
          "output_type": "display_data",
          "data": {
            "text/plain": [
              "Map:   0%|          | 0/67349 [00:00<?, ? examples/s]"
            ],
            "application/vnd.jupyter.widget-view+json": {
              "version_major": 2,
              "version_minor": 0,
              "model_id": "4a65422965664c85b1cef9736ecd5e44"
            }
          },
          "metadata": {}
        },
        {
          "output_type": "display_data",
          "data": {
            "text/plain": [
              "Map:   0%|          | 0/872 [00:00<?, ? examples/s]"
            ],
            "application/vnd.jupyter.widget-view+json": {
              "version_major": 2,
              "version_minor": 0,
              "model_id": "31755628d2a842e49366d0ec1e57732d"
            }
          },
          "metadata": {}
        },
        {
          "output_type": "display_data",
          "data": {
            "text/plain": [
              "Map:   0%|          | 0/1821 [00:00<?, ? examples/s]"
            ],
            "application/vnd.jupyter.widget-view+json": {
              "version_major": 2,
              "version_minor": 0,
              "model_id": "8f8cd048d50b47a5bf6faaa07b391ceb"
            }
          },
          "metadata": {}
        }
      ],
      "source": [
        "tokenized_datasets = raw_datasets.map(tokenize_fn, batched = True)\n",
        "data_collator = DataCollatorWithPadding(tokenizer = tokenizer)"
      ]
    },
    {
      "cell_type": "code",
      "execution_count": 28,
      "metadata": {
        "id": "2Ii08AEfEBT-",
        "colab": {
          "base_uri": "https://localhost:8080/"
        },
        "outputId": "7d79bede-34e5-4190-89e8-e8ef827465eb"
      },
      "outputs": [
        {
          "output_type": "execute_result",
          "data": {
            "text/plain": [
              "DataCollatorWithPadding(tokenizer=DistilBertTokenizerFast(name_or_path='distilbert-base-cased', vocab_size=28996, model_max_length=512, is_fast=True, padding_side='right', truncation_side='right', special_tokens={'unk_token': '[UNK]', 'sep_token': '[SEP]', 'pad_token': '[PAD]', 'cls_token': '[CLS]', 'mask_token': '[MASK]'}, clean_up_tokenization_spaces=True),  added_tokens_decoder={\n",
              "\t0: AddedToken(\"[PAD]\", rstrip=False, lstrip=False, single_word=False, normalized=False, special=True),\n",
              "\t100: AddedToken(\"[UNK]\", rstrip=False, lstrip=False, single_word=False, normalized=False, special=True),\n",
              "\t101: AddedToken(\"[CLS]\", rstrip=False, lstrip=False, single_word=False, normalized=False, special=True),\n",
              "\t102: AddedToken(\"[SEP]\", rstrip=False, lstrip=False, single_word=False, normalized=False, special=True),\n",
              "\t103: AddedToken(\"[MASK]\", rstrip=False, lstrip=False, single_word=False, normalized=False, special=True),\n",
              "}, padding=True, max_length=None, pad_to_multiple_of=None, return_tensors='pt')"
            ]
          },
          "metadata": {},
          "execution_count": 28
        }
      ],
      "source": [
        "data_collator"
      ]
    },
    {
      "cell_type": "code",
      "execution_count": 29,
      "metadata": {
        "id": "AzYEBslVEFoz",
        "colab": {
          "base_uri": "https://localhost:8080/"
        },
        "outputId": "ce10c775-31fe-4519-de3d-1514458ae31a"
      },
      "outputs": [
        {
          "output_type": "execute_result",
          "data": {
            "text/plain": [
              "DatasetDict({\n",
              "    train: Dataset({\n",
              "        features: ['sentence', 'label', 'idx', 'input_ids', 'attention_mask'],\n",
              "        num_rows: 67349\n",
              "    })\n",
              "    validation: Dataset({\n",
              "        features: ['sentence', 'label', 'idx', 'input_ids', 'attention_mask'],\n",
              "        num_rows: 872\n",
              "    })\n",
              "    test: Dataset({\n",
              "        features: ['sentence', 'label', 'idx', 'input_ids', 'attention_mask'],\n",
              "        num_rows: 1821\n",
              "    })\n",
              "})"
            ]
          },
          "metadata": {},
          "execution_count": 29
        }
      ],
      "source": [
        "tokenized_datasets"
      ]
    },
    {
      "cell_type": "code",
      "execution_count": 30,
      "metadata": {
        "id": "ivr0x4Og7fjm",
        "colab": {
          "base_uri": "https://localhost:8080/"
        },
        "outputId": "6cfa867d-d8d6-467b-fa97-cb817e6297be"
      },
      "outputs": [
        {
          "output_type": "execute_result",
          "data": {
            "text/plain": [
              "{'sentence': 'hide new secretions from the parental units ',\n",
              " 'label': 0,\n",
              " 'idx': 0,\n",
              " 'input_ids': [101, 4750, 1207, 3318, 5266, 1121, 1103, 22467, 2338, 102],\n",
              " 'attention_mask': [1, 1, 1, 1, 1, 1, 1, 1, 1, 1]}"
            ]
          },
          "metadata": {},
          "execution_count": 30
        }
      ],
      "source": [
        "tokenized_datasets['train'][0]"
      ]
    },
    {
      "cell_type": "code",
      "execution_count": 31,
      "metadata": {
        "id": "n7N59m_GEH-6"
      },
      "outputs": [],
      "source": [
        "tokenized_datasets = tokenized_datasets.remove_columns(['sentence', 'idx'])\n",
        "tokenized_datasets = tokenized_datasets.rename_column('label', 'labels')"
      ]
    },
    {
      "cell_type": "code",
      "execution_count": 32,
      "metadata": {
        "id": "MHKWqb2-FJVm",
        "colab": {
          "base_uri": "https://localhost:8080/"
        },
        "outputId": "c3e94dad-1a56-4d0a-eb9b-9d046be9badc"
      },
      "outputs": [
        {
          "output_type": "execute_result",
          "data": {
            "text/plain": [
              "DatasetDict({\n",
              "    train: Dataset({\n",
              "        features: ['labels', 'input_ids', 'attention_mask'],\n",
              "        num_rows: 67349\n",
              "    })\n",
              "    validation: Dataset({\n",
              "        features: ['labels', 'input_ids', 'attention_mask'],\n",
              "        num_rows: 872\n",
              "    })\n",
              "    test: Dataset({\n",
              "        features: ['labels', 'input_ids', 'attention_mask'],\n",
              "        num_rows: 1821\n",
              "    })\n",
              "})"
            ]
          },
          "metadata": {},
          "execution_count": 32
        }
      ],
      "source": [
        "tokenized_datasets"
      ]
    },
    {
      "cell_type": "code",
      "execution_count": 33,
      "metadata": {
        "id": "gs9TN43-FnM9"
      },
      "outputs": [],
      "source": [
        "from torch.utils.data import DataLoader\n",
        "\n",
        "train_dataloader = DataLoader(\n",
        "    tokenized_datasets['train'],\n",
        "    shuffle = True,\n",
        "    batch_size = 32,\n",
        "    collate_fn = data_collator\n",
        ")\n",
        "\n",
        "valid_dataloader = DataLoader(\n",
        "    tokenized_datasets['validation'],\n",
        "    batch_size = 32,\n",
        "    collate_fn = data_collator\n",
        ")"
      ]
    },
    {
      "cell_type": "code",
      "execution_count": 34,
      "metadata": {
        "id": "fV5iO0RPAaLY",
        "colab": {
          "base_uri": "https://localhost:8080/"
        },
        "outputId": "816217e2-a668-42b4-b5d3-5f3742c4b3e9"
      },
      "outputs": [
        {
          "output_type": "stream",
          "name": "stderr",
          "text": [
            "You're using a DistilBertTokenizerFast tokenizer. Please note that with a fast tokenizer, using the `__call__` method is faster than using a method to encode the text followed by a call to the `pad` method to get a padded encoding.\n"
          ]
        },
        {
          "output_type": "execute_result",
          "data": {
            "text/plain": [
              "{'labels': tensor([1, 1, 1, 0, 0, 0, 0, 0, 0, 1, 1, 1, 0, 1, 1, 0, 1, 1, 0, 0, 1, 1, 1, 1,\n",
              "        1, 0, 1, 1, 1, 1, 0, 1]), 'input_ids': tensor([[  101,  2698,   117,  ...,     0,     0,     0],\n",
              "        [  101,  1103,  1250,  ...,     0,     0,     0],\n",
              "        [  101,  1973,  1107,  ...,     0,     0,     0],\n",
              "        ...,\n",
              "        [  101,  4185,  1183,  ...,     0,     0,     0],\n",
              "        [  101, 11019,   183,  ...,     0,     0,     0],\n",
              "        [  101,  2258,   180,  ...,     0,     0,     0]]), 'attention_mask': tensor([[1, 1, 1,  ..., 0, 0, 0],\n",
              "        [1, 1, 1,  ..., 0, 0, 0],\n",
              "        [1, 1, 1,  ..., 0, 0, 0],\n",
              "        ...,\n",
              "        [1, 1, 1,  ..., 0, 0, 0],\n",
              "        [1, 1, 1,  ..., 0, 0, 0],\n",
              "        [1, 1, 1,  ..., 0, 0, 0]])}"
            ]
          },
          "metadata": {},
          "execution_count": 34
        }
      ],
      "source": [
        "next(iter(train_dataloader))"
      ]
    },
    {
      "cell_type": "code",
      "execution_count": 35,
      "metadata": {
        "id": "CK3R_ZBJAi6w",
        "colab": {
          "base_uri": "https://localhost:8080/"
        },
        "outputId": "14911de5-6204-4c17-9883-510bcd9d1824"
      },
      "outputs": [
        {
          "output_type": "execute_result",
          "data": {
            "text/plain": [
              "2105"
            ]
          },
          "metadata": {},
          "execution_count": 35
        }
      ],
      "source": [
        "len(train_dataloader)"
      ]
    },
    {
      "cell_type": "code",
      "execution_count": 36,
      "metadata": {
        "id": "Qv9LE3znNtP-",
        "colab": {
          "base_uri": "https://localhost:8080/"
        },
        "outputId": "af21304e-32b7-46ca-e0df-bee112481e85"
      },
      "outputs": [
        {
          "output_type": "execute_result",
          "data": {
            "text/plain": [
              "67360"
            ]
          },
          "metadata": {},
          "execution_count": 36
        }
      ],
      "source": [
        "2105*32"
      ]
    },
    {
      "cell_type": "code",
      "execution_count": 37,
      "metadata": {
        "id": "phCvHISMASqO",
        "colab": {
          "base_uri": "https://localhost:8080/"
        },
        "outputId": "1befbd31-b89d-422a-b2d3-1ed22d3740fd"
      },
      "outputs": [
        {
          "output_type": "stream",
          "name": "stdout",
          "text": [
            "{'labels': tensor([0, 0, 0, 1, 1, 1, 0, 1, 0, 1, 0, 1, 1, 1, 1, 1, 0, 0, 1, 0, 0, 1, 1, 1,\n",
            "        0, 1, 0, 1, 0, 1, 0, 1]), 'input_ids': tensor([[  101,  1110,  1315,  ...,     0,     0,     0],\n",
            "        [  101,  1132, 19609,  ...,     0,     0,     0],\n",
            "        [  101,  1380,  1950,  ...,     0,     0,     0],\n",
            "        ...,\n",
            "        [  101,  1110,   170,  ...,     0,     0,     0],\n",
            "        [  101,  1129,  5784,  ...,     0,     0,     0],\n",
            "        [  101,   170,  6866,  ...,     0,     0,     0]]), 'attention_mask': tensor([[1, 1, 1,  ..., 0, 0, 0],\n",
            "        [1, 1, 1,  ..., 0, 0, 0],\n",
            "        [1, 1, 1,  ..., 0, 0, 0],\n",
            "        ...,\n",
            "        [1, 1, 1,  ..., 0, 0, 0],\n",
            "        [1, 1, 1,  ..., 0, 0, 0],\n",
            "        [1, 1, 1,  ..., 0, 0, 0]])}\n"
          ]
        }
      ],
      "source": [
        "for batch in train_dataloader:\n",
        "  print(batch)\n",
        "  break"
      ]
    },
    {
      "cell_type": "code",
      "execution_count": 38,
      "metadata": {
        "id": "Blikj8J_b3QM",
        "colab": {
          "base_uri": "https://localhost:8080/"
        },
        "outputId": "4de8acd7-c11b-4477-8e78-6bf6a70cfc8f"
      },
      "outputs": [
        {
          "output_type": "stream",
          "name": "stdout",
          "text": [
            "k:  labels v.shape:  torch.Size([32])\n",
            "k:  input_ids v.shape:  torch.Size([32, 51])\n",
            "k:  attention_mask v.shape:  torch.Size([32, 51])\n"
          ]
        }
      ],
      "source": [
        "for batch in train_dataloader:\n",
        "  for k,v in batch.items():\n",
        "    print('k: ', k, 'v.shape: ', v.shape)\n",
        "  break"
      ]
    },
    {
      "cell_type": "code",
      "execution_count": 39,
      "metadata": {
        "id": "ejk2SqQTcROx",
        "colab": {
          "base_uri": "https://localhost:8080/"
        },
        "outputId": "62525c69-d186-4b78-b530-0fbe18486db0"
      },
      "outputs": [
        {
          "output_type": "execute_result",
          "data": {
            "text/plain": [
              "{0, 1}"
            ]
          },
          "metadata": {},
          "execution_count": 39
        }
      ],
      "source": [
        "set(tokenized_datasets['train']['labels'])"
      ]
    },
    {
      "cell_type": "code",
      "execution_count": 40,
      "metadata": {
        "id": "tovy1t0gc6lo",
        "colab": {
          "base_uri": "https://localhost:8080/"
        },
        "outputId": "f91f4239-91d2-48ef-9aec-4fbe563cb107"
      },
      "outputs": [
        {
          "output_type": "execute_result",
          "data": {
            "text/plain": [
              "28996"
            ]
          },
          "metadata": {},
          "execution_count": 40
        }
      ],
      "source": [
        "tokenizer.vocab_size"
      ]
    },
    {
      "cell_type": "code",
      "execution_count": 41,
      "metadata": {
        "id": "GNMfMGgrc9Gr",
        "colab": {
          "base_uri": "https://localhost:8080/"
        },
        "outputId": "3647cc59-d66e-41a0-f4f6-73aad8b76c3a"
      },
      "outputs": [
        {
          "output_type": "execute_result",
          "data": {
            "text/plain": [
              "{'distilbert-base-uncased': 512,\n",
              " 'distilbert-base-uncased-distilled-squad': 512,\n",
              " 'distilbert-base-cased': 512,\n",
              " 'distilbert-base-cased-distilled-squad': 512,\n",
              " 'distilbert-base-german-cased': 512,\n",
              " 'distilbert-base-multilingual-cased': 512}"
            ]
          },
          "metadata": {},
          "execution_count": 41
        }
      ],
      "source": [
        "tokenizer.max_model_input_sizes"
      ]
    },
    {
      "cell_type": "code",
      "execution_count": 42,
      "metadata": {
        "id": "who67adUdGR_",
        "colab": {
          "base_uri": "https://localhost:8080/"
        },
        "outputId": "e4bb0543-ac6a-431f-fb54-8af3c4a69d25"
      },
      "outputs": [
        {
          "output_type": "execute_result",
          "data": {
            "text/plain": [
              "Encoder(\n",
              "  (embedding): Embedding(28996, 64)\n",
              "  (pos_encoding): PositionalEncoding(\n",
              "    (dropout): Dropout(p=0.1, inplace=False)\n",
              "  )\n",
              "  (transformer_blocks): Sequential(\n",
              "    (0): TransformerBlock(\n",
              "      (ln1): LayerNorm((64,), eps=1e-05, elementwise_affine=True)\n",
              "      (ln2): LayerNorm((64,), eps=1e-05, elementwise_affine=True)\n",
              "      (mha): MultiHeadAttention(\n",
              "        (key): Linear(in_features=64, out_features=64, bias=False)\n",
              "        (query): Linear(in_features=64, out_features=64, bias=False)\n",
              "        (value): Linear(in_features=64, out_features=64, bias=False)\n",
              "        (W_O): Linear(in_features=64, out_features=64, bias=True)\n",
              "      )\n",
              "      (ann): Sequential(\n",
              "        (0): Linear(in_features=64, out_features=256, bias=True)\n",
              "        (1): GELU(approximate='none')\n",
              "        (2): Linear(in_features=256, out_features=64, bias=True)\n",
              "        (3): Dropout(p=0.1, inplace=False)\n",
              "      )\n",
              "      (dropout): Dropout(p=0.1, inplace=False)\n",
              "    )\n",
              "    (1): TransformerBlock(\n",
              "      (ln1): LayerNorm((64,), eps=1e-05, elementwise_affine=True)\n",
              "      (ln2): LayerNorm((64,), eps=1e-05, elementwise_affine=True)\n",
              "      (mha): MultiHeadAttention(\n",
              "        (key): Linear(in_features=64, out_features=64, bias=False)\n",
              "        (query): Linear(in_features=64, out_features=64, bias=False)\n",
              "        (value): Linear(in_features=64, out_features=64, bias=False)\n",
              "        (W_O): Linear(in_features=64, out_features=64, bias=True)\n",
              "      )\n",
              "      (ann): Sequential(\n",
              "        (0): Linear(in_features=64, out_features=256, bias=True)\n",
              "        (1): GELU(approximate='none')\n",
              "        (2): Linear(in_features=256, out_features=64, bias=True)\n",
              "        (3): Dropout(p=0.1, inplace=False)\n",
              "      )\n",
              "      (dropout): Dropout(p=0.1, inplace=False)\n",
              "    )\n",
              "  )\n",
              "  (ln): LayerNorm((64,), eps=1e-05, elementwise_affine=True)\n",
              "  (ff): Linear(in_features=64, out_features=2, bias=True)\n",
              ")"
            ]
          },
          "metadata": {},
          "execution_count": 42
        }
      ],
      "source": [
        "model = Encoder(\n",
        "    vocab_size = tokenizer.vocab_size,\n",
        "    max_len = tokenizer.max_model_input_sizes[checkpoint],\n",
        "    d_key = 16,\n",
        "    d_model = 64,\n",
        "    n_heads = 4,\n",
        "    n_layers = 2,\n",
        "    n_classes = 2,\n",
        "    dropout_prob = 0.1,\n",
        ")\n",
        "model.to(device)"
      ]
    },
    {
      "cell_type": "code",
      "execution_count": 43,
      "metadata": {
        "id": "09UTg98wdr8F"
      },
      "outputs": [],
      "source": [
        "loss_fn = nn.CrossEntropyLoss()\n",
        "optimizer = torch.optim.AdamW(model.parameters())"
      ]
    },
    {
      "cell_type": "code",
      "execution_count": 44,
      "metadata": {
        "id": "lNguK_JU_rUi"
      },
      "outputs": [],
      "source": [
        "def train(model = model,\n",
        "          loss_fn = loss_fn,\n",
        "          optimizer = optimizer,\n",
        "          train_dataloader = train_dataloader,\n",
        "          valid_dataloader = valid_dataloader,\n",
        "          epochs = 5):\n",
        "\n",
        "  train_losses = torch.zeros(epochs)\n",
        "  test_losses = torch.zeros(epochs)\n",
        "\n",
        "  for epoch in range(epochs):\n",
        "\n",
        "    # setting model to training mode\n",
        "    model.train()\n",
        "\n",
        "    #initializing loss and number of training loops\n",
        "    train_loss = 0\n",
        "    n_train = 0\n",
        "\n",
        "    for batch in train_dataloader:\n",
        "      # Move input data to the right device\n",
        "      batch = {k: v.to(device) for k,v in batch.items()}\n",
        "\n",
        "      # Optimizer zero grad\n",
        "      optimizer.zero_grad()\n",
        "\n",
        "      #Forward pass\n",
        "      outputs = model(batch['input_ids'], batch['attention_mask'])\n",
        "      loss = loss_fn(outputs, batch['labels'])\n",
        "\n",
        "      # Backward and optimize\n",
        "      loss.backward()\n",
        "      optimizer.step()\n",
        "\n",
        "      train_loss += loss.item()\n",
        "      n_train += 1\n",
        "\n",
        "    train_loss = train_loss/n_train\n",
        "\n",
        "    # Evaluation part\n",
        "    model.eval()\n",
        "    test_loss = 0\n",
        "    n_test = 0\n",
        "    for batch in valid_dataloader:\n",
        "      batch = {k: v.to(device) for k,v in batch.items()}\n",
        "      outputs = model(batch['input_ids'], batch['attention_mask'])\n",
        "      loss = loss_fn(outputs, batch['labels'])\n",
        "      test_loss += loss.item()\n",
        "      n_test += 1\n",
        "    test_loss = test_loss/n_test\n",
        "\n",
        "    # Save losses\n",
        "    train_losses[epoch] = train_loss\n",
        "    test_losses[epoch] = test_loss\n",
        "    print(f'Epoch: {epoch} | train_loss: {train_loss} | test_loss: {test_loss}')\n",
        "\n",
        "  return train_losses, test_losses"
      ]
    },
    {
      "cell_type": "code",
      "execution_count": 45,
      "metadata": {
        "id": "5mDYpTtVGgVT",
        "colab": {
          "base_uri": "https://localhost:8080/"
        },
        "outputId": "3170a564-2bc0-488f-d953-025965a1380c"
      },
      "outputs": [
        {
          "output_type": "stream",
          "name": "stdout",
          "text": [
            "Epoch: 0 | train_loss: 0.5226690980714177 | test_loss: 0.49804025888442993\n",
            "Epoch: 1 | train_loss: 0.35924464914054033 | test_loss: 0.42758880874940325\n",
            "Epoch: 2 | train_loss: 0.29394016178444277 | test_loss: 0.42792121533836636\n",
            "Epoch: 3 | train_loss: 0.25488422071813405 | test_loss: 0.49710878304072786\n",
            "Epoch: 4 | train_loss: 0.22449909386948425 | test_loss: 0.6016866330589566\n"
          ]
        }
      ],
      "source": [
        "train_losses, test_losses = train()"
      ]
    },
    {
      "cell_type": "code",
      "execution_count": 46,
      "metadata": {
        "id": "ywi70VFuGlpP",
        "colab": {
          "base_uri": "https://localhost:8080/"
        },
        "outputId": "71fc9c87-df3c-40e2-9241-5aa270c44fea"
      },
      "outputs": [
        {
          "output_type": "stream",
          "name": "stdout",
          "text": [
            "Train_acc: 0.9357525724212683 | Test_acc: 0.7901376146788991\n"
          ]
        }
      ],
      "source": [
        "# Measuring the accuracy\n",
        "\n",
        "#Train accuracy\n",
        "model.eval()\n",
        "n_correct = 0\n",
        "n_total = 0\n",
        "for batch in train_dataloader:\n",
        "  batch = {k: v.to(device) for k,v in batch.items()}\n",
        "  outputs = model(batch['input_ids'], batch['attention_mask'])\n",
        "  # print(outputs)\n",
        "  #torch.max returns both max and argmax\n",
        "  _, predictions = torch.max(outputs,1)\n",
        "  n_correct += (predictions == batch['labels']).sum().item()\n",
        "  n_total += batch['input_ids'].shape[0]\n",
        "\n",
        "train_acc = n_correct/n_total\n",
        "\n",
        "#Test accuracy\n",
        "n_correct = 0\n",
        "n_total = 0\n",
        "for batch in valid_dataloader:\n",
        "  batch = {k: v.to(device) for k,v in batch.items()}\n",
        "  outputs = model(batch['input_ids'], batch['attention_mask'])\n",
        "  #torch.max returns both max and argmax\n",
        "  _, predictions = torch.max(outputs,1)\n",
        "  n_correct += (predictions == batch['labels']).sum().item()\n",
        "  n_total += batch['input_ids'].shape[0]\n",
        "\n",
        "test_acc = n_correct/n_total\n",
        "print(f'Train_acc: {train_acc} | Test_acc: {test_acc}')"
      ]
    },
    {
      "cell_type": "markdown",
      "metadata": {
        "id": "zSS_GxwATpAA"
      },
      "source": [
        "# Decoder Implementation"
      ]
    },
    {
      "cell_type": "code",
      "execution_count": 47,
      "metadata": {
        "id": "72khLqD4eAXE"
      },
      "outputs": [],
      "source": [
        "class CausalMultiHeadAttention(nn.Module):\n",
        "\n",
        "  \"\"\"\n",
        "  Implements MultiHeadAttention Mechanism.\n",
        "\n",
        "  Args:\n",
        "    d_key: Dimension of keys to be produced\n",
        "    d_model: Dimension of Model/ input token dimension\n",
        "    h: Number of Attention heads\n",
        "  \"\"\"\n",
        "\n",
        "  def __init__(self, d_key, d_model, h, max_len):\n",
        "    super().__init__()\n",
        "\n",
        "    # Assumption: d_value = d_key\n",
        "    self.d_key = d_key\n",
        "    self.h = h\n",
        "\n",
        "    # Compute all of the 'h' keys and queries and values at once instead of using a for loop for each head.\n",
        "    self.key = nn.Linear(d_model, d_key * h, bias = False, device = device)\n",
        "    self.query = nn.Linear(d_model, d_key * h, bias = False, device = device)\n",
        "    self.value = nn.Linear(d_model, d_key * h, bias = False, device = device)\n",
        "\n",
        "    # Final Linear Layer to be applied after attention blocks\n",
        "    self.W_O = nn.Linear(d_key * h, d_model)\n",
        "\n",
        "    cm = torch.tril(torch.ones(max_len,max_len))\n",
        "    self.register_buffer(\n",
        "        'causal_mask',\n",
        "        cm.view(1,1,max_len,max_len)\n",
        "    )\n",
        "\n",
        "  def forward(self, q, k, v, pad_mask = None):\n",
        "\n",
        "    B, T = q.shape[0], q.shape[1]\n",
        "\n",
        "    q = self.query(q)  # (B, T, d_key*h)\n",
        "    k = self.key(k)  # (B, T, d_key*h)\n",
        "    v = self.value(v)  # (B, T, d_key*h)\n",
        "\n",
        "    # Change shape from (B, T, d_key*h) to (B, h, T, d_key)\n",
        "    q = q.view(B, T, self.h, self.d_key).transpose(1,2)\n",
        "    k = k.view(B, T, self.h, self.d_key).transpose(1,2)\n",
        "    v = v.view(B, T, self.h, self.d_key).transpose(1,2)\n",
        "\n",
        "    # Compute Attention Weights (B, h, T, d_key) @ (B, h, d_key, T) --> (B, h, T, T). (T, T) weights for each head.\n",
        "    attention_mat = q @ k.transpose(-2,-1)/ math.sqrt(self.d_key)\n",
        "\n",
        "    if pad_mask is not None:\n",
        "      attention_mat = attention_mat.masked_fill(pad_mask[:, None, None, :] == 0, float('-inf'))\n",
        "\n",
        "    attention_mat = attention_mat.masked_fill(self.causal_mask[:,:,:T,:T] == 0, float('-inf'))\n",
        "\n",
        "    attention_weights = attention_mat.softmax(dim = -1)\n",
        "\n",
        "    # Attention weighted values for each input token (B, h, T, T) @ (B, h, T, d_key) --> (B, h, T, d_key)\n",
        "    A = attention_weights @ v\n",
        "\n",
        "    # Reshape it for the final output\n",
        "    A = A.transpose(1,2)\n",
        "    A = A.contiguous().view(B, T, self.d_key * self.h)\n",
        "\n",
        "    return self.W_O(A)"
      ]
    },
    {
      "cell_type": "code",
      "execution_count": 48,
      "metadata": {
        "id": "2lDeakQ0iokR"
      },
      "outputs": [],
      "source": [
        "class DecoderTransformerBlock(nn.Module):\n",
        "\n",
        "  def __init__(self, d_key, d_model, h, max_len, dropout_prob = 0.1):\n",
        "    super().__init__()\n",
        "\n",
        "    self.ln1 = nn.LayerNorm(d_model)\n",
        "    self.ln2 = nn.LayerNorm(d_model)\n",
        "    self.mha = CausalMultiHeadAttention(d_key, d_model, h, max_len)\n",
        "    self.ann = nn.Sequential(\n",
        "        nn.Linear(d_model, d_model * 4),\n",
        "        nn.GELU(),\n",
        "        nn.Linear(4*d_model, d_model),\n",
        "        nn.Dropout(dropout_prob)\n",
        "    )\n",
        "\n",
        "    self.dropout = nn.Dropout(dropout_prob)\n",
        "\n",
        "  def forward(self, x, pad_mask = None):\n",
        "    x = self.ln1(x + self.mha(x, x, x, pad_mask))\n",
        "    x = self.ln2(x + self.ann(x))\n",
        "    x = self.dropout(x)\n",
        "\n",
        "    return x"
      ]
    },
    {
      "cell_type": "code",
      "execution_count": 49,
      "metadata": {
        "id": "StLTCpMmi6ZC"
      },
      "outputs": [],
      "source": [
        "class Decoder(nn.Module):\n",
        "\n",
        "  def __init__(self, vocab_size, max_len, d_key, d_model, n_heads, n_layers, dropout_prob): #n_classes is dropped as it is equal to vocab_size\n",
        "    super().__init__()\n",
        "\n",
        "    self.embedding = nn.Embedding(vocab_size, d_model)\n",
        "    self.pos_encoding = PositionalEncoding(d_model, max_len, dropout_prob)\n",
        "    transformer_blocks = [DecoderTransformerBlock(d_key, d_model, n_heads, max_len, dropout_prob) for _ in range(n_layers)]\n",
        "    self.transformer_blocks = nn.Sequential(*transformer_blocks)\n",
        "    self.ln = nn.LayerNorm(d_model)\n",
        "    self.ff = nn.Linear(d_model, vocab_size)\n",
        "\n",
        "  def forward(self, x, pad_mask = None):\n",
        "    x = self.embedding(x)\n",
        "    x = self.pos_encoding(x)\n",
        "    # Later on we need to pass the mask which is not None. So, we need a for loop to pass mask to each layer\n",
        "    for block in self.transformer_blocks:\n",
        "      x = block(x, pad_mask)\n",
        "\n",
        "    # Depends on the task need to be performed, we can choose just the output vector\n",
        "    # x = x[:, 0, :]  # Just picking out a single timestep output, timestep_0\n",
        "    # many-to-many task\n",
        "\n",
        "    x = self.ln(x)\n",
        "    x = self.ff(x)\n",
        "\n",
        "    return x\n",
        "\n",
        "\n"
      ]
    },
    {
      "cell_type": "code",
      "execution_count": 50,
      "metadata": {
        "id": "vqMrKk4nj3gb"
      },
      "outputs": [],
      "source": [
        "decoder_model = Decoder(20000, 1024, 16, 64, 4, 2, 0.1).to(device)"
      ]
    },
    {
      "cell_type": "code",
      "execution_count": 51,
      "metadata": {
        "id": "2f-SsXRRlL11"
      },
      "outputs": [],
      "source": [
        "x_dummy = torch.randint(0, 20000, size = (8,512)).to(device)"
      ]
    },
    {
      "cell_type": "code",
      "execution_count": 52,
      "metadata": {
        "id": "hRzBD2xI5C7v"
      },
      "outputs": [],
      "source": [
        "mask = torch.ones((8,512))\n",
        "mask[:,256:] = 0\n",
        "mask_dummy = mask.to(device)"
      ]
    },
    {
      "cell_type": "code",
      "execution_count": 53,
      "metadata": {
        "id": "1T_x3mhq5Drt"
      },
      "outputs": [],
      "source": [
        "y_ = decoder_model(x_dummy, mask_dummy)"
      ]
    },
    {
      "cell_type": "code",
      "execution_count": 54,
      "metadata": {
        "id": "apg9IyJK5P5x",
        "colab": {
          "base_uri": "https://localhost:8080/"
        },
        "outputId": "3f4e50b2-42ee-42f1-c9bd-e51b3becd803"
      },
      "outputs": [
        {
          "output_type": "execute_result",
          "data": {
            "text/plain": [
              "torch.Size([8, 512, 20000])"
            ]
          },
          "metadata": {},
          "execution_count": 54
        }
      ],
      "source": [
        "y_.shape"
      ]
    },
    {
      "cell_type": "code",
      "execution_count": 55,
      "metadata": {
        "id": "vd6wnMnC5mW5"
      },
      "outputs": [],
      "source": [
        "from transformers import AutoTokenizer, DataCollatorWithPadding"
      ]
    },
    {
      "cell_type": "code",
      "execution_count": 56,
      "metadata": {
        "id": "pYc99wIx6q21"
      },
      "outputs": [],
      "source": [
        "checkpoint = 'distilbert-base-cased'\n",
        "tokenizer = AutoTokenizer.from_pretrained(checkpoint)"
      ]
    },
    {
      "cell_type": "code",
      "execution_count": 57,
      "metadata": {
        "id": "_ftqcmn161_H"
      },
      "outputs": [],
      "source": [
        "from datasets import load_dataset"
      ]
    },
    {
      "cell_type": "code",
      "execution_count": 58,
      "metadata": {
        "id": "YVaHtEo666Tp"
      },
      "outputs": [],
      "source": [
        "decoder_raw_data = load_dataset('glue','sst2')"
      ]
    },
    {
      "cell_type": "code",
      "execution_count": 59,
      "metadata": {
        "id": "psu0Lruz7E6t",
        "colab": {
          "base_uri": "https://localhost:8080/"
        },
        "outputId": "de7e51b2-5c41-4251-99b9-89629b992b64"
      },
      "outputs": [
        {
          "output_type": "execute_result",
          "data": {
            "text/plain": [
              "DatasetDict({\n",
              "    train: Dataset({\n",
              "        features: ['sentence', 'label', 'idx'],\n",
              "        num_rows: 67349\n",
              "    })\n",
              "    validation: Dataset({\n",
              "        features: ['sentence', 'label', 'idx'],\n",
              "        num_rows: 872\n",
              "    })\n",
              "    test: Dataset({\n",
              "        features: ['sentence', 'label', 'idx'],\n",
              "        num_rows: 1821\n",
              "    })\n",
              "})"
            ]
          },
          "metadata": {},
          "execution_count": 59
        }
      ],
      "source": [
        "decoder_raw_data"
      ]
    },
    {
      "cell_type": "code",
      "execution_count": 60,
      "metadata": {
        "id": "NomXfJe97ILs"
      },
      "outputs": [],
      "source": [
        "def tokenize_fn(batch):\n",
        "  return tokenizer(batch['sentence'], truncation = True)"
      ]
    },
    {
      "cell_type": "code",
      "execution_count": 61,
      "metadata": {
        "id": "oAfM3r097ZT0",
        "colab": {
          "base_uri": "https://localhost:8080/",
          "height": 49,
          "referenced_widgets": [
            "75d2895f3cec433e83c932869cdc7743",
            "3a91d05145d84cb7993f12c072700b31",
            "da9db5e757f34974b5a6a878f2e935c7",
            "91ca8542167e40bfb7ab70ee0f35db82",
            "d83a130535fd4c53ac27748fa63d4159",
            "9bd2d0bb42104abd946a0841f231d67f",
            "30fafd7cb8d14bdebd19d075379fa232",
            "4580bdbd5ba04a15b098819819ae87a6",
            "0bd1f7efb4c44006a54b4ff2eb3de9a2",
            "9f2364bf99ef41c3b20f16a2dc127ac8",
            "8ef3cca9c28f43c290974224720a13fc"
          ]
        },
        "outputId": "794db623-78c5-4ce9-b5d1-05d0fc0a0fa3"
      },
      "outputs": [
        {
          "output_type": "display_data",
          "data": {
            "text/plain": [
              "Map:   0%|          | 0/872 [00:00<?, ? examples/s]"
            ],
            "application/vnd.jupyter.widget-view+json": {
              "version_major": 2,
              "version_minor": 0,
              "model_id": "75d2895f3cec433e83c932869cdc7743"
            }
          },
          "metadata": {}
        }
      ],
      "source": [
        "tokenized_decoder_data = decoder_raw_data.map(tokenize_fn, batched = True)\n",
        "decoder_datacollator = DataCollatorWithPadding(tokenizer)"
      ]
    },
    {
      "cell_type": "code",
      "execution_count": 62,
      "metadata": {
        "id": "VpKeqomy7r2l",
        "colab": {
          "base_uri": "https://localhost:8080/"
        },
        "outputId": "f252f2a3-e9d5-40d9-d708-a00fe4f43b9a"
      },
      "outputs": [
        {
          "output_type": "execute_result",
          "data": {
            "text/plain": [
              "DatasetDict({\n",
              "    train: Dataset({\n",
              "        features: ['sentence', 'label', 'idx', 'input_ids', 'attention_mask'],\n",
              "        num_rows: 67349\n",
              "    })\n",
              "    validation: Dataset({\n",
              "        features: ['sentence', 'label', 'idx', 'input_ids', 'attention_mask'],\n",
              "        num_rows: 872\n",
              "    })\n",
              "    test: Dataset({\n",
              "        features: ['sentence', 'label', 'idx', 'input_ids', 'attention_mask'],\n",
              "        num_rows: 1821\n",
              "    })\n",
              "})"
            ]
          },
          "metadata": {},
          "execution_count": 62
        }
      ],
      "source": [
        "tokenized_decoder_data"
      ]
    },
    {
      "cell_type": "code",
      "execution_count": 63,
      "metadata": {
        "id": "xGQMc3UC72gT"
      },
      "outputs": [],
      "source": [
        "tokenized_decoder_data = tokenized_decoder_data.remove_columns(['sentence', 'idx', 'label'])"
      ]
    },
    {
      "cell_type": "code",
      "execution_count": 64,
      "metadata": {
        "id": "uGOGoyR68M_O",
        "colab": {
          "base_uri": "https://localhost:8080/"
        },
        "outputId": "1f5717ce-152b-40ae-b1e0-3326f89226c7"
      },
      "outputs": [
        {
          "output_type": "execute_result",
          "data": {
            "text/plain": [
              "DatasetDict({\n",
              "    train: Dataset({\n",
              "        features: ['input_ids', 'attention_mask'],\n",
              "        num_rows: 67349\n",
              "    })\n",
              "    validation: Dataset({\n",
              "        features: ['input_ids', 'attention_mask'],\n",
              "        num_rows: 872\n",
              "    })\n",
              "    test: Dataset({\n",
              "        features: ['input_ids', 'attention_mask'],\n",
              "        num_rows: 1821\n",
              "    })\n",
              "})"
            ]
          },
          "metadata": {},
          "execution_count": 64
        }
      ],
      "source": [
        "tokenized_decoder_data"
      ]
    },
    {
      "cell_type": "code",
      "execution_count": 65,
      "metadata": {
        "id": "AXg3R5PC8Okf"
      },
      "outputs": [],
      "source": [
        "from torch.utils.data import DataLoader\n",
        "\n",
        "decoder_train_dataloader = DataLoader(\n",
        "    tokenized_decoder_data['train'],\n",
        "    shuffle = True,\n",
        "    batch_size = 32,\n",
        "    collate_fn = decoder_datacollator\n",
        ")\n",
        "\n",
        "decoder_test_dataloader = DataLoader(\n",
        "    tokenized_decoder_data['validation'],\n",
        "    shuffle = True,\n",
        "    batch_size = 1,\n",
        "    collate_fn = decoder_datacollator\n",
        ")"
      ]
    },
    {
      "cell_type": "code",
      "execution_count": 66,
      "metadata": {
        "id": "uLjhDIlX8pVo",
        "colab": {
          "base_uri": "https://localhost:8080/"
        },
        "outputId": "8651b4f7-ff3e-42a0-e0c1-111a270b1fc8"
      },
      "outputs": [
        {
          "output_type": "stream",
          "name": "stderr",
          "text": [
            "You're using a DistilBertTokenizerFast tokenizer. Please note that with a fast tokenizer, using the `__call__` method is faster than using a method to encode the text followed by a call to the `pad` method to get a padded encoding.\n"
          ]
        },
        {
          "output_type": "stream",
          "name": "stdout",
          "text": [
            "{'input_ids': tensor([[  101,  1108,  1178,  ...,     0,     0,     0],\n",
            "        [  101,  1110,   170,  ...,     0,     0,     0],\n",
            "        [  101, 26818,  1103,  ...,     0,     0,     0],\n",
            "        ...,\n",
            "        [  101,  1275,  1904,  ...,     0,     0,     0],\n",
            "        [  101,  1112, 11824,  ...,     0,     0,     0],\n",
            "        [  101, 26064,   181,  ...,     0,     0,     0]]), 'attention_mask': tensor([[1, 1, 1,  ..., 0, 0, 0],\n",
            "        [1, 1, 1,  ..., 0, 0, 0],\n",
            "        [1, 1, 1,  ..., 0, 0, 0],\n",
            "        ...,\n",
            "        [1, 1, 1,  ..., 0, 0, 0],\n",
            "        [1, 1, 1,  ..., 0, 0, 0],\n",
            "        [1, 1, 1,  ..., 0, 0, 0]])}\n"
          ]
        }
      ],
      "source": [
        "for batch in decoder_train_dataloader:\n",
        "  print(batch)\n",
        "  break"
      ]
    },
    {
      "cell_type": "code",
      "execution_count": 67,
      "metadata": {
        "id": "HMDiXhJ19JGg",
        "colab": {
          "base_uri": "https://localhost:8080/"
        },
        "outputId": "2956d3e0-bb8f-416b-acdb-2ac8e3e1c266"
      },
      "outputs": [
        {
          "output_type": "stream",
          "name": "stdout",
          "text": [
            "k:  input_ids v.shape:  torch.Size([32, 47])\n",
            "k:  attention_mask v.shape:  torch.Size([32, 47])\n"
          ]
        }
      ],
      "source": [
        "for batch in decoder_train_dataloader:\n",
        "  for k,v in batch.items():\n",
        "    print('k: ', k, 'v.shape: ', v.shape)\n",
        "  break"
      ]
    },
    {
      "cell_type": "code",
      "execution_count": 68,
      "metadata": {
        "id": "tvLUhNJJ9gEe",
        "colab": {
          "base_uri": "https://localhost:8080/"
        },
        "outputId": "80085f92-3a65-4d70-d90c-222aea9c3b14"
      },
      "outputs": [
        {
          "output_type": "execute_result",
          "data": {
            "text/plain": [
              "0"
            ]
          },
          "metadata": {},
          "execution_count": 68
        }
      ],
      "source": [
        "tokenizer.pad_token_id"
      ]
    },
    {
      "cell_type": "code",
      "execution_count": 69,
      "metadata": {
        "id": "MNvs45bY9xg5",
        "colab": {
          "base_uri": "https://localhost:8080/"
        },
        "outputId": "e06dd134-c9f7-4b21-e1eb-9898277e684e"
      },
      "outputs": [
        {
          "output_type": "execute_result",
          "data": {
            "text/plain": [
              "Decoder(\n",
              "  (embedding): Embedding(28996, 64)\n",
              "  (pos_encoding): PositionalEncoding(\n",
              "    (dropout): Dropout(p=0.1, inplace=False)\n",
              "  )\n",
              "  (transformer_blocks): Sequential(\n",
              "    (0): DecoderTransformerBlock(\n",
              "      (ln1): LayerNorm((64,), eps=1e-05, elementwise_affine=True)\n",
              "      (ln2): LayerNorm((64,), eps=1e-05, elementwise_affine=True)\n",
              "      (mha): CausalMultiHeadAttention(\n",
              "        (key): Linear(in_features=64, out_features=64, bias=False)\n",
              "        (query): Linear(in_features=64, out_features=64, bias=False)\n",
              "        (value): Linear(in_features=64, out_features=64, bias=False)\n",
              "        (W_O): Linear(in_features=64, out_features=64, bias=True)\n",
              "      )\n",
              "      (ann): Sequential(\n",
              "        (0): Linear(in_features=64, out_features=256, bias=True)\n",
              "        (1): GELU(approximate='none')\n",
              "        (2): Linear(in_features=256, out_features=64, bias=True)\n",
              "        (3): Dropout(p=0.1, inplace=False)\n",
              "      )\n",
              "      (dropout): Dropout(p=0.1, inplace=False)\n",
              "    )\n",
              "    (1): DecoderTransformerBlock(\n",
              "      (ln1): LayerNorm((64,), eps=1e-05, elementwise_affine=True)\n",
              "      (ln2): LayerNorm((64,), eps=1e-05, elementwise_affine=True)\n",
              "      (mha): CausalMultiHeadAttention(\n",
              "        (key): Linear(in_features=64, out_features=64, bias=False)\n",
              "        (query): Linear(in_features=64, out_features=64, bias=False)\n",
              "        (value): Linear(in_features=64, out_features=64, bias=False)\n",
              "        (W_O): Linear(in_features=64, out_features=64, bias=True)\n",
              "      )\n",
              "      (ann): Sequential(\n",
              "        (0): Linear(in_features=64, out_features=256, bias=True)\n",
              "        (1): GELU(approximate='none')\n",
              "        (2): Linear(in_features=256, out_features=64, bias=True)\n",
              "        (3): Dropout(p=0.1, inplace=False)\n",
              "      )\n",
              "      (dropout): Dropout(p=0.1, inplace=False)\n",
              "    )\n",
              "  )\n",
              "  (ln): LayerNorm((64,), eps=1e-05, elementwise_affine=True)\n",
              "  (ff): Linear(in_features=64, out_features=28996, bias=True)\n",
              ")"
            ]
          },
          "metadata": {},
          "execution_count": 69
        }
      ],
      "source": [
        "decoder_model = Decoder(vocab_size = tokenizer.vocab_size,\n",
        "                        max_len = tokenizer.max_model_input_sizes[checkpoint],\n",
        "                        d_key = 16,\n",
        "                        d_model = 64,\n",
        "                        n_heads = 4,\n",
        "                        n_layers = 2,\n",
        "                        dropout_prob = 0.1)\n",
        "decoder_model.to(device)"
      ]
    },
    {
      "cell_type": "code",
      "execution_count": 70,
      "metadata": {
        "id": "U4Nq_hDp-X3g"
      },
      "outputs": [],
      "source": [
        "loss_fn = nn.CrossEntropyLoss(ignore_index = tokenizer.pad_token_id)\n",
        "optimizer = torch.optim.AdamW(decoder_model.parameters())"
      ]
    },
    {
      "cell_type": "code",
      "execution_count": 71,
      "metadata": {
        "id": "5h804MLm_Mr_"
      },
      "outputs": [],
      "source": [
        "def train_decoder(model = decoder_model,\n",
        "                  loss_fn = loss_fn,\n",
        "                  optimizer = optimizer,\n",
        "                  train_loader = decoder_train_dataloader,\n",
        "                  epochs = 20):\n",
        "\n",
        "  train_losses = torch.zeros(epochs)\n",
        "\n",
        "  for epoch in range(epochs):\n",
        "    model.train()\n",
        "    train_loss = []\n",
        "    for batch in train_loader:\n",
        "      batch = {k:v.to(device) for k,v in batch.items()}\n",
        "      optimizer.zero_grad()\n",
        "\n",
        "      #create the targets\n",
        "      targets = batch['input_ids'].clone().detach()\n",
        "      # print(targets)\n",
        "      targets = targets.roll(shifts = -1, dims = 1)\n",
        "      # print(targets)\n",
        "      targets[:-1] = tokenizer.pad_token_id\n",
        "      # print(targets, targets.shape)\n",
        "\n",
        "      #forward pass\n",
        "      outputs = model(batch['input_ids'], batch['attention_mask'])\n",
        "      # Outputs are (B, T, V) dimensional\n",
        "      # But loss_fn expects (B, V, T) in case 3 dimensional inputs.\n",
        "      loss = loss_fn(outputs.transpose(1,2), targets)\n",
        "\n",
        "      #optimize\n",
        "      loss.backward()\n",
        "      optimizer.step()\n",
        "      train_loss.append(loss.item())\n",
        "      # break\n",
        "\n",
        "    train_loss = torch.mean(torch.tensor(train_loss))\n",
        "    train_losses[epoch] = train_loss\n",
        "    # break\n",
        "\n",
        "    print(f'Epoch: {epoch} | Train_loss: {train_loss}')\n",
        "  return train_losses"
      ]
    },
    {
      "cell_type": "code",
      "execution_count": 142,
      "metadata": {
        "id": "I8I_doFKTz8i",
        "colab": {
          "base_uri": "https://localhost:8080/"
        },
        "outputId": "24c936e5-b5ac-4539-b372-a5bee4fee1b1"
      },
      "outputs": [
        {
          "output_type": "stream",
          "name": "stdout",
          "text": [
            "Epoch: 0 | Train_loss: 4.924687385559082\n",
            "Epoch: 1 | Train_loss: 4.942347049713135\n",
            "Epoch: 2 | Train_loss: 4.901529788970947\n",
            "Epoch: 3 | Train_loss: 4.913598537445068\n",
            "Epoch: 4 | Train_loss: 4.874927520751953\n",
            "Epoch: 5 | Train_loss: 4.918846607208252\n",
            "Epoch: 6 | Train_loss: 4.827506065368652\n",
            "Epoch: 7 | Train_loss: 4.886719226837158\n",
            "Epoch: 8 | Train_loss: 4.842991352081299\n",
            "Epoch: 9 | Train_loss: 4.844637870788574\n",
            "Epoch: 10 | Train_loss: 4.822802543640137\n",
            "Epoch: 11 | Train_loss: 4.781643867492676\n",
            "Epoch: 12 | Train_loss: 4.816901683807373\n",
            "Epoch: 13 | Train_loss: 4.794091701507568\n",
            "Epoch: 14 | Train_loss: 4.784452438354492\n",
            "Epoch: 15 | Train_loss: 4.765901565551758\n",
            "Epoch: 16 | Train_loss: 4.775478363037109\n",
            "Epoch: 17 | Train_loss: 4.772923469543457\n",
            "Epoch: 18 | Train_loss: 4.758151054382324\n",
            "Epoch: 19 | Train_loss: 4.7570061683654785\n"
          ]
        }
      ],
      "source": [
        "decoder_train_losses = train_decoder()"
      ]
    },
    {
      "cell_type": "code",
      "execution_count": 143,
      "metadata": {
        "id": "GTcNxsr8VWAd"
      },
      "outputs": [],
      "source": [
        "decoder_model.eval()\n",
        "for batch in decoder_test_dataloader:\n",
        "  batch = {k:v.to(device) for k,v in batch.items()}\n",
        "  output = decoder_model(batch['input_ids'], batch['attention_mask'])\n",
        "  break"
      ]
    },
    {
      "cell_type": "code",
      "source": [
        "output.shape"
      ],
      "metadata": {
        "id": "9GYWvitslHMZ",
        "colab": {
          "base_uri": "https://localhost:8080/"
        },
        "outputId": "669bcb6e-a30e-4799-81c1-167b3410cd52"
      },
      "execution_count": 144,
      "outputs": [
        {
          "output_type": "execute_result",
          "data": {
            "text/plain": [
              "torch.Size([1, 17, 28996])"
            ]
          },
          "metadata": {},
          "execution_count": 144
        }
      ]
    },
    {
      "cell_type": "code",
      "source": [
        "torch.argmax(output, dim = -1)"
      ],
      "metadata": {
        "id": "V7aSmyw3lQ9d",
        "colab": {
          "base_uri": "https://localhost:8080/"
        },
        "outputId": "694db3af-488d-4ccf-aca3-f9867963895b"
      },
      "execution_count": 145,
      "outputs": [
        {
          "output_type": "execute_result",
          "data": {
            "text/plain": [
              "tensor([[ 170, 1128, 1273,  118,  102, 1103,  102,  170,  102, 1105, 1273,  118,\n",
              "          170,  117,  117,  102,  101]], device='cuda:0')"
            ]
          },
          "metadata": {},
          "execution_count": 145
        }
      ]
    },
    {
      "cell_type": "code",
      "source": [
        "prediction_ids = torch.argmax(output, dim = -1)\n",
        "tokenizer.decode(prediction_ids[0])"
      ],
      "metadata": {
        "id": "n_wxUFOLlWCS",
        "colab": {
          "base_uri": "https://localhost:8080/",
          "height": 35
        },
        "outputId": "b29e1a06-143b-48fa-b95f-0abf60cfed9f"
      },
      "execution_count": 146,
      "outputs": [
        {
          "output_type": "execute_result",
          "data": {
            "text/plain": [
              "'a you film - [SEP] the [SEP] a [SEP] and film - a,, [SEP] [CLS]'"
            ],
            "application/vnd.google.colaboratory.intrinsic+json": {
              "type": "string"
            }
          },
          "metadata": {},
          "execution_count": 146
        }
      ]
    },
    {
      "cell_type": "code",
      "source": [
        "tokenizer.decode(batch['input_ids'][0])"
      ],
      "metadata": {
        "id": "O0JAVXrile_6",
        "colab": {
          "base_uri": "https://localhost:8080/",
          "height": 35
        },
        "outputId": "249cb740-afe6-4419-b286-3903b5bc8782"
      },
      "execution_count": 147,
      "outputs": [
        {
          "output_type": "execute_result",
          "data": {
            "text/plain": [
              "'[CLS] if the first men in black was money, the second is small change. [SEP]'"
            ],
            "application/vnd.google.colaboratory.intrinsic+json": {
              "type": "string"
            }
          },
          "metadata": {},
          "execution_count": 147
        }
      ]
    },
    {
      "cell_type": "code",
      "source": [
        "tokenizer.decode(torch.concat((batch['input_ids'][0,:5], prediction_ids[:,4])))"
      ],
      "metadata": {
        "id": "rHV_lXaml0JW",
        "colab": {
          "base_uri": "https://localhost:8080/",
          "height": 35
        },
        "outputId": "b0753eb2-50c6-43ca-deed-45981644c123"
      },
      "execution_count": 148,
      "outputs": [
        {
          "output_type": "execute_result",
          "data": {
            "text/plain": [
              "'[CLS] if the first men [SEP]'"
            ],
            "application/vnd.google.colaboratory.intrinsic+json": {
              "type": "string"
            }
          },
          "metadata": {},
          "execution_count": 148
        }
      ]
    },
    {
      "cell_type": "code",
      "source": [
        "# generate language\n",
        "prompt = 'What is'\n",
        "\n",
        "tokenized_prompt = tokenizer(prompt, return_tensors ='pt')\n",
        "tokenized_prompt"
      ],
      "metadata": {
        "id": "mZh8QtKxEkmv",
        "colab": {
          "base_uri": "https://localhost:8080/"
        },
        "outputId": "1e2a4fa3-1cc3-47b7-a7cc-b1df295c42e9"
      },
      "execution_count": 197,
      "outputs": [
        {
          "output_type": "execute_result",
          "data": {
            "text/plain": [
              "{'input_ids': tensor([[ 101, 1327, 1110,  102]]), 'attention_mask': tensor([[1, 1, 1, 1]])}"
            ]
          },
          "metadata": {},
          "execution_count": 197
        }
      ]
    },
    {
      "cell_type": "code",
      "source": [
        "outputs = decoder_model(\n",
        "    tokenized_prompt['input_ids'][:, :-1].to(device),\n",
        "    tokenized_prompt['attention_mask'][:, :-1].to(device)\n",
        ")\n",
        "outputs.shape"
      ],
      "metadata": {
        "id": "2qXBj05uEuzS",
        "colab": {
          "base_uri": "https://localhost:8080/"
        },
        "outputId": "9764ed34-cf22-45b5-ca34-66a9d99c42df"
      },
      "execution_count": 198,
      "outputs": [
        {
          "output_type": "execute_result",
          "data": {
            "text/plain": [
              "torch.Size([1, 3, 28996])"
            ]
          },
          "metadata": {},
          "execution_count": 198
        }
      ]
    },
    {
      "cell_type": "code",
      "source": [
        "predcition_ids = torch.argmax(outputs[:,-1,:], axis = -1)"
      ],
      "metadata": {
        "id": "_fYchqVjFHTd"
      },
      "execution_count": 199,
      "outputs": []
    },
    {
      "cell_type": "code",
      "source": [
        "\n",
        "tokenizer.decode(prediction_ids[0])"
      ],
      "metadata": {
        "id": "DqNrnWsHFyof",
        "colab": {
          "base_uri": "https://localhost:8080/",
          "height": 35
        },
        "outputId": "98feb98d-2eb9-451b-8d59-4a22030b7301"
      },
      "execution_count": 200,
      "outputs": [
        {
          "output_type": "execute_result",
          "data": {
            "text/plain": [
              "'a you film - [SEP] the [SEP] a [SEP] and film - a,, [SEP] [CLS]'"
            ],
            "application/vnd.google.colaboratory.intrinsic+json": {
              "type": "string"
            }
          },
          "metadata": {},
          "execution_count": 200
        }
      ]
    },
    {
      "cell_type": "code",
      "source": [
        "def language_generator(prompt, model):\n",
        "  tokenized_prompt = tokenizer(prompt, return_tensors = 'pt')\n",
        "  input_ids = tokenized_prompt['input_ids'][:,:-1].to(device)\n",
        "  mask = tokenized_prompt['attention_mask'][:,:-1].to(device)\n",
        "\n",
        "  for _ in range(20):\n",
        "    outputs = model(input_ids, mask)\n",
        "    prediction_id = torch.argmax(outputs[:,-1,:], dim = -1)\n",
        "\n",
        "    input_ids = torch.hstack((input_ids, prediction_id.view(1,1)))\n",
        "    mask = torch.ones_like(input_ids)\n",
        "\n",
        "    if prediction_id == tokenizer.sep_token_id:\n",
        "      print(tokenizer.decode(input_ids[0]))\n",
        "      break"
      ],
      "metadata": {
        "id": "cWUKIk0bF3Hb"
      },
      "execution_count": 201,
      "outputs": []
    },
    {
      "cell_type": "code",
      "source": [
        "language_generator(prompt = prompt, model = decoder_model)"
      ],
      "metadata": {
        "id": "6ILb2vhkIFzg",
        "colab": {
          "base_uri": "https://localhost:8080/"
        },
        "outputId": "1ea53f1f-6763-4ea4-d2fe-695cd220358d"
      },
      "execution_count": 202,
      "outputs": [
        {
          "output_type": "stream",
          "name": "stdout",
          "text": [
            "[CLS] What is a movie [SEP]\n"
          ]
        }
      ]
    },
    {
      "cell_type": "code",
      "source": [],
      "metadata": {
        "id": "GeF3g_ugIP90"
      },
      "execution_count": 202,
      "outputs": []
    }
  ],
  "metadata": {
    "accelerator": "GPU",
    "colab": {
      "collapsed_sections": [
        "tZr23A71nXm3"
      ],
      "provenance": [],
      "gpuType": "T4",
      "authorship_tag": "ABX9TyNajPqqU/9rFtyqwaLdI+sv",
      "include_colab_link": true
    },
    "kernelspec": {
      "display_name": "Python 3",
      "name": "python3"
    },
    "language_info": {
      "name": "python"
    },
    "widgets": {
      "application/vnd.jupyter.widget-state+json": {
        "461219fda0a647e6a676707abbb2ef92": {
          "model_module": "@jupyter-widgets/controls",
          "model_name": "HBoxModel",
          "model_module_version": "1.5.0",
          "state": {
            "_dom_classes": [],
            "_model_module": "@jupyter-widgets/controls",
            "_model_module_version": "1.5.0",
            "_model_name": "HBoxModel",
            "_view_count": null,
            "_view_module": "@jupyter-widgets/controls",
            "_view_module_version": "1.5.0",
            "_view_name": "HBoxView",
            "box_style": "",
            "children": [
              "IPY_MODEL_3a6578532c8842b0ae991cd2f0a7a94c",
              "IPY_MODEL_7cdeb938560845bf9472f72ae317ef2a",
              "IPY_MODEL_8ec3f44750cc4f3da2e9b29e845c118d"
            ],
            "layout": "IPY_MODEL_55415dc35d544b29aadb338721450a5e"
          }
        },
        "3a6578532c8842b0ae991cd2f0a7a94c": {
          "model_module": "@jupyter-widgets/controls",
          "model_name": "HTMLModel",
          "model_module_version": "1.5.0",
          "state": {
            "_dom_classes": [],
            "_model_module": "@jupyter-widgets/controls",
            "_model_module_version": "1.5.0",
            "_model_name": "HTMLModel",
            "_view_count": null,
            "_view_module": "@jupyter-widgets/controls",
            "_view_module_version": "1.5.0",
            "_view_name": "HTMLView",
            "description": "",
            "description_tooltip": null,
            "layout": "IPY_MODEL_babdd0cbce744ea2a493f3b565c5f6f4",
            "placeholder": "​",
            "style": "IPY_MODEL_6d282a7076e045b38776d09e55038b44",
            "value": "Downloading readme: 100%"
          }
        },
        "7cdeb938560845bf9472f72ae317ef2a": {
          "model_module": "@jupyter-widgets/controls",
          "model_name": "FloatProgressModel",
          "model_module_version": "1.5.0",
          "state": {
            "_dom_classes": [],
            "_model_module": "@jupyter-widgets/controls",
            "_model_module_version": "1.5.0",
            "_model_name": "FloatProgressModel",
            "_view_count": null,
            "_view_module": "@jupyter-widgets/controls",
            "_view_module_version": "1.5.0",
            "_view_name": "ProgressView",
            "bar_style": "success",
            "description": "",
            "description_tooltip": null,
            "layout": "IPY_MODEL_d892626d80c845adaea7f24fd59950cf",
            "max": 35296,
            "min": 0,
            "orientation": "horizontal",
            "style": "IPY_MODEL_50450490372d4935aaa037838fc5b727",
            "value": 35296
          }
        },
        "8ec3f44750cc4f3da2e9b29e845c118d": {
          "model_module": "@jupyter-widgets/controls",
          "model_name": "HTMLModel",
          "model_module_version": "1.5.0",
          "state": {
            "_dom_classes": [],
            "_model_module": "@jupyter-widgets/controls",
            "_model_module_version": "1.5.0",
            "_model_name": "HTMLModel",
            "_view_count": null,
            "_view_module": "@jupyter-widgets/controls",
            "_view_module_version": "1.5.0",
            "_view_name": "HTMLView",
            "description": "",
            "description_tooltip": null,
            "layout": "IPY_MODEL_85a4e3da0ee94331a6dd02ea0c2e6dfe",
            "placeholder": "​",
            "style": "IPY_MODEL_63a8f4b857d148a49db716e130cccf14",
            "value": " 35.3k/35.3k [00:00&lt;00:00, 546kB/s]"
          }
        },
        "55415dc35d544b29aadb338721450a5e": {
          "model_module": "@jupyter-widgets/base",
          "model_name": "LayoutModel",
          "model_module_version": "1.2.0",
          "state": {
            "_model_module": "@jupyter-widgets/base",
            "_model_module_version": "1.2.0",
            "_model_name": "LayoutModel",
            "_view_count": null,
            "_view_module": "@jupyter-widgets/base",
            "_view_module_version": "1.2.0",
            "_view_name": "LayoutView",
            "align_content": null,
            "align_items": null,
            "align_self": null,
            "border": null,
            "bottom": null,
            "display": null,
            "flex": null,
            "flex_flow": null,
            "grid_area": null,
            "grid_auto_columns": null,
            "grid_auto_flow": null,
            "grid_auto_rows": null,
            "grid_column": null,
            "grid_gap": null,
            "grid_row": null,
            "grid_template_areas": null,
            "grid_template_columns": null,
            "grid_template_rows": null,
            "height": null,
            "justify_content": null,
            "justify_items": null,
            "left": null,
            "margin": null,
            "max_height": null,
            "max_width": null,
            "min_height": null,
            "min_width": null,
            "object_fit": null,
            "object_position": null,
            "order": null,
            "overflow": null,
            "overflow_x": null,
            "overflow_y": null,
            "padding": null,
            "right": null,
            "top": null,
            "visibility": null,
            "width": null
          }
        },
        "babdd0cbce744ea2a493f3b565c5f6f4": {
          "model_module": "@jupyter-widgets/base",
          "model_name": "LayoutModel",
          "model_module_version": "1.2.0",
          "state": {
            "_model_module": "@jupyter-widgets/base",
            "_model_module_version": "1.2.0",
            "_model_name": "LayoutModel",
            "_view_count": null,
            "_view_module": "@jupyter-widgets/base",
            "_view_module_version": "1.2.0",
            "_view_name": "LayoutView",
            "align_content": null,
            "align_items": null,
            "align_self": null,
            "border": null,
            "bottom": null,
            "display": null,
            "flex": null,
            "flex_flow": null,
            "grid_area": null,
            "grid_auto_columns": null,
            "grid_auto_flow": null,
            "grid_auto_rows": null,
            "grid_column": null,
            "grid_gap": null,
            "grid_row": null,
            "grid_template_areas": null,
            "grid_template_columns": null,
            "grid_template_rows": null,
            "height": null,
            "justify_content": null,
            "justify_items": null,
            "left": null,
            "margin": null,
            "max_height": null,
            "max_width": null,
            "min_height": null,
            "min_width": null,
            "object_fit": null,
            "object_position": null,
            "order": null,
            "overflow": null,
            "overflow_x": null,
            "overflow_y": null,
            "padding": null,
            "right": null,
            "top": null,
            "visibility": null,
            "width": null
          }
        },
        "6d282a7076e045b38776d09e55038b44": {
          "model_module": "@jupyter-widgets/controls",
          "model_name": "DescriptionStyleModel",
          "model_module_version": "1.5.0",
          "state": {
            "_model_module": "@jupyter-widgets/controls",
            "_model_module_version": "1.5.0",
            "_model_name": "DescriptionStyleModel",
            "_view_count": null,
            "_view_module": "@jupyter-widgets/base",
            "_view_module_version": "1.2.0",
            "_view_name": "StyleView",
            "description_width": ""
          }
        },
        "d892626d80c845adaea7f24fd59950cf": {
          "model_module": "@jupyter-widgets/base",
          "model_name": "LayoutModel",
          "model_module_version": "1.2.0",
          "state": {
            "_model_module": "@jupyter-widgets/base",
            "_model_module_version": "1.2.0",
            "_model_name": "LayoutModel",
            "_view_count": null,
            "_view_module": "@jupyter-widgets/base",
            "_view_module_version": "1.2.0",
            "_view_name": "LayoutView",
            "align_content": null,
            "align_items": null,
            "align_self": null,
            "border": null,
            "bottom": null,
            "display": null,
            "flex": null,
            "flex_flow": null,
            "grid_area": null,
            "grid_auto_columns": null,
            "grid_auto_flow": null,
            "grid_auto_rows": null,
            "grid_column": null,
            "grid_gap": null,
            "grid_row": null,
            "grid_template_areas": null,
            "grid_template_columns": null,
            "grid_template_rows": null,
            "height": null,
            "justify_content": null,
            "justify_items": null,
            "left": null,
            "margin": null,
            "max_height": null,
            "max_width": null,
            "min_height": null,
            "min_width": null,
            "object_fit": null,
            "object_position": null,
            "order": null,
            "overflow": null,
            "overflow_x": null,
            "overflow_y": null,
            "padding": null,
            "right": null,
            "top": null,
            "visibility": null,
            "width": null
          }
        },
        "50450490372d4935aaa037838fc5b727": {
          "model_module": "@jupyter-widgets/controls",
          "model_name": "ProgressStyleModel",
          "model_module_version": "1.5.0",
          "state": {
            "_model_module": "@jupyter-widgets/controls",
            "_model_module_version": "1.5.0",
            "_model_name": "ProgressStyleModel",
            "_view_count": null,
            "_view_module": "@jupyter-widgets/base",
            "_view_module_version": "1.2.0",
            "_view_name": "StyleView",
            "bar_color": null,
            "description_width": ""
          }
        },
        "85a4e3da0ee94331a6dd02ea0c2e6dfe": {
          "model_module": "@jupyter-widgets/base",
          "model_name": "LayoutModel",
          "model_module_version": "1.2.0",
          "state": {
            "_model_module": "@jupyter-widgets/base",
            "_model_module_version": "1.2.0",
            "_model_name": "LayoutModel",
            "_view_count": null,
            "_view_module": "@jupyter-widgets/base",
            "_view_module_version": "1.2.0",
            "_view_name": "LayoutView",
            "align_content": null,
            "align_items": null,
            "align_self": null,
            "border": null,
            "bottom": null,
            "display": null,
            "flex": null,
            "flex_flow": null,
            "grid_area": null,
            "grid_auto_columns": null,
            "grid_auto_flow": null,
            "grid_auto_rows": null,
            "grid_column": null,
            "grid_gap": null,
            "grid_row": null,
            "grid_template_areas": null,
            "grid_template_columns": null,
            "grid_template_rows": null,
            "height": null,
            "justify_content": null,
            "justify_items": null,
            "left": null,
            "margin": null,
            "max_height": null,
            "max_width": null,
            "min_height": null,
            "min_width": null,
            "object_fit": null,
            "object_position": null,
            "order": null,
            "overflow": null,
            "overflow_x": null,
            "overflow_y": null,
            "padding": null,
            "right": null,
            "top": null,
            "visibility": null,
            "width": null
          }
        },
        "63a8f4b857d148a49db716e130cccf14": {
          "model_module": "@jupyter-widgets/controls",
          "model_name": "DescriptionStyleModel",
          "model_module_version": "1.5.0",
          "state": {
            "_model_module": "@jupyter-widgets/controls",
            "_model_module_version": "1.5.0",
            "_model_name": "DescriptionStyleModel",
            "_view_count": null,
            "_view_module": "@jupyter-widgets/base",
            "_view_module_version": "1.2.0",
            "_view_name": "StyleView",
            "description_width": ""
          }
        },
        "bcf2809c72514c5aa1d5fc2635672756": {
          "model_module": "@jupyter-widgets/controls",
          "model_name": "HBoxModel",
          "model_module_version": "1.5.0",
          "state": {
            "_dom_classes": [],
            "_model_module": "@jupyter-widgets/controls",
            "_model_module_version": "1.5.0",
            "_model_name": "HBoxModel",
            "_view_count": null,
            "_view_module": "@jupyter-widgets/controls",
            "_view_module_version": "1.5.0",
            "_view_name": "HBoxView",
            "box_style": "",
            "children": [
              "IPY_MODEL_eb445671203f42bab582b4ecd361bb6b",
              "IPY_MODEL_c2bb2c0870154f3889c6f4b0aa74aeff",
              "IPY_MODEL_31d9ffb6693945a68fd9eea74ae135eb"
            ],
            "layout": "IPY_MODEL_98b2b1b4a07a4139a55f8569752341bc"
          }
        },
        "eb445671203f42bab582b4ecd361bb6b": {
          "model_module": "@jupyter-widgets/controls",
          "model_name": "HTMLModel",
          "model_module_version": "1.5.0",
          "state": {
            "_dom_classes": [],
            "_model_module": "@jupyter-widgets/controls",
            "_model_module_version": "1.5.0",
            "_model_name": "HTMLModel",
            "_view_count": null,
            "_view_module": "@jupyter-widgets/controls",
            "_view_module_version": "1.5.0",
            "_view_name": "HTMLView",
            "description": "",
            "description_tooltip": null,
            "layout": "IPY_MODEL_10065b9ffb2045809f801753d6fac54a",
            "placeholder": "​",
            "style": "IPY_MODEL_8d1d5fc3007b4c12bb0df0a585280745",
            "value": "Downloading data: 100%"
          }
        },
        "c2bb2c0870154f3889c6f4b0aa74aeff": {
          "model_module": "@jupyter-widgets/controls",
          "model_name": "FloatProgressModel",
          "model_module_version": "1.5.0",
          "state": {
            "_dom_classes": [],
            "_model_module": "@jupyter-widgets/controls",
            "_model_module_version": "1.5.0",
            "_model_name": "FloatProgressModel",
            "_view_count": null,
            "_view_module": "@jupyter-widgets/controls",
            "_view_module_version": "1.5.0",
            "_view_name": "ProgressView",
            "bar_style": "success",
            "description": "",
            "description_tooltip": null,
            "layout": "IPY_MODEL_f369fd622b6d41d6a864080bafc1684f",
            "max": 3110468,
            "min": 0,
            "orientation": "horizontal",
            "style": "IPY_MODEL_2562ac63a03a416c8ab5bc030692633b",
            "value": 3110468
          }
        },
        "31d9ffb6693945a68fd9eea74ae135eb": {
          "model_module": "@jupyter-widgets/controls",
          "model_name": "HTMLModel",
          "model_module_version": "1.5.0",
          "state": {
            "_dom_classes": [],
            "_model_module": "@jupyter-widgets/controls",
            "_model_module_version": "1.5.0",
            "_model_name": "HTMLModel",
            "_view_count": null,
            "_view_module": "@jupyter-widgets/controls",
            "_view_module_version": "1.5.0",
            "_view_name": "HTMLView",
            "description": "",
            "description_tooltip": null,
            "layout": "IPY_MODEL_62af13b2c3b84e99aefc13b79e5e5006",
            "placeholder": "​",
            "style": "IPY_MODEL_cb3075a3187442b382f08581b236104d",
            "value": " 3.11M/3.11M [00:00&lt;00:00, 6.80MB/s]"
          }
        },
        "98b2b1b4a07a4139a55f8569752341bc": {
          "model_module": "@jupyter-widgets/base",
          "model_name": "LayoutModel",
          "model_module_version": "1.2.0",
          "state": {
            "_model_module": "@jupyter-widgets/base",
            "_model_module_version": "1.2.0",
            "_model_name": "LayoutModel",
            "_view_count": null,
            "_view_module": "@jupyter-widgets/base",
            "_view_module_version": "1.2.0",
            "_view_name": "LayoutView",
            "align_content": null,
            "align_items": null,
            "align_self": null,
            "border": null,
            "bottom": null,
            "display": null,
            "flex": null,
            "flex_flow": null,
            "grid_area": null,
            "grid_auto_columns": null,
            "grid_auto_flow": null,
            "grid_auto_rows": null,
            "grid_column": null,
            "grid_gap": null,
            "grid_row": null,
            "grid_template_areas": null,
            "grid_template_columns": null,
            "grid_template_rows": null,
            "height": null,
            "justify_content": null,
            "justify_items": null,
            "left": null,
            "margin": null,
            "max_height": null,
            "max_width": null,
            "min_height": null,
            "min_width": null,
            "object_fit": null,
            "object_position": null,
            "order": null,
            "overflow": null,
            "overflow_x": null,
            "overflow_y": null,
            "padding": null,
            "right": null,
            "top": null,
            "visibility": null,
            "width": null
          }
        },
        "10065b9ffb2045809f801753d6fac54a": {
          "model_module": "@jupyter-widgets/base",
          "model_name": "LayoutModel",
          "model_module_version": "1.2.0",
          "state": {
            "_model_module": "@jupyter-widgets/base",
            "_model_module_version": "1.2.0",
            "_model_name": "LayoutModel",
            "_view_count": null,
            "_view_module": "@jupyter-widgets/base",
            "_view_module_version": "1.2.0",
            "_view_name": "LayoutView",
            "align_content": null,
            "align_items": null,
            "align_self": null,
            "border": null,
            "bottom": null,
            "display": null,
            "flex": null,
            "flex_flow": null,
            "grid_area": null,
            "grid_auto_columns": null,
            "grid_auto_flow": null,
            "grid_auto_rows": null,
            "grid_column": null,
            "grid_gap": null,
            "grid_row": null,
            "grid_template_areas": null,
            "grid_template_columns": null,
            "grid_template_rows": null,
            "height": null,
            "justify_content": null,
            "justify_items": null,
            "left": null,
            "margin": null,
            "max_height": null,
            "max_width": null,
            "min_height": null,
            "min_width": null,
            "object_fit": null,
            "object_position": null,
            "order": null,
            "overflow": null,
            "overflow_x": null,
            "overflow_y": null,
            "padding": null,
            "right": null,
            "top": null,
            "visibility": null,
            "width": null
          }
        },
        "8d1d5fc3007b4c12bb0df0a585280745": {
          "model_module": "@jupyter-widgets/controls",
          "model_name": "DescriptionStyleModel",
          "model_module_version": "1.5.0",
          "state": {
            "_model_module": "@jupyter-widgets/controls",
            "_model_module_version": "1.5.0",
            "_model_name": "DescriptionStyleModel",
            "_view_count": null,
            "_view_module": "@jupyter-widgets/base",
            "_view_module_version": "1.2.0",
            "_view_name": "StyleView",
            "description_width": ""
          }
        },
        "f369fd622b6d41d6a864080bafc1684f": {
          "model_module": "@jupyter-widgets/base",
          "model_name": "LayoutModel",
          "model_module_version": "1.2.0",
          "state": {
            "_model_module": "@jupyter-widgets/base",
            "_model_module_version": "1.2.0",
            "_model_name": "LayoutModel",
            "_view_count": null,
            "_view_module": "@jupyter-widgets/base",
            "_view_module_version": "1.2.0",
            "_view_name": "LayoutView",
            "align_content": null,
            "align_items": null,
            "align_self": null,
            "border": null,
            "bottom": null,
            "display": null,
            "flex": null,
            "flex_flow": null,
            "grid_area": null,
            "grid_auto_columns": null,
            "grid_auto_flow": null,
            "grid_auto_rows": null,
            "grid_column": null,
            "grid_gap": null,
            "grid_row": null,
            "grid_template_areas": null,
            "grid_template_columns": null,
            "grid_template_rows": null,
            "height": null,
            "justify_content": null,
            "justify_items": null,
            "left": null,
            "margin": null,
            "max_height": null,
            "max_width": null,
            "min_height": null,
            "min_width": null,
            "object_fit": null,
            "object_position": null,
            "order": null,
            "overflow": null,
            "overflow_x": null,
            "overflow_y": null,
            "padding": null,
            "right": null,
            "top": null,
            "visibility": null,
            "width": null
          }
        },
        "2562ac63a03a416c8ab5bc030692633b": {
          "model_module": "@jupyter-widgets/controls",
          "model_name": "ProgressStyleModel",
          "model_module_version": "1.5.0",
          "state": {
            "_model_module": "@jupyter-widgets/controls",
            "_model_module_version": "1.5.0",
            "_model_name": "ProgressStyleModel",
            "_view_count": null,
            "_view_module": "@jupyter-widgets/base",
            "_view_module_version": "1.2.0",
            "_view_name": "StyleView",
            "bar_color": null,
            "description_width": ""
          }
        },
        "62af13b2c3b84e99aefc13b79e5e5006": {
          "model_module": "@jupyter-widgets/base",
          "model_name": "LayoutModel",
          "model_module_version": "1.2.0",
          "state": {
            "_model_module": "@jupyter-widgets/base",
            "_model_module_version": "1.2.0",
            "_model_name": "LayoutModel",
            "_view_count": null,
            "_view_module": "@jupyter-widgets/base",
            "_view_module_version": "1.2.0",
            "_view_name": "LayoutView",
            "align_content": null,
            "align_items": null,
            "align_self": null,
            "border": null,
            "bottom": null,
            "display": null,
            "flex": null,
            "flex_flow": null,
            "grid_area": null,
            "grid_auto_columns": null,
            "grid_auto_flow": null,
            "grid_auto_rows": null,
            "grid_column": null,
            "grid_gap": null,
            "grid_row": null,
            "grid_template_areas": null,
            "grid_template_columns": null,
            "grid_template_rows": null,
            "height": null,
            "justify_content": null,
            "justify_items": null,
            "left": null,
            "margin": null,
            "max_height": null,
            "max_width": null,
            "min_height": null,
            "min_width": null,
            "object_fit": null,
            "object_position": null,
            "order": null,
            "overflow": null,
            "overflow_x": null,
            "overflow_y": null,
            "padding": null,
            "right": null,
            "top": null,
            "visibility": null,
            "width": null
          }
        },
        "cb3075a3187442b382f08581b236104d": {
          "model_module": "@jupyter-widgets/controls",
          "model_name": "DescriptionStyleModel",
          "model_module_version": "1.5.0",
          "state": {
            "_model_module": "@jupyter-widgets/controls",
            "_model_module_version": "1.5.0",
            "_model_name": "DescriptionStyleModel",
            "_view_count": null,
            "_view_module": "@jupyter-widgets/base",
            "_view_module_version": "1.2.0",
            "_view_name": "StyleView",
            "description_width": ""
          }
        },
        "db76608b401a42028c131277335dfad2": {
          "model_module": "@jupyter-widgets/controls",
          "model_name": "HBoxModel",
          "model_module_version": "1.5.0",
          "state": {
            "_dom_classes": [],
            "_model_module": "@jupyter-widgets/controls",
            "_model_module_version": "1.5.0",
            "_model_name": "HBoxModel",
            "_view_count": null,
            "_view_module": "@jupyter-widgets/controls",
            "_view_module_version": "1.5.0",
            "_view_name": "HBoxView",
            "box_style": "",
            "children": [
              "IPY_MODEL_cb5678c77dfd41069115e15e83549d0b",
              "IPY_MODEL_7054ad5741484b77af20a9893accb561",
              "IPY_MODEL_82ef4ebbcbb8476485c6589320b75b02"
            ],
            "layout": "IPY_MODEL_6edea247d7e84d24bc6786106ec95ca2"
          }
        },
        "cb5678c77dfd41069115e15e83549d0b": {
          "model_module": "@jupyter-widgets/controls",
          "model_name": "HTMLModel",
          "model_module_version": "1.5.0",
          "state": {
            "_dom_classes": [],
            "_model_module": "@jupyter-widgets/controls",
            "_model_module_version": "1.5.0",
            "_model_name": "HTMLModel",
            "_view_count": null,
            "_view_module": "@jupyter-widgets/controls",
            "_view_module_version": "1.5.0",
            "_view_name": "HTMLView",
            "description": "",
            "description_tooltip": null,
            "layout": "IPY_MODEL_cb58baded9fb41c3b583e3fd695fd2b9",
            "placeholder": "​",
            "style": "IPY_MODEL_b0b0824b665b49f98cbc6e0b58d45951",
            "value": "Downloading data: 100%"
          }
        },
        "7054ad5741484b77af20a9893accb561": {
          "model_module": "@jupyter-widgets/controls",
          "model_name": "FloatProgressModel",
          "model_module_version": "1.5.0",
          "state": {
            "_dom_classes": [],
            "_model_module": "@jupyter-widgets/controls",
            "_model_module_version": "1.5.0",
            "_model_name": "FloatProgressModel",
            "_view_count": null,
            "_view_module": "@jupyter-widgets/controls",
            "_view_module_version": "1.5.0",
            "_view_name": "ProgressView",
            "bar_style": "success",
            "description": "",
            "description_tooltip": null,
            "layout": "IPY_MODEL_8beaab67b7324e15b799c791b6977f39",
            "max": 72819,
            "min": 0,
            "orientation": "horizontal",
            "style": "IPY_MODEL_4de7d87226434df8bbe7eda0e0debe49",
            "value": 72819
          }
        },
        "82ef4ebbcbb8476485c6589320b75b02": {
          "model_module": "@jupyter-widgets/controls",
          "model_name": "HTMLModel",
          "model_module_version": "1.5.0",
          "state": {
            "_dom_classes": [],
            "_model_module": "@jupyter-widgets/controls",
            "_model_module_version": "1.5.0",
            "_model_name": "HTMLModel",
            "_view_count": null,
            "_view_module": "@jupyter-widgets/controls",
            "_view_module_version": "1.5.0",
            "_view_name": "HTMLView",
            "description": "",
            "description_tooltip": null,
            "layout": "IPY_MODEL_dce45e4173b241d0833e282a1134cf67",
            "placeholder": "​",
            "style": "IPY_MODEL_f5330f5150a0453eac2492dda81932b5",
            "value": " 72.8k/72.8k [00:00&lt;00:00, 307kB/s]"
          }
        },
        "6edea247d7e84d24bc6786106ec95ca2": {
          "model_module": "@jupyter-widgets/base",
          "model_name": "LayoutModel",
          "model_module_version": "1.2.0",
          "state": {
            "_model_module": "@jupyter-widgets/base",
            "_model_module_version": "1.2.0",
            "_model_name": "LayoutModel",
            "_view_count": null,
            "_view_module": "@jupyter-widgets/base",
            "_view_module_version": "1.2.0",
            "_view_name": "LayoutView",
            "align_content": null,
            "align_items": null,
            "align_self": null,
            "border": null,
            "bottom": null,
            "display": null,
            "flex": null,
            "flex_flow": null,
            "grid_area": null,
            "grid_auto_columns": null,
            "grid_auto_flow": null,
            "grid_auto_rows": null,
            "grid_column": null,
            "grid_gap": null,
            "grid_row": null,
            "grid_template_areas": null,
            "grid_template_columns": null,
            "grid_template_rows": null,
            "height": null,
            "justify_content": null,
            "justify_items": null,
            "left": null,
            "margin": null,
            "max_height": null,
            "max_width": null,
            "min_height": null,
            "min_width": null,
            "object_fit": null,
            "object_position": null,
            "order": null,
            "overflow": null,
            "overflow_x": null,
            "overflow_y": null,
            "padding": null,
            "right": null,
            "top": null,
            "visibility": null,
            "width": null
          }
        },
        "cb58baded9fb41c3b583e3fd695fd2b9": {
          "model_module": "@jupyter-widgets/base",
          "model_name": "LayoutModel",
          "model_module_version": "1.2.0",
          "state": {
            "_model_module": "@jupyter-widgets/base",
            "_model_module_version": "1.2.0",
            "_model_name": "LayoutModel",
            "_view_count": null,
            "_view_module": "@jupyter-widgets/base",
            "_view_module_version": "1.2.0",
            "_view_name": "LayoutView",
            "align_content": null,
            "align_items": null,
            "align_self": null,
            "border": null,
            "bottom": null,
            "display": null,
            "flex": null,
            "flex_flow": null,
            "grid_area": null,
            "grid_auto_columns": null,
            "grid_auto_flow": null,
            "grid_auto_rows": null,
            "grid_column": null,
            "grid_gap": null,
            "grid_row": null,
            "grid_template_areas": null,
            "grid_template_columns": null,
            "grid_template_rows": null,
            "height": null,
            "justify_content": null,
            "justify_items": null,
            "left": null,
            "margin": null,
            "max_height": null,
            "max_width": null,
            "min_height": null,
            "min_width": null,
            "object_fit": null,
            "object_position": null,
            "order": null,
            "overflow": null,
            "overflow_x": null,
            "overflow_y": null,
            "padding": null,
            "right": null,
            "top": null,
            "visibility": null,
            "width": null
          }
        },
        "b0b0824b665b49f98cbc6e0b58d45951": {
          "model_module": "@jupyter-widgets/controls",
          "model_name": "DescriptionStyleModel",
          "model_module_version": "1.5.0",
          "state": {
            "_model_module": "@jupyter-widgets/controls",
            "_model_module_version": "1.5.0",
            "_model_name": "DescriptionStyleModel",
            "_view_count": null,
            "_view_module": "@jupyter-widgets/base",
            "_view_module_version": "1.2.0",
            "_view_name": "StyleView",
            "description_width": ""
          }
        },
        "8beaab67b7324e15b799c791b6977f39": {
          "model_module": "@jupyter-widgets/base",
          "model_name": "LayoutModel",
          "model_module_version": "1.2.0",
          "state": {
            "_model_module": "@jupyter-widgets/base",
            "_model_module_version": "1.2.0",
            "_model_name": "LayoutModel",
            "_view_count": null,
            "_view_module": "@jupyter-widgets/base",
            "_view_module_version": "1.2.0",
            "_view_name": "LayoutView",
            "align_content": null,
            "align_items": null,
            "align_self": null,
            "border": null,
            "bottom": null,
            "display": null,
            "flex": null,
            "flex_flow": null,
            "grid_area": null,
            "grid_auto_columns": null,
            "grid_auto_flow": null,
            "grid_auto_rows": null,
            "grid_column": null,
            "grid_gap": null,
            "grid_row": null,
            "grid_template_areas": null,
            "grid_template_columns": null,
            "grid_template_rows": null,
            "height": null,
            "justify_content": null,
            "justify_items": null,
            "left": null,
            "margin": null,
            "max_height": null,
            "max_width": null,
            "min_height": null,
            "min_width": null,
            "object_fit": null,
            "object_position": null,
            "order": null,
            "overflow": null,
            "overflow_x": null,
            "overflow_y": null,
            "padding": null,
            "right": null,
            "top": null,
            "visibility": null,
            "width": null
          }
        },
        "4de7d87226434df8bbe7eda0e0debe49": {
          "model_module": "@jupyter-widgets/controls",
          "model_name": "ProgressStyleModel",
          "model_module_version": "1.5.0",
          "state": {
            "_model_module": "@jupyter-widgets/controls",
            "_model_module_version": "1.5.0",
            "_model_name": "ProgressStyleModel",
            "_view_count": null,
            "_view_module": "@jupyter-widgets/base",
            "_view_module_version": "1.2.0",
            "_view_name": "StyleView",
            "bar_color": null,
            "description_width": ""
          }
        },
        "dce45e4173b241d0833e282a1134cf67": {
          "model_module": "@jupyter-widgets/base",
          "model_name": "LayoutModel",
          "model_module_version": "1.2.0",
          "state": {
            "_model_module": "@jupyter-widgets/base",
            "_model_module_version": "1.2.0",
            "_model_name": "LayoutModel",
            "_view_count": null,
            "_view_module": "@jupyter-widgets/base",
            "_view_module_version": "1.2.0",
            "_view_name": "LayoutView",
            "align_content": null,
            "align_items": null,
            "align_self": null,
            "border": null,
            "bottom": null,
            "display": null,
            "flex": null,
            "flex_flow": null,
            "grid_area": null,
            "grid_auto_columns": null,
            "grid_auto_flow": null,
            "grid_auto_rows": null,
            "grid_column": null,
            "grid_gap": null,
            "grid_row": null,
            "grid_template_areas": null,
            "grid_template_columns": null,
            "grid_template_rows": null,
            "height": null,
            "justify_content": null,
            "justify_items": null,
            "left": null,
            "margin": null,
            "max_height": null,
            "max_width": null,
            "min_height": null,
            "min_width": null,
            "object_fit": null,
            "object_position": null,
            "order": null,
            "overflow": null,
            "overflow_x": null,
            "overflow_y": null,
            "padding": null,
            "right": null,
            "top": null,
            "visibility": null,
            "width": null
          }
        },
        "f5330f5150a0453eac2492dda81932b5": {
          "model_module": "@jupyter-widgets/controls",
          "model_name": "DescriptionStyleModel",
          "model_module_version": "1.5.0",
          "state": {
            "_model_module": "@jupyter-widgets/controls",
            "_model_module_version": "1.5.0",
            "_model_name": "DescriptionStyleModel",
            "_view_count": null,
            "_view_module": "@jupyter-widgets/base",
            "_view_module_version": "1.2.0",
            "_view_name": "StyleView",
            "description_width": ""
          }
        },
        "e6490c5737064388bcc417945edfc7c7": {
          "model_module": "@jupyter-widgets/controls",
          "model_name": "HBoxModel",
          "model_module_version": "1.5.0",
          "state": {
            "_dom_classes": [],
            "_model_module": "@jupyter-widgets/controls",
            "_model_module_version": "1.5.0",
            "_model_name": "HBoxModel",
            "_view_count": null,
            "_view_module": "@jupyter-widgets/controls",
            "_view_module_version": "1.5.0",
            "_view_name": "HBoxView",
            "box_style": "",
            "children": [
              "IPY_MODEL_5eff38ecd57d45b896d95dbf2090ec72",
              "IPY_MODEL_bc2f406230994346807b633a9e6d267d",
              "IPY_MODEL_3ccb1b43966e4576b090675506c5e611"
            ],
            "layout": "IPY_MODEL_84f09f25e5d847e4a4c65bd51a0c2858"
          }
        },
        "5eff38ecd57d45b896d95dbf2090ec72": {
          "model_module": "@jupyter-widgets/controls",
          "model_name": "HTMLModel",
          "model_module_version": "1.5.0",
          "state": {
            "_dom_classes": [],
            "_model_module": "@jupyter-widgets/controls",
            "_model_module_version": "1.5.0",
            "_model_name": "HTMLModel",
            "_view_count": null,
            "_view_module": "@jupyter-widgets/controls",
            "_view_module_version": "1.5.0",
            "_view_name": "HTMLView",
            "description": "",
            "description_tooltip": null,
            "layout": "IPY_MODEL_38199ad8a190403089b67e77cbacdee0",
            "placeholder": "​",
            "style": "IPY_MODEL_8fe4885f6a5d42e080d58576312992ca",
            "value": "Downloading data: 100%"
          }
        },
        "bc2f406230994346807b633a9e6d267d": {
          "model_module": "@jupyter-widgets/controls",
          "model_name": "FloatProgressModel",
          "model_module_version": "1.5.0",
          "state": {
            "_dom_classes": [],
            "_model_module": "@jupyter-widgets/controls",
            "_model_module_version": "1.5.0",
            "_model_name": "FloatProgressModel",
            "_view_count": null,
            "_view_module": "@jupyter-widgets/controls",
            "_view_module_version": "1.5.0",
            "_view_name": "ProgressView",
            "bar_style": "success",
            "description": "",
            "description_tooltip": null,
            "layout": "IPY_MODEL_106523b33bf24a81b92f3d7a3a8b4b5d",
            "max": 147793,
            "min": 0,
            "orientation": "horizontal",
            "style": "IPY_MODEL_8457d99342bc4091bed92570bfe2e0c3",
            "value": 147793
          }
        },
        "3ccb1b43966e4576b090675506c5e611": {
          "model_module": "@jupyter-widgets/controls",
          "model_name": "HTMLModel",
          "model_module_version": "1.5.0",
          "state": {
            "_dom_classes": [],
            "_model_module": "@jupyter-widgets/controls",
            "_model_module_version": "1.5.0",
            "_model_name": "HTMLModel",
            "_view_count": null,
            "_view_module": "@jupyter-widgets/controls",
            "_view_module_version": "1.5.0",
            "_view_name": "HTMLView",
            "description": "",
            "description_tooltip": null,
            "layout": "IPY_MODEL_a0ad292d60bc41999355d9d4410f603e",
            "placeholder": "​",
            "style": "IPY_MODEL_d8dae6a2d5ad4d649b787ff3601c1bbb",
            "value": " 148k/148k [00:00&lt;00:00, 729kB/s]"
          }
        },
        "84f09f25e5d847e4a4c65bd51a0c2858": {
          "model_module": "@jupyter-widgets/base",
          "model_name": "LayoutModel",
          "model_module_version": "1.2.0",
          "state": {
            "_model_module": "@jupyter-widgets/base",
            "_model_module_version": "1.2.0",
            "_model_name": "LayoutModel",
            "_view_count": null,
            "_view_module": "@jupyter-widgets/base",
            "_view_module_version": "1.2.0",
            "_view_name": "LayoutView",
            "align_content": null,
            "align_items": null,
            "align_self": null,
            "border": null,
            "bottom": null,
            "display": null,
            "flex": null,
            "flex_flow": null,
            "grid_area": null,
            "grid_auto_columns": null,
            "grid_auto_flow": null,
            "grid_auto_rows": null,
            "grid_column": null,
            "grid_gap": null,
            "grid_row": null,
            "grid_template_areas": null,
            "grid_template_columns": null,
            "grid_template_rows": null,
            "height": null,
            "justify_content": null,
            "justify_items": null,
            "left": null,
            "margin": null,
            "max_height": null,
            "max_width": null,
            "min_height": null,
            "min_width": null,
            "object_fit": null,
            "object_position": null,
            "order": null,
            "overflow": null,
            "overflow_x": null,
            "overflow_y": null,
            "padding": null,
            "right": null,
            "top": null,
            "visibility": null,
            "width": null
          }
        },
        "38199ad8a190403089b67e77cbacdee0": {
          "model_module": "@jupyter-widgets/base",
          "model_name": "LayoutModel",
          "model_module_version": "1.2.0",
          "state": {
            "_model_module": "@jupyter-widgets/base",
            "_model_module_version": "1.2.0",
            "_model_name": "LayoutModel",
            "_view_count": null,
            "_view_module": "@jupyter-widgets/base",
            "_view_module_version": "1.2.0",
            "_view_name": "LayoutView",
            "align_content": null,
            "align_items": null,
            "align_self": null,
            "border": null,
            "bottom": null,
            "display": null,
            "flex": null,
            "flex_flow": null,
            "grid_area": null,
            "grid_auto_columns": null,
            "grid_auto_flow": null,
            "grid_auto_rows": null,
            "grid_column": null,
            "grid_gap": null,
            "grid_row": null,
            "grid_template_areas": null,
            "grid_template_columns": null,
            "grid_template_rows": null,
            "height": null,
            "justify_content": null,
            "justify_items": null,
            "left": null,
            "margin": null,
            "max_height": null,
            "max_width": null,
            "min_height": null,
            "min_width": null,
            "object_fit": null,
            "object_position": null,
            "order": null,
            "overflow": null,
            "overflow_x": null,
            "overflow_y": null,
            "padding": null,
            "right": null,
            "top": null,
            "visibility": null,
            "width": null
          }
        },
        "8fe4885f6a5d42e080d58576312992ca": {
          "model_module": "@jupyter-widgets/controls",
          "model_name": "DescriptionStyleModel",
          "model_module_version": "1.5.0",
          "state": {
            "_model_module": "@jupyter-widgets/controls",
            "_model_module_version": "1.5.0",
            "_model_name": "DescriptionStyleModel",
            "_view_count": null,
            "_view_module": "@jupyter-widgets/base",
            "_view_module_version": "1.2.0",
            "_view_name": "StyleView",
            "description_width": ""
          }
        },
        "106523b33bf24a81b92f3d7a3a8b4b5d": {
          "model_module": "@jupyter-widgets/base",
          "model_name": "LayoutModel",
          "model_module_version": "1.2.0",
          "state": {
            "_model_module": "@jupyter-widgets/base",
            "_model_module_version": "1.2.0",
            "_model_name": "LayoutModel",
            "_view_count": null,
            "_view_module": "@jupyter-widgets/base",
            "_view_module_version": "1.2.0",
            "_view_name": "LayoutView",
            "align_content": null,
            "align_items": null,
            "align_self": null,
            "border": null,
            "bottom": null,
            "display": null,
            "flex": null,
            "flex_flow": null,
            "grid_area": null,
            "grid_auto_columns": null,
            "grid_auto_flow": null,
            "grid_auto_rows": null,
            "grid_column": null,
            "grid_gap": null,
            "grid_row": null,
            "grid_template_areas": null,
            "grid_template_columns": null,
            "grid_template_rows": null,
            "height": null,
            "justify_content": null,
            "justify_items": null,
            "left": null,
            "margin": null,
            "max_height": null,
            "max_width": null,
            "min_height": null,
            "min_width": null,
            "object_fit": null,
            "object_position": null,
            "order": null,
            "overflow": null,
            "overflow_x": null,
            "overflow_y": null,
            "padding": null,
            "right": null,
            "top": null,
            "visibility": null,
            "width": null
          }
        },
        "8457d99342bc4091bed92570bfe2e0c3": {
          "model_module": "@jupyter-widgets/controls",
          "model_name": "ProgressStyleModel",
          "model_module_version": "1.5.0",
          "state": {
            "_model_module": "@jupyter-widgets/controls",
            "_model_module_version": "1.5.0",
            "_model_name": "ProgressStyleModel",
            "_view_count": null,
            "_view_module": "@jupyter-widgets/base",
            "_view_module_version": "1.2.0",
            "_view_name": "StyleView",
            "bar_color": null,
            "description_width": ""
          }
        },
        "a0ad292d60bc41999355d9d4410f603e": {
          "model_module": "@jupyter-widgets/base",
          "model_name": "LayoutModel",
          "model_module_version": "1.2.0",
          "state": {
            "_model_module": "@jupyter-widgets/base",
            "_model_module_version": "1.2.0",
            "_model_name": "LayoutModel",
            "_view_count": null,
            "_view_module": "@jupyter-widgets/base",
            "_view_module_version": "1.2.0",
            "_view_name": "LayoutView",
            "align_content": null,
            "align_items": null,
            "align_self": null,
            "border": null,
            "bottom": null,
            "display": null,
            "flex": null,
            "flex_flow": null,
            "grid_area": null,
            "grid_auto_columns": null,
            "grid_auto_flow": null,
            "grid_auto_rows": null,
            "grid_column": null,
            "grid_gap": null,
            "grid_row": null,
            "grid_template_areas": null,
            "grid_template_columns": null,
            "grid_template_rows": null,
            "height": null,
            "justify_content": null,
            "justify_items": null,
            "left": null,
            "margin": null,
            "max_height": null,
            "max_width": null,
            "min_height": null,
            "min_width": null,
            "object_fit": null,
            "object_position": null,
            "order": null,
            "overflow": null,
            "overflow_x": null,
            "overflow_y": null,
            "padding": null,
            "right": null,
            "top": null,
            "visibility": null,
            "width": null
          }
        },
        "d8dae6a2d5ad4d649b787ff3601c1bbb": {
          "model_module": "@jupyter-widgets/controls",
          "model_name": "DescriptionStyleModel",
          "model_module_version": "1.5.0",
          "state": {
            "_model_module": "@jupyter-widgets/controls",
            "_model_module_version": "1.5.0",
            "_model_name": "DescriptionStyleModel",
            "_view_count": null,
            "_view_module": "@jupyter-widgets/base",
            "_view_module_version": "1.2.0",
            "_view_name": "StyleView",
            "description_width": ""
          }
        },
        "40f86595335d4633989222a4281bc040": {
          "model_module": "@jupyter-widgets/controls",
          "model_name": "HBoxModel",
          "model_module_version": "1.5.0",
          "state": {
            "_dom_classes": [],
            "_model_module": "@jupyter-widgets/controls",
            "_model_module_version": "1.5.0",
            "_model_name": "HBoxModel",
            "_view_count": null,
            "_view_module": "@jupyter-widgets/controls",
            "_view_module_version": "1.5.0",
            "_view_name": "HBoxView",
            "box_style": "",
            "children": [
              "IPY_MODEL_362c18a90bd8420580bd7504a30f2939",
              "IPY_MODEL_a02067e80e1d486c9c9f2c63e0d5a76d",
              "IPY_MODEL_c6815bc6bc4042ec93fb2edc95a01a98"
            ],
            "layout": "IPY_MODEL_2666f725580549f5a4dc877bdf7ede01"
          }
        },
        "362c18a90bd8420580bd7504a30f2939": {
          "model_module": "@jupyter-widgets/controls",
          "model_name": "HTMLModel",
          "model_module_version": "1.5.0",
          "state": {
            "_dom_classes": [],
            "_model_module": "@jupyter-widgets/controls",
            "_model_module_version": "1.5.0",
            "_model_name": "HTMLModel",
            "_view_count": null,
            "_view_module": "@jupyter-widgets/controls",
            "_view_module_version": "1.5.0",
            "_view_name": "HTMLView",
            "description": "",
            "description_tooltip": null,
            "layout": "IPY_MODEL_0f63d870b75b46e7b13c8ce67417f6ff",
            "placeholder": "​",
            "style": "IPY_MODEL_b7e6c152891c4fc5bb411875c76f6991",
            "value": "Generating train split: 100%"
          }
        },
        "a02067e80e1d486c9c9f2c63e0d5a76d": {
          "model_module": "@jupyter-widgets/controls",
          "model_name": "FloatProgressModel",
          "model_module_version": "1.5.0",
          "state": {
            "_dom_classes": [],
            "_model_module": "@jupyter-widgets/controls",
            "_model_module_version": "1.5.0",
            "_model_name": "FloatProgressModel",
            "_view_count": null,
            "_view_module": "@jupyter-widgets/controls",
            "_view_module_version": "1.5.0",
            "_view_name": "ProgressView",
            "bar_style": "success",
            "description": "",
            "description_tooltip": null,
            "layout": "IPY_MODEL_f966b4bbae2140dd999e2bb89ab44653",
            "max": 67349,
            "min": 0,
            "orientation": "horizontal",
            "style": "IPY_MODEL_7e49abb02cb2494b8af99180df6e6715",
            "value": 67349
          }
        },
        "c6815bc6bc4042ec93fb2edc95a01a98": {
          "model_module": "@jupyter-widgets/controls",
          "model_name": "HTMLModel",
          "model_module_version": "1.5.0",
          "state": {
            "_dom_classes": [],
            "_model_module": "@jupyter-widgets/controls",
            "_model_module_version": "1.5.0",
            "_model_name": "HTMLModel",
            "_view_count": null,
            "_view_module": "@jupyter-widgets/controls",
            "_view_module_version": "1.5.0",
            "_view_name": "HTMLView",
            "description": "",
            "description_tooltip": null,
            "layout": "IPY_MODEL_88c6cdfff6d548c681029d2d4a4eb08e",
            "placeholder": "​",
            "style": "IPY_MODEL_1c20c36476b445f2a49a0b5c9eb04b60",
            "value": " 67349/67349 [00:00&lt;00:00, 807186.50 examples/s]"
          }
        },
        "2666f725580549f5a4dc877bdf7ede01": {
          "model_module": "@jupyter-widgets/base",
          "model_name": "LayoutModel",
          "model_module_version": "1.2.0",
          "state": {
            "_model_module": "@jupyter-widgets/base",
            "_model_module_version": "1.2.0",
            "_model_name": "LayoutModel",
            "_view_count": null,
            "_view_module": "@jupyter-widgets/base",
            "_view_module_version": "1.2.0",
            "_view_name": "LayoutView",
            "align_content": null,
            "align_items": null,
            "align_self": null,
            "border": null,
            "bottom": null,
            "display": null,
            "flex": null,
            "flex_flow": null,
            "grid_area": null,
            "grid_auto_columns": null,
            "grid_auto_flow": null,
            "grid_auto_rows": null,
            "grid_column": null,
            "grid_gap": null,
            "grid_row": null,
            "grid_template_areas": null,
            "grid_template_columns": null,
            "grid_template_rows": null,
            "height": null,
            "justify_content": null,
            "justify_items": null,
            "left": null,
            "margin": null,
            "max_height": null,
            "max_width": null,
            "min_height": null,
            "min_width": null,
            "object_fit": null,
            "object_position": null,
            "order": null,
            "overflow": null,
            "overflow_x": null,
            "overflow_y": null,
            "padding": null,
            "right": null,
            "top": null,
            "visibility": null,
            "width": null
          }
        },
        "0f63d870b75b46e7b13c8ce67417f6ff": {
          "model_module": "@jupyter-widgets/base",
          "model_name": "LayoutModel",
          "model_module_version": "1.2.0",
          "state": {
            "_model_module": "@jupyter-widgets/base",
            "_model_module_version": "1.2.0",
            "_model_name": "LayoutModel",
            "_view_count": null,
            "_view_module": "@jupyter-widgets/base",
            "_view_module_version": "1.2.0",
            "_view_name": "LayoutView",
            "align_content": null,
            "align_items": null,
            "align_self": null,
            "border": null,
            "bottom": null,
            "display": null,
            "flex": null,
            "flex_flow": null,
            "grid_area": null,
            "grid_auto_columns": null,
            "grid_auto_flow": null,
            "grid_auto_rows": null,
            "grid_column": null,
            "grid_gap": null,
            "grid_row": null,
            "grid_template_areas": null,
            "grid_template_columns": null,
            "grid_template_rows": null,
            "height": null,
            "justify_content": null,
            "justify_items": null,
            "left": null,
            "margin": null,
            "max_height": null,
            "max_width": null,
            "min_height": null,
            "min_width": null,
            "object_fit": null,
            "object_position": null,
            "order": null,
            "overflow": null,
            "overflow_x": null,
            "overflow_y": null,
            "padding": null,
            "right": null,
            "top": null,
            "visibility": null,
            "width": null
          }
        },
        "b7e6c152891c4fc5bb411875c76f6991": {
          "model_module": "@jupyter-widgets/controls",
          "model_name": "DescriptionStyleModel",
          "model_module_version": "1.5.0",
          "state": {
            "_model_module": "@jupyter-widgets/controls",
            "_model_module_version": "1.5.0",
            "_model_name": "DescriptionStyleModel",
            "_view_count": null,
            "_view_module": "@jupyter-widgets/base",
            "_view_module_version": "1.2.0",
            "_view_name": "StyleView",
            "description_width": ""
          }
        },
        "f966b4bbae2140dd999e2bb89ab44653": {
          "model_module": "@jupyter-widgets/base",
          "model_name": "LayoutModel",
          "model_module_version": "1.2.0",
          "state": {
            "_model_module": "@jupyter-widgets/base",
            "_model_module_version": "1.2.0",
            "_model_name": "LayoutModel",
            "_view_count": null,
            "_view_module": "@jupyter-widgets/base",
            "_view_module_version": "1.2.0",
            "_view_name": "LayoutView",
            "align_content": null,
            "align_items": null,
            "align_self": null,
            "border": null,
            "bottom": null,
            "display": null,
            "flex": null,
            "flex_flow": null,
            "grid_area": null,
            "grid_auto_columns": null,
            "grid_auto_flow": null,
            "grid_auto_rows": null,
            "grid_column": null,
            "grid_gap": null,
            "grid_row": null,
            "grid_template_areas": null,
            "grid_template_columns": null,
            "grid_template_rows": null,
            "height": null,
            "justify_content": null,
            "justify_items": null,
            "left": null,
            "margin": null,
            "max_height": null,
            "max_width": null,
            "min_height": null,
            "min_width": null,
            "object_fit": null,
            "object_position": null,
            "order": null,
            "overflow": null,
            "overflow_x": null,
            "overflow_y": null,
            "padding": null,
            "right": null,
            "top": null,
            "visibility": null,
            "width": null
          }
        },
        "7e49abb02cb2494b8af99180df6e6715": {
          "model_module": "@jupyter-widgets/controls",
          "model_name": "ProgressStyleModel",
          "model_module_version": "1.5.0",
          "state": {
            "_model_module": "@jupyter-widgets/controls",
            "_model_module_version": "1.5.0",
            "_model_name": "ProgressStyleModel",
            "_view_count": null,
            "_view_module": "@jupyter-widgets/base",
            "_view_module_version": "1.2.0",
            "_view_name": "StyleView",
            "bar_color": null,
            "description_width": ""
          }
        },
        "88c6cdfff6d548c681029d2d4a4eb08e": {
          "model_module": "@jupyter-widgets/base",
          "model_name": "LayoutModel",
          "model_module_version": "1.2.0",
          "state": {
            "_model_module": "@jupyter-widgets/base",
            "_model_module_version": "1.2.0",
            "_model_name": "LayoutModel",
            "_view_count": null,
            "_view_module": "@jupyter-widgets/base",
            "_view_module_version": "1.2.0",
            "_view_name": "LayoutView",
            "align_content": null,
            "align_items": null,
            "align_self": null,
            "border": null,
            "bottom": null,
            "display": null,
            "flex": null,
            "flex_flow": null,
            "grid_area": null,
            "grid_auto_columns": null,
            "grid_auto_flow": null,
            "grid_auto_rows": null,
            "grid_column": null,
            "grid_gap": null,
            "grid_row": null,
            "grid_template_areas": null,
            "grid_template_columns": null,
            "grid_template_rows": null,
            "height": null,
            "justify_content": null,
            "justify_items": null,
            "left": null,
            "margin": null,
            "max_height": null,
            "max_width": null,
            "min_height": null,
            "min_width": null,
            "object_fit": null,
            "object_position": null,
            "order": null,
            "overflow": null,
            "overflow_x": null,
            "overflow_y": null,
            "padding": null,
            "right": null,
            "top": null,
            "visibility": null,
            "width": null
          }
        },
        "1c20c36476b445f2a49a0b5c9eb04b60": {
          "model_module": "@jupyter-widgets/controls",
          "model_name": "DescriptionStyleModel",
          "model_module_version": "1.5.0",
          "state": {
            "_model_module": "@jupyter-widgets/controls",
            "_model_module_version": "1.5.0",
            "_model_name": "DescriptionStyleModel",
            "_view_count": null,
            "_view_module": "@jupyter-widgets/base",
            "_view_module_version": "1.2.0",
            "_view_name": "StyleView",
            "description_width": ""
          }
        },
        "38d60f63d03a4822b129981d01b7ef36": {
          "model_module": "@jupyter-widgets/controls",
          "model_name": "HBoxModel",
          "model_module_version": "1.5.0",
          "state": {
            "_dom_classes": [],
            "_model_module": "@jupyter-widgets/controls",
            "_model_module_version": "1.5.0",
            "_model_name": "HBoxModel",
            "_view_count": null,
            "_view_module": "@jupyter-widgets/controls",
            "_view_module_version": "1.5.0",
            "_view_name": "HBoxView",
            "box_style": "",
            "children": [
              "IPY_MODEL_4f115cc5a37149b995478e99971d5193",
              "IPY_MODEL_8fd651f2dad04afa8a44c31619aef151",
              "IPY_MODEL_a0b6fd86afad451a9a1a358784be7288"
            ],
            "layout": "IPY_MODEL_027e4e1f933945fead47c80401684812"
          }
        },
        "4f115cc5a37149b995478e99971d5193": {
          "model_module": "@jupyter-widgets/controls",
          "model_name": "HTMLModel",
          "model_module_version": "1.5.0",
          "state": {
            "_dom_classes": [],
            "_model_module": "@jupyter-widgets/controls",
            "_model_module_version": "1.5.0",
            "_model_name": "HTMLModel",
            "_view_count": null,
            "_view_module": "@jupyter-widgets/controls",
            "_view_module_version": "1.5.0",
            "_view_name": "HTMLView",
            "description": "",
            "description_tooltip": null,
            "layout": "IPY_MODEL_7e25ddff63a140eeb58ae86a835d866a",
            "placeholder": "​",
            "style": "IPY_MODEL_2915a56c102043218064f420ad5b3845",
            "value": "Generating validation split: 100%"
          }
        },
        "8fd651f2dad04afa8a44c31619aef151": {
          "model_module": "@jupyter-widgets/controls",
          "model_name": "FloatProgressModel",
          "model_module_version": "1.5.0",
          "state": {
            "_dom_classes": [],
            "_model_module": "@jupyter-widgets/controls",
            "_model_module_version": "1.5.0",
            "_model_name": "FloatProgressModel",
            "_view_count": null,
            "_view_module": "@jupyter-widgets/controls",
            "_view_module_version": "1.5.0",
            "_view_name": "ProgressView",
            "bar_style": "success",
            "description": "",
            "description_tooltip": null,
            "layout": "IPY_MODEL_d337095d1d0e4a29828f854b046312af",
            "max": 872,
            "min": 0,
            "orientation": "horizontal",
            "style": "IPY_MODEL_7f71a82456a843329dc14f43b47fe27e",
            "value": 872
          }
        },
        "a0b6fd86afad451a9a1a358784be7288": {
          "model_module": "@jupyter-widgets/controls",
          "model_name": "HTMLModel",
          "model_module_version": "1.5.0",
          "state": {
            "_dom_classes": [],
            "_model_module": "@jupyter-widgets/controls",
            "_model_module_version": "1.5.0",
            "_model_name": "HTMLModel",
            "_view_count": null,
            "_view_module": "@jupyter-widgets/controls",
            "_view_module_version": "1.5.0",
            "_view_name": "HTMLView",
            "description": "",
            "description_tooltip": null,
            "layout": "IPY_MODEL_57cb3bf2c547457f8ddeb64a75be6646",
            "placeholder": "​",
            "style": "IPY_MODEL_94e121762df8444f9c510a8b1e9d1dd7",
            "value": " 872/872 [00:00&lt;00:00, 24017.97 examples/s]"
          }
        },
        "027e4e1f933945fead47c80401684812": {
          "model_module": "@jupyter-widgets/base",
          "model_name": "LayoutModel",
          "model_module_version": "1.2.0",
          "state": {
            "_model_module": "@jupyter-widgets/base",
            "_model_module_version": "1.2.0",
            "_model_name": "LayoutModel",
            "_view_count": null,
            "_view_module": "@jupyter-widgets/base",
            "_view_module_version": "1.2.0",
            "_view_name": "LayoutView",
            "align_content": null,
            "align_items": null,
            "align_self": null,
            "border": null,
            "bottom": null,
            "display": null,
            "flex": null,
            "flex_flow": null,
            "grid_area": null,
            "grid_auto_columns": null,
            "grid_auto_flow": null,
            "grid_auto_rows": null,
            "grid_column": null,
            "grid_gap": null,
            "grid_row": null,
            "grid_template_areas": null,
            "grid_template_columns": null,
            "grid_template_rows": null,
            "height": null,
            "justify_content": null,
            "justify_items": null,
            "left": null,
            "margin": null,
            "max_height": null,
            "max_width": null,
            "min_height": null,
            "min_width": null,
            "object_fit": null,
            "object_position": null,
            "order": null,
            "overflow": null,
            "overflow_x": null,
            "overflow_y": null,
            "padding": null,
            "right": null,
            "top": null,
            "visibility": null,
            "width": null
          }
        },
        "7e25ddff63a140eeb58ae86a835d866a": {
          "model_module": "@jupyter-widgets/base",
          "model_name": "LayoutModel",
          "model_module_version": "1.2.0",
          "state": {
            "_model_module": "@jupyter-widgets/base",
            "_model_module_version": "1.2.0",
            "_model_name": "LayoutModel",
            "_view_count": null,
            "_view_module": "@jupyter-widgets/base",
            "_view_module_version": "1.2.0",
            "_view_name": "LayoutView",
            "align_content": null,
            "align_items": null,
            "align_self": null,
            "border": null,
            "bottom": null,
            "display": null,
            "flex": null,
            "flex_flow": null,
            "grid_area": null,
            "grid_auto_columns": null,
            "grid_auto_flow": null,
            "grid_auto_rows": null,
            "grid_column": null,
            "grid_gap": null,
            "grid_row": null,
            "grid_template_areas": null,
            "grid_template_columns": null,
            "grid_template_rows": null,
            "height": null,
            "justify_content": null,
            "justify_items": null,
            "left": null,
            "margin": null,
            "max_height": null,
            "max_width": null,
            "min_height": null,
            "min_width": null,
            "object_fit": null,
            "object_position": null,
            "order": null,
            "overflow": null,
            "overflow_x": null,
            "overflow_y": null,
            "padding": null,
            "right": null,
            "top": null,
            "visibility": null,
            "width": null
          }
        },
        "2915a56c102043218064f420ad5b3845": {
          "model_module": "@jupyter-widgets/controls",
          "model_name": "DescriptionStyleModel",
          "model_module_version": "1.5.0",
          "state": {
            "_model_module": "@jupyter-widgets/controls",
            "_model_module_version": "1.5.0",
            "_model_name": "DescriptionStyleModel",
            "_view_count": null,
            "_view_module": "@jupyter-widgets/base",
            "_view_module_version": "1.2.0",
            "_view_name": "StyleView",
            "description_width": ""
          }
        },
        "d337095d1d0e4a29828f854b046312af": {
          "model_module": "@jupyter-widgets/base",
          "model_name": "LayoutModel",
          "model_module_version": "1.2.0",
          "state": {
            "_model_module": "@jupyter-widgets/base",
            "_model_module_version": "1.2.0",
            "_model_name": "LayoutModel",
            "_view_count": null,
            "_view_module": "@jupyter-widgets/base",
            "_view_module_version": "1.2.0",
            "_view_name": "LayoutView",
            "align_content": null,
            "align_items": null,
            "align_self": null,
            "border": null,
            "bottom": null,
            "display": null,
            "flex": null,
            "flex_flow": null,
            "grid_area": null,
            "grid_auto_columns": null,
            "grid_auto_flow": null,
            "grid_auto_rows": null,
            "grid_column": null,
            "grid_gap": null,
            "grid_row": null,
            "grid_template_areas": null,
            "grid_template_columns": null,
            "grid_template_rows": null,
            "height": null,
            "justify_content": null,
            "justify_items": null,
            "left": null,
            "margin": null,
            "max_height": null,
            "max_width": null,
            "min_height": null,
            "min_width": null,
            "object_fit": null,
            "object_position": null,
            "order": null,
            "overflow": null,
            "overflow_x": null,
            "overflow_y": null,
            "padding": null,
            "right": null,
            "top": null,
            "visibility": null,
            "width": null
          }
        },
        "7f71a82456a843329dc14f43b47fe27e": {
          "model_module": "@jupyter-widgets/controls",
          "model_name": "ProgressStyleModel",
          "model_module_version": "1.5.0",
          "state": {
            "_model_module": "@jupyter-widgets/controls",
            "_model_module_version": "1.5.0",
            "_model_name": "ProgressStyleModel",
            "_view_count": null,
            "_view_module": "@jupyter-widgets/base",
            "_view_module_version": "1.2.0",
            "_view_name": "StyleView",
            "bar_color": null,
            "description_width": ""
          }
        },
        "57cb3bf2c547457f8ddeb64a75be6646": {
          "model_module": "@jupyter-widgets/base",
          "model_name": "LayoutModel",
          "model_module_version": "1.2.0",
          "state": {
            "_model_module": "@jupyter-widgets/base",
            "_model_module_version": "1.2.0",
            "_model_name": "LayoutModel",
            "_view_count": null,
            "_view_module": "@jupyter-widgets/base",
            "_view_module_version": "1.2.0",
            "_view_name": "LayoutView",
            "align_content": null,
            "align_items": null,
            "align_self": null,
            "border": null,
            "bottom": null,
            "display": null,
            "flex": null,
            "flex_flow": null,
            "grid_area": null,
            "grid_auto_columns": null,
            "grid_auto_flow": null,
            "grid_auto_rows": null,
            "grid_column": null,
            "grid_gap": null,
            "grid_row": null,
            "grid_template_areas": null,
            "grid_template_columns": null,
            "grid_template_rows": null,
            "height": null,
            "justify_content": null,
            "justify_items": null,
            "left": null,
            "margin": null,
            "max_height": null,
            "max_width": null,
            "min_height": null,
            "min_width": null,
            "object_fit": null,
            "object_position": null,
            "order": null,
            "overflow": null,
            "overflow_x": null,
            "overflow_y": null,
            "padding": null,
            "right": null,
            "top": null,
            "visibility": null,
            "width": null
          }
        },
        "94e121762df8444f9c510a8b1e9d1dd7": {
          "model_module": "@jupyter-widgets/controls",
          "model_name": "DescriptionStyleModel",
          "model_module_version": "1.5.0",
          "state": {
            "_model_module": "@jupyter-widgets/controls",
            "_model_module_version": "1.5.0",
            "_model_name": "DescriptionStyleModel",
            "_view_count": null,
            "_view_module": "@jupyter-widgets/base",
            "_view_module_version": "1.2.0",
            "_view_name": "StyleView",
            "description_width": ""
          }
        },
        "b5d4bc181369432bbe745879af897612": {
          "model_module": "@jupyter-widgets/controls",
          "model_name": "HBoxModel",
          "model_module_version": "1.5.0",
          "state": {
            "_dom_classes": [],
            "_model_module": "@jupyter-widgets/controls",
            "_model_module_version": "1.5.0",
            "_model_name": "HBoxModel",
            "_view_count": null,
            "_view_module": "@jupyter-widgets/controls",
            "_view_module_version": "1.5.0",
            "_view_name": "HBoxView",
            "box_style": "",
            "children": [
              "IPY_MODEL_085a1c8e81fa4d8db4fdeefd3fb640b7",
              "IPY_MODEL_5ee77fdef09d47b9bdb69e8e5192f17c",
              "IPY_MODEL_22cd53dd0e2f405b93a9c6eadc37cfba"
            ],
            "layout": "IPY_MODEL_78e434ca2d59422386aa3843e23bcc53"
          }
        },
        "085a1c8e81fa4d8db4fdeefd3fb640b7": {
          "model_module": "@jupyter-widgets/controls",
          "model_name": "HTMLModel",
          "model_module_version": "1.5.0",
          "state": {
            "_dom_classes": [],
            "_model_module": "@jupyter-widgets/controls",
            "_model_module_version": "1.5.0",
            "_model_name": "HTMLModel",
            "_view_count": null,
            "_view_module": "@jupyter-widgets/controls",
            "_view_module_version": "1.5.0",
            "_view_name": "HTMLView",
            "description": "",
            "description_tooltip": null,
            "layout": "IPY_MODEL_2ad125f97c384437ba849cc0d34cfaab",
            "placeholder": "​",
            "style": "IPY_MODEL_07780de2743545c398bf01b7ccd88f3a",
            "value": "Generating test split: 100%"
          }
        },
        "5ee77fdef09d47b9bdb69e8e5192f17c": {
          "model_module": "@jupyter-widgets/controls",
          "model_name": "FloatProgressModel",
          "model_module_version": "1.5.0",
          "state": {
            "_dom_classes": [],
            "_model_module": "@jupyter-widgets/controls",
            "_model_module_version": "1.5.0",
            "_model_name": "FloatProgressModel",
            "_view_count": null,
            "_view_module": "@jupyter-widgets/controls",
            "_view_module_version": "1.5.0",
            "_view_name": "ProgressView",
            "bar_style": "success",
            "description": "",
            "description_tooltip": null,
            "layout": "IPY_MODEL_20a2fa6839274ca4bb07a56ace8d3ce2",
            "max": 1821,
            "min": 0,
            "orientation": "horizontal",
            "style": "IPY_MODEL_a8a72b21455041b4974c699733033a50",
            "value": 1821
          }
        },
        "22cd53dd0e2f405b93a9c6eadc37cfba": {
          "model_module": "@jupyter-widgets/controls",
          "model_name": "HTMLModel",
          "model_module_version": "1.5.0",
          "state": {
            "_dom_classes": [],
            "_model_module": "@jupyter-widgets/controls",
            "_model_module_version": "1.5.0",
            "_model_name": "HTMLModel",
            "_view_count": null,
            "_view_module": "@jupyter-widgets/controls",
            "_view_module_version": "1.5.0",
            "_view_name": "HTMLView",
            "description": "",
            "description_tooltip": null,
            "layout": "IPY_MODEL_3e184c623a0c448ea762c43f8d2c4968",
            "placeholder": "​",
            "style": "IPY_MODEL_ddf454dd705f49018ef72ff5ede4ad03",
            "value": " 1821/1821 [00:00&lt;00:00, 62999.15 examples/s]"
          }
        },
        "78e434ca2d59422386aa3843e23bcc53": {
          "model_module": "@jupyter-widgets/base",
          "model_name": "LayoutModel",
          "model_module_version": "1.2.0",
          "state": {
            "_model_module": "@jupyter-widgets/base",
            "_model_module_version": "1.2.0",
            "_model_name": "LayoutModel",
            "_view_count": null,
            "_view_module": "@jupyter-widgets/base",
            "_view_module_version": "1.2.0",
            "_view_name": "LayoutView",
            "align_content": null,
            "align_items": null,
            "align_self": null,
            "border": null,
            "bottom": null,
            "display": null,
            "flex": null,
            "flex_flow": null,
            "grid_area": null,
            "grid_auto_columns": null,
            "grid_auto_flow": null,
            "grid_auto_rows": null,
            "grid_column": null,
            "grid_gap": null,
            "grid_row": null,
            "grid_template_areas": null,
            "grid_template_columns": null,
            "grid_template_rows": null,
            "height": null,
            "justify_content": null,
            "justify_items": null,
            "left": null,
            "margin": null,
            "max_height": null,
            "max_width": null,
            "min_height": null,
            "min_width": null,
            "object_fit": null,
            "object_position": null,
            "order": null,
            "overflow": null,
            "overflow_x": null,
            "overflow_y": null,
            "padding": null,
            "right": null,
            "top": null,
            "visibility": null,
            "width": null
          }
        },
        "2ad125f97c384437ba849cc0d34cfaab": {
          "model_module": "@jupyter-widgets/base",
          "model_name": "LayoutModel",
          "model_module_version": "1.2.0",
          "state": {
            "_model_module": "@jupyter-widgets/base",
            "_model_module_version": "1.2.0",
            "_model_name": "LayoutModel",
            "_view_count": null,
            "_view_module": "@jupyter-widgets/base",
            "_view_module_version": "1.2.0",
            "_view_name": "LayoutView",
            "align_content": null,
            "align_items": null,
            "align_self": null,
            "border": null,
            "bottom": null,
            "display": null,
            "flex": null,
            "flex_flow": null,
            "grid_area": null,
            "grid_auto_columns": null,
            "grid_auto_flow": null,
            "grid_auto_rows": null,
            "grid_column": null,
            "grid_gap": null,
            "grid_row": null,
            "grid_template_areas": null,
            "grid_template_columns": null,
            "grid_template_rows": null,
            "height": null,
            "justify_content": null,
            "justify_items": null,
            "left": null,
            "margin": null,
            "max_height": null,
            "max_width": null,
            "min_height": null,
            "min_width": null,
            "object_fit": null,
            "object_position": null,
            "order": null,
            "overflow": null,
            "overflow_x": null,
            "overflow_y": null,
            "padding": null,
            "right": null,
            "top": null,
            "visibility": null,
            "width": null
          }
        },
        "07780de2743545c398bf01b7ccd88f3a": {
          "model_module": "@jupyter-widgets/controls",
          "model_name": "DescriptionStyleModel",
          "model_module_version": "1.5.0",
          "state": {
            "_model_module": "@jupyter-widgets/controls",
            "_model_module_version": "1.5.0",
            "_model_name": "DescriptionStyleModel",
            "_view_count": null,
            "_view_module": "@jupyter-widgets/base",
            "_view_module_version": "1.2.0",
            "_view_name": "StyleView",
            "description_width": ""
          }
        },
        "20a2fa6839274ca4bb07a56ace8d3ce2": {
          "model_module": "@jupyter-widgets/base",
          "model_name": "LayoutModel",
          "model_module_version": "1.2.0",
          "state": {
            "_model_module": "@jupyter-widgets/base",
            "_model_module_version": "1.2.0",
            "_model_name": "LayoutModel",
            "_view_count": null,
            "_view_module": "@jupyter-widgets/base",
            "_view_module_version": "1.2.0",
            "_view_name": "LayoutView",
            "align_content": null,
            "align_items": null,
            "align_self": null,
            "border": null,
            "bottom": null,
            "display": null,
            "flex": null,
            "flex_flow": null,
            "grid_area": null,
            "grid_auto_columns": null,
            "grid_auto_flow": null,
            "grid_auto_rows": null,
            "grid_column": null,
            "grid_gap": null,
            "grid_row": null,
            "grid_template_areas": null,
            "grid_template_columns": null,
            "grid_template_rows": null,
            "height": null,
            "justify_content": null,
            "justify_items": null,
            "left": null,
            "margin": null,
            "max_height": null,
            "max_width": null,
            "min_height": null,
            "min_width": null,
            "object_fit": null,
            "object_position": null,
            "order": null,
            "overflow": null,
            "overflow_x": null,
            "overflow_y": null,
            "padding": null,
            "right": null,
            "top": null,
            "visibility": null,
            "width": null
          }
        },
        "a8a72b21455041b4974c699733033a50": {
          "model_module": "@jupyter-widgets/controls",
          "model_name": "ProgressStyleModel",
          "model_module_version": "1.5.0",
          "state": {
            "_model_module": "@jupyter-widgets/controls",
            "_model_module_version": "1.5.0",
            "_model_name": "ProgressStyleModel",
            "_view_count": null,
            "_view_module": "@jupyter-widgets/base",
            "_view_module_version": "1.2.0",
            "_view_name": "StyleView",
            "bar_color": null,
            "description_width": ""
          }
        },
        "3e184c623a0c448ea762c43f8d2c4968": {
          "model_module": "@jupyter-widgets/base",
          "model_name": "LayoutModel",
          "model_module_version": "1.2.0",
          "state": {
            "_model_module": "@jupyter-widgets/base",
            "_model_module_version": "1.2.0",
            "_model_name": "LayoutModel",
            "_view_count": null,
            "_view_module": "@jupyter-widgets/base",
            "_view_module_version": "1.2.0",
            "_view_name": "LayoutView",
            "align_content": null,
            "align_items": null,
            "align_self": null,
            "border": null,
            "bottom": null,
            "display": null,
            "flex": null,
            "flex_flow": null,
            "grid_area": null,
            "grid_auto_columns": null,
            "grid_auto_flow": null,
            "grid_auto_rows": null,
            "grid_column": null,
            "grid_gap": null,
            "grid_row": null,
            "grid_template_areas": null,
            "grid_template_columns": null,
            "grid_template_rows": null,
            "height": null,
            "justify_content": null,
            "justify_items": null,
            "left": null,
            "margin": null,
            "max_height": null,
            "max_width": null,
            "min_height": null,
            "min_width": null,
            "object_fit": null,
            "object_position": null,
            "order": null,
            "overflow": null,
            "overflow_x": null,
            "overflow_y": null,
            "padding": null,
            "right": null,
            "top": null,
            "visibility": null,
            "width": null
          }
        },
        "ddf454dd705f49018ef72ff5ede4ad03": {
          "model_module": "@jupyter-widgets/controls",
          "model_name": "DescriptionStyleModel",
          "model_module_version": "1.5.0",
          "state": {
            "_model_module": "@jupyter-widgets/controls",
            "_model_module_version": "1.5.0",
            "_model_name": "DescriptionStyleModel",
            "_view_count": null,
            "_view_module": "@jupyter-widgets/base",
            "_view_module_version": "1.2.0",
            "_view_name": "StyleView",
            "description_width": ""
          }
        },
        "4a65422965664c85b1cef9736ecd5e44": {
          "model_module": "@jupyter-widgets/controls",
          "model_name": "HBoxModel",
          "model_module_version": "1.5.0",
          "state": {
            "_dom_classes": [],
            "_model_module": "@jupyter-widgets/controls",
            "_model_module_version": "1.5.0",
            "_model_name": "HBoxModel",
            "_view_count": null,
            "_view_module": "@jupyter-widgets/controls",
            "_view_module_version": "1.5.0",
            "_view_name": "HBoxView",
            "box_style": "",
            "children": [
              "IPY_MODEL_b08453a59a3a4558ad6fcba08f50540f",
              "IPY_MODEL_f34d7d33093944d3aa895886e1964a15",
              "IPY_MODEL_1da7ec7ddfba45018d79c7d8e2aa8f93"
            ],
            "layout": "IPY_MODEL_5be046e194624ffb914d015dd3ef1bd0"
          }
        },
        "b08453a59a3a4558ad6fcba08f50540f": {
          "model_module": "@jupyter-widgets/controls",
          "model_name": "HTMLModel",
          "model_module_version": "1.5.0",
          "state": {
            "_dom_classes": [],
            "_model_module": "@jupyter-widgets/controls",
            "_model_module_version": "1.5.0",
            "_model_name": "HTMLModel",
            "_view_count": null,
            "_view_module": "@jupyter-widgets/controls",
            "_view_module_version": "1.5.0",
            "_view_name": "HTMLView",
            "description": "",
            "description_tooltip": null,
            "layout": "IPY_MODEL_9fbb72d704014357bc9d37852ae66442",
            "placeholder": "​",
            "style": "IPY_MODEL_04b8d49bcd7a435da1ee3392ea430092",
            "value": "Map: 100%"
          }
        },
        "f34d7d33093944d3aa895886e1964a15": {
          "model_module": "@jupyter-widgets/controls",
          "model_name": "FloatProgressModel",
          "model_module_version": "1.5.0",
          "state": {
            "_dom_classes": [],
            "_model_module": "@jupyter-widgets/controls",
            "_model_module_version": "1.5.0",
            "_model_name": "FloatProgressModel",
            "_view_count": null,
            "_view_module": "@jupyter-widgets/controls",
            "_view_module_version": "1.5.0",
            "_view_name": "ProgressView",
            "bar_style": "success",
            "description": "",
            "description_tooltip": null,
            "layout": "IPY_MODEL_cf5d1d9070eb439fb0f2a54acdbc7e9e",
            "max": 67349,
            "min": 0,
            "orientation": "horizontal",
            "style": "IPY_MODEL_1a6d6d6153414a35be645797b8ad9a0d",
            "value": 67349
          }
        },
        "1da7ec7ddfba45018d79c7d8e2aa8f93": {
          "model_module": "@jupyter-widgets/controls",
          "model_name": "HTMLModel",
          "model_module_version": "1.5.0",
          "state": {
            "_dom_classes": [],
            "_model_module": "@jupyter-widgets/controls",
            "_model_module_version": "1.5.0",
            "_model_name": "HTMLModel",
            "_view_count": null,
            "_view_module": "@jupyter-widgets/controls",
            "_view_module_version": "1.5.0",
            "_view_name": "HTMLView",
            "description": "",
            "description_tooltip": null,
            "layout": "IPY_MODEL_64a07d7bcc9244a997e8ced6d96d577f",
            "placeholder": "​",
            "style": "IPY_MODEL_47d3ffa7dde64a008e415f3188350425",
            "value": " 67349/67349 [00:03&lt;00:00, 17263.48 examples/s]"
          }
        },
        "5be046e194624ffb914d015dd3ef1bd0": {
          "model_module": "@jupyter-widgets/base",
          "model_name": "LayoutModel",
          "model_module_version": "1.2.0",
          "state": {
            "_model_module": "@jupyter-widgets/base",
            "_model_module_version": "1.2.0",
            "_model_name": "LayoutModel",
            "_view_count": null,
            "_view_module": "@jupyter-widgets/base",
            "_view_module_version": "1.2.0",
            "_view_name": "LayoutView",
            "align_content": null,
            "align_items": null,
            "align_self": null,
            "border": null,
            "bottom": null,
            "display": null,
            "flex": null,
            "flex_flow": null,
            "grid_area": null,
            "grid_auto_columns": null,
            "grid_auto_flow": null,
            "grid_auto_rows": null,
            "grid_column": null,
            "grid_gap": null,
            "grid_row": null,
            "grid_template_areas": null,
            "grid_template_columns": null,
            "grid_template_rows": null,
            "height": null,
            "justify_content": null,
            "justify_items": null,
            "left": null,
            "margin": null,
            "max_height": null,
            "max_width": null,
            "min_height": null,
            "min_width": null,
            "object_fit": null,
            "object_position": null,
            "order": null,
            "overflow": null,
            "overflow_x": null,
            "overflow_y": null,
            "padding": null,
            "right": null,
            "top": null,
            "visibility": null,
            "width": null
          }
        },
        "9fbb72d704014357bc9d37852ae66442": {
          "model_module": "@jupyter-widgets/base",
          "model_name": "LayoutModel",
          "model_module_version": "1.2.0",
          "state": {
            "_model_module": "@jupyter-widgets/base",
            "_model_module_version": "1.2.0",
            "_model_name": "LayoutModel",
            "_view_count": null,
            "_view_module": "@jupyter-widgets/base",
            "_view_module_version": "1.2.0",
            "_view_name": "LayoutView",
            "align_content": null,
            "align_items": null,
            "align_self": null,
            "border": null,
            "bottom": null,
            "display": null,
            "flex": null,
            "flex_flow": null,
            "grid_area": null,
            "grid_auto_columns": null,
            "grid_auto_flow": null,
            "grid_auto_rows": null,
            "grid_column": null,
            "grid_gap": null,
            "grid_row": null,
            "grid_template_areas": null,
            "grid_template_columns": null,
            "grid_template_rows": null,
            "height": null,
            "justify_content": null,
            "justify_items": null,
            "left": null,
            "margin": null,
            "max_height": null,
            "max_width": null,
            "min_height": null,
            "min_width": null,
            "object_fit": null,
            "object_position": null,
            "order": null,
            "overflow": null,
            "overflow_x": null,
            "overflow_y": null,
            "padding": null,
            "right": null,
            "top": null,
            "visibility": null,
            "width": null
          }
        },
        "04b8d49bcd7a435da1ee3392ea430092": {
          "model_module": "@jupyter-widgets/controls",
          "model_name": "DescriptionStyleModel",
          "model_module_version": "1.5.0",
          "state": {
            "_model_module": "@jupyter-widgets/controls",
            "_model_module_version": "1.5.0",
            "_model_name": "DescriptionStyleModel",
            "_view_count": null,
            "_view_module": "@jupyter-widgets/base",
            "_view_module_version": "1.2.0",
            "_view_name": "StyleView",
            "description_width": ""
          }
        },
        "cf5d1d9070eb439fb0f2a54acdbc7e9e": {
          "model_module": "@jupyter-widgets/base",
          "model_name": "LayoutModel",
          "model_module_version": "1.2.0",
          "state": {
            "_model_module": "@jupyter-widgets/base",
            "_model_module_version": "1.2.0",
            "_model_name": "LayoutModel",
            "_view_count": null,
            "_view_module": "@jupyter-widgets/base",
            "_view_module_version": "1.2.0",
            "_view_name": "LayoutView",
            "align_content": null,
            "align_items": null,
            "align_self": null,
            "border": null,
            "bottom": null,
            "display": null,
            "flex": null,
            "flex_flow": null,
            "grid_area": null,
            "grid_auto_columns": null,
            "grid_auto_flow": null,
            "grid_auto_rows": null,
            "grid_column": null,
            "grid_gap": null,
            "grid_row": null,
            "grid_template_areas": null,
            "grid_template_columns": null,
            "grid_template_rows": null,
            "height": null,
            "justify_content": null,
            "justify_items": null,
            "left": null,
            "margin": null,
            "max_height": null,
            "max_width": null,
            "min_height": null,
            "min_width": null,
            "object_fit": null,
            "object_position": null,
            "order": null,
            "overflow": null,
            "overflow_x": null,
            "overflow_y": null,
            "padding": null,
            "right": null,
            "top": null,
            "visibility": null,
            "width": null
          }
        },
        "1a6d6d6153414a35be645797b8ad9a0d": {
          "model_module": "@jupyter-widgets/controls",
          "model_name": "ProgressStyleModel",
          "model_module_version": "1.5.0",
          "state": {
            "_model_module": "@jupyter-widgets/controls",
            "_model_module_version": "1.5.0",
            "_model_name": "ProgressStyleModel",
            "_view_count": null,
            "_view_module": "@jupyter-widgets/base",
            "_view_module_version": "1.2.0",
            "_view_name": "StyleView",
            "bar_color": null,
            "description_width": ""
          }
        },
        "64a07d7bcc9244a997e8ced6d96d577f": {
          "model_module": "@jupyter-widgets/base",
          "model_name": "LayoutModel",
          "model_module_version": "1.2.0",
          "state": {
            "_model_module": "@jupyter-widgets/base",
            "_model_module_version": "1.2.0",
            "_model_name": "LayoutModel",
            "_view_count": null,
            "_view_module": "@jupyter-widgets/base",
            "_view_module_version": "1.2.0",
            "_view_name": "LayoutView",
            "align_content": null,
            "align_items": null,
            "align_self": null,
            "border": null,
            "bottom": null,
            "display": null,
            "flex": null,
            "flex_flow": null,
            "grid_area": null,
            "grid_auto_columns": null,
            "grid_auto_flow": null,
            "grid_auto_rows": null,
            "grid_column": null,
            "grid_gap": null,
            "grid_row": null,
            "grid_template_areas": null,
            "grid_template_columns": null,
            "grid_template_rows": null,
            "height": null,
            "justify_content": null,
            "justify_items": null,
            "left": null,
            "margin": null,
            "max_height": null,
            "max_width": null,
            "min_height": null,
            "min_width": null,
            "object_fit": null,
            "object_position": null,
            "order": null,
            "overflow": null,
            "overflow_x": null,
            "overflow_y": null,
            "padding": null,
            "right": null,
            "top": null,
            "visibility": null,
            "width": null
          }
        },
        "47d3ffa7dde64a008e415f3188350425": {
          "model_module": "@jupyter-widgets/controls",
          "model_name": "DescriptionStyleModel",
          "model_module_version": "1.5.0",
          "state": {
            "_model_module": "@jupyter-widgets/controls",
            "_model_module_version": "1.5.0",
            "_model_name": "DescriptionStyleModel",
            "_view_count": null,
            "_view_module": "@jupyter-widgets/base",
            "_view_module_version": "1.2.0",
            "_view_name": "StyleView",
            "description_width": ""
          }
        },
        "31755628d2a842e49366d0ec1e57732d": {
          "model_module": "@jupyter-widgets/controls",
          "model_name": "HBoxModel",
          "model_module_version": "1.5.0",
          "state": {
            "_dom_classes": [],
            "_model_module": "@jupyter-widgets/controls",
            "_model_module_version": "1.5.0",
            "_model_name": "HBoxModel",
            "_view_count": null,
            "_view_module": "@jupyter-widgets/controls",
            "_view_module_version": "1.5.0",
            "_view_name": "HBoxView",
            "box_style": "",
            "children": [
              "IPY_MODEL_fa08018c24824bc286095957a8a3604c",
              "IPY_MODEL_6915f9852ffd4f4f8d4609487db3ed80",
              "IPY_MODEL_856dc4e67ba3498baf5bc89dd0629ad8"
            ],
            "layout": "IPY_MODEL_49086ef40481494198132f92dcd841c4"
          }
        },
        "fa08018c24824bc286095957a8a3604c": {
          "model_module": "@jupyter-widgets/controls",
          "model_name": "HTMLModel",
          "model_module_version": "1.5.0",
          "state": {
            "_dom_classes": [],
            "_model_module": "@jupyter-widgets/controls",
            "_model_module_version": "1.5.0",
            "_model_name": "HTMLModel",
            "_view_count": null,
            "_view_module": "@jupyter-widgets/controls",
            "_view_module_version": "1.5.0",
            "_view_name": "HTMLView",
            "description": "",
            "description_tooltip": null,
            "layout": "IPY_MODEL_81fd70550fcd4202b7ef93e303ab7153",
            "placeholder": "​",
            "style": "IPY_MODEL_2d0c1a47fc984af5bfdcbfac5c85367c",
            "value": "Map: 100%"
          }
        },
        "6915f9852ffd4f4f8d4609487db3ed80": {
          "model_module": "@jupyter-widgets/controls",
          "model_name": "FloatProgressModel",
          "model_module_version": "1.5.0",
          "state": {
            "_dom_classes": [],
            "_model_module": "@jupyter-widgets/controls",
            "_model_module_version": "1.5.0",
            "_model_name": "FloatProgressModel",
            "_view_count": null,
            "_view_module": "@jupyter-widgets/controls",
            "_view_module_version": "1.5.0",
            "_view_name": "ProgressView",
            "bar_style": "success",
            "description": "",
            "description_tooltip": null,
            "layout": "IPY_MODEL_b9658d3d45a349bfaee63da480408097",
            "max": 872,
            "min": 0,
            "orientation": "horizontal",
            "style": "IPY_MODEL_7ee574d6fe934d96b985d5e5ad6e598c",
            "value": 872
          }
        },
        "856dc4e67ba3498baf5bc89dd0629ad8": {
          "model_module": "@jupyter-widgets/controls",
          "model_name": "HTMLModel",
          "model_module_version": "1.5.0",
          "state": {
            "_dom_classes": [],
            "_model_module": "@jupyter-widgets/controls",
            "_model_module_version": "1.5.0",
            "_model_name": "HTMLModel",
            "_view_count": null,
            "_view_module": "@jupyter-widgets/controls",
            "_view_module_version": "1.5.0",
            "_view_name": "HTMLView",
            "description": "",
            "description_tooltip": null,
            "layout": "IPY_MODEL_23ee8eee99f64a1284bbcbca7f2f41d8",
            "placeholder": "​",
            "style": "IPY_MODEL_240e7d681bff4b23b47ee26df333ab02",
            "value": " 872/872 [00:00&lt;00:00, 6495.01 examples/s]"
          }
        },
        "49086ef40481494198132f92dcd841c4": {
          "model_module": "@jupyter-widgets/base",
          "model_name": "LayoutModel",
          "model_module_version": "1.2.0",
          "state": {
            "_model_module": "@jupyter-widgets/base",
            "_model_module_version": "1.2.0",
            "_model_name": "LayoutModel",
            "_view_count": null,
            "_view_module": "@jupyter-widgets/base",
            "_view_module_version": "1.2.0",
            "_view_name": "LayoutView",
            "align_content": null,
            "align_items": null,
            "align_self": null,
            "border": null,
            "bottom": null,
            "display": null,
            "flex": null,
            "flex_flow": null,
            "grid_area": null,
            "grid_auto_columns": null,
            "grid_auto_flow": null,
            "grid_auto_rows": null,
            "grid_column": null,
            "grid_gap": null,
            "grid_row": null,
            "grid_template_areas": null,
            "grid_template_columns": null,
            "grid_template_rows": null,
            "height": null,
            "justify_content": null,
            "justify_items": null,
            "left": null,
            "margin": null,
            "max_height": null,
            "max_width": null,
            "min_height": null,
            "min_width": null,
            "object_fit": null,
            "object_position": null,
            "order": null,
            "overflow": null,
            "overflow_x": null,
            "overflow_y": null,
            "padding": null,
            "right": null,
            "top": null,
            "visibility": null,
            "width": null
          }
        },
        "81fd70550fcd4202b7ef93e303ab7153": {
          "model_module": "@jupyter-widgets/base",
          "model_name": "LayoutModel",
          "model_module_version": "1.2.0",
          "state": {
            "_model_module": "@jupyter-widgets/base",
            "_model_module_version": "1.2.0",
            "_model_name": "LayoutModel",
            "_view_count": null,
            "_view_module": "@jupyter-widgets/base",
            "_view_module_version": "1.2.0",
            "_view_name": "LayoutView",
            "align_content": null,
            "align_items": null,
            "align_self": null,
            "border": null,
            "bottom": null,
            "display": null,
            "flex": null,
            "flex_flow": null,
            "grid_area": null,
            "grid_auto_columns": null,
            "grid_auto_flow": null,
            "grid_auto_rows": null,
            "grid_column": null,
            "grid_gap": null,
            "grid_row": null,
            "grid_template_areas": null,
            "grid_template_columns": null,
            "grid_template_rows": null,
            "height": null,
            "justify_content": null,
            "justify_items": null,
            "left": null,
            "margin": null,
            "max_height": null,
            "max_width": null,
            "min_height": null,
            "min_width": null,
            "object_fit": null,
            "object_position": null,
            "order": null,
            "overflow": null,
            "overflow_x": null,
            "overflow_y": null,
            "padding": null,
            "right": null,
            "top": null,
            "visibility": null,
            "width": null
          }
        },
        "2d0c1a47fc984af5bfdcbfac5c85367c": {
          "model_module": "@jupyter-widgets/controls",
          "model_name": "DescriptionStyleModel",
          "model_module_version": "1.5.0",
          "state": {
            "_model_module": "@jupyter-widgets/controls",
            "_model_module_version": "1.5.0",
            "_model_name": "DescriptionStyleModel",
            "_view_count": null,
            "_view_module": "@jupyter-widgets/base",
            "_view_module_version": "1.2.0",
            "_view_name": "StyleView",
            "description_width": ""
          }
        },
        "b9658d3d45a349bfaee63da480408097": {
          "model_module": "@jupyter-widgets/base",
          "model_name": "LayoutModel",
          "model_module_version": "1.2.0",
          "state": {
            "_model_module": "@jupyter-widgets/base",
            "_model_module_version": "1.2.0",
            "_model_name": "LayoutModel",
            "_view_count": null,
            "_view_module": "@jupyter-widgets/base",
            "_view_module_version": "1.2.0",
            "_view_name": "LayoutView",
            "align_content": null,
            "align_items": null,
            "align_self": null,
            "border": null,
            "bottom": null,
            "display": null,
            "flex": null,
            "flex_flow": null,
            "grid_area": null,
            "grid_auto_columns": null,
            "grid_auto_flow": null,
            "grid_auto_rows": null,
            "grid_column": null,
            "grid_gap": null,
            "grid_row": null,
            "grid_template_areas": null,
            "grid_template_columns": null,
            "grid_template_rows": null,
            "height": null,
            "justify_content": null,
            "justify_items": null,
            "left": null,
            "margin": null,
            "max_height": null,
            "max_width": null,
            "min_height": null,
            "min_width": null,
            "object_fit": null,
            "object_position": null,
            "order": null,
            "overflow": null,
            "overflow_x": null,
            "overflow_y": null,
            "padding": null,
            "right": null,
            "top": null,
            "visibility": null,
            "width": null
          }
        },
        "7ee574d6fe934d96b985d5e5ad6e598c": {
          "model_module": "@jupyter-widgets/controls",
          "model_name": "ProgressStyleModel",
          "model_module_version": "1.5.0",
          "state": {
            "_model_module": "@jupyter-widgets/controls",
            "_model_module_version": "1.5.0",
            "_model_name": "ProgressStyleModel",
            "_view_count": null,
            "_view_module": "@jupyter-widgets/base",
            "_view_module_version": "1.2.0",
            "_view_name": "StyleView",
            "bar_color": null,
            "description_width": ""
          }
        },
        "23ee8eee99f64a1284bbcbca7f2f41d8": {
          "model_module": "@jupyter-widgets/base",
          "model_name": "LayoutModel",
          "model_module_version": "1.2.0",
          "state": {
            "_model_module": "@jupyter-widgets/base",
            "_model_module_version": "1.2.0",
            "_model_name": "LayoutModel",
            "_view_count": null,
            "_view_module": "@jupyter-widgets/base",
            "_view_module_version": "1.2.0",
            "_view_name": "LayoutView",
            "align_content": null,
            "align_items": null,
            "align_self": null,
            "border": null,
            "bottom": null,
            "display": null,
            "flex": null,
            "flex_flow": null,
            "grid_area": null,
            "grid_auto_columns": null,
            "grid_auto_flow": null,
            "grid_auto_rows": null,
            "grid_column": null,
            "grid_gap": null,
            "grid_row": null,
            "grid_template_areas": null,
            "grid_template_columns": null,
            "grid_template_rows": null,
            "height": null,
            "justify_content": null,
            "justify_items": null,
            "left": null,
            "margin": null,
            "max_height": null,
            "max_width": null,
            "min_height": null,
            "min_width": null,
            "object_fit": null,
            "object_position": null,
            "order": null,
            "overflow": null,
            "overflow_x": null,
            "overflow_y": null,
            "padding": null,
            "right": null,
            "top": null,
            "visibility": null,
            "width": null
          }
        },
        "240e7d681bff4b23b47ee26df333ab02": {
          "model_module": "@jupyter-widgets/controls",
          "model_name": "DescriptionStyleModel",
          "model_module_version": "1.5.0",
          "state": {
            "_model_module": "@jupyter-widgets/controls",
            "_model_module_version": "1.5.0",
            "_model_name": "DescriptionStyleModel",
            "_view_count": null,
            "_view_module": "@jupyter-widgets/base",
            "_view_module_version": "1.2.0",
            "_view_name": "StyleView",
            "description_width": ""
          }
        },
        "8f8cd048d50b47a5bf6faaa07b391ceb": {
          "model_module": "@jupyter-widgets/controls",
          "model_name": "HBoxModel",
          "model_module_version": "1.5.0",
          "state": {
            "_dom_classes": [],
            "_model_module": "@jupyter-widgets/controls",
            "_model_module_version": "1.5.0",
            "_model_name": "HBoxModel",
            "_view_count": null,
            "_view_module": "@jupyter-widgets/controls",
            "_view_module_version": "1.5.0",
            "_view_name": "HBoxView",
            "box_style": "",
            "children": [
              "IPY_MODEL_39f1b28c6bc84aff9fe367755fc3b8b7",
              "IPY_MODEL_c916eb9915454b399e677e636cc89ba8",
              "IPY_MODEL_c171dc12b4ad45209d05df6aeeeaa926"
            ],
            "layout": "IPY_MODEL_35c09d5045b5401aabe133cf89a90c3f"
          }
        },
        "39f1b28c6bc84aff9fe367755fc3b8b7": {
          "model_module": "@jupyter-widgets/controls",
          "model_name": "HTMLModel",
          "model_module_version": "1.5.0",
          "state": {
            "_dom_classes": [],
            "_model_module": "@jupyter-widgets/controls",
            "_model_module_version": "1.5.0",
            "_model_name": "HTMLModel",
            "_view_count": null,
            "_view_module": "@jupyter-widgets/controls",
            "_view_module_version": "1.5.0",
            "_view_name": "HTMLView",
            "description": "",
            "description_tooltip": null,
            "layout": "IPY_MODEL_b684d1ea105f4a93bc54ce51acae5e08",
            "placeholder": "​",
            "style": "IPY_MODEL_bc9b8e0cf8664ec59826c122516709f3",
            "value": "Map: 100%"
          }
        },
        "c916eb9915454b399e677e636cc89ba8": {
          "model_module": "@jupyter-widgets/controls",
          "model_name": "FloatProgressModel",
          "model_module_version": "1.5.0",
          "state": {
            "_dom_classes": [],
            "_model_module": "@jupyter-widgets/controls",
            "_model_module_version": "1.5.0",
            "_model_name": "FloatProgressModel",
            "_view_count": null,
            "_view_module": "@jupyter-widgets/controls",
            "_view_module_version": "1.5.0",
            "_view_name": "ProgressView",
            "bar_style": "success",
            "description": "",
            "description_tooltip": null,
            "layout": "IPY_MODEL_27aa859b05fa4632b3dab7b741789972",
            "max": 1821,
            "min": 0,
            "orientation": "horizontal",
            "style": "IPY_MODEL_5c94a10be7234bb6aac0e1655355634c",
            "value": 1821
          }
        },
        "c171dc12b4ad45209d05df6aeeeaa926": {
          "model_module": "@jupyter-widgets/controls",
          "model_name": "HTMLModel",
          "model_module_version": "1.5.0",
          "state": {
            "_dom_classes": [],
            "_model_module": "@jupyter-widgets/controls",
            "_model_module_version": "1.5.0",
            "_model_name": "HTMLModel",
            "_view_count": null,
            "_view_module": "@jupyter-widgets/controls",
            "_view_module_version": "1.5.0",
            "_view_name": "HTMLView",
            "description": "",
            "description_tooltip": null,
            "layout": "IPY_MODEL_d4bd3940e5294a668552c6eb45f6ba90",
            "placeholder": "​",
            "style": "IPY_MODEL_ec73b86c29e64ee0afc9f2d243050cb3",
            "value": " 1821/1821 [00:00&lt;00:00, 9701.31 examples/s]"
          }
        },
        "35c09d5045b5401aabe133cf89a90c3f": {
          "model_module": "@jupyter-widgets/base",
          "model_name": "LayoutModel",
          "model_module_version": "1.2.0",
          "state": {
            "_model_module": "@jupyter-widgets/base",
            "_model_module_version": "1.2.0",
            "_model_name": "LayoutModel",
            "_view_count": null,
            "_view_module": "@jupyter-widgets/base",
            "_view_module_version": "1.2.0",
            "_view_name": "LayoutView",
            "align_content": null,
            "align_items": null,
            "align_self": null,
            "border": null,
            "bottom": null,
            "display": null,
            "flex": null,
            "flex_flow": null,
            "grid_area": null,
            "grid_auto_columns": null,
            "grid_auto_flow": null,
            "grid_auto_rows": null,
            "grid_column": null,
            "grid_gap": null,
            "grid_row": null,
            "grid_template_areas": null,
            "grid_template_columns": null,
            "grid_template_rows": null,
            "height": null,
            "justify_content": null,
            "justify_items": null,
            "left": null,
            "margin": null,
            "max_height": null,
            "max_width": null,
            "min_height": null,
            "min_width": null,
            "object_fit": null,
            "object_position": null,
            "order": null,
            "overflow": null,
            "overflow_x": null,
            "overflow_y": null,
            "padding": null,
            "right": null,
            "top": null,
            "visibility": null,
            "width": null
          }
        },
        "b684d1ea105f4a93bc54ce51acae5e08": {
          "model_module": "@jupyter-widgets/base",
          "model_name": "LayoutModel",
          "model_module_version": "1.2.0",
          "state": {
            "_model_module": "@jupyter-widgets/base",
            "_model_module_version": "1.2.0",
            "_model_name": "LayoutModel",
            "_view_count": null,
            "_view_module": "@jupyter-widgets/base",
            "_view_module_version": "1.2.0",
            "_view_name": "LayoutView",
            "align_content": null,
            "align_items": null,
            "align_self": null,
            "border": null,
            "bottom": null,
            "display": null,
            "flex": null,
            "flex_flow": null,
            "grid_area": null,
            "grid_auto_columns": null,
            "grid_auto_flow": null,
            "grid_auto_rows": null,
            "grid_column": null,
            "grid_gap": null,
            "grid_row": null,
            "grid_template_areas": null,
            "grid_template_columns": null,
            "grid_template_rows": null,
            "height": null,
            "justify_content": null,
            "justify_items": null,
            "left": null,
            "margin": null,
            "max_height": null,
            "max_width": null,
            "min_height": null,
            "min_width": null,
            "object_fit": null,
            "object_position": null,
            "order": null,
            "overflow": null,
            "overflow_x": null,
            "overflow_y": null,
            "padding": null,
            "right": null,
            "top": null,
            "visibility": null,
            "width": null
          }
        },
        "bc9b8e0cf8664ec59826c122516709f3": {
          "model_module": "@jupyter-widgets/controls",
          "model_name": "DescriptionStyleModel",
          "model_module_version": "1.5.0",
          "state": {
            "_model_module": "@jupyter-widgets/controls",
            "_model_module_version": "1.5.0",
            "_model_name": "DescriptionStyleModel",
            "_view_count": null,
            "_view_module": "@jupyter-widgets/base",
            "_view_module_version": "1.2.0",
            "_view_name": "StyleView",
            "description_width": ""
          }
        },
        "27aa859b05fa4632b3dab7b741789972": {
          "model_module": "@jupyter-widgets/base",
          "model_name": "LayoutModel",
          "model_module_version": "1.2.0",
          "state": {
            "_model_module": "@jupyter-widgets/base",
            "_model_module_version": "1.2.0",
            "_model_name": "LayoutModel",
            "_view_count": null,
            "_view_module": "@jupyter-widgets/base",
            "_view_module_version": "1.2.0",
            "_view_name": "LayoutView",
            "align_content": null,
            "align_items": null,
            "align_self": null,
            "border": null,
            "bottom": null,
            "display": null,
            "flex": null,
            "flex_flow": null,
            "grid_area": null,
            "grid_auto_columns": null,
            "grid_auto_flow": null,
            "grid_auto_rows": null,
            "grid_column": null,
            "grid_gap": null,
            "grid_row": null,
            "grid_template_areas": null,
            "grid_template_columns": null,
            "grid_template_rows": null,
            "height": null,
            "justify_content": null,
            "justify_items": null,
            "left": null,
            "margin": null,
            "max_height": null,
            "max_width": null,
            "min_height": null,
            "min_width": null,
            "object_fit": null,
            "object_position": null,
            "order": null,
            "overflow": null,
            "overflow_x": null,
            "overflow_y": null,
            "padding": null,
            "right": null,
            "top": null,
            "visibility": null,
            "width": null
          }
        },
        "5c94a10be7234bb6aac0e1655355634c": {
          "model_module": "@jupyter-widgets/controls",
          "model_name": "ProgressStyleModel",
          "model_module_version": "1.5.0",
          "state": {
            "_model_module": "@jupyter-widgets/controls",
            "_model_module_version": "1.5.0",
            "_model_name": "ProgressStyleModel",
            "_view_count": null,
            "_view_module": "@jupyter-widgets/base",
            "_view_module_version": "1.2.0",
            "_view_name": "StyleView",
            "bar_color": null,
            "description_width": ""
          }
        },
        "d4bd3940e5294a668552c6eb45f6ba90": {
          "model_module": "@jupyter-widgets/base",
          "model_name": "LayoutModel",
          "model_module_version": "1.2.0",
          "state": {
            "_model_module": "@jupyter-widgets/base",
            "_model_module_version": "1.2.0",
            "_model_name": "LayoutModel",
            "_view_count": null,
            "_view_module": "@jupyter-widgets/base",
            "_view_module_version": "1.2.0",
            "_view_name": "LayoutView",
            "align_content": null,
            "align_items": null,
            "align_self": null,
            "border": null,
            "bottom": null,
            "display": null,
            "flex": null,
            "flex_flow": null,
            "grid_area": null,
            "grid_auto_columns": null,
            "grid_auto_flow": null,
            "grid_auto_rows": null,
            "grid_column": null,
            "grid_gap": null,
            "grid_row": null,
            "grid_template_areas": null,
            "grid_template_columns": null,
            "grid_template_rows": null,
            "height": null,
            "justify_content": null,
            "justify_items": null,
            "left": null,
            "margin": null,
            "max_height": null,
            "max_width": null,
            "min_height": null,
            "min_width": null,
            "object_fit": null,
            "object_position": null,
            "order": null,
            "overflow": null,
            "overflow_x": null,
            "overflow_y": null,
            "padding": null,
            "right": null,
            "top": null,
            "visibility": null,
            "width": null
          }
        },
        "ec73b86c29e64ee0afc9f2d243050cb3": {
          "model_module": "@jupyter-widgets/controls",
          "model_name": "DescriptionStyleModel",
          "model_module_version": "1.5.0",
          "state": {
            "_model_module": "@jupyter-widgets/controls",
            "_model_module_version": "1.5.0",
            "_model_name": "DescriptionStyleModel",
            "_view_count": null,
            "_view_module": "@jupyter-widgets/base",
            "_view_module_version": "1.2.0",
            "_view_name": "StyleView",
            "description_width": ""
          }
        },
        "75d2895f3cec433e83c932869cdc7743": {
          "model_module": "@jupyter-widgets/controls",
          "model_name": "HBoxModel",
          "model_module_version": "1.5.0",
          "state": {
            "_dom_classes": [],
            "_model_module": "@jupyter-widgets/controls",
            "_model_module_version": "1.5.0",
            "_model_name": "HBoxModel",
            "_view_count": null,
            "_view_module": "@jupyter-widgets/controls",
            "_view_module_version": "1.5.0",
            "_view_name": "HBoxView",
            "box_style": "",
            "children": [
              "IPY_MODEL_3a91d05145d84cb7993f12c072700b31",
              "IPY_MODEL_da9db5e757f34974b5a6a878f2e935c7",
              "IPY_MODEL_91ca8542167e40bfb7ab70ee0f35db82"
            ],
            "layout": "IPY_MODEL_d83a130535fd4c53ac27748fa63d4159"
          }
        },
        "3a91d05145d84cb7993f12c072700b31": {
          "model_module": "@jupyter-widgets/controls",
          "model_name": "HTMLModel",
          "model_module_version": "1.5.0",
          "state": {
            "_dom_classes": [],
            "_model_module": "@jupyter-widgets/controls",
            "_model_module_version": "1.5.0",
            "_model_name": "HTMLModel",
            "_view_count": null,
            "_view_module": "@jupyter-widgets/controls",
            "_view_module_version": "1.5.0",
            "_view_name": "HTMLView",
            "description": "",
            "description_tooltip": null,
            "layout": "IPY_MODEL_9bd2d0bb42104abd946a0841f231d67f",
            "placeholder": "​",
            "style": "IPY_MODEL_30fafd7cb8d14bdebd19d075379fa232",
            "value": "Map: 100%"
          }
        },
        "da9db5e757f34974b5a6a878f2e935c7": {
          "model_module": "@jupyter-widgets/controls",
          "model_name": "FloatProgressModel",
          "model_module_version": "1.5.0",
          "state": {
            "_dom_classes": [],
            "_model_module": "@jupyter-widgets/controls",
            "_model_module_version": "1.5.0",
            "_model_name": "FloatProgressModel",
            "_view_count": null,
            "_view_module": "@jupyter-widgets/controls",
            "_view_module_version": "1.5.0",
            "_view_name": "ProgressView",
            "bar_style": "success",
            "description": "",
            "description_tooltip": null,
            "layout": "IPY_MODEL_4580bdbd5ba04a15b098819819ae87a6",
            "max": 872,
            "min": 0,
            "orientation": "horizontal",
            "style": "IPY_MODEL_0bd1f7efb4c44006a54b4ff2eb3de9a2",
            "value": 872
          }
        },
        "91ca8542167e40bfb7ab70ee0f35db82": {
          "model_module": "@jupyter-widgets/controls",
          "model_name": "HTMLModel",
          "model_module_version": "1.5.0",
          "state": {
            "_dom_classes": [],
            "_model_module": "@jupyter-widgets/controls",
            "_model_module_version": "1.5.0",
            "_model_name": "HTMLModel",
            "_view_count": null,
            "_view_module": "@jupyter-widgets/controls",
            "_view_module_version": "1.5.0",
            "_view_name": "HTMLView",
            "description": "",
            "description_tooltip": null,
            "layout": "IPY_MODEL_9f2364bf99ef41c3b20f16a2dc127ac8",
            "placeholder": "​",
            "style": "IPY_MODEL_8ef3cca9c28f43c290974224720a13fc",
            "value": " 872/872 [00:00&lt;00:00, 3594.75 examples/s]"
          }
        },
        "d83a130535fd4c53ac27748fa63d4159": {
          "model_module": "@jupyter-widgets/base",
          "model_name": "LayoutModel",
          "model_module_version": "1.2.0",
          "state": {
            "_model_module": "@jupyter-widgets/base",
            "_model_module_version": "1.2.0",
            "_model_name": "LayoutModel",
            "_view_count": null,
            "_view_module": "@jupyter-widgets/base",
            "_view_module_version": "1.2.0",
            "_view_name": "LayoutView",
            "align_content": null,
            "align_items": null,
            "align_self": null,
            "border": null,
            "bottom": null,
            "display": null,
            "flex": null,
            "flex_flow": null,
            "grid_area": null,
            "grid_auto_columns": null,
            "grid_auto_flow": null,
            "grid_auto_rows": null,
            "grid_column": null,
            "grid_gap": null,
            "grid_row": null,
            "grid_template_areas": null,
            "grid_template_columns": null,
            "grid_template_rows": null,
            "height": null,
            "justify_content": null,
            "justify_items": null,
            "left": null,
            "margin": null,
            "max_height": null,
            "max_width": null,
            "min_height": null,
            "min_width": null,
            "object_fit": null,
            "object_position": null,
            "order": null,
            "overflow": null,
            "overflow_x": null,
            "overflow_y": null,
            "padding": null,
            "right": null,
            "top": null,
            "visibility": null,
            "width": null
          }
        },
        "9bd2d0bb42104abd946a0841f231d67f": {
          "model_module": "@jupyter-widgets/base",
          "model_name": "LayoutModel",
          "model_module_version": "1.2.0",
          "state": {
            "_model_module": "@jupyter-widgets/base",
            "_model_module_version": "1.2.0",
            "_model_name": "LayoutModel",
            "_view_count": null,
            "_view_module": "@jupyter-widgets/base",
            "_view_module_version": "1.2.0",
            "_view_name": "LayoutView",
            "align_content": null,
            "align_items": null,
            "align_self": null,
            "border": null,
            "bottom": null,
            "display": null,
            "flex": null,
            "flex_flow": null,
            "grid_area": null,
            "grid_auto_columns": null,
            "grid_auto_flow": null,
            "grid_auto_rows": null,
            "grid_column": null,
            "grid_gap": null,
            "grid_row": null,
            "grid_template_areas": null,
            "grid_template_columns": null,
            "grid_template_rows": null,
            "height": null,
            "justify_content": null,
            "justify_items": null,
            "left": null,
            "margin": null,
            "max_height": null,
            "max_width": null,
            "min_height": null,
            "min_width": null,
            "object_fit": null,
            "object_position": null,
            "order": null,
            "overflow": null,
            "overflow_x": null,
            "overflow_y": null,
            "padding": null,
            "right": null,
            "top": null,
            "visibility": null,
            "width": null
          }
        },
        "30fafd7cb8d14bdebd19d075379fa232": {
          "model_module": "@jupyter-widgets/controls",
          "model_name": "DescriptionStyleModel",
          "model_module_version": "1.5.0",
          "state": {
            "_model_module": "@jupyter-widgets/controls",
            "_model_module_version": "1.5.0",
            "_model_name": "DescriptionStyleModel",
            "_view_count": null,
            "_view_module": "@jupyter-widgets/base",
            "_view_module_version": "1.2.0",
            "_view_name": "StyleView",
            "description_width": ""
          }
        },
        "4580bdbd5ba04a15b098819819ae87a6": {
          "model_module": "@jupyter-widgets/base",
          "model_name": "LayoutModel",
          "model_module_version": "1.2.0",
          "state": {
            "_model_module": "@jupyter-widgets/base",
            "_model_module_version": "1.2.0",
            "_model_name": "LayoutModel",
            "_view_count": null,
            "_view_module": "@jupyter-widgets/base",
            "_view_module_version": "1.2.0",
            "_view_name": "LayoutView",
            "align_content": null,
            "align_items": null,
            "align_self": null,
            "border": null,
            "bottom": null,
            "display": null,
            "flex": null,
            "flex_flow": null,
            "grid_area": null,
            "grid_auto_columns": null,
            "grid_auto_flow": null,
            "grid_auto_rows": null,
            "grid_column": null,
            "grid_gap": null,
            "grid_row": null,
            "grid_template_areas": null,
            "grid_template_columns": null,
            "grid_template_rows": null,
            "height": null,
            "justify_content": null,
            "justify_items": null,
            "left": null,
            "margin": null,
            "max_height": null,
            "max_width": null,
            "min_height": null,
            "min_width": null,
            "object_fit": null,
            "object_position": null,
            "order": null,
            "overflow": null,
            "overflow_x": null,
            "overflow_y": null,
            "padding": null,
            "right": null,
            "top": null,
            "visibility": null,
            "width": null
          }
        },
        "0bd1f7efb4c44006a54b4ff2eb3de9a2": {
          "model_module": "@jupyter-widgets/controls",
          "model_name": "ProgressStyleModel",
          "model_module_version": "1.5.0",
          "state": {
            "_model_module": "@jupyter-widgets/controls",
            "_model_module_version": "1.5.0",
            "_model_name": "ProgressStyleModel",
            "_view_count": null,
            "_view_module": "@jupyter-widgets/base",
            "_view_module_version": "1.2.0",
            "_view_name": "StyleView",
            "bar_color": null,
            "description_width": ""
          }
        },
        "9f2364bf99ef41c3b20f16a2dc127ac8": {
          "model_module": "@jupyter-widgets/base",
          "model_name": "LayoutModel",
          "model_module_version": "1.2.0",
          "state": {
            "_model_module": "@jupyter-widgets/base",
            "_model_module_version": "1.2.0",
            "_model_name": "LayoutModel",
            "_view_count": null,
            "_view_module": "@jupyter-widgets/base",
            "_view_module_version": "1.2.0",
            "_view_name": "LayoutView",
            "align_content": null,
            "align_items": null,
            "align_self": null,
            "border": null,
            "bottom": null,
            "display": null,
            "flex": null,
            "flex_flow": null,
            "grid_area": null,
            "grid_auto_columns": null,
            "grid_auto_flow": null,
            "grid_auto_rows": null,
            "grid_column": null,
            "grid_gap": null,
            "grid_row": null,
            "grid_template_areas": null,
            "grid_template_columns": null,
            "grid_template_rows": null,
            "height": null,
            "justify_content": null,
            "justify_items": null,
            "left": null,
            "margin": null,
            "max_height": null,
            "max_width": null,
            "min_height": null,
            "min_width": null,
            "object_fit": null,
            "object_position": null,
            "order": null,
            "overflow": null,
            "overflow_x": null,
            "overflow_y": null,
            "padding": null,
            "right": null,
            "top": null,
            "visibility": null,
            "width": null
          }
        },
        "8ef3cca9c28f43c290974224720a13fc": {
          "model_module": "@jupyter-widgets/controls",
          "model_name": "DescriptionStyleModel",
          "model_module_version": "1.5.0",
          "state": {
            "_model_module": "@jupyter-widgets/controls",
            "_model_module_version": "1.5.0",
            "_model_name": "DescriptionStyleModel",
            "_view_count": null,
            "_view_module": "@jupyter-widgets/base",
            "_view_module_version": "1.2.0",
            "_view_name": "StyleView",
            "description_width": ""
          }
        }
      }
    }
  },
  "nbformat": 4,
  "nbformat_minor": 0
}